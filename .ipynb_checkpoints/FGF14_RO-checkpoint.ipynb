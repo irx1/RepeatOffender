{
 "cells": [
  {
   "cell_type": "code",
   "execution_count": 66,
   "id": "52e89649-581e-4bcc-932b-c61beded1981",
   "metadata": {},
   "outputs": [
    {
     "data": {
      "application/vnd.jupyter.widget-view+json": {
       "model_id": "47ba1fd9bdd34905a9e3420c34ae19f4",
       "version_major": 2,
       "version_minor": 0
      },
      "text/plain": [
       "HBox(children=(FigureWidget({\n",
       "    'data': [{'customdata': array(['&lt;AAG&gt;2&lt;AG&gt;1&lt;AAG&gt;6 (n=1)<br…"
      ]
     },
     "execution_count": 66,
     "metadata": {},
     "output_type": "execute_result"
    }
   ],
   "source": [
    "import pandas as pd\n",
    "import plotly.graph_objs as go\n",
    "import ipywidgets as widgets\n",
    "from ipywidgets import HBox\n",
    "import numpy as np\n",
    "import html\n",
    "\n",
    "# Load data\n",
    "df = pd.read_csv(\"FGF14_RO.csv\")  # or ATXN8OS.csv if running locally\n",
    "\n",
    "# Parameters\n",
    "bin_width = 3\n",
    "df.loc[df['assigned_haplotype'] == '', 'assigned_haplotype'] = 'Other'\n",
    "top_haps = df['assigned_haplotype'].value_counts().head(10).index.tolist()\n",
    "df = df[df['assigned_haplotype'].isin(top_haps)]\n",
    "\n",
    "# Bin repeat lengths\n",
    "df['repeat_bin'] = (df['repeatLength'] // bin_width) * bin_width\n",
    "df['repeat_bin_center'] = df['repeat_bin'] + bin_width / 2\n",
    "\n",
    "# Count unique encodedSeqs\n",
    "seq_counts = (\n",
    "    df.groupby(['repeat_bin_center', 'assigned_haplotype', 'encodedSeq'])\n",
    "    .size()\n",
    "    .reset_index(name='encodedSeq_count')\n",
    ")\n",
    "\n",
    "def format_tooltip(group):\n",
    "    return \"<br>\".join(\n",
    "        f\"{html.escape(seq)} (n={int(count)})\"\n",
    "        for seq, count in zip(group['encodedSeq'], group['encodedSeq_count'])\n",
    "    )\n",
    "\n",
    "tooltip_df = (\n",
    "    seq_counts\n",
    "    .groupby(['repeat_bin_center', 'assigned_haplotype'])\n",
    "    .apply(format_tooltip, include_groups=False)\n",
    "    .reset_index(name='encodedSeq_summary')\n",
    ")\n",
    "\n",
    "bar_counts = (\n",
    "    df.groupby(['repeat_bin_center', 'assigned_haplotype'])\n",
    "    .size()\n",
    "    .reset_index(name='count')\n",
    ")\n",
    "\n",
    "merged = pd.merge(bar_counts, tooltip_df, on=['repeat_bin_center', 'assigned_haplotype'], how='left')\n",
    "\n",
    "def shorten_label(haplotype, max_len=50):\n",
    "    return haplotype if len(haplotype) <= max_len else haplotype[:max_len] + \"…\"\n",
    "\n",
    "merged['legend_label'] = merged['assigned_haplotype'].apply(shorten_label)\n",
    "\n",
    "# === FigureWidget setup ===\n",
    "fig = go.FigureWidget()\n",
    "haplotypes = merged['assigned_haplotype'].unique()\n",
    "\n",
    "for hap in haplotypes:\n",
    "    sub = merged[merged['assigned_haplotype'] == hap]\n",
    "    fig.add_bar(\n",
    "        x=sub['repeat_bin_center'],\n",
    "        y=sub['count'],\n",
    "        name=sub['legend_label'].iloc[0],\n",
    "        customdata=sub['encodedSeq_summary'],\n",
    "        hovertemplate=(\n",
    "            \"Repeat Length Bin Center: %{x}<br>\" +\n",
    "            \"Count: %{y}<br>\" +\n",
    "            \"EncodedSeqs:<br>%{customdata}<extra></extra>\"\n",
    "        )\n",
    "    )\n",
    "\n",
    "fig.update_layout(\n",
    "    barmode='stack',\n",
    "    height=600,\n",
    "    width=1000,\n",
    "    xaxis=dict(\n",
    "        title='Repeat Length (binned, bp)',\n",
    "        rangeslider=dict(visible=True),\n",
    "        type='linear'\n",
    "    ),\n",
    "    yaxis=dict(title='Allele Count'),\n",
    "    legend=dict(\n",
    "        orientation=\"v\",\n",
    "        x=1.02,\n",
    "        y=1,\n",
    "        title=\"Haplotype\",\n",
    "        font=dict(size=10)\n",
    "    )\n",
    ")\n",
    "\n",
    "# === Slider ===\n",
    "max_y = int(merged.groupby('repeat_bin_center')['count'].sum().max() * 1.5)\n",
    "\n",
    "y_slider = widgets.IntRangeSlider(\n",
    "    value=[0, int(max_y * 0.9)],\n",
    "    min=0,\n",
    "    max=max_y,\n",
    "    step=10,\n",
    "    description='Y-axis',\n",
    "    layout=widgets.Layout(width='70px', height='600px'),\n",
    "    continuous_update=False,\n",
    "    orientation='vertical',\n",
    "    style={'description_width': '0px'}\n",
    ")\n",
    "\n",
    "def update_y_range(change):\n",
    "    fig.update_yaxes(range=change['new'])\n",
    "\n",
    "y_slider.observe(update_y_range, names='value')\n",
    "\n",
    "# === Voilà output ===\n",
    "HBox([fig, y_slider])\n"
   ]
  },
  {
   "cell_type": "code",
   "execution_count": 68,
   "id": "ec39028c-f5d2-4af3-afe0-424ed57d7909",
   "metadata": {},
   "outputs": [
    {
     "data": {
      "application/vnd.plotly.v1+json": {
       "config": {
        "plotlyServerURL": "https://plot.ly"
       },
       "data": [
        {
         "base": 0,
         "hovertemplate": "&lt;AAG&gt;12<extra></extra>",
         "marker": {
          "color": "bisque"
         },
         "orientation": "h",
         "showlegend": false,
         "type": "bar",
         "width": 0.9,
         "x": [
          36
         ],
         "y": [
          0
         ]
        },
        {
         "base": 36,
         "hovertemplate": "&lt;AAGAAGAAGAAGCAG&gt;1<extra></extra>",
         "marker": {
          "color": "#e31a1c"
         },
         "orientation": "h",
         "showlegend": false,
         "type": "bar",
         "width": 0.9,
         "x": [
          15
         ],
         "y": [
          0
         ]
        },
        {
         "base": 51,
         "hovertemplate": "&lt;AAG&gt;1<extra></extra>",
         "marker": {
          "color": "bisque"
         },
         "orientation": "h",
         "showlegend": false,
         "type": "bar",
         "width": 0.9,
         "x": [
          3
         ],
         "y": [
          0
         ]
        },
        {
         "base": 54,
         "hovertemplate": "&lt;AAGAAGAAGAAGCAG&gt;1<extra></extra>",
         "marker": {
          "color": "#e31a1c"
         },
         "orientation": "h",
         "showlegend": false,
         "type": "bar",
         "width": 0.9,
         "x": [
          15
         ],
         "y": [
          0
         ]
        },
        {
         "base": 69,
         "hovertemplate": "&lt;AAG&gt;1<extra></extra>",
         "marker": {
          "color": "bisque"
         },
         "orientation": "h",
         "showlegend": false,
         "type": "bar",
         "width": 0.9,
         "x": [
          3
         ],
         "y": [
          0
         ]
        },
        {
         "base": 72,
         "hovertemplate": "&lt;AAGAAGAAGAAGCAG&gt;30<extra></extra>",
         "marker": {
          "color": "#e31a1c"
         },
         "orientation": "h",
         "showlegend": false,
         "type": "bar",
         "width": 0.9,
         "x": [
          450
         ],
         "y": [
          0
         ]
        },
        {
         "base": 522,
         "hovertemplate": "&lt;AAGCAG&gt;3<extra></extra>",
         "marker": {
          "color": "#fdbf6f"
         },
         "orientation": "h",
         "showlegend": false,
         "type": "bar",
         "width": 0.9,
         "x": [
          18
         ],
         "y": [
          0
         ]
        },
        {
         "base": 540,
         "hovertemplate": "&lt;AAGCAGCAG&gt;5<extra></extra>",
         "marker": {
          "color": "#b15928"
         },
         "orientation": "h",
         "showlegend": false,
         "type": "bar",
         "width": 0.9,
         "x": [
          45
         ],
         "y": [
          0
         ]
        },
        {
         "base": 585,
         "hovertemplate": "&lt;AAGCAG&gt;12<extra></extra>",
         "marker": {
          "color": "#fdbf6f"
         },
         "orientation": "h",
         "showlegend": false,
         "type": "bar",
         "width": 0.9,
         "x": [
          72
         ],
         "y": [
          0
         ]
        },
        {
         "base": 657,
         "hovertemplate": "&lt;AAGAAGCAGAAGCAG&gt;6<extra></extra>",
         "marker": {
          "color": "#cab2d6"
         },
         "orientation": "h",
         "showlegend": false,
         "type": "bar",
         "width": 0.9,
         "x": [
          90
         ],
         "y": [
          0
         ]
        },
        {
         "base": 747,
         "hovertemplate": "&lt;AAGAAGCAG&gt;2<extra></extra>",
         "marker": {
          "color": "#fb9a99"
         },
         "orientation": "h",
         "showlegend": false,
         "type": "bar",
         "width": 0.9,
         "x": [
          18
         ],
         "y": [
          0
         ]
        },
        {
         "base": 765,
         "hovertemplate": "&lt;CAG&gt;1<extra></extra>",
         "marker": {
          "color": "gray"
         },
         "orientation": "h",
         "showlegend": false,
         "type": "bar",
         "width": 0.9,
         "x": [
          3
         ],
         "y": [
          0
         ]
        },
        {
         "base": 768,
         "hovertemplate": "&lt;AAGCAGCAG&gt;3<extra></extra>",
         "marker": {
          "color": "#b15928"
         },
         "orientation": "h",
         "showlegend": false,
         "type": "bar",
         "width": 0.9,
         "x": [
          27
         ],
         "y": [
          0
         ]
        },
        {
         "base": 795,
         "hovertemplate": "&lt;AAGCAG&gt;8<extra></extra>",
         "marker": {
          "color": "#fdbf6f"
         },
         "orientation": "h",
         "showlegend": false,
         "type": "bar",
         "width": 0.9,
         "x": [
          48
         ],
         "y": [
          0
         ]
        },
        {
         "base": 843,
         "hovertemplate": "&lt;AAGAAGCAG&gt;3<extra></extra>",
         "marker": {
          "color": "#fb9a99"
         },
         "orientation": "h",
         "showlegend": false,
         "type": "bar",
         "width": 0.9,
         "x": [
          27
         ],
         "y": [
          0
         ]
        },
        {
         "base": 870,
         "hovertemplate": "&lt;AAGAAGCAGAAGCAG&gt;1<extra></extra>",
         "marker": {
          "color": "#cab2d6"
         },
         "orientation": "h",
         "showlegend": false,
         "type": "bar",
         "width": 0.9,
         "x": [
          15
         ],
         "y": [
          0
         ]
        },
        {
         "base": 885,
         "hovertemplate": "&lt;AAGCAG&gt;16<extra></extra>",
         "marker": {
          "color": "#fdbf6f"
         },
         "orientation": "h",
         "showlegend": false,
         "type": "bar",
         "width": 0.9,
         "x": [
          96
         ],
         "y": [
          0
         ]
        },
        {
         "base": 981,
         "hovertemplate": "&lt;AAGAAGAAGCAG&gt;4<extra></extra>",
         "marker": {
          "color": "magenta"
         },
         "orientation": "h",
         "showlegend": false,
         "type": "bar",
         "width": 0.9,
         "x": [
          48
         ],
         "y": [
          0
         ]
        },
        {
         "base": 1029,
         "hovertemplate": "&lt;AAGAAGAAGAAGCAG&gt;6<extra></extra>",
         "marker": {
          "color": "#e31a1c"
         },
         "orientation": "h",
         "showlegend": false,
         "type": "bar",
         "width": 0.9,
         "x": [
          90
         ],
         "y": [
          0
         ]
        },
        {
         "base": 1119,
         "hovertemplate": "&lt;AAGAAGCAG&gt;2<extra></extra>",
         "marker": {
          "color": "#fb9a99"
         },
         "orientation": "h",
         "showlegend": false,
         "type": "bar",
         "width": 0.9,
         "x": [
          18
         ],
         "y": [
          0
         ]
        },
        {
         "base": 1137,
         "hovertemplate": "&lt;AAGAAGCAGAAGCAG&gt;2<extra></extra>",
         "marker": {
          "color": "#cab2d6"
         },
         "orientation": "h",
         "showlegend": false,
         "type": "bar",
         "width": 0.9,
         "x": [
          30
         ],
         "y": [
          0
         ]
        },
        {
         "base": 1167,
         "hovertemplate": "&lt;AAGAAGAAGAAGCAG&gt;1<extra></extra>",
         "marker": {
          "color": "#e31a1c"
         },
         "orientation": "h",
         "showlegend": false,
         "type": "bar",
         "width": 0.9,
         "x": [
          15
         ],
         "y": [
          0
         ]
        },
        {
         "base": 1182,
         "hovertemplate": "&lt;AAGAAGCAGAAGCAG&gt;3<extra></extra>",
         "marker": {
          "color": "#cab2d6"
         },
         "orientation": "h",
         "showlegend": false,
         "type": "bar",
         "width": 0.9,
         "x": [
          45
         ],
         "y": [
          0
         ]
        },
        {
         "base": 1227,
         "hovertemplate": "&lt;AAGCAGCAG&gt;1<extra></extra>",
         "marker": {
          "color": "#b15928"
         },
         "orientation": "h",
         "showlegend": false,
         "type": "bar",
         "width": 0.9,
         "x": [
          9
         ],
         "y": [
          0
         ]
        },
        {
         "base": 1236,
         "hovertemplate": "&lt;AAGCAG&gt;1<extra></extra>",
         "marker": {
          "color": "#fdbf6f"
         },
         "orientation": "h",
         "showlegend": false,
         "type": "bar",
         "width": 0.9,
         "x": [
          6
         ],
         "y": [
          0
         ]
        },
        {
         "base": 1242,
         "hovertemplate": "&lt;AAGAAGAAGCAG&gt;2<extra></extra>",
         "marker": {
          "color": "magenta"
         },
         "orientation": "h",
         "showlegend": false,
         "type": "bar",
         "width": 0.9,
         "x": [
          24
         ],
         "y": [
          0
         ]
        },
        {
         "base": 1266,
         "hovertemplate": "&lt;AAGCAG&gt;81<extra></extra>",
         "marker": {
          "color": "#fdbf6f"
         },
         "orientation": "h",
         "showlegend": false,
         "type": "bar",
         "width": 0.9,
         "x": [
          486
         ],
         "y": [
          0
         ]
        },
        {
         "base": 1752,
         "hovertemplate": "&lt;AAG&gt;29<extra></extra>",
         "marker": {
          "color": "bisque"
         },
         "orientation": "h",
         "showlegend": false,
         "type": "bar",
         "width": 0.9,
         "x": [
          87
         ],
         "y": [
          0
         ]
        },
        {
         "base": 1842,
         "hovertemplate": "EncodedSeq: &lt;AAG&gt;12&lt;AAGAAGAAGAAGCAG&gt;1&lt;AAG&gt;1&lt;AAGAAGAAGAAGCAG&gt;1&lt;AAG&gt;1&lt;AAGAAGAAGAAGCAG&gt;30&lt;AAGCAG&gt;3&lt;AAGCAGCAG&gt;5&lt;AAGCAG&gt;12&lt;AAGAAGCAGAAGCAG&gt;6&lt;AAGAAGCAG&gt;2&lt;CAG&gt;1&lt;AAGCAGCAG&gt;3&lt;AAGCAG&gt;8&lt;AAGAAGCAG&gt;3&lt;AAGAAGCAGAAGCAG&gt;1&lt;AAGCAG&gt;16&lt;AAGAAGAAGCAG&gt;4&lt;AAGAAGAAGAAGCAG&gt;6&lt;AAGAAGCAG&gt;2&lt;AAGAAGCAGAAGCAG&gt;2&lt;AAGAAGAAGAAGCAG&gt;1&lt;AAGAAGCAGAAGCAG&gt;3&lt;AAGCAGCAG&gt;1&lt;AAGCAG&gt;1&lt;AAGAAGAAGCAG&gt;2&lt;AAGCAG&gt;81&lt;AAG&gt;29<br>Allele count: 1<br>Frequency: 0.11%<extra></extra>",
         "marker": {
          "color": "black"
         },
         "orientation": "h",
         "showlegend": false,
         "type": "bar",
         "width": 0.6,
         "x": [
          6.0989010989010985
         ],
         "y": [
          0
         ]
        },
        {
         "base": 0,
         "hovertemplate": "&lt;AAG&gt;4<extra></extra>",
         "marker": {
          "color": "bisque"
         },
         "orientation": "h",
         "showlegend": false,
         "type": "bar",
         "width": 0.9,
         "x": [
          12
         ],
         "y": [
          1
         ]
        },
        {
         "base": 12,
         "hovertemplate": "&lt;AAGAAGGAGGAG&gt;2<extra></extra>",
         "marker": {
          "color": "#ffcc99"
         },
         "orientation": "h",
         "showlegend": false,
         "type": "bar",
         "width": 0.9,
         "x": [
          24
         ],
         "y": [
          1
         ]
        },
        {
         "base": 36,
         "hovertemplate": "&lt;AAGGAGGAG&gt;1<extra></extra>",
         "marker": {
          "color": "gray"
         },
         "orientation": "h",
         "showlegend": false,
         "type": "bar",
         "width": 0.9,
         "x": [
          9
         ],
         "y": [
          1
         ]
        },
        {
         "base": 45,
         "hovertemplate": "&lt;G&gt;1<extra></extra>",
         "marker": {
          "color": "#ccebc5"
         },
         "orientation": "h",
         "showlegend": false,
         "type": "bar",
         "width": 0.9,
         "x": [
          1
         ],
         "y": [
          1
         ]
        },
        {
         "base": 46,
         "hovertemplate": "&lt;AGG&gt;24<extra></extra>",
         "marker": {
          "color": "#ff7f00"
         },
         "orientation": "h",
         "showlegend": false,
         "type": "bar",
         "width": 0.9,
         "x": [
          72
         ],
         "y": [
          1
         ]
        },
        {
         "base": 118,
         "hovertemplate": "&lt;AG&gt;1<extra></extra>",
         "marker": {
          "color": "#8dd3c7"
         },
         "orientation": "h",
         "showlegend": false,
         "type": "bar",
         "width": 0.9,
         "x": [
          2
         ],
         "y": [
          1
         ]
        },
        {
         "base": 120,
         "hovertemplate": "&lt;AAGAAGGAG&gt;5<extra></extra>",
         "marker": {
          "color": "#d9d9d9"
         },
         "orientation": "h",
         "showlegend": false,
         "type": "bar",
         "width": 0.9,
         "x": [
          45
         ],
         "y": [
          1
         ]
        },
        {
         "base": 165,
         "hovertemplate": "&lt;A&gt;1<extra></extra>",
         "marker": {
          "color": "#1f78b4"
         },
         "orientation": "h",
         "showlegend": false,
         "type": "bar",
         "width": 0.9,
         "x": [
          1
         ],
         "y": [
          1
         ]
        },
        {
         "base": 166,
         "hovertemplate": "&lt;AAGAAGGAG&gt;1<extra></extra>",
         "marker": {
          "color": "#d9d9d9"
         },
         "orientation": "h",
         "showlegend": false,
         "type": "bar",
         "width": 0.9,
         "x": [
          9
         ],
         "y": [
          1
         ]
        },
        {
         "base": 175,
         "hovertemplate": "&lt;AAGGAG&gt;2<extra></extra>",
         "marker": {
          "color": "gray"
         },
         "orientation": "h",
         "showlegend": false,
         "type": "bar",
         "width": 0.9,
         "x": [
          12
         ],
         "y": [
          1
         ]
        },
        {
         "base": 187,
         "hovertemplate": "&lt;AAGGAGGAG&gt;1<extra></extra>",
         "marker": {
          "color": "gray"
         },
         "orientation": "h",
         "showlegend": false,
         "type": "bar",
         "width": 0.9,
         "x": [
          9
         ],
         "y": [
          1
         ]
        },
        {
         "base": 196,
         "hovertemplate": "&lt;AAGGAG&gt;1<extra></extra>",
         "marker": {
          "color": "gray"
         },
         "orientation": "h",
         "showlegend": false,
         "type": "bar",
         "width": 0.9,
         "x": [
          6
         ],
         "y": [
          1
         ]
        },
        {
         "base": 202,
         "hovertemplate": "&lt;AAG&gt;285<extra></extra>",
         "marker": {
          "color": "bisque"
         },
         "orientation": "h",
         "showlegend": false,
         "type": "bar",
         "width": 0.9,
         "x": [
          855
         ],
         "y": [
          1
         ]
        },
        {
         "base": 1060,
         "hovertemplate": "EncodedSeq: &lt;AAG&gt;4&lt;AAGAAGGAGGAG&gt;2&lt;AAGGAGGAG&gt;1&lt;G&gt;1&lt;AGG&gt;24&lt;AG&gt;1&lt;AAGAAGGAG&gt;5&lt;A&gt;1&lt;AAGAAGGAG&gt;1&lt;AAGGAG&gt;2&lt;AAGGAGGAG&gt;1&lt;AAGGAG&gt;1&lt;AAG&gt;285<br>Allele count: 1<br>Frequency: 0.11%<extra></extra>",
         "marker": {
          "color": "black"
         },
         "orientation": "h",
         "showlegend": false,
         "type": "bar",
         "width": 0.6,
         "x": [
          6.0989010989010985
         ],
         "y": [
          1
         ]
        },
        {
         "base": 0,
         "hovertemplate": "&lt;AAG&gt;10<extra></extra>",
         "marker": {
          "color": "bisque"
         },
         "orientation": "h",
         "showlegend": false,
         "type": "bar",
         "width": 0.9,
         "x": [
          30
         ],
         "y": [
          2
         ]
        },
        {
         "base": 30,
         "hovertemplate": "&lt;AAGAAGAAGAAGCAG&gt;1<extra></extra>",
         "marker": {
          "color": "#e31a1c"
         },
         "orientation": "h",
         "showlegend": false,
         "type": "bar",
         "width": 0.9,
         "x": [
          15
         ],
         "y": [
          2
         ]
        },
        {
         "base": 45,
         "hovertemplate": "&lt;AAG&gt;1<extra></extra>",
         "marker": {
          "color": "bisque"
         },
         "orientation": "h",
         "showlegend": false,
         "type": "bar",
         "width": 0.9,
         "x": [
          3
         ],
         "y": [
          2
         ]
        },
        {
         "base": 48,
         "hovertemplate": "&lt;AAGAAGAAGAAGCAG&gt;29<extra></extra>",
         "marker": {
          "color": "#e31a1c"
         },
         "orientation": "h",
         "showlegend": false,
         "type": "bar",
         "width": 0.9,
         "x": [
          435
         ],
         "y": [
          2
         ]
        },
        {
         "base": 483,
         "hovertemplate": "&lt;AAGCAG&gt;3<extra></extra>",
         "marker": {
          "color": "#fdbf6f"
         },
         "orientation": "h",
         "showlegend": false,
         "type": "bar",
         "width": 0.9,
         "x": [
          18
         ],
         "y": [
          2
         ]
        },
        {
         "base": 501,
         "hovertemplate": "&lt;AAGCAGCAG&gt;5<extra></extra>",
         "marker": {
          "color": "#b15928"
         },
         "orientation": "h",
         "showlegend": false,
         "type": "bar",
         "width": 0.9,
         "x": [
          45
         ],
         "y": [
          2
         ]
        },
        {
         "base": 546,
         "hovertemplate": "&lt;AAGCAG&gt;6<extra></extra>",
         "marker": {
          "color": "#fdbf6f"
         },
         "orientation": "h",
         "showlegend": false,
         "type": "bar",
         "width": 0.9,
         "x": [
          36
         ],
         "y": [
          2
         ]
        },
        {
         "base": 582,
         "hovertemplate": "&lt;AAGCAGCAG&gt;1<extra></extra>",
         "marker": {
          "color": "#b15928"
         },
         "orientation": "h",
         "showlegend": false,
         "type": "bar",
         "width": 0.9,
         "x": [
          9
         ],
         "y": [
          2
         ]
        },
        {
         "base": 591,
         "hovertemplate": "&lt;AAGCAG&gt;4<extra></extra>",
         "marker": {
          "color": "#fdbf6f"
         },
         "orientation": "h",
         "showlegend": false,
         "type": "bar",
         "width": 0.9,
         "x": [
          24
         ],
         "y": [
          2
         ]
        },
        {
         "base": 615,
         "hovertemplate": "&lt;AAGCAGCAG&gt;1<extra></extra>",
         "marker": {
          "color": "#b15928"
         },
         "orientation": "h",
         "showlegend": false,
         "type": "bar",
         "width": 0.9,
         "x": [
          9
         ],
         "y": [
          2
         ]
        },
        {
         "base": 624,
         "hovertemplate": "&lt;AAGCAG&gt;1<extra></extra>",
         "marker": {
          "color": "#fdbf6f"
         },
         "orientation": "h",
         "showlegend": false,
         "type": "bar",
         "width": 0.9,
         "x": [
          6
         ],
         "y": [
          2
         ]
        },
        {
         "base": 630,
         "hovertemplate": "&lt;AAGAAGCAGAAGCAG&gt;4<extra></extra>",
         "marker": {
          "color": "#cab2d6"
         },
         "orientation": "h",
         "showlegend": false,
         "type": "bar",
         "width": 0.9,
         "x": [
          60
         ],
         "y": [
          2
         ]
        },
        {
         "base": 690,
         "hovertemplate": "&lt;AAG&gt;1<extra></extra>",
         "marker": {
          "color": "bisque"
         },
         "orientation": "h",
         "showlegend": false,
         "type": "bar",
         "width": 0.9,
         "x": [
          3
         ],
         "y": [
          2
         ]
        },
        {
         "base": 693,
         "hovertemplate": "&lt;AAGAAGCAGAAGCAG&gt;2<extra></extra>",
         "marker": {
          "color": "#cab2d6"
         },
         "orientation": "h",
         "showlegend": false,
         "type": "bar",
         "width": 0.9,
         "x": [
          30
         ],
         "y": [
          2
         ]
        },
        {
         "base": 723,
         "hovertemplate": "&lt;AAGCAG&gt;33<extra></extra>",
         "marker": {
          "color": "#fdbf6f"
         },
         "orientation": "h",
         "showlegend": false,
         "type": "bar",
         "width": 0.9,
         "x": [
          198
         ],
         "y": [
          2
         ]
        },
        {
         "base": 921,
         "hovertemplate": "&lt;AAG&gt;12<extra></extra>",
         "marker": {
          "color": "bisque"
         },
         "orientation": "h",
         "showlegend": false,
         "type": "bar",
         "width": 0.9,
         "x": [
          36
         ],
         "y": [
          2
         ]
        },
        {
         "base": 960,
         "hovertemplate": "EncodedSeq: &lt;AAG&gt;10&lt;AAGAAGAAGAAGCAG&gt;1&lt;AAG&gt;1&lt;AAGAAGAAGAAGCAG&gt;29&lt;AAGCAG&gt;3&lt;AAGCAGCAG&gt;5&lt;AAGCAG&gt;6&lt;AAGCAGCAG&gt;1&lt;AAGCAG&gt;4&lt;AAGCAGCAG&gt;1&lt;AAGCAG&gt;1&lt;AAGAAGCAGAAGCAG&gt;4&lt;AAG&gt;1&lt;AAGAAGCAGAAGCAG&gt;2&lt;AAGCAG&gt;33&lt;AAG&gt;12<br>Allele count: 1<br>Frequency: 0.11%<extra></extra>",
         "marker": {
          "color": "black"
         },
         "orientation": "h",
         "showlegend": false,
         "type": "bar",
         "width": 0.6,
         "x": [
          6.0989010989010985
         ],
         "y": [
          2
         ]
        },
        {
         "base": 0,
         "hovertemplate": "&lt;AAG&gt;19<extra></extra>",
         "marker": {
          "color": "bisque"
         },
         "orientation": "h",
         "showlegend": false,
         "type": "bar",
         "width": 0.9,
         "x": [
          57
         ],
         "y": [
          3
         ]
        },
        {
         "base": 57,
         "hovertemplate": "&lt;AAGAAGAAGAAGCAG&gt;1<extra></extra>",
         "marker": {
          "color": "#e31a1c"
         },
         "orientation": "h",
         "showlegend": false,
         "type": "bar",
         "width": 0.9,
         "x": [
          15
         ],
         "y": [
          3
         ]
        },
        {
         "base": 72,
         "hovertemplate": "&lt;AAGAAGAAGCAG&gt;3<extra></extra>",
         "marker": {
          "color": "magenta"
         },
         "orientation": "h",
         "showlegend": false,
         "type": "bar",
         "width": 0.9,
         "x": [
          36
         ],
         "y": [
          3
         ]
        },
        {
         "base": 108,
         "hovertemplate": "&lt;AAGCAG&gt;1<extra></extra>",
         "marker": {
          "color": "#fdbf6f"
         },
         "orientation": "h",
         "showlegend": false,
         "type": "bar",
         "width": 0.9,
         "x": [
          6
         ],
         "y": [
          3
         ]
        },
        {
         "base": 114,
         "hovertemplate": "&lt;AAGAAGAAGAAGCAG&gt;21<extra></extra>",
         "marker": {
          "color": "#e31a1c"
         },
         "orientation": "h",
         "showlegend": false,
         "type": "bar",
         "width": 0.9,
         "x": [
          315
         ],
         "y": [
          3
         ]
        },
        {
         "base": 429,
         "hovertemplate": "&lt;AAG&gt;9<extra></extra>",
         "marker": {
          "color": "bisque"
         },
         "orientation": "h",
         "showlegend": false,
         "type": "bar",
         "width": 0.9,
         "x": [
          27
         ],
         "y": [
          3
         ]
        },
        {
         "base": 456,
         "hovertemplate": "&lt;AAGAAGAAGAAGCAG&gt;3<extra></extra>",
         "marker": {
          "color": "#e31a1c"
         },
         "orientation": "h",
         "showlegend": false,
         "type": "bar",
         "width": 0.9,
         "x": [
          45
         ],
         "y": [
          3
         ]
        },
        {
         "base": 501,
         "hovertemplate": "&lt;AAGCAG&gt;9<extra></extra>",
         "marker": {
          "color": "#fdbf6f"
         },
         "orientation": "h",
         "showlegend": false,
         "type": "bar",
         "width": 0.9,
         "x": [
          54
         ],
         "y": [
          3
         ]
        },
        {
         "base": 555,
         "hovertemplate": "&lt;AAGCAGAAGCAGCAG&gt;1<extra></extra>",
         "marker": {
          "color": "#ffff99"
         },
         "orientation": "h",
         "showlegend": false,
         "type": "bar",
         "width": 0.9,
         "x": [
          15
         ],
         "y": [
          3
         ]
        },
        {
         "base": 570,
         "hovertemplate": "&lt;AAGCAGCAG&gt;2<extra></extra>",
         "marker": {
          "color": "#b15928"
         },
         "orientation": "h",
         "showlegend": false,
         "type": "bar",
         "width": 0.9,
         "x": [
          18
         ],
         "y": [
          3
         ]
        },
        {
         "base": 588,
         "hovertemplate": "&lt;AAGCAG&gt;11<extra></extra>",
         "marker": {
          "color": "#fdbf6f"
         },
         "orientation": "h",
         "showlegend": false,
         "type": "bar",
         "width": 0.9,
         "x": [
          66
         ],
         "y": [
          3
         ]
        },
        {
         "base": 654,
         "hovertemplate": "&lt;AAG&gt;1<extra></extra>",
         "marker": {
          "color": "bisque"
         },
         "orientation": "h",
         "showlegend": false,
         "type": "bar",
         "width": 0.9,
         "x": [
          3
         ],
         "y": [
          3
         ]
        },
        {
         "base": 657,
         "hovertemplate": "&lt;AAGCAG&gt;1<extra></extra>",
         "marker": {
          "color": "#fdbf6f"
         },
         "orientation": "h",
         "showlegend": false,
         "type": "bar",
         "width": 0.9,
         "x": [
          6
         ],
         "y": [
          3
         ]
        },
        {
         "base": 663,
         "hovertemplate": "&lt;AAGCAGAAGCAGCAG&gt;4<extra></extra>",
         "marker": {
          "color": "#ffff99"
         },
         "orientation": "h",
         "showlegend": false,
         "type": "bar",
         "width": 0.9,
         "x": [
          60
         ],
         "y": [
          3
         ]
        },
        {
         "base": 723,
         "hovertemplate": "&lt;AAGCAG&gt;2<extra></extra>",
         "marker": {
          "color": "#fdbf6f"
         },
         "orientation": "h",
         "showlegend": false,
         "type": "bar",
         "width": 0.9,
         "x": [
          12
         ],
         "y": [
          3
         ]
        },
        {
         "base": 735,
         "hovertemplate": "&lt;AAG&gt;1<extra></extra>",
         "marker": {
          "color": "bisque"
         },
         "orientation": "h",
         "showlegend": false,
         "type": "bar",
         "width": 0.9,
         "x": [
          3
         ],
         "y": [
          3
         ]
        },
        {
         "base": 738,
         "hovertemplate": "&lt;AAGCAG&gt;2<extra></extra>",
         "marker": {
          "color": "#fdbf6f"
         },
         "orientation": "h",
         "showlegend": false,
         "type": "bar",
         "width": 0.9,
         "x": [
          12
         ],
         "y": [
          3
         ]
        },
        {
         "base": 750,
         "hovertemplate": "&lt;AAGAAGAAGCAG&gt;1<extra></extra>",
         "marker": {
          "color": "magenta"
         },
         "orientation": "h",
         "showlegend": false,
         "type": "bar",
         "width": 0.9,
         "x": [
          12
         ],
         "y": [
          3
         ]
        },
        {
         "base": 762,
         "hovertemplate": "&lt;AAGAAGAAGAAGCAG&gt;3<extra></extra>",
         "marker": {
          "color": "#e31a1c"
         },
         "orientation": "h",
         "showlegend": false,
         "type": "bar",
         "width": 0.9,
         "x": [
          45
         ],
         "y": [
          3
         ]
        },
        {
         "base": 807,
         "hovertemplate": "&lt;AAG&gt;43<extra></extra>",
         "marker": {
          "color": "bisque"
         },
         "orientation": "h",
         "showlegend": false,
         "type": "bar",
         "width": 0.9,
         "x": [
          129
         ],
         "y": [
          3
         ]
        },
        {
         "base": 939,
         "hovertemplate": "EncodedSeq: &lt;AAG&gt;19&lt;AAGAAGAAGAAGCAG&gt;1&lt;AAGAAGAAGCAG&gt;3&lt;AAGCAG&gt;1&lt;AAGAAGAAGAAGCAG&gt;21&lt;AAG&gt;9&lt;AAGAAGAAGAAGCAG&gt;3&lt;AAGCAG&gt;9&lt;AAGCAGAAGCAGCAG&gt;1&lt;AAGCAGCAG&gt;2&lt;AAGCAG&gt;11&lt;AAG&gt;1&lt;AAGCAG&gt;1&lt;AAGCAGAAGCAGCAG&gt;4&lt;AAGCAG&gt;2&lt;AAG&gt;1&lt;AAGCAG&gt;2&lt;AAGAAGAAGCAG&gt;1&lt;AAGAAGAAGAAGCAG&gt;3&lt;AAG&gt;43<br>Allele count: 1<br>Frequency: 0.11%<extra></extra>",
         "marker": {
          "color": "black"
         },
         "orientation": "h",
         "showlegend": false,
         "type": "bar",
         "width": 0.6,
         "x": [
          6.0989010989010985
         ],
         "y": [
          3
         ]
        },
        {
         "base": 0,
         "hovertemplate": "&lt;AAG&gt;20<extra></extra>",
         "marker": {
          "color": "bisque"
         },
         "orientation": "h",
         "showlegend": false,
         "type": "bar",
         "width": 0.9,
         "x": [
          60
         ],
         "y": [
          4
         ]
        },
        {
         "base": 60,
         "hovertemplate": "&lt;AAGAAGAAGAAGCAG&gt;1<extra></extra>",
         "marker": {
          "color": "#e31a1c"
         },
         "orientation": "h",
         "showlegend": false,
         "type": "bar",
         "width": 0.9,
         "x": [
          15
         ],
         "y": [
          4
         ]
        },
        {
         "base": 75,
         "hovertemplate": "&lt;AAGAAGAAGCAG&gt;3<extra></extra>",
         "marker": {
          "color": "magenta"
         },
         "orientation": "h",
         "showlegend": false,
         "type": "bar",
         "width": 0.9,
         "x": [
          36
         ],
         "y": [
          4
         ]
        },
        {
         "base": 111,
         "hovertemplate": "&lt;AAGCAG&gt;1<extra></extra>",
         "marker": {
          "color": "#fdbf6f"
         },
         "orientation": "h",
         "showlegend": false,
         "type": "bar",
         "width": 0.9,
         "x": [
          6
         ],
         "y": [
          4
         ]
        },
        {
         "base": 117,
         "hovertemplate": "&lt;AAGAAGAAGAAGCAG&gt;25<extra></extra>",
         "marker": {
          "color": "#e31a1c"
         },
         "orientation": "h",
         "showlegend": false,
         "type": "bar",
         "width": 0.9,
         "x": [
          375
         ],
         "y": [
          4
         ]
        },
        {
         "base": 492,
         "hovertemplate": "&lt;AAGCAG&gt;9<extra></extra>",
         "marker": {
          "color": "#fdbf6f"
         },
         "orientation": "h",
         "showlegend": false,
         "type": "bar",
         "width": 0.9,
         "x": [
          54
         ],
         "y": [
          4
         ]
        },
        {
         "base": 546,
         "hovertemplate": "&lt;AAGCAGAAGCAGCAG&gt;1<extra></extra>",
         "marker": {
          "color": "#ffff99"
         },
         "orientation": "h",
         "showlegend": false,
         "type": "bar",
         "width": 0.9,
         "x": [
          15
         ],
         "y": [
          4
         ]
        },
        {
         "base": 561,
         "hovertemplate": "&lt;AAGCAGCAG&gt;2<extra></extra>",
         "marker": {
          "color": "#b15928"
         },
         "orientation": "h",
         "showlegend": false,
         "type": "bar",
         "width": 0.9,
         "x": [
          18
         ],
         "y": [
          4
         ]
        },
        {
         "base": 579,
         "hovertemplate": "&lt;AAGCAG&gt;9<extra></extra>",
         "marker": {
          "color": "#fdbf6f"
         },
         "orientation": "h",
         "showlegend": false,
         "type": "bar",
         "width": 0.9,
         "x": [
          54
         ],
         "y": [
          4
         ]
        },
        {
         "base": 633,
         "hovertemplate": "&lt;AAG&gt;1<extra></extra>",
         "marker": {
          "color": "bisque"
         },
         "orientation": "h",
         "showlegend": false,
         "type": "bar",
         "width": 0.9,
         "x": [
          3
         ],
         "y": [
          4
         ]
        },
        {
         "base": 636,
         "hovertemplate": "&lt;AAGCAG&gt;1<extra></extra>",
         "marker": {
          "color": "#fdbf6f"
         },
         "orientation": "h",
         "showlegend": false,
         "type": "bar",
         "width": 0.9,
         "x": [
          6
         ],
         "y": [
          4
         ]
        },
        {
         "base": 642,
         "hovertemplate": "&lt;AAGCAGAAGCAGCAG&gt;4<extra></extra>",
         "marker": {
          "color": "#ffff99"
         },
         "orientation": "h",
         "showlegend": false,
         "type": "bar",
         "width": 0.9,
         "x": [
          60
         ],
         "y": [
          4
         ]
        },
        {
         "base": 702,
         "hovertemplate": "&lt;AAGCAG&gt;2<extra></extra>",
         "marker": {
          "color": "#fdbf6f"
         },
         "orientation": "h",
         "showlegend": false,
         "type": "bar",
         "width": 0.9,
         "x": [
          12
         ],
         "y": [
          4
         ]
        },
        {
         "base": 714,
         "hovertemplate": "&lt;AAG&gt;1<extra></extra>",
         "marker": {
          "color": "bisque"
         },
         "orientation": "h",
         "showlegend": false,
         "type": "bar",
         "width": 0.9,
         "x": [
          3
         ],
         "y": [
          4
         ]
        },
        {
         "base": 717,
         "hovertemplate": "&lt;AAGCAG&gt;2<extra></extra>",
         "marker": {
          "color": "#fdbf6f"
         },
         "orientation": "h",
         "showlegend": false,
         "type": "bar",
         "width": 0.9,
         "x": [
          12
         ],
         "y": [
          4
         ]
        },
        {
         "base": 729,
         "hovertemplate": "&lt;AAGAAGAAGCAG&gt;1<extra></extra>",
         "marker": {
          "color": "magenta"
         },
         "orientation": "h",
         "showlegend": false,
         "type": "bar",
         "width": 0.9,
         "x": [
          12
         ],
         "y": [
          4
         ]
        },
        {
         "base": 741,
         "hovertemplate": "&lt;AAGAAGAAGAAGCAG&gt;3<extra></extra>",
         "marker": {
          "color": "#e31a1c"
         },
         "orientation": "h",
         "showlegend": false,
         "type": "bar",
         "width": 0.9,
         "x": [
          45
         ],
         "y": [
          4
         ]
        },
        {
         "base": 786,
         "hovertemplate": "&lt;AAG&gt;23<extra></extra>",
         "marker": {
          "color": "bisque"
         },
         "orientation": "h",
         "showlegend": false,
         "type": "bar",
         "width": 0.9,
         "x": [
          69
         ],
         "y": [
          4
         ]
        },
        {
         "base": 855,
         "hovertemplate": "&lt;AGG&gt;1<extra></extra>",
         "marker": {
          "color": "#ff7f00"
         },
         "orientation": "h",
         "showlegend": false,
         "type": "bar",
         "width": 0.9,
         "x": [
          3
         ],
         "y": [
          4
         ]
        },
        {
         "base": 858,
         "hovertemplate": "&lt;AAG&gt;16<extra></extra>",
         "marker": {
          "color": "bisque"
         },
         "orientation": "h",
         "showlegend": false,
         "type": "bar",
         "width": 0.9,
         "x": [
          48
         ],
         "y": [
          4
         ]
        },
        {
         "base": 909,
         "hovertemplate": "EncodedSeq: &lt;AAG&gt;20&lt;AAGAAGAAGAAGCAG&gt;1&lt;AAGAAGAAGCAG&gt;3&lt;AAGCAG&gt;1&lt;AAGAAGAAGAAGCAG&gt;25&lt;AAGCAG&gt;9&lt;AAGCAGAAGCAGCAG&gt;1&lt;AAGCAGCAG&gt;2&lt;AAGCAG&gt;9&lt;AAG&gt;1&lt;AAGCAG&gt;1&lt;AAGCAGAAGCAGCAG&gt;4&lt;AAGCAG&gt;2&lt;AAG&gt;1&lt;AAGCAG&gt;2&lt;AAGAAGAAGCAG&gt;1&lt;AAGAAGAAGAAGCAG&gt;3&lt;AAG&gt;23&lt;AGG&gt;1&lt;AAG&gt;16<br>Allele count: 1<br>Frequency: 0.11%<extra></extra>",
         "marker": {
          "color": "black"
         },
         "orientation": "h",
         "showlegend": false,
         "type": "bar",
         "width": 0.6,
         "x": [
          6.0989010989010985
         ],
         "y": [
          4
         ]
        },
        {
         "base": 0,
         "hovertemplate": "&lt;AAG&gt;22<extra></extra>",
         "marker": {
          "color": "bisque"
         },
         "orientation": "h",
         "showlegend": false,
         "type": "bar",
         "width": 0.9,
         "x": [
          66
         ],
         "y": [
          5
         ]
        },
        {
         "base": 66,
         "hovertemplate": "&lt;AAGAAGAAGAAGCAG&gt;1<extra></extra>",
         "marker": {
          "color": "#e31a1c"
         },
         "orientation": "h",
         "showlegend": false,
         "type": "bar",
         "width": 0.9,
         "x": [
          15
         ],
         "y": [
          5
         ]
        },
        {
         "base": 81,
         "hovertemplate": "&lt;AAGAAGAAGCAG&gt;3<extra></extra>",
         "marker": {
          "color": "magenta"
         },
         "orientation": "h",
         "showlegend": false,
         "type": "bar",
         "width": 0.9,
         "x": [
          36
         ],
         "y": [
          5
         ]
        },
        {
         "base": 117,
         "hovertemplate": "&lt;AAGCAG&gt;1<extra></extra>",
         "marker": {
          "color": "#fdbf6f"
         },
         "orientation": "h",
         "showlegend": false,
         "type": "bar",
         "width": 0.9,
         "x": [
          6
         ],
         "y": [
          5
         ]
        },
        {
         "base": 123,
         "hovertemplate": "&lt;AAGAAGAAGAAGCAG&gt;24<extra></extra>",
         "marker": {
          "color": "#e31a1c"
         },
         "orientation": "h",
         "showlegend": false,
         "type": "bar",
         "width": 0.9,
         "x": [
          360
         ],
         "y": [
          5
         ]
        },
        {
         "base": 483,
         "hovertemplate": "&lt;AAGCAG&gt;9<extra></extra>",
         "marker": {
          "color": "#fdbf6f"
         },
         "orientation": "h",
         "showlegend": false,
         "type": "bar",
         "width": 0.9,
         "x": [
          54
         ],
         "y": [
          5
         ]
        },
        {
         "base": 537,
         "hovertemplate": "&lt;AAGCAGAAGCAGCAG&gt;1<extra></extra>",
         "marker": {
          "color": "#ffff99"
         },
         "orientation": "h",
         "showlegend": false,
         "type": "bar",
         "width": 0.9,
         "x": [
          15
         ],
         "y": [
          5
         ]
        },
        {
         "base": 552,
         "hovertemplate": "&lt;AAGCAGCAG&gt;2<extra></extra>",
         "marker": {
          "color": "#b15928"
         },
         "orientation": "h",
         "showlegend": false,
         "type": "bar",
         "width": 0.9,
         "x": [
          18
         ],
         "y": [
          5
         ]
        },
        {
         "base": 570,
         "hovertemplate": "&lt;AAGCAG&gt;10<extra></extra>",
         "marker": {
          "color": "#fdbf6f"
         },
         "orientation": "h",
         "showlegend": false,
         "type": "bar",
         "width": 0.9,
         "x": [
          60
         ],
         "y": [
          5
         ]
        },
        {
         "base": 630,
         "hovertemplate": "&lt;AAG&gt;1<extra></extra>",
         "marker": {
          "color": "bisque"
         },
         "orientation": "h",
         "showlegend": false,
         "type": "bar",
         "width": 0.9,
         "x": [
          3
         ],
         "y": [
          5
         ]
        },
        {
         "base": 633,
         "hovertemplate": "&lt;AAGCAG&gt;1<extra></extra>",
         "marker": {
          "color": "#fdbf6f"
         },
         "orientation": "h",
         "showlegend": false,
         "type": "bar",
         "width": 0.9,
         "x": [
          6
         ],
         "y": [
          5
         ]
        },
        {
         "base": 639,
         "hovertemplate": "&lt;AAGCAGAAGCAGCAG&gt;4<extra></extra>",
         "marker": {
          "color": "#ffff99"
         },
         "orientation": "h",
         "showlegend": false,
         "type": "bar",
         "width": 0.9,
         "x": [
          60
         ],
         "y": [
          5
         ]
        },
        {
         "base": 699,
         "hovertemplate": "&lt;AAGCAG&gt;2<extra></extra>",
         "marker": {
          "color": "#fdbf6f"
         },
         "orientation": "h",
         "showlegend": false,
         "type": "bar",
         "width": 0.9,
         "x": [
          12
         ],
         "y": [
          5
         ]
        },
        {
         "base": 711,
         "hovertemplate": "&lt;AAG&gt;1<extra></extra>",
         "marker": {
          "color": "bisque"
         },
         "orientation": "h",
         "showlegend": false,
         "type": "bar",
         "width": 0.9,
         "x": [
          3
         ],
         "y": [
          5
         ]
        },
        {
         "base": 714,
         "hovertemplate": "&lt;AAGCAG&gt;2<extra></extra>",
         "marker": {
          "color": "#fdbf6f"
         },
         "orientation": "h",
         "showlegend": false,
         "type": "bar",
         "width": 0.9,
         "x": [
          12
         ],
         "y": [
          5
         ]
        },
        {
         "base": 726,
         "hovertemplate": "&lt;AAGAAGAAGCAG&gt;1<extra></extra>",
         "marker": {
          "color": "magenta"
         },
         "orientation": "h",
         "showlegend": false,
         "type": "bar",
         "width": 0.9,
         "x": [
          12
         ],
         "y": [
          5
         ]
        },
        {
         "base": 738,
         "hovertemplate": "&lt;AAGAAGAAGAAGCAG&gt;3<extra></extra>",
         "marker": {
          "color": "#e31a1c"
         },
         "orientation": "h",
         "showlegend": false,
         "type": "bar",
         "width": 0.9,
         "x": [
          45
         ],
         "y": [
          5
         ]
        },
        {
         "base": 783,
         "hovertemplate": "&lt;AAG&gt;25<extra></extra>",
         "marker": {
          "color": "bisque"
         },
         "orientation": "h",
         "showlegend": false,
         "type": "bar",
         "width": 0.9,
         "x": [
          75
         ],
         "y": [
          5
         ]
        },
        {
         "base": 858,
         "hovertemplate": "&lt;AGG&gt;1<extra></extra>",
         "marker": {
          "color": "#ff7f00"
         },
         "orientation": "h",
         "showlegend": false,
         "type": "bar",
         "width": 0.9,
         "x": [
          3
         ],
         "y": [
          5
         ]
        },
        {
         "base": 861,
         "hovertemplate": "&lt;AAG&gt;12<extra></extra>",
         "marker": {
          "color": "bisque"
         },
         "orientation": "h",
         "showlegend": false,
         "type": "bar",
         "width": 0.9,
         "x": [
          36
         ],
         "y": [
          5
         ]
        },
        {
         "base": 900,
         "hovertemplate": "EncodedSeq: &lt;AAG&gt;22&lt;AAGAAGAAGAAGCAG&gt;1&lt;AAGAAGAAGCAG&gt;3&lt;AAGCAG&gt;1&lt;AAGAAGAAGAAGCAG&gt;24&lt;AAGCAG&gt;9&lt;AAGCAGAAGCAGCAG&gt;1&lt;AAGCAGCAG&gt;2&lt;AAGCAG&gt;10&lt;AAG&gt;1&lt;AAGCAG&gt;1&lt;AAGCAGAAGCAGCAG&gt;4&lt;AAGCAG&gt;2&lt;AAG&gt;1&lt;AAGCAG&gt;2&lt;AAGAAGAAGCAG&gt;1&lt;AAGAAGAAGAAGCAG&gt;3&lt;AAG&gt;25&lt;AGG&gt;1&lt;AAG&gt;12<br>Allele count: 1<br>Frequency: 0.11%<extra></extra>",
         "marker": {
          "color": "black"
         },
         "orientation": "h",
         "showlegend": false,
         "type": "bar",
         "width": 0.6,
         "x": [
          6.0989010989010985
         ],
         "y": [
          5
         ]
        },
        {
         "base": 0,
         "hovertemplate": "&lt;AAG&gt;31<extra></extra>",
         "marker": {
          "color": "bisque"
         },
         "orientation": "h",
         "showlegend": false,
         "type": "bar",
         "width": 0.9,
         "x": [
          93
         ],
         "y": [
          6
         ]
        },
        {
         "base": 93,
         "hovertemplate": "&lt;AAGAAGAAGAAGCAG&gt;1<extra></extra>",
         "marker": {
          "color": "#e31a1c"
         },
         "orientation": "h",
         "showlegend": false,
         "type": "bar",
         "width": 0.9,
         "x": [
          15
         ],
         "y": [
          6
         ]
        },
        {
         "base": 108,
         "hovertemplate": "&lt;AAGAAGAAGCAG&gt;3<extra></extra>",
         "marker": {
          "color": "magenta"
         },
         "orientation": "h",
         "showlegend": false,
         "type": "bar",
         "width": 0.9,
         "x": [
          36
         ],
         "y": [
          6
         ]
        },
        {
         "base": 144,
         "hovertemplate": "&lt;AAGCAG&gt;1<extra></extra>",
         "marker": {
          "color": "#fdbf6f"
         },
         "orientation": "h",
         "showlegend": false,
         "type": "bar",
         "width": 0.9,
         "x": [
          6
         ],
         "y": [
          6
         ]
        },
        {
         "base": 150,
         "hovertemplate": "&lt;AAGAAGAAGAAGCAG&gt;21<extra></extra>",
         "marker": {
          "color": "#e31a1c"
         },
         "orientation": "h",
         "showlegend": false,
         "type": "bar",
         "width": 0.9,
         "x": [
          315
         ],
         "y": [
          6
         ]
        },
        {
         "base": 465,
         "hovertemplate": "&lt;AAGCAG&gt;7<extra></extra>",
         "marker": {
          "color": "#fdbf6f"
         },
         "orientation": "h",
         "showlegend": false,
         "type": "bar",
         "width": 0.9,
         "x": [
          42
         ],
         "y": [
          6
         ]
        },
        {
         "base": 507,
         "hovertemplate": "&lt;AAGCAGAAGCAGCAG&gt;1<extra></extra>",
         "marker": {
          "color": "#ffff99"
         },
         "orientation": "h",
         "showlegend": false,
         "type": "bar",
         "width": 0.9,
         "x": [
          15
         ],
         "y": [
          6
         ]
        },
        {
         "base": 522,
         "hovertemplate": "&lt;AAGCAGCAG&gt;2<extra></extra>",
         "marker": {
          "color": "#b15928"
         },
         "orientation": "h",
         "showlegend": false,
         "type": "bar",
         "width": 0.9,
         "x": [
          18
         ],
         "y": [
          6
         ]
        },
        {
         "base": 540,
         "hovertemplate": "&lt;AAGCAG&gt;10<extra></extra>",
         "marker": {
          "color": "#fdbf6f"
         },
         "orientation": "h",
         "showlegend": false,
         "type": "bar",
         "width": 0.9,
         "x": [
          60
         ],
         "y": [
          6
         ]
        },
        {
         "base": 600,
         "hovertemplate": "&lt;AAGCAGAAGCAGCAG&gt;5<extra></extra>",
         "marker": {
          "color": "#ffff99"
         },
         "orientation": "h",
         "showlegend": false,
         "type": "bar",
         "width": 0.9,
         "x": [
          75
         ],
         "y": [
          6
         ]
        },
        {
         "base": 675,
         "hovertemplate": "&lt;AAGCAG&gt;2<extra></extra>",
         "marker": {
          "color": "#fdbf6f"
         },
         "orientation": "h",
         "showlegend": false,
         "type": "bar",
         "width": 0.9,
         "x": [
          12
         ],
         "y": [
          6
         ]
        },
        {
         "base": 687,
         "hovertemplate": "&lt;AAG&gt;1<extra></extra>",
         "marker": {
          "color": "bisque"
         },
         "orientation": "h",
         "showlegend": false,
         "type": "bar",
         "width": 0.9,
         "x": [
          3
         ],
         "y": [
          6
         ]
        },
        {
         "base": 690,
         "hovertemplate": "&lt;AAGCAG&gt;2<extra></extra>",
         "marker": {
          "color": "#fdbf6f"
         },
         "orientation": "h",
         "showlegend": false,
         "type": "bar",
         "width": 0.9,
         "x": [
          12
         ],
         "y": [
          6
         ]
        },
        {
         "base": 702,
         "hovertemplate": "&lt;AAGAAGAAGCAG&gt;1<extra></extra>",
         "marker": {
          "color": "magenta"
         },
         "orientation": "h",
         "showlegend": false,
         "type": "bar",
         "width": 0.9,
         "x": [
          12
         ],
         "y": [
          6
         ]
        },
        {
         "base": 714,
         "hovertemplate": "&lt;AAGAAGAAGAAGCAG&gt;3<extra></extra>",
         "marker": {
          "color": "#e31a1c"
         },
         "orientation": "h",
         "showlegend": false,
         "type": "bar",
         "width": 0.9,
         "x": [
          45
         ],
         "y": [
          6
         ]
        },
        {
         "base": 759,
         "hovertemplate": "&lt;AAG&gt;42<extra></extra>",
         "marker": {
          "color": "bisque"
         },
         "orientation": "h",
         "showlegend": false,
         "type": "bar",
         "width": 0.9,
         "x": [
          126
         ],
         "y": [
          6
         ]
        },
        {
         "base": 888,
         "hovertemplate": "EncodedSeq: &lt;AAG&gt;31&lt;AAGAAGAAGAAGCAG&gt;1&lt;AAGAAGAAGCAG&gt;3&lt;AAGCAG&gt;1&lt;AAGAAGAAGAAGCAG&gt;21&lt;AAGCAG&gt;7&lt;AAGCAGAAGCAGCAG&gt;1&lt;AAGCAGCAG&gt;2&lt;AAGCAG&gt;10&lt;AAGCAGAAGCAGCAG&gt;5&lt;AAGCAG&gt;2&lt;AAG&gt;1&lt;AAGCAG&gt;2&lt;AAGAAGAAGCAG&gt;1&lt;AAGAAGAAGAAGCAG&gt;3&lt;AAG&gt;42<br>Allele count: 1<br>Frequency: 0.11%<extra></extra>",
         "marker": {
          "color": "black"
         },
         "orientation": "h",
         "showlegend": false,
         "type": "bar",
         "width": 0.6,
         "x": [
          6.0989010989010985
         ],
         "y": [
          6
         ]
        },
        {
         "base": 0,
         "hovertemplate": "&lt;AAG&gt;20<extra></extra>",
         "marker": {
          "color": "bisque"
         },
         "orientation": "h",
         "showlegend": false,
         "type": "bar",
         "width": 0.9,
         "x": [
          60
         ],
         "y": [
          7
         ]
        },
        {
         "base": 60,
         "hovertemplate": "&lt;AAGAAGAAGAAGCAG&gt;1<extra></extra>",
         "marker": {
          "color": "#e31a1c"
         },
         "orientation": "h",
         "showlegend": false,
         "type": "bar",
         "width": 0.9,
         "x": [
          15
         ],
         "y": [
          7
         ]
        },
        {
         "base": 75,
         "hovertemplate": "&lt;AAGAAGAAGCAG&gt;3<extra></extra>",
         "marker": {
          "color": "magenta"
         },
         "orientation": "h",
         "showlegend": false,
         "type": "bar",
         "width": 0.9,
         "x": [
          36
         ],
         "y": [
          7
         ]
        },
        {
         "base": 111,
         "hovertemplate": "&lt;AAGCAG&gt;1<extra></extra>",
         "marker": {
          "color": "#fdbf6f"
         },
         "orientation": "h",
         "showlegend": false,
         "type": "bar",
         "width": 0.9,
         "x": [
          6
         ],
         "y": [
          7
         ]
        },
        {
         "base": 117,
         "hovertemplate": "&lt;AAGAAGAAGAAGCAG&gt;5<extra></extra>",
         "marker": {
          "color": "#e31a1c"
         },
         "orientation": "h",
         "showlegend": false,
         "type": "bar",
         "width": 0.9,
         "x": [
          75
         ],
         "y": [
          7
         ]
        },
        {
         "base": 192,
         "hovertemplate": "&lt;AAGAAGAAGCAG&gt;1<extra></extra>",
         "marker": {
          "color": "magenta"
         },
         "orientation": "h",
         "showlegend": false,
         "type": "bar",
         "width": 0.9,
         "x": [
          12
         ],
         "y": [
          7
         ]
        },
        {
         "base": 204,
         "hovertemplate": "&lt;AAGAAGAAGAAGCAG&gt;18<extra></extra>",
         "marker": {
          "color": "#e31a1c"
         },
         "orientation": "h",
         "showlegend": false,
         "type": "bar",
         "width": 0.9,
         "x": [
          270
         ],
         "y": [
          7
         ]
        },
        {
         "base": 474,
         "hovertemplate": "&lt;AAGCAG&gt;9<extra></extra>",
         "marker": {
          "color": "#fdbf6f"
         },
         "orientation": "h",
         "showlegend": false,
         "type": "bar",
         "width": 0.9,
         "x": [
          54
         ],
         "y": [
          7
         ]
        },
        {
         "base": 528,
         "hovertemplate": "&lt;AAGCAGAAGCAGCAG&gt;1<extra></extra>",
         "marker": {
          "color": "#ffff99"
         },
         "orientation": "h",
         "showlegend": false,
         "type": "bar",
         "width": 0.9,
         "x": [
          15
         ],
         "y": [
          7
         ]
        },
        {
         "base": 543,
         "hovertemplate": "&lt;AAGCAGCAG&gt;2<extra></extra>",
         "marker": {
          "color": "#b15928"
         },
         "orientation": "h",
         "showlegend": false,
         "type": "bar",
         "width": 0.9,
         "x": [
          18
         ],
         "y": [
          7
         ]
        },
        {
         "base": 561,
         "hovertemplate": "&lt;AAGCAG&gt;10<extra></extra>",
         "marker": {
          "color": "#fdbf6f"
         },
         "orientation": "h",
         "showlegend": false,
         "type": "bar",
         "width": 0.9,
         "x": [
          60
         ],
         "y": [
          7
         ]
        },
        {
         "base": 621,
         "hovertemplate": "&lt;AAG&gt;1<extra></extra>",
         "marker": {
          "color": "bisque"
         },
         "orientation": "h",
         "showlegend": false,
         "type": "bar",
         "width": 0.9,
         "x": [
          3
         ],
         "y": [
          7
         ]
        },
        {
         "base": 624,
         "hovertemplate": "&lt;AAGCAG&gt;1<extra></extra>",
         "marker": {
          "color": "#fdbf6f"
         },
         "orientation": "h",
         "showlegend": false,
         "type": "bar",
         "width": 0.9,
         "x": [
          6
         ],
         "y": [
          7
         ]
        },
        {
         "base": 630,
         "hovertemplate": "&lt;AAGCAGAAGCAGCAG&gt;4<extra></extra>",
         "marker": {
          "color": "#ffff99"
         },
         "orientation": "h",
         "showlegend": false,
         "type": "bar",
         "width": 0.9,
         "x": [
          60
         ],
         "y": [
          7
         ]
        },
        {
         "base": 690,
         "hovertemplate": "&lt;AAGCAG&gt;2<extra></extra>",
         "marker": {
          "color": "#fdbf6f"
         },
         "orientation": "h",
         "showlegend": false,
         "type": "bar",
         "width": 0.9,
         "x": [
          12
         ],
         "y": [
          7
         ]
        },
        {
         "base": 702,
         "hovertemplate": "&lt;AAG&gt;1<extra></extra>",
         "marker": {
          "color": "bisque"
         },
         "orientation": "h",
         "showlegend": false,
         "type": "bar",
         "width": 0.9,
         "x": [
          3
         ],
         "y": [
          7
         ]
        },
        {
         "base": 705,
         "hovertemplate": "&lt;AAGCAG&gt;2<extra></extra>",
         "marker": {
          "color": "#fdbf6f"
         },
         "orientation": "h",
         "showlegend": false,
         "type": "bar",
         "width": 0.9,
         "x": [
          12
         ],
         "y": [
          7
         ]
        },
        {
         "base": 717,
         "hovertemplate": "&lt;AAGAAGAAGCAG&gt;1<extra></extra>",
         "marker": {
          "color": "magenta"
         },
         "orientation": "h",
         "showlegend": false,
         "type": "bar",
         "width": 0.9,
         "x": [
          12
         ],
         "y": [
          7
         ]
        },
        {
         "base": 729,
         "hovertemplate": "&lt;AAGAAGAAGAAGCAG&gt;3<extra></extra>",
         "marker": {
          "color": "#e31a1c"
         },
         "orientation": "h",
         "showlegend": false,
         "type": "bar",
         "width": 0.9,
         "x": [
          45
         ],
         "y": [
          7
         ]
        },
        {
         "base": 774,
         "hovertemplate": "&lt;AAG&gt;22<extra></extra>",
         "marker": {
          "color": "bisque"
         },
         "orientation": "h",
         "showlegend": false,
         "type": "bar",
         "width": 0.9,
         "x": [
          66
         ],
         "y": [
          7
         ]
        },
        {
         "base": 840,
         "hovertemplate": "&lt;AGG&gt;1<extra></extra>",
         "marker": {
          "color": "#ff7f00"
         },
         "orientation": "h",
         "showlegend": false,
         "type": "bar",
         "width": 0.9,
         "x": [
          3
         ],
         "y": [
          7
         ]
        },
        {
         "base": 843,
         "hovertemplate": "&lt;AAG&gt;12<extra></extra>",
         "marker": {
          "color": "bisque"
         },
         "orientation": "h",
         "showlegend": false,
         "type": "bar",
         "width": 0.9,
         "x": [
          36
         ],
         "y": [
          7
         ]
        },
        {
         "base": 882,
         "hovertemplate": "EncodedSeq: &lt;AAG&gt;20&lt;AAGAAGAAGAAGCAG&gt;1&lt;AAGAAGAAGCAG&gt;3&lt;AAGCAG&gt;1&lt;AAGAAGAAGAAGCAG&gt;5&lt;AAGAAGAAGCAG&gt;1&lt;AAGAAGAAGAAGCAG&gt;18&lt;AAGCAG&gt;9&lt;AAGCAGAAGCAGCAG&gt;1&lt;AAGCAGCAG&gt;2&lt;AAGCAG&gt;10&lt;AAG&gt;1&lt;AAGCAG&gt;1&lt;AAGCAGAAGCAGCAG&gt;4&lt;AAGCAG&gt;2&lt;AAG&gt;1&lt;AAGCAG&gt;2&lt;AAGAAGAAGCAG&gt;1&lt;AAGAAGAAGAAGCAG&gt;3&lt;AAG&gt;22&lt;AGG&gt;1&lt;AAG&gt;12<br>Allele count: 1<br>Frequency: 0.11%<extra></extra>",
         "marker": {
          "color": "black"
         },
         "orientation": "h",
         "showlegend": false,
         "type": "bar",
         "width": 0.6,
         "x": [
          6.0989010989010985
         ],
         "y": [
          7
         ]
        },
        {
         "base": 0,
         "hovertemplate": "&lt;AAG&gt;286<extra></extra>",
         "marker": {
          "color": "bisque"
         },
         "orientation": "h",
         "showlegend": false,
         "type": "bar",
         "width": 0.9,
         "x": [
          858
         ],
         "y": [
          8
         ]
        },
        {
         "base": 861,
         "hovertemplate": "EncodedSeq: &lt;AAG&gt;286<br>Allele count: 1<br>Frequency: 0.11%<extra></extra>",
         "marker": {
          "color": "black"
         },
         "orientation": "h",
         "showlegend": false,
         "type": "bar",
         "width": 0.6,
         "x": [
          6.0989010989010985
         ],
         "y": [
          8
         ]
        },
        {
         "base": 0,
         "hovertemplate": "&lt;AAG&gt;275<extra></extra>",
         "marker": {
          "color": "bisque"
         },
         "orientation": "h",
         "showlegend": false,
         "type": "bar",
         "width": 0.9,
         "x": [
          825
         ],
         "y": [
          9
         ]
        },
        {
         "base": 828,
         "hovertemplate": "EncodedSeq: &lt;AAG&gt;275<br>Allele count: 1<br>Frequency: 0.11%<extra></extra>",
         "marker": {
          "color": "black"
         },
         "orientation": "h",
         "showlegend": false,
         "type": "bar",
         "width": 0.6,
         "x": [
          6.0989010989010985
         ],
         "y": [
          9
         ]
        },
        {
         "base": 0,
         "hovertemplate": "&lt;AAG&gt;247<extra></extra>",
         "marker": {
          "color": "bisque"
         },
         "orientation": "h",
         "showlegend": false,
         "type": "bar",
         "width": 0.9,
         "x": [
          741
         ],
         "y": [
          10
         ]
        },
        {
         "base": 744,
         "hovertemplate": "EncodedSeq: &lt;AAG&gt;247<br>Allele count: 1<br>Frequency: 0.11%<extra></extra>",
         "marker": {
          "color": "black"
         },
         "orientation": "h",
         "showlegend": false,
         "type": "bar",
         "width": 0.6,
         "x": [
          6.0989010989010985
         ],
         "y": [
          10
         ]
        },
        {
         "base": 0,
         "hovertemplate": "&lt;AAG&gt;243<extra></extra>",
         "marker": {
          "color": "bisque"
         },
         "orientation": "h",
         "showlegend": false,
         "type": "bar",
         "width": 0.9,
         "x": [
          729
         ],
         "y": [
          11
         ]
        },
        {
         "base": 732,
         "hovertemplate": "EncodedSeq: &lt;AAG&gt;243<br>Allele count: 1<br>Frequency: 0.11%<extra></extra>",
         "marker": {
          "color": "black"
         },
         "orientation": "h",
         "showlegend": false,
         "type": "bar",
         "width": 0.6,
         "x": [
          6.0989010989010985
         ],
         "y": [
          11
         ]
        },
        {
         "base": 0,
         "hovertemplate": "&lt;AAG&gt;242<extra></extra>",
         "marker": {
          "color": "bisque"
         },
         "orientation": "h",
         "showlegend": false,
         "type": "bar",
         "width": 0.9,
         "x": [
          726
         ],
         "y": [
          12
         ]
        },
        {
         "base": 729,
         "hovertemplate": "EncodedSeq: &lt;AAG&gt;242<br>Allele count: 1<br>Frequency: 0.11%<extra></extra>",
         "marker": {
          "color": "black"
         },
         "orientation": "h",
         "showlegend": false,
         "type": "bar",
         "width": 0.6,
         "x": [
          6.0989010989010985
         ],
         "y": [
          12
         ]
        },
        {
         "base": 0,
         "hovertemplate": "&lt;AAG&gt;240<extra></extra>",
         "marker": {
          "color": "bisque"
         },
         "orientation": "h",
         "showlegend": false,
         "type": "bar",
         "width": 0.9,
         "x": [
          720
         ],
         "y": [
          13
         ]
        },
        {
         "base": 723,
         "hovertemplate": "EncodedSeq: &lt;AAG&gt;240<br>Allele count: 1<br>Frequency: 0.11%<extra></extra>",
         "marker": {
          "color": "black"
         },
         "orientation": "h",
         "showlegend": false,
         "type": "bar",
         "width": 0.6,
         "x": [
          6.0989010989010985
         ],
         "y": [
          13
         ]
        },
        {
         "base": 0,
         "hovertemplate": "&lt;AAG&gt;238<extra></extra>",
         "marker": {
          "color": "bisque"
         },
         "orientation": "h",
         "showlegend": false,
         "type": "bar",
         "width": 0.9,
         "x": [
          714
         ],
         "y": [
          14
         ]
        },
        {
         "base": 717,
         "hovertemplate": "EncodedSeq: &lt;AAG&gt;238<br>Allele count: 1<br>Frequency: 0.11%<extra></extra>",
         "marker": {
          "color": "black"
         },
         "orientation": "h",
         "showlegend": false,
         "type": "bar",
         "width": 0.6,
         "x": [
          6.0989010989010985
         ],
         "y": [
          14
         ]
        },
        {
         "base": 0,
         "hovertemplate": "&lt;AAG&gt;3<extra></extra>",
         "marker": {
          "color": "bisque"
         },
         "orientation": "h",
         "showlegend": false,
         "type": "bar",
         "width": 0.9,
         "x": [
          9
         ],
         "y": [
          15
         ]
        },
        {
         "base": 9,
         "hovertemplate": "&lt;A&gt;1<extra></extra>",
         "marker": {
          "color": "#1f78b4"
         },
         "orientation": "h",
         "showlegend": false,
         "type": "bar",
         "width": 0.9,
         "x": [
          1
         ],
         "y": [
          15
         ]
        },
        {
         "base": 10,
         "hovertemplate": "&lt;AAAGAAGAAG&gt;2<extra></extra>",
         "marker": {
          "color": "#a6cee3"
         },
         "orientation": "h",
         "showlegend": false,
         "type": "bar",
         "width": 0.9,
         "x": [
          20
         ],
         "y": [
          15
         ]
        },
        {
         "base": 30,
         "hovertemplate": "&lt;G&gt;1<extra></extra>",
         "marker": {
          "color": "#ccebc5"
         },
         "orientation": "h",
         "showlegend": false,
         "type": "bar",
         "width": 0.9,
         "x": [
          1
         ],
         "y": [
          15
         ]
        },
        {
         "base": 31,
         "hovertemplate": "&lt;AAGAAGAAGG&gt;1<extra></extra>",
         "marker": {
          "color": "gray"
         },
         "orientation": "h",
         "showlegend": false,
         "type": "bar",
         "width": 0.9,
         "x": [
          10
         ],
         "y": [
          15
         ]
        },
        {
         "base": 41,
         "hovertemplate": "&lt;AAG&gt;222<extra></extra>",
         "marker": {
          "color": "bisque"
         },
         "orientation": "h",
         "showlegend": false,
         "type": "bar",
         "width": 0.9,
         "x": [
          666
         ],
         "y": [
          15
         ]
        },
        {
         "base": 710,
         "hovertemplate": "EncodedSeq: &lt;AAG&gt;3&lt;A&gt;1&lt;AAAGAAGAAG&gt;2&lt;G&gt;1&lt;AAGAAGAAGG&gt;1&lt;AAG&gt;222<br>Allele count: 1<br>Frequency: 0.11%<extra></extra>",
         "marker": {
          "color": "black"
         },
         "orientation": "h",
         "showlegend": false,
         "type": "bar",
         "width": 0.6,
         "x": [
          6.0989010989010985
         ],
         "y": [
          15
         ]
        },
        {
         "base": 0,
         "hovertemplate": "&lt;AAG&gt;3<extra></extra>",
         "marker": {
          "color": "bisque"
         },
         "orientation": "h",
         "showlegend": false,
         "type": "bar",
         "width": 0.9,
         "x": [
          9
         ],
         "y": [
          16
         ]
        },
        {
         "base": 9,
         "hovertemplate": "&lt;A&gt;1<extra></extra>",
         "marker": {
          "color": "#1f78b4"
         },
         "orientation": "h",
         "showlegend": false,
         "type": "bar",
         "width": 0.9,
         "x": [
          1
         ],
         "y": [
          16
         ]
        },
        {
         "base": 10,
         "hovertemplate": "&lt;AAAGAAGAAG&gt;2<extra></extra>",
         "marker": {
          "color": "#a6cee3"
         },
         "orientation": "h",
         "showlegend": false,
         "type": "bar",
         "width": 0.9,
         "x": [
          20
         ],
         "y": [
          16
         ]
        },
        {
         "base": 30,
         "hovertemplate": "&lt;AAG&gt;220<extra></extra>",
         "marker": {
          "color": "bisque"
         },
         "orientation": "h",
         "showlegend": false,
         "type": "bar",
         "width": 0.9,
         "x": [
          660
         ],
         "y": [
          16
         ]
        },
        {
         "base": 693,
         "hovertemplate": "EncodedSeq: &lt;AAG&gt;3&lt;A&gt;1&lt;AAAGAAGAAG&gt;2&lt;AAG&gt;220<br>Allele count: 1<br>Frequency: 0.11%<extra></extra>",
         "marker": {
          "color": "black"
         },
         "orientation": "h",
         "showlegend": false,
         "type": "bar",
         "width": 0.6,
         "x": [
          6.0989010989010985
         ],
         "y": [
          16
         ]
        },
        {
         "base": 0,
         "hovertemplate": "&lt;AAG&gt;229<extra></extra>",
         "marker": {
          "color": "bisque"
         },
         "orientation": "h",
         "showlegend": false,
         "type": "bar",
         "width": 0.9,
         "x": [
          687
         ],
         "y": [
          17
         ]
        },
        {
         "base": 690,
         "hovertemplate": "EncodedSeq: &lt;AAG&gt;229<br>Allele count: 1<br>Frequency: 0.11%<extra></extra>",
         "marker": {
          "color": "black"
         },
         "orientation": "h",
         "showlegend": false,
         "type": "bar",
         "width": 0.6,
         "x": [
          6.0989010989010985
         ],
         "y": [
          17
         ]
        },
        {
         "base": 0,
         "hovertemplate": "&lt;AAG&gt;8<extra></extra>",
         "marker": {
          "color": "bisque"
         },
         "orientation": "h",
         "showlegend": false,
         "type": "bar",
         "width": 0.9,
         "x": [
          24
         ],
         "y": [
          18
         ]
        },
        {
         "base": 24,
         "hovertemplate": "&lt;GA&gt;1<extra></extra>",
         "marker": {
          "color": "gray"
         },
         "orientation": "h",
         "showlegend": false,
         "type": "bar",
         "width": 0.9,
         "x": [
          2
         ],
         "y": [
          18
         ]
        },
        {
         "base": 26,
         "hovertemplate": "&lt;AAG&gt;2<extra></extra>",
         "marker": {
          "color": "bisque"
         },
         "orientation": "h",
         "showlegend": false,
         "type": "bar",
         "width": 0.9,
         "x": [
          6
         ],
         "y": [
          18
         ]
        },
        {
         "base": 32,
         "hovertemplate": "&lt;G&gt;1<extra></extra>",
         "marker": {
          "color": "#ccebc5"
         },
         "orientation": "h",
         "showlegend": false,
         "type": "bar",
         "width": 0.9,
         "x": [
          1
         ],
         "y": [
          18
         ]
        },
        {
         "base": 33,
         "hovertemplate": "&lt;AAG&gt;3<extra></extra>",
         "marker": {
          "color": "bisque"
         },
         "orientation": "h",
         "showlegend": false,
         "type": "bar",
         "width": 0.9,
         "x": [
          9
         ],
         "y": [
          18
         ]
        },
        {
         "base": 42,
         "hovertemplate": "&lt;A&gt;1<extra></extra>",
         "marker": {
          "color": "#1f78b4"
         },
         "orientation": "h",
         "showlegend": false,
         "type": "bar",
         "width": 0.9,
         "x": [
          1
         ],
         "y": [
          18
         ]
        },
        {
         "base": 43,
         "hovertemplate": "&lt;AAG&gt;205<extra></extra>",
         "marker": {
          "color": "bisque"
         },
         "orientation": "h",
         "showlegend": false,
         "type": "bar",
         "width": 0.9,
         "x": [
          615
         ],
         "y": [
          18
         ]
        },
        {
         "base": 661,
         "hovertemplate": "EncodedSeq: &lt;AAG&gt;8&lt;GA&gt;1&lt;AAG&gt;2&lt;G&gt;1&lt;AAG&gt;3&lt;A&gt;1&lt;AAG&gt;205<br>Allele count: 1<br>Frequency: 0.11%<extra></extra>",
         "marker": {
          "color": "black"
         },
         "orientation": "h",
         "showlegend": false,
         "type": "bar",
         "width": 0.6,
         "x": [
          6.0989010989010985
         ],
         "y": [
          18
         ]
        },
        {
         "base": 0,
         "hovertemplate": "&lt;AAG&gt;218<extra></extra>",
         "marker": {
          "color": "bisque"
         },
         "orientation": "h",
         "showlegend": false,
         "type": "bar",
         "width": 0.9,
         "x": [
          654
         ],
         "y": [
          19
         ]
        },
        {
         "base": 657,
         "hovertemplate": "EncodedSeq: &lt;AAG&gt;218<br>Allele count: 1<br>Frequency: 0.11%<extra></extra>",
         "marker": {
          "color": "black"
         },
         "orientation": "h",
         "showlegend": false,
         "type": "bar",
         "width": 0.6,
         "x": [
          6.0989010989010985
         ],
         "y": [
          19
         ]
        },
        {
         "base": 0,
         "hovertemplate": "&lt;AAG&gt;217<extra></extra>",
         "marker": {
          "color": "bisque"
         },
         "orientation": "h",
         "showlegend": false,
         "type": "bar",
         "width": 0.9,
         "x": [
          651
         ],
         "y": [
          20
         ]
        },
        {
         "base": 654,
         "hovertemplate": "EncodedSeq: &lt;AAG&gt;217<br>Allele count: 1<br>Frequency: 0.11%<extra></extra>",
         "marker": {
          "color": "black"
         },
         "orientation": "h",
         "showlegend": false,
         "type": "bar",
         "width": 0.6,
         "x": [
          6.0989010989010985
         ],
         "y": [
          20
         ]
        },
        {
         "base": 0,
         "hovertemplate": "&lt;AAG&gt;6<extra></extra>",
         "marker": {
          "color": "bisque"
         },
         "orientation": "h",
         "showlegend": false,
         "type": "bar",
         "width": 0.9,
         "x": [
          18
         ],
         "y": [
          21
         ]
        },
        {
         "base": 18,
         "hovertemplate": "&lt;AGG&gt;1<extra></extra>",
         "marker": {
          "color": "#ff7f00"
         },
         "orientation": "h",
         "showlegend": false,
         "type": "bar",
         "width": 0.9,
         "x": [
          3
         ],
         "y": [
          21
         ]
        },
        {
         "base": 21,
         "hovertemplate": "&lt;AAG&gt;205<extra></extra>",
         "marker": {
          "color": "bisque"
         },
         "orientation": "h",
         "showlegend": false,
         "type": "bar",
         "width": 0.9,
         "x": [
          615
         ],
         "y": [
          21
         ]
        },
        {
         "base": 639,
         "hovertemplate": "EncodedSeq: &lt;AAG&gt;6&lt;AGG&gt;1&lt;AAG&gt;205<br>Allele count: 1<br>Frequency: 0.11%<extra></extra>",
         "marker": {
          "color": "black"
         },
         "orientation": "h",
         "showlegend": false,
         "type": "bar",
         "width": 0.6,
         "x": [
          6.0989010989010985
         ],
         "y": [
          21
         ]
        },
        {
         "base": 0,
         "hovertemplate": "&lt;AAG&gt;205<extra></extra>",
         "marker": {
          "color": "bisque"
         },
         "orientation": "h",
         "showlegend": false,
         "type": "bar",
         "width": 0.9,
         "x": [
          615
         ],
         "y": [
          22
         ]
        },
        {
         "base": 618,
         "hovertemplate": "EncodedSeq: &lt;AAG&gt;205<br>Allele count: 3<br>Frequency: 0.33%<extra></extra>",
         "marker": {
          "color": "black"
         },
         "orientation": "h",
         "showlegend": false,
         "type": "bar",
         "width": 0.6,
         "x": [
          8.296703296703297
         ],
         "y": [
          22
         ]
        },
        {
         "base": 0,
         "hovertemplate": "&lt;AAG&gt;2<extra></extra>",
         "marker": {
          "color": "bisque"
         },
         "orientation": "h",
         "showlegend": false,
         "type": "bar",
         "width": 0.9,
         "x": [
          6
         ],
         "y": [
          23
         ]
        },
        {
         "base": 6,
         "hovertemplate": "&lt;A&gt;1<extra></extra>",
         "marker": {
          "color": "#1f78b4"
         },
         "orientation": "h",
         "showlegend": false,
         "type": "bar",
         "width": 0.9,
         "x": [
          1
         ],
         "y": [
          23
         ]
        },
        {
         "base": 7,
         "hovertemplate": "&lt;AAG&gt;3<extra></extra>",
         "marker": {
          "color": "bisque"
         },
         "orientation": "h",
         "showlegend": false,
         "type": "bar",
         "width": 0.9,
         "x": [
          9
         ],
         "y": [
          23
         ]
        },
        {
         "base": 16,
         "hovertemplate": "&lt;AAGAAGGAG&gt;6<extra></extra>",
         "marker": {
          "color": "#d9d9d9"
         },
         "orientation": "h",
         "showlegend": false,
         "type": "bar",
         "width": 0.9,
         "x": [
          54
         ],
         "y": [
          23
         ]
        },
        {
         "base": 70,
         "hovertemplate": "&lt;AAGAAGGAGGAG&gt;1<extra></extra>",
         "marker": {
          "color": "#ffcc99"
         },
         "orientation": "h",
         "showlegend": false,
         "type": "bar",
         "width": 0.9,
         "x": [
          12
         ],
         "y": [
          23
         ]
        },
        {
         "base": 82,
         "hovertemplate": "&lt;AAGAAGGAGGAGGAG&gt;2<extra></extra>",
         "marker": {
          "color": "gray"
         },
         "orientation": "h",
         "showlegend": false,
         "type": "bar",
         "width": 0.9,
         "x": [
          30
         ],
         "y": [
          23
         ]
        },
        {
         "base": 112,
         "hovertemplate": "&lt;AAGGAGGAGGAG&gt;1<extra></extra>",
         "marker": {
          "color": "gray"
         },
         "orientation": "h",
         "showlegend": false,
         "type": "bar",
         "width": 0.9,
         "x": [
          12
         ],
         "y": [
          23
         ]
        },
        {
         "base": 124,
         "hovertemplate": "&lt;G&gt;1<extra></extra>",
         "marker": {
          "color": "#ccebc5"
         },
         "orientation": "h",
         "showlegend": false,
         "type": "bar",
         "width": 0.9,
         "x": [
          1
         ],
         "y": [
          23
         ]
        },
        {
         "base": 125,
         "hovertemplate": "&lt;AGG&gt;11<extra></extra>",
         "marker": {
          "color": "#ff7f00"
         },
         "orientation": "h",
         "showlegend": false,
         "type": "bar",
         "width": 0.9,
         "x": [
          33
         ],
         "y": [
          23
         ]
        },
        {
         "base": 158,
         "hovertemplate": "&lt;AG&gt;1<extra></extra>",
         "marker": {
          "color": "#8dd3c7"
         },
         "orientation": "h",
         "showlegend": false,
         "type": "bar",
         "width": 0.9,
         "x": [
          2
         ],
         "y": [
          23
         ]
        },
        {
         "base": 160,
         "hovertemplate": "&lt;AAG&gt;149<extra></extra>",
         "marker": {
          "color": "bisque"
         },
         "orientation": "h",
         "showlegend": false,
         "type": "bar",
         "width": 0.9,
         "x": [
          447
         ],
         "y": [
          23
         ]
        },
        {
         "base": 610,
         "hovertemplate": "EncodedSeq: &lt;AAG&gt;2&lt;A&gt;1&lt;AAG&gt;3&lt;AAGAAGGAG&gt;6&lt;AAGAAGGAGGAG&gt;1&lt;AAGAAGGAGGAGGAG&gt;2&lt;AAGGAGGAGGAG&gt;1&lt;G&gt;1&lt;AGG&gt;11&lt;AG&gt;1&lt;AAG&gt;149<br>Allele count: 1<br>Frequency: 0.11%<extra></extra>",
         "marker": {
          "color": "black"
         },
         "orientation": "h",
         "showlegend": false,
         "type": "bar",
         "width": 0.6,
         "x": [
          6.0989010989010985
         ],
         "y": [
          23
         ]
        },
        {
         "base": 0,
         "hovertemplate": "&lt;AAG&gt;196<extra></extra>",
         "marker": {
          "color": "bisque"
         },
         "orientation": "h",
         "showlegend": false,
         "type": "bar",
         "width": 0.9,
         "x": [
          588
         ],
         "y": [
          24
         ]
        },
        {
         "base": 591,
         "hovertemplate": "EncodedSeq: &lt;AAG&gt;196<br>Allele count: 1<br>Frequency: 0.11%<extra></extra>",
         "marker": {
          "color": "black"
         },
         "orientation": "h",
         "showlegend": false,
         "type": "bar",
         "width": 0.6,
         "x": [
          6.0989010989010985
         ],
         "y": [
          24
         ]
        },
        {
         "base": 0,
         "hovertemplate": "&lt;AAG&gt;190<extra></extra>",
         "marker": {
          "color": "bisque"
         },
         "orientation": "h",
         "showlegend": false,
         "type": "bar",
         "width": 0.9,
         "x": [
          570
         ],
         "y": [
          25
         ]
        },
        {
         "base": 573,
         "hovertemplate": "EncodedSeq: &lt;AAG&gt;190<br>Allele count: 1<br>Frequency: 0.11%<extra></extra>",
         "marker": {
          "color": "black"
         },
         "orientation": "h",
         "showlegend": false,
         "type": "bar",
         "width": 0.6,
         "x": [
          6.0989010989010985
         ],
         "y": [
          25
         ]
        },
        {
         "base": 0,
         "hovertemplate": "&lt;AAG&gt;188<extra></extra>",
         "marker": {
          "color": "bisque"
         },
         "orientation": "h",
         "showlegend": false,
         "type": "bar",
         "width": 0.9,
         "x": [
          564
         ],
         "y": [
          26
         ]
        },
        {
         "base": 567,
         "hovertemplate": "EncodedSeq: &lt;AAG&gt;188<br>Allele count: 1<br>Frequency: 0.11%<extra></extra>",
         "marker": {
          "color": "black"
         },
         "orientation": "h",
         "showlegend": false,
         "type": "bar",
         "width": 0.6,
         "x": [
          6.0989010989010985
         ],
         "y": [
          26
         ]
        },
        {
         "base": 0,
         "hovertemplate": "&lt;AAG&gt;92<extra></extra>",
         "marker": {
          "color": "bisque"
         },
         "orientation": "h",
         "showlegend": false,
         "type": "bar",
         "width": 0.9,
         "x": [
          276
         ],
         "y": [
          27
         ]
        },
        {
         "base": 276,
         "hovertemplate": "&lt;AG&gt;1<extra></extra>",
         "marker": {
          "color": "#8dd3c7"
         },
         "orientation": "h",
         "showlegend": false,
         "type": "bar",
         "width": 0.9,
         "x": [
          2
         ],
         "y": [
          27
         ]
        },
        {
         "base": 278,
         "hovertemplate": "&lt;AAG&gt;80<extra></extra>",
         "marker": {
          "color": "bisque"
         },
         "orientation": "h",
         "showlegend": false,
         "type": "bar",
         "width": 0.9,
         "x": [
          240
         ],
         "y": [
          27
         ]
        },
        {
         "base": 521,
         "hovertemplate": "EncodedSeq: &lt;AAG&gt;92&lt;AG&gt;1&lt;AAG&gt;80<br>Allele count: 1<br>Frequency: 0.11%<extra></extra>",
         "marker": {
          "color": "black"
         },
         "orientation": "h",
         "showlegend": false,
         "type": "bar",
         "width": 0.6,
         "x": [
          6.0989010989010985
         ],
         "y": [
          27
         ]
        },
        {
         "base": 0,
         "hovertemplate": "&lt;AAG&gt;1<extra></extra>",
         "marker": {
          "color": "bisque"
         },
         "orientation": "h",
         "showlegend": false,
         "type": "bar",
         "width": 0.9,
         "x": [
          3
         ],
         "y": [
          28
         ]
        },
        {
         "base": 3,
         "hovertemplate": "&lt;AAGAAGAAGAGG&gt;2<extra></extra>",
         "marker": {
          "color": "gray"
         },
         "orientation": "h",
         "showlegend": false,
         "type": "bar",
         "width": 0.9,
         "x": [
          24
         ],
         "y": [
          28
         ]
        },
        {
         "base": 27,
         "hovertemplate": "&lt;AAG&gt;157<extra></extra>",
         "marker": {
          "color": "bisque"
         },
         "orientation": "h",
         "showlegend": false,
         "type": "bar",
         "width": 0.9,
         "x": [
          471
         ],
         "y": [
          28
         ]
        },
        {
         "base": 501,
         "hovertemplate": "EncodedSeq: &lt;AAG&gt;1&lt;AAGAAGAAGAGG&gt;2&lt;AAG&gt;157<br>Allele count: 1<br>Frequency: 0.11%<extra></extra>",
         "marker": {
          "color": "black"
         },
         "orientation": "h",
         "showlegend": false,
         "type": "bar",
         "width": 0.6,
         "x": [
          6.0989010989010985
         ],
         "y": [
          28
         ]
        },
        {
         "base": 0,
         "hovertemplate": "&lt;AAG&gt;163<extra></extra>",
         "marker": {
          "color": "bisque"
         },
         "orientation": "h",
         "showlegend": false,
         "type": "bar",
         "width": 0.9,
         "x": [
          489
         ],
         "y": [
          29
         ]
        },
        {
         "base": 492,
         "hovertemplate": "EncodedSeq: &lt;AAG&gt;163<br>Allele count: 1<br>Frequency: 0.11%<extra></extra>",
         "marker": {
          "color": "black"
         },
         "orientation": "h",
         "showlegend": false,
         "type": "bar",
         "width": 0.6,
         "x": [
          6.0989010989010985
         ],
         "y": [
          29
         ]
        },
        {
         "base": 0,
         "hovertemplate": "&lt;AAG&gt;162<extra></extra>",
         "marker": {
          "color": "bisque"
         },
         "orientation": "h",
         "showlegend": false,
         "type": "bar",
         "width": 0.9,
         "x": [
          486
         ],
         "y": [
          30
         ]
        },
        {
         "base": 489,
         "hovertemplate": "EncodedSeq: &lt;AAG&gt;162<br>Allele count: 1<br>Frequency: 0.11%<extra></extra>",
         "marker": {
          "color": "black"
         },
         "orientation": "h",
         "showlegend": false,
         "type": "bar",
         "width": 0.6,
         "x": [
          6.0989010989010985
         ],
         "y": [
          30
         ]
        },
        {
         "base": 0,
         "hovertemplate": "&lt;AAG&gt;159<extra></extra>",
         "marker": {
          "color": "bisque"
         },
         "orientation": "h",
         "showlegend": false,
         "type": "bar",
         "width": 0.9,
         "x": [
          477
         ],
         "y": [
          31
         ]
        },
        {
         "base": 480,
         "hovertemplate": "EncodedSeq: &lt;AAG&gt;159<br>Allele count: 1<br>Frequency: 0.11%<extra></extra>",
         "marker": {
          "color": "black"
         },
         "orientation": "h",
         "showlegend": false,
         "type": "bar",
         "width": 0.6,
         "x": [
          6.0989010989010985
         ],
         "y": [
          31
         ]
        },
        {
         "base": 0,
         "hovertemplate": "&lt;AAG&gt;152<extra></extra>",
         "marker": {
          "color": "bisque"
         },
         "orientation": "h",
         "showlegend": false,
         "type": "bar",
         "width": 0.9,
         "x": [
          456
         ],
         "y": [
          32
         ]
        },
        {
         "base": 456,
         "hovertemplate": "&lt;AAAT&gt;1<extra></extra>",
         "marker": {
          "color": "gray"
         },
         "orientation": "h",
         "showlegend": false,
         "type": "bar",
         "width": 0.9,
         "x": [
          4
         ],
         "y": [
          32
         ]
        },
        {
         "base": 460,
         "hovertemplate": "&lt;AAG&gt;5<extra></extra>",
         "marker": {
          "color": "bisque"
         },
         "orientation": "h",
         "showlegend": false,
         "type": "bar",
         "width": 0.9,
         "x": [
          15
         ],
         "y": [
          32
         ]
        },
        {
         "base": 478,
         "hovertemplate": "EncodedSeq: &lt;AAG&gt;152&lt;AAAT&gt;1&lt;AAG&gt;5<br>Allele count: 1<br>Frequency: 0.11%<extra></extra>",
         "marker": {
          "color": "black"
         },
         "orientation": "h",
         "showlegend": false,
         "type": "bar",
         "width": 0.6,
         "x": [
          6.0989010989010985
         ],
         "y": [
          32
         ]
        },
        {
         "base": 0,
         "hovertemplate": "&lt;AAG&gt;6<extra></extra>",
         "marker": {
          "color": "bisque"
         },
         "orientation": "h",
         "showlegend": false,
         "type": "bar",
         "width": 0.9,
         "x": [
          18
         ],
         "y": [
          33
         ]
        },
        {
         "base": 18,
         "hovertemplate": "&lt;A&gt;1<extra></extra>",
         "marker": {
          "color": "#1f78b4"
         },
         "orientation": "h",
         "showlegend": false,
         "type": "bar",
         "width": 0.9,
         "x": [
          1
         ],
         "y": [
          33
         ]
        },
        {
         "base": 19,
         "hovertemplate": "&lt;AAG&gt;3<extra></extra>",
         "marker": {
          "color": "bisque"
         },
         "orientation": "h",
         "showlegend": false,
         "type": "bar",
         "width": 0.9,
         "x": [
          9
         ],
         "y": [
          33
         ]
        },
        {
         "base": 28,
         "hovertemplate": "&lt;G&gt;1<extra></extra>",
         "marker": {
          "color": "#ccebc5"
         },
         "orientation": "h",
         "showlegend": false,
         "type": "bar",
         "width": 0.9,
         "x": [
          1
         ],
         "y": [
          33
         ]
        },
        {
         "base": 29,
         "hovertemplate": "&lt;AAG&gt;140<extra></extra>",
         "marker": {
          "color": "bisque"
         },
         "orientation": "h",
         "showlegend": false,
         "type": "bar",
         "width": 0.9,
         "x": [
          420
         ],
         "y": [
          33
         ]
        },
        {
         "base": 452,
         "hovertemplate": "EncodedSeq: &lt;AAG&gt;6&lt;A&gt;1&lt;AAG&gt;3&lt;G&gt;1&lt;AAG&gt;140<br>Allele count: 1<br>Frequency: 0.11%<extra></extra>",
         "marker": {
          "color": "black"
         },
         "orientation": "h",
         "showlegend": false,
         "type": "bar",
         "width": 0.6,
         "x": [
          6.0989010989010985
         ],
         "y": [
          33
         ]
        },
        {
         "base": 0,
         "hovertemplate": "&lt;AAG&gt;2<extra></extra>",
         "marker": {
          "color": "bisque"
         },
         "orientation": "h",
         "showlegend": false,
         "type": "bar",
         "width": 0.9,
         "x": [
          6
         ],
         "y": [
          34
         ]
        },
        {
         "base": 6,
         "hovertemplate": "&lt;A&gt;2<extra></extra>",
         "marker": {
          "color": "#1f78b4"
         },
         "orientation": "h",
         "showlegend": false,
         "type": "bar",
         "width": 0.9,
         "x": [
          2
         ],
         "y": [
          34
         ]
        },
        {
         "base": 8,
         "hovertemplate": "&lt;AAG&gt;147<extra></extra>",
         "marker": {
          "color": "bisque"
         },
         "orientation": "h",
         "showlegend": false,
         "type": "bar",
         "width": 0.9,
         "x": [
          441
         ],
         "y": [
          34
         ]
        },
        {
         "base": 452,
         "hovertemplate": "EncodedSeq: &lt;AAG&gt;2&lt;A&gt;2&lt;AAG&gt;147<br>Allele count: 1<br>Frequency: 0.11%<extra></extra>",
         "marker": {
          "color": "black"
         },
         "orientation": "h",
         "showlegend": false,
         "type": "bar",
         "width": 0.6,
         "x": [
          6.0989010989010985
         ],
         "y": [
          34
         ]
        },
        {
         "base": 0,
         "hovertemplate": "&lt;AAG&gt;144<extra></extra>",
         "marker": {
          "color": "bisque"
         },
         "orientation": "h",
         "showlegend": false,
         "type": "bar",
         "width": 0.9,
         "x": [
          432
         ],
         "y": [
          35
         ]
        },
        {
         "base": 435,
         "hovertemplate": "EncodedSeq: &lt;AAG&gt;144<br>Allele count: 2<br>Frequency: 0.22%<extra></extra>",
         "marker": {
          "color": "black"
         },
         "orientation": "h",
         "showlegend": false,
         "type": "bar",
         "width": 0.6,
         "x": [
          7.197802197802198
         ],
         "y": [
          35
         ]
        },
        {
         "base": 0,
         "hovertemplate": "&lt;AAG&gt;3<extra></extra>",
         "marker": {
          "color": "bisque"
         },
         "orientation": "h",
         "showlegend": false,
         "type": "bar",
         "width": 0.9,
         "x": [
          9
         ],
         "y": [
          36
         ]
        },
        {
         "base": 9,
         "hovertemplate": "&lt;A&gt;2<extra></extra>",
         "marker": {
          "color": "#1f78b4"
         },
         "orientation": "h",
         "showlegend": false,
         "type": "bar",
         "width": 0.9,
         "x": [
          2
         ],
         "y": [
          36
         ]
        },
        {
         "base": 11,
         "hovertemplate": "&lt;AAG&gt;131<extra></extra>",
         "marker": {
          "color": "bisque"
         },
         "orientation": "h",
         "showlegend": false,
         "type": "bar",
         "width": 0.9,
         "x": [
          393
         ],
         "y": [
          36
         ]
        },
        {
         "base": 407,
         "hovertemplate": "EncodedSeq: &lt;AAG&gt;3&lt;A&gt;2&lt;AAG&gt;131<br>Allele count: 1<br>Frequency: 0.11%<extra></extra>",
         "marker": {
          "color": "black"
         },
         "orientation": "h",
         "showlegend": false,
         "type": "bar",
         "width": 0.6,
         "x": [
          6.0989010989010985
         ],
         "y": [
          36
         ]
        },
        {
         "base": 0,
         "hovertemplate": "&lt;AAG&gt;1<extra></extra>",
         "marker": {
          "color": "bisque"
         },
         "orientation": "h",
         "showlegend": false,
         "type": "bar",
         "width": 0.9,
         "x": [
          3
         ],
         "y": [
          37
         ]
        },
        {
         "base": 3,
         "hovertemplate": "&lt;AAGAAGAAGAGG&gt;6<extra></extra>",
         "marker": {
          "color": "gray"
         },
         "orientation": "h",
         "showlegend": false,
         "type": "bar",
         "width": 0.9,
         "x": [
          72
         ],
         "y": [
          37
         ]
        },
        {
         "base": 75,
         "hovertemplate": "&lt;AAGAAGAAGAG&gt;1<extra></extra>",
         "marker": {
          "color": "gray"
         },
         "orientation": "h",
         "showlegend": false,
         "type": "bar",
         "width": 0.9,
         "x": [
          11
         ],
         "y": [
          37
         ]
        },
        {
         "base": 86,
         "hovertemplate": "&lt;AAGAAGAAGAGG&gt;1<extra></extra>",
         "marker": {
          "color": "gray"
         },
         "orientation": "h",
         "showlegend": false,
         "type": "bar",
         "width": 0.9,
         "x": [
          12
         ],
         "y": [
          37
         ]
        },
        {
         "base": 98,
         "hovertemplate": "&lt;AAG&gt;102<extra></extra>",
         "marker": {
          "color": "bisque"
         },
         "orientation": "h",
         "showlegend": false,
         "type": "bar",
         "width": 0.9,
         "x": [
          306
         ],
         "y": [
          37
         ]
        },
        {
         "base": 407,
         "hovertemplate": "EncodedSeq: &lt;AAG&gt;1&lt;AAGAAGAAGAGG&gt;6&lt;AAGAAGAAGAG&gt;1&lt;AAGAAGAAGAGG&gt;1&lt;AAG&gt;102<br>Allele count: 1<br>Frequency: 0.11%<extra></extra>",
         "marker": {
          "color": "black"
         },
         "orientation": "h",
         "showlegend": false,
         "type": "bar",
         "width": 0.6,
         "x": [
          6.0989010989010985
         ],
         "y": [
          37
         ]
        },
        {
         "base": 0,
         "hovertemplate": "&lt;AAG&gt;3<extra></extra>",
         "marker": {
          "color": "bisque"
         },
         "orientation": "h",
         "showlegend": false,
         "type": "bar",
         "width": 0.9,
         "x": [
          9
         ],
         "y": [
          38
         ]
        },
        {
         "base": 9,
         "hovertemplate": "&lt;A&gt;1<extra></extra>",
         "marker": {
          "color": "#1f78b4"
         },
         "orientation": "h",
         "showlegend": false,
         "type": "bar",
         "width": 0.9,
         "x": [
          1
         ],
         "y": [
          38
         ]
        },
        {
         "base": 10,
         "hovertemplate": "&lt;AAAGAAGAAG&gt;2<extra></extra>",
         "marker": {
          "color": "#a6cee3"
         },
         "orientation": "h",
         "showlegend": false,
         "type": "bar",
         "width": 0.9,
         "x": [
          20
         ],
         "y": [
          38
         ]
        },
        {
         "base": 30,
         "hovertemplate": "&lt;AAG&gt;46<extra></extra>",
         "marker": {
          "color": "bisque"
         },
         "orientation": "h",
         "showlegend": false,
         "type": "bar",
         "width": 0.9,
         "x": [
          138
         ],
         "y": [
          38
         ]
        },
        {
         "base": 168,
         "hovertemplate": "&lt;AG&gt;1<extra></extra>",
         "marker": {
          "color": "#8dd3c7"
         },
         "orientation": "h",
         "showlegend": false,
         "type": "bar",
         "width": 0.9,
         "x": [
          2
         ],
         "y": [
          38
         ]
        },
        {
         "base": 170,
         "hovertemplate": "&lt;AAG&gt;74<extra></extra>",
         "marker": {
          "color": "bisque"
         },
         "orientation": "h",
         "showlegend": false,
         "type": "bar",
         "width": 0.9,
         "x": [
          222
         ],
         "y": [
          38
         ]
        },
        {
         "base": 395,
         "hovertemplate": "EncodedSeq: &lt;AAG&gt;3&lt;A&gt;1&lt;AAAGAAGAAG&gt;2&lt;AAG&gt;46&lt;AG&gt;1&lt;AAG&gt;74<br>Allele count: 1<br>Frequency: 0.11%<extra></extra>",
         "marker": {
          "color": "black"
         },
         "orientation": "h",
         "showlegend": false,
         "type": "bar",
         "width": 0.6,
         "x": [
          6.0989010989010985
         ],
         "y": [
          38
         ]
        },
        {
         "base": 0,
         "hovertemplate": "&lt;AAG&gt;127<extra></extra>",
         "marker": {
          "color": "bisque"
         },
         "orientation": "h",
         "showlegend": false,
         "type": "bar",
         "width": 0.9,
         "x": [
          381
         ],
         "y": [
          39
         ]
        },
        {
         "base": 384,
         "hovertemplate": "EncodedSeq: &lt;AAG&gt;127<br>Allele count: 1<br>Frequency: 0.11%<extra></extra>",
         "marker": {
          "color": "black"
         },
         "orientation": "h",
         "showlegend": false,
         "type": "bar",
         "width": 0.6,
         "x": [
          6.0989010989010985
         ],
         "y": [
          39
         ]
        },
        {
         "base": 0,
         "hovertemplate": "&lt;AAG&gt;1<extra></extra>",
         "marker": {
          "color": "bisque"
         },
         "orientation": "h",
         "showlegend": false,
         "type": "bar",
         "width": 0.9,
         "x": [
          3
         ],
         "y": [
          40
         ]
        },
        {
         "base": 3,
         "hovertemplate": "&lt;AAGAAGAAGAGG&gt;2<extra></extra>",
         "marker": {
          "color": "gray"
         },
         "orientation": "h",
         "showlegend": false,
         "type": "bar",
         "width": 0.9,
         "x": [
          24
         ],
         "y": [
          40
         ]
        },
        {
         "base": 27,
         "hovertemplate": "&lt;AAG&gt;118<extra></extra>",
         "marker": {
          "color": "bisque"
         },
         "orientation": "h",
         "showlegend": false,
         "type": "bar",
         "width": 0.9,
         "x": [
          354
         ],
         "y": [
          40
         ]
        },
        {
         "base": 384,
         "hovertemplate": "EncodedSeq: &lt;AAG&gt;1&lt;AAGAAGAAGAGG&gt;2&lt;AAG&gt;118<br>Allele count: 1<br>Frequency: 0.11%<extra></extra>",
         "marker": {
          "color": "black"
         },
         "orientation": "h",
         "showlegend": false,
         "type": "bar",
         "width": 0.6,
         "x": [
          6.0989010989010985
         ],
         "y": [
          40
         ]
        },
        {
         "base": 0,
         "hovertemplate": "&lt;AAG&gt;125<extra></extra>",
         "marker": {
          "color": "bisque"
         },
         "orientation": "h",
         "showlegend": false,
         "type": "bar",
         "width": 0.9,
         "x": [
          375
         ],
         "y": [
          41
         ]
        },
        {
         "base": 378,
         "hovertemplate": "EncodedSeq: &lt;AAG&gt;125<br>Allele count: 1<br>Frequency: 0.11%<extra></extra>",
         "marker": {
          "color": "black"
         },
         "orientation": "h",
         "showlegend": false,
         "type": "bar",
         "width": 0.6,
         "x": [
          6.0989010989010985
         ],
         "y": [
          41
         ]
        },
        {
         "base": 0,
         "hovertemplate": "&lt;AAG&gt;119<extra></extra>",
         "marker": {
          "color": "bisque"
         },
         "orientation": "h",
         "showlegend": false,
         "type": "bar",
         "width": 0.9,
         "x": [
          357
         ],
         "y": [
          42
         ]
        },
        {
         "base": 360,
         "hovertemplate": "EncodedSeq: &lt;AAG&gt;119<br>Allele count: 1<br>Frequency: 0.11%<extra></extra>",
         "marker": {
          "color": "black"
         },
         "orientation": "h",
         "showlegend": false,
         "type": "bar",
         "width": 0.6,
         "x": [
          6.0989010989010985
         ],
         "y": [
          42
         ]
        },
        {
         "base": 0,
         "hovertemplate": "&lt;AAG&gt;117<extra></extra>",
         "marker": {
          "color": "bisque"
         },
         "orientation": "h",
         "showlegend": false,
         "type": "bar",
         "width": 0.9,
         "x": [
          351
         ],
         "y": [
          43
         ]
        },
        {
         "base": 354,
         "hovertemplate": "EncodedSeq: &lt;AAG&gt;117<br>Allele count: 1<br>Frequency: 0.11%<extra></extra>",
         "marker": {
          "color": "black"
         },
         "orientation": "h",
         "showlegend": false,
         "type": "bar",
         "width": 0.6,
         "x": [
          6.0989010989010985
         ],
         "y": [
          43
         ]
        },
        {
         "base": 0,
         "hovertemplate": "&lt;AAG&gt;3<extra></extra>",
         "marker": {
          "color": "bisque"
         },
         "orientation": "h",
         "showlegend": false,
         "type": "bar",
         "width": 0.9,
         "x": [
          9
         ],
         "y": [
          44
         ]
        },
        {
         "base": 9,
         "hovertemplate": "&lt;AAGGAG&gt;1<extra></extra>",
         "marker": {
          "color": "gray"
         },
         "orientation": "h",
         "showlegend": false,
         "type": "bar",
         "width": 0.9,
         "x": [
          6
         ],
         "y": [
          44
         ]
        },
        {
         "base": 15,
         "hovertemplate": "&lt;G&gt;1<extra></extra>",
         "marker": {
          "color": "#ccebc5"
         },
         "orientation": "h",
         "showlegend": false,
         "type": "bar",
         "width": 0.9,
         "x": [
          1
         ],
         "y": [
          44
         ]
        },
        {
         "base": 16,
         "hovertemplate": "&lt;AGG&gt;34<extra></extra>",
         "marker": {
          "color": "#ff7f00"
         },
         "orientation": "h",
         "showlegend": false,
         "type": "bar",
         "width": 0.9,
         "x": [
          102
         ],
         "y": [
          44
         ]
        },
        {
         "base": 118,
         "hovertemplate": "&lt;AG&gt;1<extra></extra>",
         "marker": {
          "color": "#8dd3c7"
         },
         "orientation": "h",
         "showlegend": false,
         "type": "bar",
         "width": 0.9,
         "x": [
          2
         ],
         "y": [
          44
         ]
        },
        {
         "base": 120,
         "hovertemplate": "&lt;AAGGAG&gt;2<extra></extra>",
         "marker": {
          "color": "gray"
         },
         "orientation": "h",
         "showlegend": false,
         "type": "bar",
         "width": 0.9,
         "x": [
          12
         ],
         "y": [
          44
         ]
        },
        {
         "base": 132,
         "hovertemplate": "&lt;G&gt;1<extra></extra>",
         "marker": {
          "color": "#ccebc5"
         },
         "orientation": "h",
         "showlegend": false,
         "type": "bar",
         "width": 0.9,
         "x": [
          1
         ],
         "y": [
          44
         ]
        },
        {
         "base": 133,
         "hovertemplate": "&lt;AGG&gt;24<extra></extra>",
         "marker": {
          "color": "#ff7f00"
         },
         "orientation": "h",
         "showlegend": false,
         "type": "bar",
         "width": 0.9,
         "x": [
          72
         ],
         "y": [
          44
         ]
        },
        {
         "base": 205,
         "hovertemplate": "&lt;AG&gt;1<extra></extra>",
         "marker": {
          "color": "#8dd3c7"
         },
         "orientation": "h",
         "showlegend": false,
         "type": "bar",
         "width": 0.9,
         "x": [
          2
         ],
         "y": [
          44
         ]
        },
        {
         "base": 207,
         "hovertemplate": "&lt;AAGGAG&gt;15<extra></extra>",
         "marker": {
          "color": "gray"
         },
         "orientation": "h",
         "showlegend": false,
         "type": "bar",
         "width": 0.9,
         "x": [
          90
         ],
         "y": [
          44
         ]
        },
        {
         "base": 297,
         "hovertemplate": "&lt;AAG&gt;15<extra></extra>",
         "marker": {
          "color": "bisque"
         },
         "orientation": "h",
         "showlegend": false,
         "type": "bar",
         "width": 0.9,
         "x": [
          45
         ],
         "y": [
          44
         ]
        },
        {
         "base": 345,
         "hovertemplate": "EncodedSeq: &lt;AAG&gt;3&lt;AAGGAG&gt;1&lt;G&gt;1&lt;AGG&gt;34&lt;AG&gt;1&lt;AAGGAG&gt;2&lt;G&gt;1&lt;AGG&gt;24&lt;AG&gt;1&lt;AAGGAG&gt;15&lt;AAG&gt;15<br>Allele count: 1<br>Frequency: 0.11%<extra></extra>",
         "marker": {
          "color": "black"
         },
         "orientation": "h",
         "showlegend": false,
         "type": "bar",
         "width": 0.6,
         "x": [
          6.0989010989010985
         ],
         "y": [
          44
         ]
        },
        {
         "base": 0,
         "hovertemplate": "&lt;AAG&gt;17<extra></extra>",
         "marker": {
          "color": "bisque"
         },
         "orientation": "h",
         "showlegend": false,
         "type": "bar",
         "width": 0.9,
         "x": [
          51
         ],
         "y": [
          45
         ]
        },
        {
         "base": 51,
         "hovertemplate": "&lt;AG&gt;1<extra></extra>",
         "marker": {
          "color": "#8dd3c7"
         },
         "orientation": "h",
         "showlegend": false,
         "type": "bar",
         "width": 0.9,
         "x": [
          2
         ],
         "y": [
          45
         ]
        },
        {
         "base": 53,
         "hovertemplate": "&lt;AAG&gt;95<extra></extra>",
         "marker": {
          "color": "bisque"
         },
         "orientation": "h",
         "showlegend": false,
         "type": "bar",
         "width": 0.9,
         "x": [
          285
         ],
         "y": [
          45
         ]
        },
        {
         "base": 341,
         "hovertemplate": "EncodedSeq: &lt;AAG&gt;17&lt;AG&gt;1&lt;AAG&gt;95<br>Allele count: 1<br>Frequency: 0.11%<extra></extra>",
         "marker": {
          "color": "black"
         },
         "orientation": "h",
         "showlegend": false,
         "type": "bar",
         "width": 0.6,
         "x": [
          6.0989010989010985
         ],
         "y": [
          45
         ]
        },
        {
         "base": 0,
         "hovertemplate": "&lt;AAG&gt;1<extra></extra>",
         "marker": {
          "color": "bisque"
         },
         "orientation": "h",
         "showlegend": false,
         "type": "bar",
         "width": 0.9,
         "x": [
          3
         ],
         "y": [
          46
         ]
        },
        {
         "base": 3,
         "hovertemplate": "&lt;AAAGAAG&gt;1<extra></extra>",
         "marker": {
          "color": "#6a3d9a"
         },
         "orientation": "h",
         "showlegend": false,
         "type": "bar",
         "width": 0.9,
         "x": [
          7
         ],
         "y": [
          46
         ]
        },
        {
         "base": 10,
         "hovertemplate": "&lt;AAAGAAGAAGAAG&gt;2<extra></extra>",
         "marker": {
          "color": "#bc80bd"
         },
         "orientation": "h",
         "showlegend": false,
         "type": "bar",
         "width": 0.9,
         "x": [
          26
         ],
         "y": [
          46
         ]
        },
        {
         "base": 36,
         "hovertemplate": "&lt;AAG&gt;99<extra></extra>",
         "marker": {
          "color": "bisque"
         },
         "orientation": "h",
         "showlegend": false,
         "type": "bar",
         "width": 0.9,
         "x": [
          297
         ],
         "y": [
          46
         ]
        },
        {
         "base": 336,
         "hovertemplate": "EncodedSeq: &lt;AAG&gt;1&lt;AAAGAAG&gt;1&lt;AAAGAAGAAGAAG&gt;2&lt;AAG&gt;99<br>Allele count: 1<br>Frequency: 0.11%<extra></extra>",
         "marker": {
          "color": "black"
         },
         "orientation": "h",
         "showlegend": false,
         "type": "bar",
         "width": 0.6,
         "x": [
          6.0989010989010985
         ],
         "y": [
          46
         ]
        },
        {
         "base": 0,
         "hovertemplate": "&lt;AAG&gt;97<extra></extra>",
         "marker": {
          "color": "bisque"
         },
         "orientation": "h",
         "showlegend": false,
         "type": "bar",
         "width": 0.9,
         "x": [
          291
         ],
         "y": [
          47
         ]
        },
        {
         "base": 294,
         "hovertemplate": "EncodedSeq: &lt;AAG&gt;97<br>Allele count: 1<br>Frequency: 0.11%<extra></extra>",
         "marker": {
          "color": "black"
         },
         "orientation": "h",
         "showlegend": false,
         "type": "bar",
         "width": 0.6,
         "x": [
          6.0989010989010985
         ],
         "y": [
          47
         ]
        },
        {
         "base": 0,
         "hovertemplate": "&lt;AAG&gt;96<extra></extra>",
         "marker": {
          "color": "bisque"
         },
         "orientation": "h",
         "showlegend": false,
         "type": "bar",
         "width": 0.9,
         "x": [
          288
         ],
         "y": [
          48
         ]
        },
        {
         "base": 291,
         "hovertemplate": "EncodedSeq: &lt;AAG&gt;96<br>Allele count: 1<br>Frequency: 0.11%<extra></extra>",
         "marker": {
          "color": "black"
         },
         "orientation": "h",
         "showlegend": false,
         "type": "bar",
         "width": 0.6,
         "x": [
          6.0989010989010985
         ],
         "y": [
          48
         ]
        },
        {
         "base": 0,
         "hovertemplate": "&lt;AAG&gt;8<extra></extra>",
         "marker": {
          "color": "bisque"
         },
         "orientation": "h",
         "showlegend": false,
         "type": "bar",
         "width": 0.9,
         "x": [
          24
         ],
         "y": [
          49
         ]
        },
        {
         "base": 24,
         "hovertemplate": "&lt;AGG&gt;3<extra></extra>",
         "marker": {
          "color": "#ff7f00"
         },
         "orientation": "h",
         "showlegend": false,
         "type": "bar",
         "width": 0.9,
         "x": [
          9
         ],
         "y": [
          49
         ]
        },
        {
         "base": 33,
         "hovertemplate": "&lt;AAGG&gt;1<extra></extra>",
         "marker": {
          "color": "gray"
         },
         "orientation": "h",
         "showlegend": false,
         "type": "bar",
         "width": 0.9,
         "x": [
          4
         ],
         "y": [
          49
         ]
        },
        {
         "base": 37,
         "hovertemplate": "&lt;AAG&gt;82<extra></extra>",
         "marker": {
          "color": "bisque"
         },
         "orientation": "h",
         "showlegend": false,
         "type": "bar",
         "width": 0.9,
         "x": [
          246
         ],
         "y": [
          49
         ]
        },
        {
         "base": 286,
         "hovertemplate": "EncodedSeq: &lt;AAG&gt;8&lt;AGG&gt;3&lt;AAGG&gt;1&lt;AAG&gt;82<br>Allele count: 1<br>Frequency: 0.11%<extra></extra>",
         "marker": {
          "color": "black"
         },
         "orientation": "h",
         "showlegend": false,
         "type": "bar",
         "width": 0.6,
         "x": [
          6.0989010989010985
         ],
         "y": [
          49
         ]
        },
        {
         "base": 0,
         "hovertemplate": "&lt;AAG&gt;80<extra></extra>",
         "marker": {
          "color": "bisque"
         },
         "orientation": "h",
         "showlegend": false,
         "type": "bar",
         "width": 0.9,
         "x": [
          240
         ],
         "y": [
          50
         ]
        },
        {
         "base": 240,
         "hovertemplate": "&lt;AGA&gt;1<extra></extra>",
         "marker": {
          "color": "gray"
         },
         "orientation": "h",
         "showlegend": false,
         "type": "bar",
         "width": 0.9,
         "x": [
          3
         ],
         "y": [
          50
         ]
        },
        {
         "base": 243,
         "hovertemplate": "&lt;AAG&gt;13<extra></extra>",
         "marker": {
          "color": "bisque"
         },
         "orientation": "h",
         "showlegend": false,
         "type": "bar",
         "width": 0.9,
         "x": [
          39
         ],
         "y": [
          50
         ]
        },
        {
         "base": 285,
         "hovertemplate": "EncodedSeq: &lt;AAG&gt;80&lt;AGA&gt;1&lt;AAG&gt;13<br>Allele count: 1<br>Frequency: 0.11%<extra></extra>",
         "marker": {
          "color": "black"
         },
         "orientation": "h",
         "showlegend": false,
         "type": "bar",
         "width": 0.6,
         "x": [
          6.0989010989010985
         ],
         "y": [
          50
         ]
        },
        {
         "base": 0,
         "hovertemplate": "&lt;AAG&gt;88<extra></extra>",
         "marker": {
          "color": "bisque"
         },
         "orientation": "h",
         "showlegend": false,
         "type": "bar",
         "width": 0.9,
         "x": [
          264
         ],
         "y": [
          51
         ]
        },
        {
         "base": 267,
         "hovertemplate": "EncodedSeq: &lt;AAG&gt;88<br>Allele count: 1<br>Frequency: 0.11%<extra></extra>",
         "marker": {
          "color": "black"
         },
         "orientation": "h",
         "showlegend": false,
         "type": "bar",
         "width": 0.6,
         "x": [
          6.0989010989010985
         ],
         "y": [
          51
         ]
        },
        {
         "base": 0,
         "hovertemplate": "&lt;AAG&gt;25<extra></extra>",
         "marker": {
          "color": "bisque"
         },
         "orientation": "h",
         "showlegend": false,
         "type": "bar",
         "width": 0.9,
         "x": [
          75
         ],
         "y": [
          52
         ]
        },
        {
         "base": 75,
         "hovertemplate": "&lt;AG&gt;1<extra></extra>",
         "marker": {
          "color": "#8dd3c7"
         },
         "orientation": "h",
         "showlegend": false,
         "type": "bar",
         "width": 0.9,
         "x": [
          2
         ],
         "y": [
          52
         ]
        },
        {
         "base": 77,
         "hovertemplate": "&lt;AAG&gt;61<extra></extra>",
         "marker": {
          "color": "bisque"
         },
         "orientation": "h",
         "showlegend": false,
         "type": "bar",
         "width": 0.9,
         "x": [
          183
         ],
         "y": [
          52
         ]
        },
        {
         "base": 263,
         "hovertemplate": "EncodedSeq: &lt;AAG&gt;25&lt;AG&gt;1&lt;AAG&gt;61<br>Allele count: 1<br>Frequency: 0.11%<extra></extra>",
         "marker": {
          "color": "black"
         },
         "orientation": "h",
         "showlegend": false,
         "type": "bar",
         "width": 0.6,
         "x": [
          6.0989010989010985
         ],
         "y": [
          52
         ]
        },
        {
         "base": 0,
         "hovertemplate": "&lt;AAG&gt;85<extra></extra>",
         "marker": {
          "color": "bisque"
         },
         "orientation": "h",
         "showlegend": false,
         "type": "bar",
         "width": 0.9,
         "x": [
          255
         ],
         "y": [
          53
         ]
        },
        {
         "base": 258,
         "hovertemplate": "EncodedSeq: &lt;AAG&gt;85<br>Allele count: 1<br>Frequency: 0.11%<extra></extra>",
         "marker": {
          "color": "black"
         },
         "orientation": "h",
         "showlegend": false,
         "type": "bar",
         "width": 0.6,
         "x": [
          6.0989010989010985
         ],
         "y": [
          53
         ]
        },
        {
         "base": 0,
         "hovertemplate": "&lt;AAG&gt;84<extra></extra>",
         "marker": {
          "color": "bisque"
         },
         "orientation": "h",
         "showlegend": false,
         "type": "bar",
         "width": 0.9,
         "x": [
          252
         ],
         "y": [
          54
         ]
        },
        {
         "base": 255,
         "hovertemplate": "EncodedSeq: &lt;AAG&gt;84<br>Allele count: 1<br>Frequency: 0.11%<extra></extra>",
         "marker": {
          "color": "black"
         },
         "orientation": "h",
         "showlegend": false,
         "type": "bar",
         "width": 0.6,
         "x": [
          6.0989010989010985
         ],
         "y": [
          54
         ]
        },
        {
         "base": 0,
         "hovertemplate": "&lt;AAG&gt;3<extra></extra>",
         "marker": {
          "color": "bisque"
         },
         "orientation": "h",
         "showlegend": false,
         "type": "bar",
         "width": 0.9,
         "x": [
          9
         ],
         "y": [
          55
         ]
        },
        {
         "base": 9,
         "hovertemplate": "&lt;A&gt;2<extra></extra>",
         "marker": {
          "color": "#1f78b4"
         },
         "orientation": "h",
         "showlegend": false,
         "type": "bar",
         "width": 0.9,
         "x": [
          2
         ],
         "y": [
          55
         ]
        },
        {
         "base": 11,
         "hovertemplate": "&lt;AAG&gt;78<extra></extra>",
         "marker": {
          "color": "bisque"
         },
         "orientation": "h",
         "showlegend": false,
         "type": "bar",
         "width": 0.9,
         "x": [
          234
         ],
         "y": [
          55
         ]
        },
        {
         "base": 248,
         "hovertemplate": "EncodedSeq: &lt;AAG&gt;3&lt;A&gt;2&lt;AAG&gt;78<br>Allele count: 1<br>Frequency: 0.11%<extra></extra>",
         "marker": {
          "color": "black"
         },
         "orientation": "h",
         "showlegend": false,
         "type": "bar",
         "width": 0.6,
         "x": [
          6.0989010989010985
         ],
         "y": [
          55
         ]
        },
        {
         "base": 0,
         "hovertemplate": "&lt;AAG&gt;75<extra></extra>",
         "marker": {
          "color": "bisque"
         },
         "orientation": "h",
         "showlegend": false,
         "type": "bar",
         "width": 0.9,
         "x": [
          225
         ],
         "y": [
          56
         ]
        },
        {
         "base": 225,
         "hovertemplate": "&lt;AAGAAGAAT&gt;2<extra></extra>",
         "marker": {
          "color": "gray"
         },
         "orientation": "h",
         "showlegend": false,
         "type": "bar",
         "width": 0.9,
         "x": [
          18
         ],
         "y": [
          56
         ]
        },
        {
         "base": 246,
         "hovertemplate": "EncodedSeq: &lt;AAG&gt;75&lt;AAGAAGAAT&gt;2<br>Allele count: 1<br>Frequency: 0.11%<extra></extra>",
         "marker": {
          "color": "black"
         },
         "orientation": "h",
         "showlegend": false,
         "type": "bar",
         "width": 0.6,
         "x": [
          6.0989010989010985
         ],
         "y": [
          56
         ]
        },
        {
         "base": 0,
         "hovertemplate": "&lt;AAG&gt;80<extra></extra>",
         "marker": {
          "color": "bisque"
         },
         "orientation": "h",
         "showlegend": false,
         "type": "bar",
         "width": 0.9,
         "x": [
          240
         ],
         "y": [
          57
         ]
        },
        {
         "base": 243,
         "hovertemplate": "EncodedSeq: &lt;AAG&gt;80<br>Allele count: 1<br>Frequency: 0.11%<extra></extra>",
         "marker": {
          "color": "black"
         },
         "orientation": "h",
         "showlegend": false,
         "type": "bar",
         "width": 0.6,
         "x": [
          6.0989010989010985
         ],
         "y": [
          57
         ]
        },
        {
         "base": 0,
         "hovertemplate": "&lt;AAG&gt;3<extra></extra>",
         "marker": {
          "color": "bisque"
         },
         "orientation": "h",
         "showlegend": false,
         "type": "bar",
         "width": 0.9,
         "x": [
          9
         ],
         "y": [
          58
         ]
        },
        {
         "base": 9,
         "hovertemplate": "&lt;A&gt;1<extra></extra>",
         "marker": {
          "color": "#1f78b4"
         },
         "orientation": "h",
         "showlegend": false,
         "type": "bar",
         "width": 0.9,
         "x": [
          1
         ],
         "y": [
          58
         ]
        },
        {
         "base": 10,
         "hovertemplate": "&lt;AAAGAAGAAG&gt;2<extra></extra>",
         "marker": {
          "color": "#a6cee3"
         },
         "orientation": "h",
         "showlegend": false,
         "type": "bar",
         "width": 0.9,
         "x": [
          20
         ],
         "y": [
          58
         ]
        },
        {
         "base": 30,
         "hovertemplate": "&lt;AAG&gt;70<extra></extra>",
         "marker": {
          "color": "bisque"
         },
         "orientation": "h",
         "showlegend": false,
         "type": "bar",
         "width": 0.9,
         "x": [
          210
         ],
         "y": [
          58
         ]
        },
        {
         "base": 243,
         "hovertemplate": "EncodedSeq: &lt;AAG&gt;3&lt;A&gt;1&lt;AAAGAAGAAG&gt;2&lt;AAG&gt;70<br>Allele count: 1<br>Frequency: 0.11%<extra></extra>",
         "marker": {
          "color": "black"
         },
         "orientation": "h",
         "showlegend": false,
         "type": "bar",
         "width": 0.6,
         "x": [
          6.0989010989010985
         ],
         "y": [
          58
         ]
        },
        {
         "base": 0,
         "hovertemplate": "&lt;AAG&gt;6<extra></extra>",
         "marker": {
          "color": "bisque"
         },
         "orientation": "h",
         "showlegend": false,
         "type": "bar",
         "width": 0.9,
         "x": [
          18
         ],
         "y": [
          59
         ]
        },
        {
         "base": 18,
         "hovertemplate": "&lt;AAGAAGAGG&gt;3<extra></extra>",
         "marker": {
          "color": "#ffed6f"
         },
         "orientation": "h",
         "showlegend": false,
         "type": "bar",
         "width": 0.9,
         "x": [
          27
         ],
         "y": [
          59
         ]
        },
        {
         "base": 45,
         "hovertemplate": "&lt;AAG&gt;60<extra></extra>",
         "marker": {
          "color": "bisque"
         },
         "orientation": "h",
         "showlegend": false,
         "type": "bar",
         "width": 0.9,
         "x": [
          180
         ],
         "y": [
          59
         ]
        },
        {
         "base": 228,
         "hovertemplate": "EncodedSeq: &lt;AAG&gt;6&lt;AAGAAGAGG&gt;3&lt;AAG&gt;60<br>Allele count: 1<br>Frequency: 0.11%<extra></extra>",
         "marker": {
          "color": "black"
         },
         "orientation": "h",
         "showlegend": false,
         "type": "bar",
         "width": 0.6,
         "x": [
          6.0989010989010985
         ],
         "y": [
          59
         ]
        },
        {
         "base": 0,
         "hovertemplate": "&lt;AAG&gt;8<extra></extra>",
         "marker": {
          "color": "bisque"
         },
         "orientation": "h",
         "showlegend": false,
         "type": "bar",
         "width": 0.9,
         "x": [
          24
         ],
         "y": [
          60
         ]
        },
        {
         "base": 24,
         "hovertemplate": "&lt;AAGAGGAGG&gt;13<extra></extra>",
         "marker": {
          "color": "#fccde5"
         },
         "orientation": "h",
         "showlegend": false,
         "type": "bar",
         "width": 0.9,
         "x": [
          117
         ],
         "y": [
          60
         ]
        },
        {
         "base": 141,
         "hovertemplate": "&lt;AAG&gt;25<extra></extra>",
         "marker": {
          "color": "bisque"
         },
         "orientation": "h",
         "showlegend": false,
         "type": "bar",
         "width": 0.9,
         "x": [
          75
         ],
         "y": [
          60
         ]
        },
        {
         "base": 219,
         "hovertemplate": "EncodedSeq: &lt;AAG&gt;8&lt;AAGAGGAGG&gt;13&lt;AAG&gt;25<br>Allele count: 1<br>Frequency: 0.11%<extra></extra>",
         "marker": {
          "color": "black"
         },
         "orientation": "h",
         "showlegend": false,
         "type": "bar",
         "width": 0.6,
         "x": [
          6.0989010989010985
         ],
         "y": [
          60
         ]
        },
        {
         "base": 0,
         "hovertemplate": "&lt;AAG&gt;4<extra></extra>",
         "marker": {
          "color": "bisque"
         },
         "orientation": "h",
         "showlegend": false,
         "type": "bar",
         "width": 0.9,
         "x": [
          12
         ],
         "y": [
          61
         ]
        },
        {
         "base": 12,
         "hovertemplate": "&lt;A&gt;2<extra></extra>",
         "marker": {
          "color": "#1f78b4"
         },
         "orientation": "h",
         "showlegend": false,
         "type": "bar",
         "width": 0.9,
         "x": [
          2
         ],
         "y": [
          61
         ]
        },
        {
         "base": 14,
         "hovertemplate": "&lt;AAG&gt;14<extra></extra>",
         "marker": {
          "color": "bisque"
         },
         "orientation": "h",
         "showlegend": false,
         "type": "bar",
         "width": 0.9,
         "x": [
          42
         ],
         "y": [
          61
         ]
        },
        {
         "base": 56,
         "hovertemplate": "&lt;AAGAGG&gt;15<extra></extra>",
         "marker": {
          "color": "#b2df8a"
         },
         "orientation": "h",
         "showlegend": false,
         "type": "bar",
         "width": 0.9,
         "x": [
          90
         ],
         "y": [
          61
         ]
        },
        {
         "base": 146,
         "hovertemplate": "&lt;AAG&gt;23<extra></extra>",
         "marker": {
          "color": "bisque"
         },
         "orientation": "h",
         "showlegend": false,
         "type": "bar",
         "width": 0.9,
         "x": [
          69
         ],
         "y": [
          61
         ]
        },
        {
         "base": 218,
         "hovertemplate": "EncodedSeq: &lt;AAG&gt;4&lt;A&gt;2&lt;AAG&gt;14&lt;AAGAGG&gt;15&lt;AAG&gt;23<br>Allele count: 1<br>Frequency: 0.11%<extra></extra>",
         "marker": {
          "color": "black"
         },
         "orientation": "h",
         "showlegend": false,
         "type": "bar",
         "width": 0.6,
         "x": [
          6.0989010989010985
         ],
         "y": [
          61
         ]
        },
        {
         "base": 0,
         "hovertemplate": "&lt;AAG&gt;4<extra></extra>",
         "marker": {
          "color": "bisque"
         },
         "orientation": "h",
         "showlegend": false,
         "type": "bar",
         "width": 0.9,
         "x": [
          12
         ],
         "y": [
          62
         ]
        },
        {
         "base": 12,
         "hovertemplate": "&lt;A&gt;2<extra></extra>",
         "marker": {
          "color": "#1f78b4"
         },
         "orientation": "h",
         "showlegend": false,
         "type": "bar",
         "width": 0.9,
         "x": [
          2
         ],
         "y": [
          62
         ]
        },
        {
         "base": 14,
         "hovertemplate": "&lt;AAG&gt;13<extra></extra>",
         "marker": {
          "color": "bisque"
         },
         "orientation": "h",
         "showlegend": false,
         "type": "bar",
         "width": 0.9,
         "x": [
          39
         ],
         "y": [
          62
         ]
        },
        {
         "base": 53,
         "hovertemplate": "&lt;AAGAGG&gt;14<extra></extra>",
         "marker": {
          "color": "#b2df8a"
         },
         "orientation": "h",
         "showlegend": false,
         "type": "bar",
         "width": 0.9,
         "x": [
          84
         ],
         "y": [
          62
         ]
        },
        {
         "base": 137,
         "hovertemplate": "&lt;AAG&gt;24<extra></extra>",
         "marker": {
          "color": "bisque"
         },
         "orientation": "h",
         "showlegend": false,
         "type": "bar",
         "width": 0.9,
         "x": [
          72
         ],
         "y": [
          62
         ]
        },
        {
         "base": 212,
         "hovertemplate": "EncodedSeq: &lt;AAG&gt;4&lt;A&gt;2&lt;AAG&gt;13&lt;AAGAGG&gt;14&lt;AAG&gt;24<br>Allele count: 1<br>Frequency: 0.11%<extra></extra>",
         "marker": {
          "color": "black"
         },
         "orientation": "h",
         "showlegend": false,
         "type": "bar",
         "width": 0.6,
         "x": [
          6.0989010989010985
         ],
         "y": [
          62
         ]
        },
        {
         "base": 0,
         "hovertemplate": "&lt;AAG&gt;2<extra></extra>",
         "marker": {
          "color": "bisque"
         },
         "orientation": "h",
         "showlegend": false,
         "type": "bar",
         "width": 0.9,
         "x": [
          6
         ],
         "y": [
          63
         ]
        },
        {
         "base": 6,
         "hovertemplate": "&lt;A&gt;1<extra></extra>",
         "marker": {
          "color": "#1f78b4"
         },
         "orientation": "h",
         "showlegend": false,
         "type": "bar",
         "width": 0.9,
         "x": [
          1
         ],
         "y": [
          63
         ]
        },
        {
         "base": 7,
         "hovertemplate": "&lt;AAG&gt;65<extra></extra>",
         "marker": {
          "color": "bisque"
         },
         "orientation": "h",
         "showlegend": false,
         "type": "bar",
         "width": 0.9,
         "x": [
          195
         ],
         "y": [
          63
         ]
        },
        {
         "base": 205,
         "hovertemplate": "EncodedSeq: &lt;AAG&gt;2&lt;A&gt;1&lt;AAG&gt;65<br>Allele count: 1<br>Frequency: 0.11%<extra></extra>",
         "marker": {
          "color": "black"
         },
         "orientation": "h",
         "showlegend": false,
         "type": "bar",
         "width": 0.6,
         "x": [
          6.0989010989010985
         ],
         "y": [
          63
         ]
        },
        {
         "base": 0,
         "hovertemplate": "&lt;AAG&gt;4<extra></extra>",
         "marker": {
          "color": "bisque"
         },
         "orientation": "h",
         "showlegend": false,
         "type": "bar",
         "width": 0.9,
         "x": [
          12
         ],
         "y": [
          64
         ]
        },
        {
         "base": 12,
         "hovertemplate": "&lt;A&gt;1<extra></extra>",
         "marker": {
          "color": "#1f78b4"
         },
         "orientation": "h",
         "showlegend": false,
         "type": "bar",
         "width": 0.9,
         "x": [
          1
         ],
         "y": [
          64
         ]
        },
        {
         "base": 13,
         "hovertemplate": "&lt;AAG&gt;63<extra></extra>",
         "marker": {
          "color": "bisque"
         },
         "orientation": "h",
         "showlegend": false,
         "type": "bar",
         "width": 0.9,
         "x": [
          189
         ],
         "y": [
          64
         ]
        },
        {
         "base": 205,
         "hovertemplate": "EncodedSeq: &lt;AAG&gt;4&lt;A&gt;1&lt;AAG&gt;63<br>Allele count: 1<br>Frequency: 0.11%<extra></extra>",
         "marker": {
          "color": "black"
         },
         "orientation": "h",
         "showlegend": false,
         "type": "bar",
         "width": 0.6,
         "x": [
          6.0989010989010985
         ],
         "y": [
          64
         ]
        },
        {
         "base": 0,
         "hovertemplate": "&lt;AAG&gt;67<extra></extra>",
         "marker": {
          "color": "bisque"
         },
         "orientation": "h",
         "showlegend": false,
         "type": "bar",
         "width": 0.9,
         "x": [
          201
         ],
         "y": [
          65
         ]
        },
        {
         "base": 204,
         "hovertemplate": "EncodedSeq: &lt;AAG&gt;67<br>Allele count: 1<br>Frequency: 0.11%<extra></extra>",
         "marker": {
          "color": "black"
         },
         "orientation": "h",
         "showlegend": false,
         "type": "bar",
         "width": 0.6,
         "x": [
          6.0989010989010985
         ],
         "y": [
          65
         ]
        },
        {
         "base": 0,
         "hovertemplate": "&lt;AAG&gt;7<extra></extra>",
         "marker": {
          "color": "bisque"
         },
         "orientation": "h",
         "showlegend": false,
         "type": "bar",
         "width": 0.9,
         "x": [
          21
         ],
         "y": [
          66
         ]
        },
        {
         "base": 21,
         "hovertemplate": "&lt;AAGAAGAGG&gt;2<extra></extra>",
         "marker": {
          "color": "#ffed6f"
         },
         "orientation": "h",
         "showlegend": false,
         "type": "bar",
         "width": 0.9,
         "x": [
          18
         ],
         "y": [
          66
         ]
        },
        {
         "base": 39,
         "hovertemplate": "&lt;AGG&gt;1<extra></extra>",
         "marker": {
          "color": "#ff7f00"
         },
         "orientation": "h",
         "showlegend": false,
         "type": "bar",
         "width": 0.9,
         "x": [
          3
         ],
         "y": [
          66
         ]
        },
        {
         "base": 42,
         "hovertemplate": "&lt;AAGAGGAGG&gt;2<extra></extra>",
         "marker": {
          "color": "#fccde5"
         },
         "orientation": "h",
         "showlegend": false,
         "type": "bar",
         "width": 0.9,
         "x": [
          18
         ],
         "y": [
          66
         ]
        },
        {
         "base": 60,
         "hovertemplate": "&lt;AAGAAGAGG&gt;4<extra></extra>",
         "marker": {
          "color": "#ffed6f"
         },
         "orientation": "h",
         "showlegend": false,
         "type": "bar",
         "width": 0.9,
         "x": [
          36
         ],
         "y": [
          66
         ]
        },
        {
         "base": 96,
         "hovertemplate": "&lt;AAGAGG&gt;5<extra></extra>",
         "marker": {
          "color": "#b2df8a"
         },
         "orientation": "h",
         "showlegend": false,
         "type": "bar",
         "width": 0.9,
         "x": [
          30
         ],
         "y": [
          66
         ]
        },
        {
         "base": 126,
         "hovertemplate": "&lt;AAG&gt;24<extra></extra>",
         "marker": {
          "color": "bisque"
         },
         "orientation": "h",
         "showlegend": false,
         "type": "bar",
         "width": 0.9,
         "x": [
          72
         ],
         "y": [
          66
         ]
        },
        {
         "base": 201,
         "hovertemplate": "EncodedSeq: &lt;AAG&gt;7&lt;AAGAAGAGG&gt;2&lt;AGG&gt;1&lt;AAGAGGAGG&gt;2&lt;AAGAAGAGG&gt;4&lt;AAGAGG&gt;5&lt;AAG&gt;24<br>Allele count: 1<br>Frequency: 0.11%<extra></extra>",
         "marker": {
          "color": "black"
         },
         "orientation": "h",
         "showlegend": false,
         "type": "bar",
         "width": 0.6,
         "x": [
          6.0989010989010985
         ],
         "y": [
          66
         ]
        },
        {
         "base": 0,
         "hovertemplate": "&lt;AAG&gt;3<extra></extra>",
         "marker": {
          "color": "bisque"
         },
         "orientation": "h",
         "showlegend": false,
         "type": "bar",
         "width": 0.9,
         "x": [
          9
         ],
         "y": [
          67
         ]
        },
        {
         "base": 9,
         "hovertemplate": "&lt;AAGAAGAGG&gt;1<extra></extra>",
         "marker": {
          "color": "#ffed6f"
         },
         "orientation": "h",
         "showlegend": false,
         "type": "bar",
         "width": 0.9,
         "x": [
          9
         ],
         "y": [
          67
         ]
        },
        {
         "base": 18,
         "hovertemplate": "&lt;AAGAGGAGG&gt;8<extra></extra>",
         "marker": {
          "color": "#fccde5"
         },
         "orientation": "h",
         "showlegend": false,
         "type": "bar",
         "width": 0.9,
         "x": [
          72
         ],
         "y": [
          67
         ]
        },
        {
         "base": 90,
         "hovertemplate": "&lt;AAGAAGAGG&gt;2<extra></extra>",
         "marker": {
          "color": "#ffed6f"
         },
         "orientation": "h",
         "showlegend": false,
         "type": "bar",
         "width": 0.9,
         "x": [
          18
         ],
         "y": [
          67
         ]
        },
        {
         "base": 108,
         "hovertemplate": "&lt;AAGAGG&gt;1<extra></extra>",
         "marker": {
          "color": "#b2df8a"
         },
         "orientation": "h",
         "showlegend": false,
         "type": "bar",
         "width": 0.9,
         "x": [
          6
         ],
         "y": [
          67
         ]
        },
        {
         "base": 114,
         "hovertemplate": "&lt;AAG&gt;28<extra></extra>",
         "marker": {
          "color": "bisque"
         },
         "orientation": "h",
         "showlegend": false,
         "type": "bar",
         "width": 0.9,
         "x": [
          84
         ],
         "y": [
          67
         ]
        },
        {
         "base": 201,
         "hovertemplate": "EncodedSeq: &lt;AAG&gt;3&lt;AAGAAGAGG&gt;1&lt;AAGAGGAGG&gt;8&lt;AAGAAGAGG&gt;2&lt;AAGAGG&gt;1&lt;AAG&gt;28<br>Allele count: 1<br>Frequency: 0.11%<extra></extra>",
         "marker": {
          "color": "black"
         },
         "orientation": "h",
         "showlegend": false,
         "type": "bar",
         "width": 0.6,
         "x": [
          6.0989010989010985
         ],
         "y": [
          67
         ]
        },
        {
         "base": 0,
         "hovertemplate": "&lt;AAG&gt;66<extra></extra>",
         "marker": {
          "color": "bisque"
         },
         "orientation": "h",
         "showlegend": false,
         "type": "bar",
         "width": 0.9,
         "x": [
          198
         ],
         "y": [
          68
         ]
        },
        {
         "base": 201,
         "hovertemplate": "EncodedSeq: &lt;AAG&gt;66<br>Allele count: 1<br>Frequency: 0.11%<extra></extra>",
         "marker": {
          "color": "black"
         },
         "orientation": "h",
         "showlegend": false,
         "type": "bar",
         "width": 0.6,
         "x": [
          6.0989010989010985
         ],
         "y": [
          68
         ]
        },
        {
         "base": 0,
         "hovertemplate": "&lt;AAG&gt;7<extra></extra>",
         "marker": {
          "color": "bisque"
         },
         "orientation": "h",
         "showlegend": false,
         "type": "bar",
         "width": 0.9,
         "x": [
          21
         ],
         "y": [
          69
         ]
        },
        {
         "base": 21,
         "hovertemplate": "&lt;AAGAAGAGG&gt;2<extra></extra>",
         "marker": {
          "color": "#ffed6f"
         },
         "orientation": "h",
         "showlegend": false,
         "type": "bar",
         "width": 0.9,
         "x": [
          18
         ],
         "y": [
          69
         ]
        },
        {
         "base": 39,
         "hovertemplate": "&lt;AGG&gt;1<extra></extra>",
         "marker": {
          "color": "#ff7f00"
         },
         "orientation": "h",
         "showlegend": false,
         "type": "bar",
         "width": 0.9,
         "x": [
          3
         ],
         "y": [
          69
         ]
        },
        {
         "base": 42,
         "hovertemplate": "&lt;AAGAGGAGG&gt;2<extra></extra>",
         "marker": {
          "color": "#fccde5"
         },
         "orientation": "h",
         "showlegend": false,
         "type": "bar",
         "width": 0.9,
         "x": [
          18
         ],
         "y": [
          69
         ]
        },
        {
         "base": 60,
         "hovertemplate": "&lt;AAGAAGAGG&gt;4<extra></extra>",
         "marker": {
          "color": "#ffed6f"
         },
         "orientation": "h",
         "showlegend": false,
         "type": "bar",
         "width": 0.9,
         "x": [
          36
         ],
         "y": [
          69
         ]
        },
        {
         "base": 96,
         "hovertemplate": "&lt;AAGAGG&gt;5<extra></extra>",
         "marker": {
          "color": "#b2df8a"
         },
         "orientation": "h",
         "showlegend": false,
         "type": "bar",
         "width": 0.9,
         "x": [
          30
         ],
         "y": [
          69
         ]
        },
        {
         "base": 126,
         "hovertemplate": "&lt;AAG&gt;23<extra></extra>",
         "marker": {
          "color": "bisque"
         },
         "orientation": "h",
         "showlegend": false,
         "type": "bar",
         "width": 0.9,
         "x": [
          69
         ],
         "y": [
          69
         ]
        },
        {
         "base": 198,
         "hovertemplate": "EncodedSeq: &lt;AAG&gt;7&lt;AAGAAGAGG&gt;2&lt;AGG&gt;1&lt;AAGAGGAGG&gt;2&lt;AAGAAGAGG&gt;4&lt;AAGAGG&gt;5&lt;AAG&gt;23<br>Allele count: 1<br>Frequency: 0.11%<extra></extra>",
         "marker": {
          "color": "black"
         },
         "orientation": "h",
         "showlegend": false,
         "type": "bar",
         "width": 0.6,
         "x": [
          6.0989010989010985
         ],
         "y": [
          69
         ]
        },
        {
         "base": 0,
         "hovertemplate": "&lt;AAG&gt;2<extra></extra>",
         "marker": {
          "color": "bisque"
         },
         "orientation": "h",
         "showlegend": false,
         "type": "bar",
         "width": 0.9,
         "x": [
          6
         ],
         "y": [
          70
         ]
        },
        {
         "base": 6,
         "hovertemplate": "&lt;A&gt;2<extra></extra>",
         "marker": {
          "color": "#1f78b4"
         },
         "orientation": "h",
         "showlegend": false,
         "type": "bar",
         "width": 0.9,
         "x": [
          2
         ],
         "y": [
          70
         ]
        },
        {
         "base": 8,
         "hovertemplate": "&lt;AAG&gt;60<extra></extra>",
         "marker": {
          "color": "bisque"
         },
         "orientation": "h",
         "showlegend": false,
         "type": "bar",
         "width": 0.9,
         "x": [
          180
         ],
         "y": [
          70
         ]
        },
        {
         "base": 191,
         "hovertemplate": "EncodedSeq: &lt;AAG&gt;2&lt;A&gt;2&lt;AAG&gt;60<br>Allele count: 1<br>Frequency: 0.11%<extra></extra>",
         "marker": {
          "color": "black"
         },
         "orientation": "h",
         "showlegend": false,
         "type": "bar",
         "width": 0.6,
         "x": [
          6.0989010989010985
         ],
         "y": [
          70
         ]
        },
        {
         "base": 0,
         "hovertemplate": "&lt;AAG&gt;6<extra></extra>",
         "marker": {
          "color": "bisque"
         },
         "orientation": "h",
         "showlegend": false,
         "type": "bar",
         "width": 0.9,
         "x": [
          18
         ],
         "y": [
          71
         ]
        },
        {
         "base": 18,
         "hovertemplate": "&lt;AAAGAAGAAG&gt;3<extra></extra>",
         "marker": {
          "color": "#a6cee3"
         },
         "orientation": "h",
         "showlegend": false,
         "type": "bar",
         "width": 0.9,
         "x": [
          30
         ],
         "y": [
          71
         ]
        },
        {
         "base": 48,
         "hovertemplate": "&lt;AAG&gt;46<extra></extra>",
         "marker": {
          "color": "bisque"
         },
         "orientation": "h",
         "showlegend": false,
         "type": "bar",
         "width": 0.9,
         "x": [
          138
         ],
         "y": [
          71
         ]
        },
        {
         "base": 189,
         "hovertemplate": "EncodedSeq: &lt;AAG&gt;6&lt;AAAGAAGAAG&gt;3&lt;AAG&gt;46<br>Allele count: 1<br>Frequency: 0.11%<extra></extra>",
         "marker": {
          "color": "black"
         },
         "orientation": "h",
         "showlegend": false,
         "type": "bar",
         "width": 0.6,
         "x": [
          6.0989010989010985
         ],
         "y": [
          71
         ]
        },
        {
         "base": 0,
         "hovertemplate": "&lt;AAG&gt;14<extra></extra>",
         "marker": {
          "color": "bisque"
         },
         "orientation": "h",
         "showlegend": false,
         "type": "bar",
         "width": 0.9,
         "x": [
          42
         ],
         "y": [
          72
         ]
        },
        {
         "base": 42,
         "hovertemplate": "&lt;AAGAGG&gt;13<extra></extra>",
         "marker": {
          "color": "#b2df8a"
         },
         "orientation": "h",
         "showlegend": false,
         "type": "bar",
         "width": 0.9,
         "x": [
          78
         ],
         "y": [
          72
         ]
        },
        {
         "base": 120,
         "hovertemplate": "&lt;AAG&gt;21<extra></extra>",
         "marker": {
          "color": "bisque"
         },
         "orientation": "h",
         "showlegend": false,
         "type": "bar",
         "width": 0.9,
         "x": [
          63
         ],
         "y": [
          72
         ]
        },
        {
         "base": 186,
         "hovertemplate": "EncodedSeq: &lt;AAG&gt;14&lt;AAGAGG&gt;13&lt;AAG&gt;21<br>Allele count: 1<br>Frequency: 0.11%<extra></extra>",
         "marker": {
          "color": "black"
         },
         "orientation": "h",
         "showlegend": false,
         "type": "bar",
         "width": 0.6,
         "x": [
          6.0989010989010985
         ],
         "y": [
          72
         ]
        },
        {
         "base": 0,
         "hovertemplate": "&lt;AAG&gt;11<extra></extra>",
         "marker": {
          "color": "bisque"
         },
         "orientation": "h",
         "showlegend": false,
         "type": "bar",
         "width": 0.9,
         "x": [
          33
         ],
         "y": [
          73
         ]
        },
        {
         "base": 33,
         "hovertemplate": "&lt;AAGAGG&gt;15<extra></extra>",
         "marker": {
          "color": "#b2df8a"
         },
         "orientation": "h",
         "showlegend": false,
         "type": "bar",
         "width": 0.9,
         "x": [
          90
         ],
         "y": [
          73
         ]
        },
        {
         "base": 123,
         "hovertemplate": "&lt;AAG&gt;20<extra></extra>",
         "marker": {
          "color": "bisque"
         },
         "orientation": "h",
         "showlegend": false,
         "type": "bar",
         "width": 0.9,
         "x": [
          60
         ],
         "y": [
          73
         ]
        },
        {
         "base": 186,
         "hovertemplate": "EncodedSeq: &lt;AAG&gt;11&lt;AAGAGG&gt;15&lt;AAG&gt;20<br>Allele count: 1<br>Frequency: 0.11%<extra></extra>",
         "marker": {
          "color": "black"
         },
         "orientation": "h",
         "showlegend": false,
         "type": "bar",
         "width": 0.6,
         "x": [
          6.0989010989010985
         ],
         "y": [
          73
         ]
        },
        {
         "base": 0,
         "hovertemplate": "&lt;AAG&gt;16<extra></extra>",
         "marker": {
          "color": "bisque"
         },
         "orientation": "h",
         "showlegend": false,
         "type": "bar",
         "width": 0.9,
         "x": [
          48
         ],
         "y": [
          74
         ]
        },
        {
         "base": 48,
         "hovertemplate": "&lt;AAGAGG&gt;13<extra></extra>",
         "marker": {
          "color": "#b2df8a"
         },
         "orientation": "h",
         "showlegend": false,
         "type": "bar",
         "width": 0.9,
         "x": [
          78
         ],
         "y": [
          74
         ]
        },
        {
         "base": 126,
         "hovertemplate": "&lt;AAG&gt;19<extra></extra>",
         "marker": {
          "color": "bisque"
         },
         "orientation": "h",
         "showlegend": false,
         "type": "bar",
         "width": 0.9,
         "x": [
          57
         ],
         "y": [
          74
         ]
        },
        {
         "base": 186,
         "hovertemplate": "EncodedSeq: &lt;AAG&gt;16&lt;AAGAGG&gt;13&lt;AAG&gt;19<br>Allele count: 1<br>Frequency: 0.11%<extra></extra>",
         "marker": {
          "color": "black"
         },
         "orientation": "h",
         "showlegend": false,
         "type": "bar",
         "width": 0.6,
         "x": [
          6.0989010989010985
         ],
         "y": [
          74
         ]
        },
        {
         "base": 0,
         "hovertemplate": "&lt;AAG&gt;10<extra></extra>",
         "marker": {
          "color": "bisque"
         },
         "orientation": "h",
         "showlegend": false,
         "type": "bar",
         "width": 0.9,
         "x": [
          30
         ],
         "y": [
          75
         ]
        },
        {
         "base": 30,
         "hovertemplate": "&lt;AAGAGG&gt;13<extra></extra>",
         "marker": {
          "color": "#b2df8a"
         },
         "orientation": "h",
         "showlegend": false,
         "type": "bar",
         "width": 0.9,
         "x": [
          78
         ],
         "y": [
          75
         ]
        },
        {
         "base": 108,
         "hovertemplate": "&lt;AAG&gt;24<extra></extra>",
         "marker": {
          "color": "bisque"
         },
         "orientation": "h",
         "showlegend": false,
         "type": "bar",
         "width": 0.9,
         "x": [
          72
         ],
         "y": [
          75
         ]
        },
        {
         "base": 183,
         "hovertemplate": "EncodedSeq: &lt;AAG&gt;10&lt;AAGAGG&gt;13&lt;AAG&gt;24<br>Allele count: 1<br>Frequency: 0.11%<extra></extra>",
         "marker": {
          "color": "black"
         },
         "orientation": "h",
         "showlegend": false,
         "type": "bar",
         "width": 0.6,
         "x": [
          6.0989010989010985
         ],
         "y": [
          75
         ]
        },
        {
         "base": 0,
         "hovertemplate": "&lt;AAG&gt;8<extra></extra>",
         "marker": {
          "color": "bisque"
         },
         "orientation": "h",
         "showlegend": false,
         "type": "bar",
         "width": 0.9,
         "x": [
          24
         ],
         "y": [
          76
         ]
        },
        {
         "base": 24,
         "hovertemplate": "&lt;AAGAGG&gt;14<extra></extra>",
         "marker": {
          "color": "#b2df8a"
         },
         "orientation": "h",
         "showlegend": false,
         "type": "bar",
         "width": 0.9,
         "x": [
          84
         ],
         "y": [
          76
         ]
        },
        {
         "base": 108,
         "hovertemplate": "&lt;AAG&gt;23<extra></extra>",
         "marker": {
          "color": "bisque"
         },
         "orientation": "h",
         "showlegend": false,
         "type": "bar",
         "width": 0.9,
         "x": [
          69
         ],
         "y": [
          76
         ]
        },
        {
         "base": 180,
         "hovertemplate": "EncodedSeq: &lt;AAG&gt;8&lt;AAGAGG&gt;14&lt;AAG&gt;23<br>Allele count: 1<br>Frequency: 0.11%<extra></extra>",
         "marker": {
          "color": "black"
         },
         "orientation": "h",
         "showlegend": false,
         "type": "bar",
         "width": 0.6,
         "x": [
          6.0989010989010985
         ],
         "y": [
          76
         ]
        },
        {
         "base": 0,
         "hovertemplate": "&lt;AAG&gt;10<extra></extra>",
         "marker": {
          "color": "bisque"
         },
         "orientation": "h",
         "showlegend": false,
         "type": "bar",
         "width": 0.9,
         "x": [
          30
         ],
         "y": [
          77
         ]
        },
        {
         "base": 30,
         "hovertemplate": "&lt;AAGAGG&gt;15<extra></extra>",
         "marker": {
          "color": "#b2df8a"
         },
         "orientation": "h",
         "showlegend": false,
         "type": "bar",
         "width": 0.9,
         "x": [
          90
         ],
         "y": [
          77
         ]
        },
        {
         "base": 120,
         "hovertemplate": "&lt;AAG&gt;19<extra></extra>",
         "marker": {
          "color": "bisque"
         },
         "orientation": "h",
         "showlegend": false,
         "type": "bar",
         "width": 0.9,
         "x": [
          57
         ],
         "y": [
          77
         ]
        },
        {
         "base": 180,
         "hovertemplate": "EncodedSeq: &lt;AAG&gt;10&lt;AAGAGG&gt;15&lt;AAG&gt;19<br>Allele count: 1<br>Frequency: 0.11%<extra></extra>",
         "marker": {
          "color": "black"
         },
         "orientation": "h",
         "showlegend": false,
         "type": "bar",
         "width": 0.6,
         "x": [
          6.0989010989010985
         ],
         "y": [
          77
         ]
        },
        {
         "base": 0,
         "hovertemplate": "&lt;AAG&gt;10<extra></extra>",
         "marker": {
          "color": "bisque"
         },
         "orientation": "h",
         "showlegend": false,
         "type": "bar",
         "width": 0.9,
         "x": [
          30
         ],
         "y": [
          78
         ]
        },
        {
         "base": 30,
         "hovertemplate": "&lt;AAGAGG&gt;14<extra></extra>",
         "marker": {
          "color": "#b2df8a"
         },
         "orientation": "h",
         "showlegend": false,
         "type": "bar",
         "width": 0.9,
         "x": [
          84
         ],
         "y": [
          78
         ]
        },
        {
         "base": 114,
         "hovertemplate": "&lt;AAG&gt;20<extra></extra>",
         "marker": {
          "color": "bisque"
         },
         "orientation": "h",
         "showlegend": false,
         "type": "bar",
         "width": 0.9,
         "x": [
          60
         ],
         "y": [
          78
         ]
        },
        {
         "base": 177,
         "hovertemplate": "EncodedSeq: &lt;AAG&gt;10&lt;AAGAGG&gt;14&lt;AAG&gt;20<br>Allele count: 1<br>Frequency: 0.11%<extra></extra>",
         "marker": {
          "color": "black"
         },
         "orientation": "h",
         "showlegend": false,
         "type": "bar",
         "width": 0.6,
         "x": [
          6.0989010989010985
         ],
         "y": [
          78
         ]
        },
        {
         "base": 0,
         "hovertemplate": "&lt;AAG&gt;12<extra></extra>",
         "marker": {
          "color": "bisque"
         },
         "orientation": "h",
         "showlegend": false,
         "type": "bar",
         "width": 0.9,
         "x": [
          36
         ],
         "y": [
          79
         ]
        },
        {
         "base": 36,
         "hovertemplate": "&lt;AAGAGG&gt;14<extra></extra>",
         "marker": {
          "color": "#b2df8a"
         },
         "orientation": "h",
         "showlegend": false,
         "type": "bar",
         "width": 0.9,
         "x": [
          84
         ],
         "y": [
          79
         ]
        },
        {
         "base": 120,
         "hovertemplate": "&lt;AAG&gt;18<extra></extra>",
         "marker": {
          "color": "bisque"
         },
         "orientation": "h",
         "showlegend": false,
         "type": "bar",
         "width": 0.9,
         "x": [
          54
         ],
         "y": [
          79
         ]
        },
        {
         "base": 177,
         "hovertemplate": "EncodedSeq: &lt;AAG&gt;12&lt;AAGAGG&gt;14&lt;AAG&gt;18<br>Allele count: 1<br>Frequency: 0.11%<extra></extra>",
         "marker": {
          "color": "black"
         },
         "orientation": "h",
         "showlegend": false,
         "type": "bar",
         "width": 0.6,
         "x": [
          6.0989010989010985
         ],
         "y": [
          79
         ]
        },
        {
         "base": 0,
         "hovertemplate": "&lt;AAG&gt;10<extra></extra>",
         "marker": {
          "color": "bisque"
         },
         "orientation": "h",
         "showlegend": false,
         "type": "bar",
         "width": 0.9,
         "x": [
          30
         ],
         "y": [
          80
         ]
        },
        {
         "base": 30,
         "hovertemplate": "&lt;AAGAGG&gt;13<extra></extra>",
         "marker": {
          "color": "#b2df8a"
         },
         "orientation": "h",
         "showlegend": false,
         "type": "bar",
         "width": 0.9,
         "x": [
          78
         ],
         "y": [
          80
         ]
        },
        {
         "base": 108,
         "hovertemplate": "&lt;AAG&gt;22<extra></extra>",
         "marker": {
          "color": "bisque"
         },
         "orientation": "h",
         "showlegend": false,
         "type": "bar",
         "width": 0.9,
         "x": [
          66
         ],
         "y": [
          80
         ]
        },
        {
         "base": 177,
         "hovertemplate": "EncodedSeq: &lt;AAG&gt;10&lt;AAGAGG&gt;13&lt;AAG&gt;22<br>Allele count: 1<br>Frequency: 0.11%<extra></extra>",
         "marker": {
          "color": "black"
         },
         "orientation": "h",
         "showlegend": false,
         "type": "bar",
         "width": 0.6,
         "x": [
          6.0989010989010985
         ],
         "y": [
          80
         ]
        },
        {
         "base": 0,
         "hovertemplate": "&lt;AAG&gt;14<extra></extra>",
         "marker": {
          "color": "bisque"
         },
         "orientation": "h",
         "showlegend": false,
         "type": "bar",
         "width": 0.9,
         "x": [
          42
         ],
         "y": [
          81
         ]
        },
        {
         "base": 42,
         "hovertemplate": "&lt;AAGAGG&gt;11<extra></extra>",
         "marker": {
          "color": "#b2df8a"
         },
         "orientation": "h",
         "showlegend": false,
         "type": "bar",
         "width": 0.9,
         "x": [
          66
         ],
         "y": [
          81
         ]
        },
        {
         "base": 108,
         "hovertemplate": "&lt;AAG&gt;22<extra></extra>",
         "marker": {
          "color": "bisque"
         },
         "orientation": "h",
         "showlegend": false,
         "type": "bar",
         "width": 0.9,
         "x": [
          66
         ],
         "y": [
          81
         ]
        },
        {
         "base": 177,
         "hovertemplate": "EncodedSeq: &lt;AAG&gt;14&lt;AAGAGG&gt;11&lt;AAG&gt;22<br>Allele count: 1<br>Frequency: 0.11%<extra></extra>",
         "marker": {
          "color": "black"
         },
         "orientation": "h",
         "showlegend": false,
         "type": "bar",
         "width": 0.6,
         "x": [
          6.0989010989010985
         ],
         "y": [
          81
         ]
        },
        {
         "base": 0,
         "hovertemplate": "&lt;AAG&gt;12<extra></extra>",
         "marker": {
          "color": "bisque"
         },
         "orientation": "h",
         "showlegend": false,
         "type": "bar",
         "width": 0.9,
         "x": [
          36
         ],
         "y": [
          82
         ]
        },
        {
         "base": 36,
         "hovertemplate": "&lt;AAGAGG&gt;12<extra></extra>",
         "marker": {
          "color": "#b2df8a"
         },
         "orientation": "h",
         "showlegend": false,
         "type": "bar",
         "width": 0.9,
         "x": [
          72
         ],
         "y": [
          82
         ]
        },
        {
         "base": 108,
         "hovertemplate": "&lt;AAG&gt;21<extra></extra>",
         "marker": {
          "color": "bisque"
         },
         "orientation": "h",
         "showlegend": false,
         "type": "bar",
         "width": 0.9,
         "x": [
          63
         ],
         "y": [
          82
         ]
        },
        {
         "base": 174,
         "hovertemplate": "EncodedSeq: &lt;AAG&gt;12&lt;AAGAGG&gt;12&lt;AAG&gt;21<br>Allele count: 1<br>Frequency: 0.11%<extra></extra>",
         "marker": {
          "color": "black"
         },
         "orientation": "h",
         "showlegend": false,
         "type": "bar",
         "width": 0.6,
         "x": [
          6.0989010989010985
         ],
         "y": [
          82
         ]
        },
        {
         "base": 0,
         "hovertemplate": "&lt;AAG&gt;10<extra></extra>",
         "marker": {
          "color": "bisque"
         },
         "orientation": "h",
         "showlegend": false,
         "type": "bar",
         "width": 0.9,
         "x": [
          30
         ],
         "y": [
          83
         ]
        },
        {
         "base": 30,
         "hovertemplate": "&lt;AAGAGG&gt;13<extra></extra>",
         "marker": {
          "color": "#b2df8a"
         },
         "orientation": "h",
         "showlegend": false,
         "type": "bar",
         "width": 0.9,
         "x": [
          78
         ],
         "y": [
          83
         ]
        },
        {
         "base": 108,
         "hovertemplate": "&lt;AAG&gt;21<extra></extra>",
         "marker": {
          "color": "bisque"
         },
         "orientation": "h",
         "showlegend": false,
         "type": "bar",
         "width": 0.9,
         "x": [
          63
         ],
         "y": [
          83
         ]
        },
        {
         "base": 174,
         "hovertemplate": "EncodedSeq: &lt;AAG&gt;10&lt;AAGAGG&gt;13&lt;AAG&gt;21<br>Allele count: 1<br>Frequency: 0.11%<extra></extra>",
         "marker": {
          "color": "black"
         },
         "orientation": "h",
         "showlegend": false,
         "type": "bar",
         "width": 0.6,
         "x": [
          6.0989010989010985
         ],
         "y": [
          83
         ]
        },
        {
         "base": 0,
         "hovertemplate": "&lt;AAG&gt;10<extra></extra>",
         "marker": {
          "color": "bisque"
         },
         "orientation": "h",
         "showlegend": false,
         "type": "bar",
         "width": 0.9,
         "x": [
          30
         ],
         "y": [
          84
         ]
        },
        {
         "base": 30,
         "hovertemplate": "&lt;AAGAGG&gt;13<extra></extra>",
         "marker": {
          "color": "#b2df8a"
         },
         "orientation": "h",
         "showlegend": false,
         "type": "bar",
         "width": 0.9,
         "x": [
          78
         ],
         "y": [
          84
         ]
        },
        {
         "base": 108,
         "hovertemplate": "&lt;AAG&gt;20<extra></extra>",
         "marker": {
          "color": "bisque"
         },
         "orientation": "h",
         "showlegend": false,
         "type": "bar",
         "width": 0.9,
         "x": [
          60
         ],
         "y": [
          84
         ]
        },
        {
         "base": 171,
         "hovertemplate": "EncodedSeq: &lt;AAG&gt;10&lt;AAGAGG&gt;13&lt;AAG&gt;20<br>Allele count: 2<br>Frequency: 0.22%<extra></extra>",
         "marker": {
          "color": "black"
         },
         "orientation": "h",
         "showlegend": false,
         "type": "bar",
         "width": 0.6,
         "x": [
          7.197802197802198
         ],
         "y": [
          84
         ]
        },
        {
         "base": 0,
         "hovertemplate": "&lt;AAG&gt;3<extra></extra>",
         "marker": {
          "color": "bisque"
         },
         "orientation": "h",
         "showlegend": false,
         "type": "bar",
         "width": 0.9,
         "x": [
          9
         ],
         "y": [
          85
         ]
        },
        {
         "base": 9,
         "hovertemplate": "&lt;A&gt;1<extra></extra>",
         "marker": {
          "color": "#1f78b4"
         },
         "orientation": "h",
         "showlegend": false,
         "type": "bar",
         "width": 0.9,
         "x": [
          1
         ],
         "y": [
          85
         ]
        },
        {
         "base": 10,
         "hovertemplate": "&lt;AAAGAAGAAG&gt;4<extra></extra>",
         "marker": {
          "color": "#a6cee3"
         },
         "orientation": "h",
         "showlegend": false,
         "type": "bar",
         "width": 0.9,
         "x": [
          40
         ],
         "y": [
          85
         ]
        },
        {
         "base": 50,
         "hovertemplate": "&lt;G&gt;1<extra></extra>",
         "marker": {
          "color": "#ccebc5"
         },
         "orientation": "h",
         "showlegend": false,
         "type": "bar",
         "width": 0.9,
         "x": [
          1
         ],
         "y": [
          85
         ]
        },
        {
         "base": 51,
         "hovertemplate": "&lt;AAG&gt;39<extra></extra>",
         "marker": {
          "color": "bisque"
         },
         "orientation": "h",
         "showlegend": false,
         "type": "bar",
         "width": 0.9,
         "x": [
          117
         ],
         "y": [
          85
         ]
        },
        {
         "base": 171,
         "hovertemplate": "EncodedSeq: &lt;AAG&gt;3&lt;A&gt;1&lt;AAAGAAGAAG&gt;4&lt;G&gt;1&lt;AAG&gt;39<br>Allele count: 1<br>Frequency: 0.11%<extra></extra>",
         "marker": {
          "color": "black"
         },
         "orientation": "h",
         "showlegend": false,
         "type": "bar",
         "width": 0.6,
         "x": [
          6.0989010989010985
         ],
         "y": [
          85
         ]
        },
        {
         "base": 0,
         "hovertemplate": "&lt;AAG&gt;25<extra></extra>",
         "marker": {
          "color": "bisque"
         },
         "orientation": "h",
         "showlegend": false,
         "type": "bar",
         "width": 0.9,
         "x": [
          75
         ],
         "y": [
          86
         ]
        },
        {
         "base": 75,
         "hovertemplate": "&lt;GAG&gt;1<extra></extra>",
         "marker": {
          "color": "#33a02c"
         },
         "orientation": "h",
         "showlegend": false,
         "type": "bar",
         "width": 0.9,
         "x": [
          3
         ],
         "y": [
          86
         ]
        },
        {
         "base": 78,
         "hovertemplate": "&lt;AAG&gt;29<extra></extra>",
         "marker": {
          "color": "bisque"
         },
         "orientation": "h",
         "showlegend": false,
         "type": "bar",
         "width": 0.9,
         "x": [
          87
         ],
         "y": [
          86
         ]
        },
        {
         "base": 168,
         "hovertemplate": "EncodedSeq: &lt;AAG&gt;25&lt;GAG&gt;1&lt;AAG&gt;29<br>Allele count: 1<br>Frequency: 0.11%<extra></extra>",
         "marker": {
          "color": "black"
         },
         "orientation": "h",
         "showlegend": false,
         "type": "bar",
         "width": 0.6,
         "x": [
          6.0989010989010985
         ],
         "y": [
          86
         ]
        },
        {
         "base": 0,
         "hovertemplate": "&lt;AAG&gt;10<extra></extra>",
         "marker": {
          "color": "bisque"
         },
         "orientation": "h",
         "showlegend": false,
         "type": "bar",
         "width": 0.9,
         "x": [
          30
         ],
         "y": [
          87
         ]
        },
        {
         "base": 30,
         "hovertemplate": "&lt;AAGAGG&gt;13<extra></extra>",
         "marker": {
          "color": "#b2df8a"
         },
         "orientation": "h",
         "showlegend": false,
         "type": "bar",
         "width": 0.9,
         "x": [
          78
         ],
         "y": [
          87
         ]
        },
        {
         "base": 108,
         "hovertemplate": "&lt;AAG&gt;19<extra></extra>",
         "marker": {
          "color": "bisque"
         },
         "orientation": "h",
         "showlegend": false,
         "type": "bar",
         "width": 0.9,
         "x": [
          57
         ],
         "y": [
          87
         ]
        },
        {
         "base": 168,
         "hovertemplate": "EncodedSeq: &lt;AAG&gt;10&lt;AAGAGG&gt;13&lt;AAG&gt;19<br>Allele count: 1<br>Frequency: 0.11%<extra></extra>",
         "marker": {
          "color": "black"
         },
         "orientation": "h",
         "showlegend": false,
         "type": "bar",
         "width": 0.6,
         "x": [
          6.0989010989010985
         ],
         "y": [
          87
         ]
        },
        {
         "base": 0,
         "hovertemplate": "&lt;AAG&gt;10<extra></extra>",
         "marker": {
          "color": "bisque"
         },
         "orientation": "h",
         "showlegend": false,
         "type": "bar",
         "width": 0.9,
         "x": [
          30
         ],
         "y": [
          88
         ]
        },
        {
         "base": 30,
         "hovertemplate": "&lt;AAGAGG&gt;12<extra></extra>",
         "marker": {
          "color": "#b2df8a"
         },
         "orientation": "h",
         "showlegend": false,
         "type": "bar",
         "width": 0.9,
         "x": [
          72
         ],
         "y": [
          88
         ]
        },
        {
         "base": 102,
         "hovertemplate": "&lt;AAG&gt;20<extra></extra>",
         "marker": {
          "color": "bisque"
         },
         "orientation": "h",
         "showlegend": false,
         "type": "bar",
         "width": 0.9,
         "x": [
          60
         ],
         "y": [
          88
         ]
        },
        {
         "base": 165,
         "hovertemplate": "EncodedSeq: &lt;AAG&gt;10&lt;AAGAGG&gt;12&lt;AAG&gt;20<br>Allele count: 3<br>Frequency: 0.33%<extra></extra>",
         "marker": {
          "color": "black"
         },
         "orientation": "h",
         "showlegend": false,
         "type": "bar",
         "width": 0.6,
         "x": [
          8.296703296703297
         ],
         "y": [
          88
         ]
        },
        {
         "base": 0,
         "hovertemplate": "&lt;AAG&gt;10<extra></extra>",
         "marker": {
          "color": "bisque"
         },
         "orientation": "h",
         "showlegend": false,
         "type": "bar",
         "width": 0.9,
         "x": [
          30
         ],
         "y": [
          89
         ]
        },
        {
         "base": 30,
         "hovertemplate": "&lt;AAGAGG&gt;11<extra></extra>",
         "marker": {
          "color": "#b2df8a"
         },
         "orientation": "h",
         "showlegend": false,
         "type": "bar",
         "width": 0.9,
         "x": [
          66
         ],
         "y": [
          89
         ]
        },
        {
         "base": 96,
         "hovertemplate": "&lt;AAG&gt;22<extra></extra>",
         "marker": {
          "color": "bisque"
         },
         "orientation": "h",
         "showlegend": false,
         "type": "bar",
         "width": 0.9,
         "x": [
          66
         ],
         "y": [
          89
         ]
        },
        {
         "base": 165,
         "hovertemplate": "EncodedSeq: &lt;AAG&gt;10&lt;AAGAGG&gt;11&lt;AAG&gt;22<br>Allele count: 1<br>Frequency: 0.11%<extra></extra>",
         "marker": {
          "color": "black"
         },
         "orientation": "h",
         "showlegend": false,
         "type": "bar",
         "width": 0.6,
         "x": [
          6.0989010989010985
         ],
         "y": [
          89
         ]
        },
        {
         "base": 0,
         "hovertemplate": "&lt;AAG&gt;4<extra></extra>",
         "marker": {
          "color": "bisque"
         },
         "orientation": "h",
         "showlegend": false,
         "type": "bar",
         "width": 0.9,
         "x": [
          12
         ],
         "y": [
          90
         ]
        },
        {
         "base": 12,
         "hovertemplate": "&lt;A&gt;1<extra></extra>",
         "marker": {
          "color": "#1f78b4"
         },
         "orientation": "h",
         "showlegend": false,
         "type": "bar",
         "width": 0.9,
         "x": [
          1
         ],
         "y": [
          90
         ]
        },
        {
         "base": 13,
         "hovertemplate": "&lt;AAG&gt;49<extra></extra>",
         "marker": {
          "color": "bisque"
         },
         "orientation": "h",
         "showlegend": false,
         "type": "bar",
         "width": 0.9,
         "x": [
          147
         ],
         "y": [
          90
         ]
        },
        {
         "base": 163,
         "hovertemplate": "EncodedSeq: &lt;AAG&gt;4&lt;A&gt;1&lt;AAG&gt;49<br>Allele count: 1<br>Frequency: 0.11%<extra></extra>",
         "marker": {
          "color": "black"
         },
         "orientation": "h",
         "showlegend": false,
         "type": "bar",
         "width": 0.6,
         "x": [
          6.0989010989010985
         ],
         "y": [
          90
         ]
        },
        {
         "base": 0,
         "hovertemplate": "&lt;AAG&gt;26<extra></extra>",
         "marker": {
          "color": "bisque"
         },
         "orientation": "h",
         "showlegend": false,
         "type": "bar",
         "width": 0.9,
         "x": [
          78
         ],
         "y": [
          91
         ]
        },
        {
         "base": 78,
         "hovertemplate": "&lt;GAG&gt;1<extra></extra>",
         "marker": {
          "color": "#33a02c"
         },
         "orientation": "h",
         "showlegend": false,
         "type": "bar",
         "width": 0.9,
         "x": [
          3
         ],
         "y": [
          91
         ]
        },
        {
         "base": 81,
         "hovertemplate": "&lt;AAG&gt;26<extra></extra>",
         "marker": {
          "color": "bisque"
         },
         "orientation": "h",
         "showlegend": false,
         "type": "bar",
         "width": 0.9,
         "x": [
          78
         ],
         "y": [
          91
         ]
        },
        {
         "base": 162,
         "hovertemplate": "EncodedSeq: &lt;AAG&gt;26&lt;GAG&gt;1&lt;AAG&gt;26<br>Allele count: 1<br>Frequency: 0.11%<extra></extra>",
         "marker": {
          "color": "black"
         },
         "orientation": "h",
         "showlegend": false,
         "type": "bar",
         "width": 0.6,
         "x": [
          6.0989010989010985
         ],
         "y": [
          91
         ]
        },
        {
         "base": 0,
         "hovertemplate": "&lt;AAG&gt;26<extra></extra>",
         "marker": {
          "color": "bisque"
         },
         "orientation": "h",
         "showlegend": false,
         "type": "bar",
         "width": 0.9,
         "x": [
          78
         ],
         "y": [
          92
         ]
        },
        {
         "base": 78,
         "hovertemplate": "&lt;AGG&gt;1<extra></extra>",
         "marker": {
          "color": "#ff7f00"
         },
         "orientation": "h",
         "showlegend": false,
         "type": "bar",
         "width": 0.9,
         "x": [
          3
         ],
         "y": [
          92
         ]
        },
        {
         "base": 81,
         "hovertemplate": "&lt;AAG&gt;25<extra></extra>",
         "marker": {
          "color": "bisque"
         },
         "orientation": "h",
         "showlegend": false,
         "type": "bar",
         "width": 0.9,
         "x": [
          75
         ],
         "y": [
          92
         ]
        },
        {
         "base": 159,
         "hovertemplate": "EncodedSeq: &lt;AAG&gt;26&lt;AGG&gt;1&lt;AAG&gt;25<br>Allele count: 1<br>Frequency: 0.11%<extra></extra>",
         "marker": {
          "color": "black"
         },
         "orientation": "h",
         "showlegend": false,
         "type": "bar",
         "width": 0.6,
         "x": [
          6.0989010989010985
         ],
         "y": [
          92
         ]
        },
        {
         "base": 0,
         "hovertemplate": "&lt;AAG&gt;10<extra></extra>",
         "marker": {
          "color": "bisque"
         },
         "orientation": "h",
         "showlegend": false,
         "type": "bar",
         "width": 0.9,
         "x": [
          30
         ],
         "y": [
          93
         ]
        },
        {
         "base": 30,
         "hovertemplate": "&lt;AAGAGG&gt;11<extra></extra>",
         "marker": {
          "color": "#b2df8a"
         },
         "orientation": "h",
         "showlegend": false,
         "type": "bar",
         "width": 0.9,
         "x": [
          66
         ],
         "y": [
          93
         ]
        },
        {
         "base": 96,
         "hovertemplate": "&lt;AAG&gt;20<extra></extra>",
         "marker": {
          "color": "bisque"
         },
         "orientation": "h",
         "showlegend": false,
         "type": "bar",
         "width": 0.9,
         "x": [
          60
         ],
         "y": [
          93
         ]
        },
        {
         "base": 159,
         "hovertemplate": "EncodedSeq: &lt;AAG&gt;10&lt;AAGAGG&gt;11&lt;AAG&gt;20<br>Allele count: 1<br>Frequency: 0.11%<extra></extra>",
         "marker": {
          "color": "black"
         },
         "orientation": "h",
         "showlegend": false,
         "type": "bar",
         "width": 0.6,
         "x": [
          6.0989010989010985
         ],
         "y": [
          93
         ]
        },
        {
         "base": 0,
         "hovertemplate": "&lt;AAG&gt;2<extra></extra>",
         "marker": {
          "color": "bisque"
         },
         "orientation": "h",
         "showlegend": false,
         "type": "bar",
         "width": 0.9,
         "x": [
          6
         ],
         "y": [
          94
         ]
        },
        {
         "base": 6,
         "hovertemplate": "&lt;A&gt;1<extra></extra>",
         "marker": {
          "color": "#1f78b4"
         },
         "orientation": "h",
         "showlegend": false,
         "type": "bar",
         "width": 0.9,
         "x": [
          1
         ],
         "y": [
          94
         ]
        },
        {
         "base": 7,
         "hovertemplate": "&lt;AAG&gt;2<extra></extra>",
         "marker": {
          "color": "bisque"
         },
         "orientation": "h",
         "showlegend": false,
         "type": "bar",
         "width": 0.9,
         "x": [
          6
         ],
         "y": [
          94
         ]
        },
        {
         "base": 13,
         "hovertemplate": "&lt;G&gt;1<extra></extra>",
         "marker": {
          "color": "#ccebc5"
         },
         "orientation": "h",
         "showlegend": false,
         "type": "bar",
         "width": 0.9,
         "x": [
          1
         ],
         "y": [
          94
         ]
        },
        {
         "base": 14,
         "hovertemplate": "&lt;AAG&gt;46<extra></extra>",
         "marker": {
          "color": "bisque"
         },
         "orientation": "h",
         "showlegend": false,
         "type": "bar",
         "width": 0.9,
         "x": [
          138
         ],
         "y": [
          94
         ]
        },
        {
         "base": 155,
         "hovertemplate": "EncodedSeq: &lt;AAG&gt;2&lt;A&gt;1&lt;AAG&gt;2&lt;G&gt;1&lt;AAG&gt;46<br>Allele count: 1<br>Frequency: 0.11%<extra></extra>",
         "marker": {
          "color": "black"
         },
         "orientation": "h",
         "showlegend": false,
         "type": "bar",
         "width": 0.6,
         "x": [
          6.0989010989010985
         ],
         "y": [
          94
         ]
        },
        {
         "base": 0,
         "hovertemplate": "&lt;AAG&gt;25<extra></extra>",
         "marker": {
          "color": "bisque"
         },
         "orientation": "h",
         "showlegend": false,
         "type": "bar",
         "width": 0.9,
         "x": [
          75
         ],
         "y": [
          95
         ]
        },
        {
         "base": 75,
         "hovertemplate": "&lt;AG&gt;1<extra></extra>",
         "marker": {
          "color": "#8dd3c7"
         },
         "orientation": "h",
         "showlegend": false,
         "type": "bar",
         "width": 0.9,
         "x": [
          2
         ],
         "y": [
          95
         ]
        },
        {
         "base": 77,
         "hovertemplate": "&lt;AAG&gt;25<extra></extra>",
         "marker": {
          "color": "bisque"
         },
         "orientation": "h",
         "showlegend": false,
         "type": "bar",
         "width": 0.9,
         "x": [
          75
         ],
         "y": [
          95
         ]
        },
        {
         "base": 155,
         "hovertemplate": "EncodedSeq: &lt;AAG&gt;25&lt;AG&gt;1&lt;AAG&gt;25<br>Allele count: 1<br>Frequency: 0.11%<extra></extra>",
         "marker": {
          "color": "black"
         },
         "orientation": "h",
         "showlegend": false,
         "type": "bar",
         "width": 0.6,
         "x": [
          6.0989010989010985
         ],
         "y": [
          95
         ]
        },
        {
         "base": 0,
         "hovertemplate": "&lt;AAG&gt;2<extra></extra>",
         "marker": {
          "color": "bisque"
         },
         "orientation": "h",
         "showlegend": false,
         "type": "bar",
         "width": 0.9,
         "x": [
          6
         ],
         "y": [
          96
         ]
        },
        {
         "base": 6,
         "hovertemplate": "&lt;A&gt;1<extra></extra>",
         "marker": {
          "color": "#1f78b4"
         },
         "orientation": "h",
         "showlegend": false,
         "type": "bar",
         "width": 0.9,
         "x": [
          1
         ],
         "y": [
          96
         ]
        },
        {
         "base": 7,
         "hovertemplate": "&lt;AAG&gt;2<extra></extra>",
         "marker": {
          "color": "bisque"
         },
         "orientation": "h",
         "showlegend": false,
         "type": "bar",
         "width": 0.9,
         "x": [
          6
         ],
         "y": [
          96
         ]
        },
        {
         "base": 13,
         "hovertemplate": "&lt;G&gt;1<extra></extra>",
         "marker": {
          "color": "#ccebc5"
         },
         "orientation": "h",
         "showlegend": false,
         "type": "bar",
         "width": 0.9,
         "x": [
          1
         ],
         "y": [
          96
         ]
        },
        {
         "base": 14,
         "hovertemplate": "&lt;AAG&gt;27<extra></extra>",
         "marker": {
          "color": "bisque"
         },
         "orientation": "h",
         "showlegend": false,
         "type": "bar",
         "width": 0.9,
         "x": [
          81
         ],
         "y": [
          96
         ]
        },
        {
         "base": 95,
         "hovertemplate": "&lt;AGG&gt;1<extra></extra>",
         "marker": {
          "color": "#ff7f00"
         },
         "orientation": "h",
         "showlegend": false,
         "type": "bar",
         "width": 0.9,
         "x": [
          3
         ],
         "y": [
          96
         ]
        },
        {
         "base": 98,
         "hovertemplate": "&lt;AAG&gt;18<extra></extra>",
         "marker": {
          "color": "bisque"
         },
         "orientation": "h",
         "showlegend": false,
         "type": "bar",
         "width": 0.9,
         "x": [
          54
         ],
         "y": [
          96
         ]
        },
        {
         "base": 155,
         "hovertemplate": "EncodedSeq: &lt;AAG&gt;2&lt;A&gt;1&lt;AAG&gt;2&lt;G&gt;1&lt;AAG&gt;27&lt;AGG&gt;1&lt;AAG&gt;18<br>Allele count: 1<br>Frequency: 0.11%<extra></extra>",
         "marker": {
          "color": "black"
         },
         "orientation": "h",
         "showlegend": false,
         "type": "bar",
         "width": 0.6,
         "x": [
          6.0989010989010985
         ],
         "y": [
          96
         ]
        },
        {
         "base": 0,
         "hovertemplate": "&lt;AAG&gt;10<extra></extra>",
         "marker": {
          "color": "bisque"
         },
         "orientation": "h",
         "showlegend": false,
         "type": "bar",
         "width": 0.9,
         "x": [
          30
         ],
         "y": [
          97
         ]
        },
        {
         "base": 30,
         "hovertemplate": "&lt;AAGAGG&gt;10<extra></extra>",
         "marker": {
          "color": "#b2df8a"
         },
         "orientation": "h",
         "showlegend": false,
         "type": "bar",
         "width": 0.9,
         "x": [
          60
         ],
         "y": [
          97
         ]
        },
        {
         "base": 90,
         "hovertemplate": "&lt;AAG&gt;20<extra></extra>",
         "marker": {
          "color": "bisque"
         },
         "orientation": "h",
         "showlegend": false,
         "type": "bar",
         "width": 0.9,
         "x": [
          60
         ],
         "y": [
          97
         ]
        },
        {
         "base": 153,
         "hovertemplate": "EncodedSeq: &lt;AAG&gt;10&lt;AAGAGG&gt;10&lt;AAG&gt;20<br>Allele count: 1<br>Frequency: 0.11%<extra></extra>",
         "marker": {
          "color": "black"
         },
         "orientation": "h",
         "showlegend": false,
         "type": "bar",
         "width": 0.6,
         "x": [
          6.0989010989010985
         ],
         "y": [
          97
         ]
        },
        {
         "base": 0,
         "hovertemplate": "&lt;AAG&gt;6<extra></extra>",
         "marker": {
          "color": "bisque"
         },
         "orientation": "h",
         "showlegend": false,
         "type": "bar",
         "width": 0.9,
         "x": [
          18
         ],
         "y": [
          98
         ]
        },
        {
         "base": 18,
         "hovertemplate": "&lt;AAAGAAGAAG&gt;5<extra></extra>",
         "marker": {
          "color": "#a6cee3"
         },
         "orientation": "h",
         "showlegend": false,
         "type": "bar",
         "width": 0.9,
         "x": [
          50
         ],
         "y": [
          98
         ]
        },
        {
         "base": 68,
         "hovertemplate": "&lt;AAG&gt;27<extra></extra>",
         "marker": {
          "color": "bisque"
         },
         "orientation": "h",
         "showlegend": false,
         "type": "bar",
         "width": 0.9,
         "x": [
          81
         ],
         "y": [
          98
         ]
        },
        {
         "base": 152,
         "hovertemplate": "EncodedSeq: &lt;AAG&gt;6&lt;AAAGAAGAAG&gt;5&lt;AAG&gt;27<br>Allele count: 1<br>Frequency: 0.11%<extra></extra>",
         "marker": {
          "color": "black"
         },
         "orientation": "h",
         "showlegend": false,
         "type": "bar",
         "width": 0.6,
         "x": [
          6.0989010989010985
         ],
         "y": [
          98
         ]
        },
        {
         "base": 0,
         "hovertemplate": "&lt;AAG&gt;23<extra></extra>",
         "marker": {
          "color": "bisque"
         },
         "orientation": "h",
         "showlegend": false,
         "type": "bar",
         "width": 0.9,
         "x": [
          69
         ],
         "y": [
          99
         ]
        },
        {
         "base": 69,
         "hovertemplate": "&lt;GAG&gt;1<extra></extra>",
         "marker": {
          "color": "#33a02c"
         },
         "orientation": "h",
         "showlegend": false,
         "type": "bar",
         "width": 0.9,
         "x": [
          3
         ],
         "y": [
          99
         ]
        },
        {
         "base": 72,
         "hovertemplate": "&lt;AAG&gt;18<extra></extra>",
         "marker": {
          "color": "bisque"
         },
         "orientation": "h",
         "showlegend": false,
         "type": "bar",
         "width": 0.9,
         "x": [
          54
         ],
         "y": [
          99
         ]
        },
        {
         "base": 126,
         "hovertemplate": "&lt;AGAG&gt;1<extra></extra>",
         "marker": {
          "color": "gray"
         },
         "orientation": "h",
         "showlegend": false,
         "type": "bar",
         "width": 0.9,
         "x": [
          4
         ],
         "y": [
          99
         ]
        },
        {
         "base": 130,
         "hovertemplate": "&lt;AAG&gt;6<extra></extra>",
         "marker": {
          "color": "bisque"
         },
         "orientation": "h",
         "showlegend": false,
         "type": "bar",
         "width": 0.9,
         "x": [
          18
         ],
         "y": [
          99
         ]
        },
        {
         "base": 151,
         "hovertemplate": "EncodedSeq: &lt;AAG&gt;23&lt;GAG&gt;1&lt;AAG&gt;18&lt;AGAG&gt;1&lt;AAG&gt;6<br>Allele count: 1<br>Frequency: 0.11%<extra></extra>",
         "marker": {
          "color": "black"
         },
         "orientation": "h",
         "showlegend": false,
         "type": "bar",
         "width": 0.6,
         "x": [
          6.0989010989010985
         ],
         "y": [
          99
         ]
        },
        {
         "base": 0,
         "hovertemplate": "&lt;AAG&gt;49<extra></extra>",
         "marker": {
          "color": "bisque"
         },
         "orientation": "h",
         "showlegend": false,
         "type": "bar",
         "width": 0.9,
         "x": [
          147
         ],
         "y": [
          100
         ]
        },
        {
         "base": 150,
         "hovertemplate": "EncodedSeq: &lt;AAG&gt;49<br>Allele count: 1<br>Frequency: 0.11%<extra></extra>",
         "marker": {
          "color": "black"
         },
         "orientation": "h",
         "showlegend": false,
         "type": "bar",
         "width": 0.6,
         "x": [
          6.0989010989010985
         ],
         "y": [
          100
         ]
        },
        {
         "base": 0,
         "hovertemplate": "&lt;AAG&gt;23<extra></extra>",
         "marker": {
          "color": "bisque"
         },
         "orientation": "h",
         "showlegend": false,
         "type": "bar",
         "width": 0.9,
         "x": [
          69
         ],
         "y": [
          101
         ]
        },
        {
         "base": 69,
         "hovertemplate": "&lt;AGG&gt;1<extra></extra>",
         "marker": {
          "color": "#ff7f00"
         },
         "orientation": "h",
         "showlegend": false,
         "type": "bar",
         "width": 0.9,
         "x": [
          3
         ],
         "y": [
          101
         ]
        },
        {
         "base": 72,
         "hovertemplate": "&lt;AAG&gt;25<extra></extra>",
         "marker": {
          "color": "bisque"
         },
         "orientation": "h",
         "showlegend": false,
         "type": "bar",
         "width": 0.9,
         "x": [
          75
         ],
         "y": [
          101
         ]
        },
        {
         "base": 150,
         "hovertemplate": "EncodedSeq: &lt;AAG&gt;23&lt;AGG&gt;1&lt;AAG&gt;25<br>Allele count: 1<br>Frequency: 0.11%<extra></extra>",
         "marker": {
          "color": "black"
         },
         "orientation": "h",
         "showlegend": false,
         "type": "bar",
         "width": 0.6,
         "x": [
          6.0989010989010985
         ],
         "y": [
          101
         ]
        },
        {
         "base": 0,
         "hovertemplate": "&lt;AAG&gt;48<extra></extra>",
         "marker": {
          "color": "bisque"
         },
         "orientation": "h",
         "showlegend": false,
         "type": "bar",
         "width": 0.9,
         "x": [
          144
         ],
         "y": [
          102
         ]
        },
        {
         "base": 147,
         "hovertemplate": "EncodedSeq: &lt;AAG&gt;48<br>Allele count: 1<br>Frequency: 0.11%<extra></extra>",
         "marker": {
          "color": "black"
         },
         "orientation": "h",
         "showlegend": false,
         "type": "bar",
         "width": 0.6,
         "x": [
          6.0989010989010985
         ],
         "y": [
          102
         ]
        },
        {
         "base": 0,
         "hovertemplate": "&lt;AAG&gt;25<extra></extra>",
         "marker": {
          "color": "bisque"
         },
         "orientation": "h",
         "showlegend": false,
         "type": "bar",
         "width": 0.9,
         "x": [
          75
         ],
         "y": [
          103
         ]
        },
        {
         "base": 75,
         "hovertemplate": "&lt;GAG&gt;1<extra></extra>",
         "marker": {
          "color": "#33a02c"
         },
         "orientation": "h",
         "showlegend": false,
         "type": "bar",
         "width": 0.9,
         "x": [
          3
         ],
         "y": [
          103
         ]
        },
        {
         "base": 78,
         "hovertemplate": "&lt;AAG&gt;22<extra></extra>",
         "marker": {
          "color": "bisque"
         },
         "orientation": "h",
         "showlegend": false,
         "type": "bar",
         "width": 0.9,
         "x": [
          66
         ],
         "y": [
          103
         ]
        },
        {
         "base": 147,
         "hovertemplate": "EncodedSeq: &lt;AAG&gt;25&lt;GAG&gt;1&lt;AAG&gt;22<br>Allele count: 1<br>Frequency: 0.11%<extra></extra>",
         "marker": {
          "color": "black"
         },
         "orientation": "h",
         "showlegend": false,
         "type": "bar",
         "width": 0.6,
         "x": [
          6.0989010989010985
         ],
         "y": [
          103
         ]
        },
        {
         "base": 0,
         "hovertemplate": "&lt;AAG&gt;6<extra></extra>",
         "marker": {
          "color": "bisque"
         },
         "orientation": "h",
         "showlegend": false,
         "type": "bar",
         "width": 0.9,
         "x": [
          18
         ],
         "y": [
          104
         ]
        },
        {
         "base": 18,
         "hovertemplate": "&lt;AAAGAAGAAG&gt;1<extra></extra>",
         "marker": {
          "color": "#a6cee3"
         },
         "orientation": "h",
         "showlegend": false,
         "type": "bar",
         "width": 0.9,
         "x": [
          10
         ],
         "y": [
          104
         ]
        },
        {
         "base": 28,
         "hovertemplate": "&lt;AAG&gt;3<extra></extra>",
         "marker": {
          "color": "bisque"
         },
         "orientation": "h",
         "showlegend": false,
         "type": "bar",
         "width": 0.9,
         "x": [
          9
         ],
         "y": [
          104
         ]
        },
        {
         "base": 37,
         "hovertemplate": "&lt;AAAGAAGAAG&gt;2<extra></extra>",
         "marker": {
          "color": "#a6cee3"
         },
         "orientation": "h",
         "showlegend": false,
         "type": "bar",
         "width": 0.9,
         "x": [
          20
         ],
         "y": [
          104
         ]
        },
        {
         "base": 57,
         "hovertemplate": "&lt;AAG&gt;29<extra></extra>",
         "marker": {
          "color": "bisque"
         },
         "orientation": "h",
         "showlegend": false,
         "type": "bar",
         "width": 0.9,
         "x": [
          87
         ],
         "y": [
          104
         ]
        },
        {
         "base": 147,
         "hovertemplate": "EncodedSeq: &lt;AAG&gt;6&lt;AAAGAAGAAG&gt;1&lt;AAG&gt;3&lt;AAAGAAGAAG&gt;2&lt;AAG&gt;29<br>Allele count: 1<br>Frequency: 0.11%<extra></extra>",
         "marker": {
          "color": "black"
         },
         "orientation": "h",
         "showlegend": false,
         "type": "bar",
         "width": 0.6,
         "x": [
          6.0989010989010985
         ],
         "y": [
          104
         ]
        },
        {
         "base": 0,
         "hovertemplate": "&lt;AAG&gt;22<extra></extra>",
         "marker": {
          "color": "bisque"
         },
         "orientation": "h",
         "showlegend": false,
         "type": "bar",
         "width": 0.9,
         "x": [
          66
         ],
         "y": [
          105
         ]
        },
        {
         "base": 66,
         "hovertemplate": "&lt;GAG&gt;1<extra></extra>",
         "marker": {
          "color": "#33a02c"
         },
         "orientation": "h",
         "showlegend": false,
         "type": "bar",
         "width": 0.9,
         "x": [
          3
         ],
         "y": [
          105
         ]
        },
        {
         "base": 69,
         "hovertemplate": "&lt;AAG&gt;25<extra></extra>",
         "marker": {
          "color": "bisque"
         },
         "orientation": "h",
         "showlegend": false,
         "type": "bar",
         "width": 0.9,
         "x": [
          75
         ],
         "y": [
          105
         ]
        },
        {
         "base": 147,
         "hovertemplate": "EncodedSeq: &lt;AAG&gt;22&lt;GAG&gt;1&lt;AAG&gt;25<br>Allele count: 1<br>Frequency: 0.11%<extra></extra>",
         "marker": {
          "color": "black"
         },
         "orientation": "h",
         "showlegend": false,
         "type": "bar",
         "width": 0.6,
         "x": [
          6.0989010989010985
         ],
         "y": [
          105
         ]
        },
        {
         "base": 0,
         "hovertemplate": "&lt;AAG&gt;6<extra></extra>",
         "marker": {
          "color": "bisque"
         },
         "orientation": "h",
         "showlegend": false,
         "type": "bar",
         "width": 0.9,
         "x": [
          18
         ],
         "y": [
          106
         ]
        },
        {
         "base": 18,
         "hovertemplate": "&lt;AAAGAAGAAG&gt;5<extra></extra>",
         "marker": {
          "color": "#a6cee3"
         },
         "orientation": "h",
         "showlegend": false,
         "type": "bar",
         "width": 0.9,
         "x": [
          50
         ],
         "y": [
          106
         ]
        },
        {
         "base": 68,
         "hovertemplate": "&lt;AAG&gt;25<extra></extra>",
         "marker": {
          "color": "bisque"
         },
         "orientation": "h",
         "showlegend": false,
         "type": "bar",
         "width": 0.9,
         "x": [
          75
         ],
         "y": [
          106
         ]
        },
        {
         "base": 146,
         "hovertemplate": "EncodedSeq: &lt;AAG&gt;6&lt;AAAGAAGAAG&gt;5&lt;AAG&gt;25<br>Allele count: 1<br>Frequency: 0.11%<extra></extra>",
         "marker": {
          "color": "black"
         },
         "orientation": "h",
         "showlegend": false,
         "type": "bar",
         "width": 0.6,
         "x": [
          6.0989010989010985
         ],
         "y": [
          106
         ]
        },
        {
         "base": 0,
         "hovertemplate": "&lt;AAG&gt;21<extra></extra>",
         "marker": {
          "color": "bisque"
         },
         "orientation": "h",
         "showlegend": false,
         "type": "bar",
         "width": 0.9,
         "x": [
          63
         ],
         "y": [
          107
         ]
        },
        {
         "base": 63,
         "hovertemplate": "&lt;GAG&gt;1<extra></extra>",
         "marker": {
          "color": "#33a02c"
         },
         "orientation": "h",
         "showlegend": false,
         "type": "bar",
         "width": 0.9,
         "x": [
          3
         ],
         "y": [
          107
         ]
        },
        {
         "base": 66,
         "hovertemplate": "&lt;AAG&gt;25<extra></extra>",
         "marker": {
          "color": "bisque"
         },
         "orientation": "h",
         "showlegend": false,
         "type": "bar",
         "width": 0.9,
         "x": [
          75
         ],
         "y": [
          107
         ]
        },
        {
         "base": 144,
         "hovertemplate": "EncodedSeq: &lt;AAG&gt;21&lt;GAG&gt;1&lt;AAG&gt;25<br>Allele count: 1<br>Frequency: 0.11%<extra></extra>",
         "marker": {
          "color": "black"
         },
         "orientation": "h",
         "showlegend": false,
         "type": "bar",
         "width": 0.6,
         "x": [
          6.0989010989010985
         ],
         "y": [
          107
         ]
        },
        {
         "base": 0,
         "hovertemplate": "&lt;AAG&gt;16<extra></extra>",
         "marker": {
          "color": "bisque"
         },
         "orientation": "h",
         "showlegend": false,
         "type": "bar",
         "width": 0.9,
         "x": [
          48
         ],
         "y": [
          108
         ]
        },
        {
         "base": 48,
         "hovertemplate": "&lt;AATAGAA&gt;1<extra></extra>",
         "marker": {
          "color": "gray"
         },
         "orientation": "h",
         "showlegend": false,
         "type": "bar",
         "width": 0.9,
         "x": [
          7
         ],
         "y": [
          108
         ]
        },
        {
         "base": 55,
         "hovertemplate": "&lt;AAG&gt;28<extra></extra>",
         "marker": {
          "color": "bisque"
         },
         "orientation": "h",
         "showlegend": false,
         "type": "bar",
         "width": 0.9,
         "x": [
          84
         ],
         "y": [
          108
         ]
        },
        {
         "base": 142,
         "hovertemplate": "EncodedSeq: &lt;AAG&gt;16&lt;AATAGAA&gt;1&lt;AAG&gt;28<br>Allele count: 1<br>Frequency: 0.11%<extra></extra>",
         "marker": {
          "color": "black"
         },
         "orientation": "h",
         "showlegend": false,
         "type": "bar",
         "width": 0.6,
         "x": [
          6.0989010989010985
         ],
         "y": [
          108
         ]
        },
        {
         "base": 0,
         "hovertemplate": "&lt;AAG&gt;46<extra></extra>",
         "marker": {
          "color": "bisque"
         },
         "orientation": "h",
         "showlegend": false,
         "type": "bar",
         "width": 0.9,
         "x": [
          138
         ],
         "y": [
          109
         ]
        },
        {
         "base": 141,
         "hovertemplate": "EncodedSeq: &lt;AAG&gt;46<br>Allele count: 1<br>Frequency: 0.11%<extra></extra>",
         "marker": {
          "color": "black"
         },
         "orientation": "h",
         "showlegend": false,
         "type": "bar",
         "width": 0.6,
         "x": [
          6.0989010989010985
         ],
         "y": [
          109
         ]
        },
        {
         "base": 0,
         "hovertemplate": "&lt;AAG&gt;18<extra></extra>",
         "marker": {
          "color": "bisque"
         },
         "orientation": "h",
         "showlegend": false,
         "type": "bar",
         "width": 0.9,
         "x": [
          54
         ],
         "y": [
          110
         ]
        },
        {
         "base": 54,
         "hovertemplate": "&lt;AAAGAAG&gt;2<extra></extra>",
         "marker": {
          "color": "#6a3d9a"
         },
         "orientation": "h",
         "showlegend": false,
         "type": "bar",
         "width": 0.9,
         "x": [
          14
         ],
         "y": [
          110
         ]
        },
        {
         "base": 68,
         "hovertemplate": "&lt;AAG&gt;23<extra></extra>",
         "marker": {
          "color": "bisque"
         },
         "orientation": "h",
         "showlegend": false,
         "type": "bar",
         "width": 0.9,
         "x": [
          69
         ],
         "y": [
          110
         ]
        },
        {
         "base": 140,
         "hovertemplate": "EncodedSeq: &lt;AAG&gt;18&lt;AAAGAAG&gt;2&lt;AAG&gt;23<br>Allele count: 1<br>Frequency: 0.11%<extra></extra>",
         "marker": {
          "color": "black"
         },
         "orientation": "h",
         "showlegend": false,
         "type": "bar",
         "width": 0.6,
         "x": [
          6.0989010989010985
         ],
         "y": [
          110
         ]
        },
        {
         "base": 0,
         "hovertemplate": "&lt;AAG&gt;13<extra></extra>",
         "marker": {
          "color": "bisque"
         },
         "orientation": "h",
         "showlegend": false,
         "type": "bar",
         "width": 0.9,
         "x": [
          39
         ],
         "y": [
          111
         ]
        },
        {
         "base": 39,
         "hovertemplate": "&lt;A&gt;1<extra></extra>",
         "marker": {
          "color": "#1f78b4"
         },
         "orientation": "h",
         "showlegend": false,
         "type": "bar",
         "width": 0.9,
         "x": [
          1
         ],
         "y": [
          111
         ]
        },
        {
         "base": 40,
         "hovertemplate": "&lt;AAG&gt;31<extra></extra>",
         "marker": {
          "color": "bisque"
         },
         "orientation": "h",
         "showlegend": false,
         "type": "bar",
         "width": 0.9,
         "x": [
          93
         ],
         "y": [
          111
         ]
        },
        {
         "base": 136,
         "hovertemplate": "EncodedSeq: &lt;AAG&gt;13&lt;A&gt;1&lt;AAG&gt;31<br>Allele count: 1<br>Frequency: 0.11%<extra></extra>",
         "marker": {
          "color": "black"
         },
         "orientation": "h",
         "showlegend": false,
         "type": "bar",
         "width": 0.6,
         "x": [
          6.0989010989010985
         ],
         "y": [
          111
         ]
        },
        {
         "base": 0,
         "hovertemplate": "&lt;AAG&gt;6<extra></extra>",
         "marker": {
          "color": "bisque"
         },
         "orientation": "h",
         "showlegend": false,
         "type": "bar",
         "width": 0.9,
         "x": [
          18
         ],
         "y": [
          112
         ]
        },
        {
         "base": 18,
         "hovertemplate": "&lt;AAAGAAGAAG&gt;3<extra></extra>",
         "marker": {
          "color": "#a6cee3"
         },
         "orientation": "h",
         "showlegend": false,
         "type": "bar",
         "width": 0.9,
         "x": [
          30
         ],
         "y": [
          112
         ]
        },
        {
         "base": 48,
         "hovertemplate": "&lt;AAG&gt;28<extra></extra>",
         "marker": {
          "color": "bisque"
         },
         "orientation": "h",
         "showlegend": false,
         "type": "bar",
         "width": 0.9,
         "x": [
          84
         ],
         "y": [
          112
         ]
        },
        {
         "base": 135,
         "hovertemplate": "EncodedSeq: &lt;AAG&gt;6&lt;AAAGAAGAAG&gt;3&lt;AAG&gt;28<br>Allele count: 1<br>Frequency: 0.11%<extra></extra>",
         "marker": {
          "color": "black"
         },
         "orientation": "h",
         "showlegend": false,
         "type": "bar",
         "width": 0.6,
         "x": [
          6.0989010989010985
         ],
         "y": [
          112
         ]
        },
        {
         "base": 0,
         "hovertemplate": "&lt;AAG&gt;27<extra></extra>",
         "marker": {
          "color": "bisque"
         },
         "orientation": "h",
         "showlegend": false,
         "type": "bar",
         "width": 0.9,
         "x": [
          81
         ],
         "y": [
          113
         ]
        },
        {
         "base": 81,
         "hovertemplate": "&lt;AGGAGG&gt;1<extra></extra>",
         "marker": {
          "color": "gray"
         },
         "orientation": "h",
         "showlegend": false,
         "type": "bar",
         "width": 0.9,
         "x": [
          6
         ],
         "y": [
          113
         ]
        },
        {
         "base": 87,
         "hovertemplate": "&lt;AAG&gt;14<extra></extra>",
         "marker": {
          "color": "bisque"
         },
         "orientation": "h",
         "showlegend": false,
         "type": "bar",
         "width": 0.9,
         "x": [
          42
         ],
         "y": [
          113
         ]
        },
        {
         "base": 132,
         "hovertemplate": "EncodedSeq: &lt;AAG&gt;27&lt;AGGAGG&gt;1&lt;AAG&gt;14<br>Allele count: 1<br>Frequency: 0.11%<extra></extra>",
         "marker": {
          "color": "black"
         },
         "orientation": "h",
         "showlegend": false,
         "type": "bar",
         "width": 0.6,
         "x": [
          6.0989010989010985
         ],
         "y": [
          113
         ]
        },
        {
         "base": 0,
         "hovertemplate": "&lt;AAG&gt;6<extra></extra>",
         "marker": {
          "color": "bisque"
         },
         "orientation": "h",
         "showlegend": false,
         "type": "bar",
         "width": 0.9,
         "x": [
          18
         ],
         "y": [
          114
         ]
        },
        {
         "base": 18,
         "hovertemplate": "&lt;AAAGAAGAAG&gt;3<extra></extra>",
         "marker": {
          "color": "#a6cee3"
         },
         "orientation": "h",
         "showlegend": false,
         "type": "bar",
         "width": 0.9,
         "x": [
          30
         ],
         "y": [
          114
         ]
        },
        {
         "base": 48,
         "hovertemplate": "&lt;AAG&gt;27<extra></extra>",
         "marker": {
          "color": "bisque"
         },
         "orientation": "h",
         "showlegend": false,
         "type": "bar",
         "width": 0.9,
         "x": [
          81
         ],
         "y": [
          114
         ]
        },
        {
         "base": 132,
         "hovertemplate": "EncodedSeq: &lt;AAG&gt;6&lt;AAAGAAGAAG&gt;3&lt;AAG&gt;27<br>Allele count: 1<br>Frequency: 0.11%<extra></extra>",
         "marker": {
          "color": "black"
         },
         "orientation": "h",
         "showlegend": false,
         "type": "bar",
         "width": 0.6,
         "x": [
          6.0989010989010985
         ],
         "y": [
          114
         ]
        },
        {
         "base": 0,
         "hovertemplate": "&lt;AAG&gt;7<extra></extra>",
         "marker": {
          "color": "bisque"
         },
         "orientation": "h",
         "showlegend": false,
         "type": "bar",
         "width": 0.9,
         "x": [
          21
         ],
         "y": [
          115
         ]
        },
        {
         "base": 21,
         "hovertemplate": "&lt;AAGAGG&gt;7<extra></extra>",
         "marker": {
          "color": "#b2df8a"
         },
         "orientation": "h",
         "showlegend": false,
         "type": "bar",
         "width": 0.9,
         "x": [
          42
         ],
         "y": [
          115
         ]
        },
        {
         "base": 63,
         "hovertemplate": "&lt;AAG&gt;22<extra></extra>",
         "marker": {
          "color": "bisque"
         },
         "orientation": "h",
         "showlegend": false,
         "type": "bar",
         "width": 0.9,
         "x": [
          66
         ],
         "y": [
          115
         ]
        },
        {
         "base": 132,
         "hovertemplate": "EncodedSeq: &lt;AAG&gt;7&lt;AAGAGG&gt;7&lt;AAG&gt;22<br>Allele count: 2<br>Frequency: 0.22%<extra></extra>",
         "marker": {
          "color": "black"
         },
         "orientation": "h",
         "showlegend": false,
         "type": "bar",
         "width": 0.6,
         "x": [
          7.197802197802198
         ],
         "y": [
          115
         ]
        },
        {
         "base": 0,
         "hovertemplate": "&lt;AAG&gt;1<extra></extra>",
         "marker": {
          "color": "bisque"
         },
         "orientation": "h",
         "showlegend": false,
         "type": "bar",
         "width": 0.9,
         "x": [
          3
         ],
         "y": [
          116
         ]
        },
        {
         "base": 3,
         "hovertemplate": "&lt;AAAG&gt;1<extra></extra>",
         "marker": {
          "color": "#999999"
         },
         "orientation": "h",
         "showlegend": false,
         "type": "bar",
         "width": 0.9,
         "x": [
          4
         ],
         "y": [
          116
         ]
        },
        {
         "base": 7,
         "hovertemplate": "&lt;AAG&gt;14<extra></extra>",
         "marker": {
          "color": "bisque"
         },
         "orientation": "h",
         "showlegend": false,
         "type": "bar",
         "width": 0.9,
         "x": [
          42
         ],
         "y": [
          116
         ]
        },
        {
         "base": 49,
         "hovertemplate": "&lt;AAAG&gt;2<extra></extra>",
         "marker": {
          "color": "#999999"
         },
         "orientation": "h",
         "showlegend": false,
         "type": "bar",
         "width": 0.9,
         "x": [
          8
         ],
         "y": [
          116
         ]
        },
        {
         "base": 57,
         "hovertemplate": "&lt;AAG&gt;24<extra></extra>",
         "marker": {
          "color": "bisque"
         },
         "orientation": "h",
         "showlegend": false,
         "type": "bar",
         "width": 0.9,
         "x": [
          72
         ],
         "y": [
          116
         ]
        },
        {
         "base": 132,
         "hovertemplate": "EncodedSeq: &lt;AAG&gt;1&lt;AAAG&gt;1&lt;AAG&gt;14&lt;AAAG&gt;2&lt;AAG&gt;24<br>Allele count: 1<br>Frequency: 0.11%<extra></extra>",
         "marker": {
          "color": "black"
         },
         "orientation": "h",
         "showlegend": false,
         "type": "bar",
         "width": 0.6,
         "x": [
          6.0989010989010985
         ],
         "y": [
          116
         ]
        },
        {
         "base": 0,
         "hovertemplate": "&lt;AAG&gt;16<extra></extra>",
         "marker": {
          "color": "bisque"
         },
         "orientation": "h",
         "showlegend": false,
         "type": "bar",
         "width": 0.9,
         "x": [
          48
         ],
         "y": [
          117
         ]
        },
        {
         "base": 48,
         "hovertemplate": "&lt;A&gt;1<extra></extra>",
         "marker": {
          "color": "#1f78b4"
         },
         "orientation": "h",
         "showlegend": false,
         "type": "bar",
         "width": 0.9,
         "x": [
          1
         ],
         "y": [
          117
         ]
        },
        {
         "base": 49,
         "hovertemplate": "&lt;AAG&gt;26<extra></extra>",
         "marker": {
          "color": "bisque"
         },
         "orientation": "h",
         "showlegend": false,
         "type": "bar",
         "width": 0.9,
         "x": [
          78
         ],
         "y": [
          117
         ]
        },
        {
         "base": 130,
         "hovertemplate": "EncodedSeq: &lt;AAG&gt;16&lt;A&gt;1&lt;AAG&gt;26<br>Allele count: 1<br>Frequency: 0.11%<extra></extra>",
         "marker": {
          "color": "black"
         },
         "orientation": "h",
         "showlegend": false,
         "type": "bar",
         "width": 0.6,
         "x": [
          6.0989010989010985
         ],
         "y": [
          117
         ]
        },
        {
         "base": 0,
         "hovertemplate": "&lt;AAG&gt;7<extra></extra>",
         "marker": {
          "color": "bisque"
         },
         "orientation": "h",
         "showlegend": false,
         "type": "bar",
         "width": 0.9,
         "x": [
          21
         ],
         "y": [
          118
         ]
        },
        {
         "base": 21,
         "hovertemplate": "&lt;AAGAGG&gt;4<extra></extra>",
         "marker": {
          "color": "#b2df8a"
         },
         "orientation": "h",
         "showlegend": false,
         "type": "bar",
         "width": 0.9,
         "x": [
          24
         ],
         "y": [
          118
         ]
        },
        {
         "base": 45,
         "hovertemplate": "&lt;AAG&gt;27<extra></extra>",
         "marker": {
          "color": "bisque"
         },
         "orientation": "h",
         "showlegend": false,
         "type": "bar",
         "width": 0.9,
         "x": [
          81
         ],
         "y": [
          118
         ]
        },
        {
         "base": 129,
         "hovertemplate": "EncodedSeq: &lt;AAG&gt;7&lt;AAGAGG&gt;4&lt;AAG&gt;27<br>Allele count: 1<br>Frequency: 0.11%<extra></extra>",
         "marker": {
          "color": "black"
         },
         "orientation": "h",
         "showlegend": false,
         "type": "bar",
         "width": 0.6,
         "x": [
          6.0989010989010985
         ],
         "y": [
          118
         ]
        },
        {
         "base": 0,
         "hovertemplate": "&lt;AAG&gt;9<extra></extra>",
         "marker": {
          "color": "bisque"
         },
         "orientation": "h",
         "showlegend": false,
         "type": "bar",
         "width": 0.9,
         "x": [
          27
         ],
         "y": [
          119
         ]
        },
        {
         "base": 27,
         "hovertemplate": "&lt;AAAGAAGAAG&gt;3<extra></extra>",
         "marker": {
          "color": "#a6cee3"
         },
         "orientation": "h",
         "showlegend": false,
         "type": "bar",
         "width": 0.9,
         "x": [
          30
         ],
         "y": [
          119
         ]
        },
        {
         "base": 57,
         "hovertemplate": "&lt;AAG&gt;23<extra></extra>",
         "marker": {
          "color": "bisque"
         },
         "orientation": "h",
         "showlegend": false,
         "type": "bar",
         "width": 0.9,
         "x": [
          69
         ],
         "y": [
          119
         ]
        },
        {
         "base": 129,
         "hovertemplate": "EncodedSeq: &lt;AAG&gt;9&lt;AAAGAAGAAG&gt;3&lt;AAG&gt;23<br>Allele count: 1<br>Frequency: 0.11%<extra></extra>",
         "marker": {
          "color": "black"
         },
         "orientation": "h",
         "showlegend": false,
         "type": "bar",
         "width": 0.6,
         "x": [
          6.0989010989010985
         ],
         "y": [
          119
         ]
        },
        {
         "base": 0,
         "hovertemplate": "&lt;AAG&gt;7<extra></extra>",
         "marker": {
          "color": "bisque"
         },
         "orientation": "h",
         "showlegend": false,
         "type": "bar",
         "width": 0.9,
         "x": [
          21
         ],
         "y": [
          120
         ]
        },
        {
         "base": 21,
         "hovertemplate": "&lt;AAGAGG&gt;7<extra></extra>",
         "marker": {
          "color": "#b2df8a"
         },
         "orientation": "h",
         "showlegend": false,
         "type": "bar",
         "width": 0.9,
         "x": [
          42
         ],
         "y": [
          120
         ]
        },
        {
         "base": 63,
         "hovertemplate": "&lt;AAG&gt;21<extra></extra>",
         "marker": {
          "color": "bisque"
         },
         "orientation": "h",
         "showlegend": false,
         "type": "bar",
         "width": 0.9,
         "x": [
          63
         ],
         "y": [
          120
         ]
        },
        {
         "base": 129,
         "hovertemplate": "EncodedSeq: &lt;AAG&gt;7&lt;AAGAGG&gt;7&lt;AAG&gt;21<br>Allele count: 1<br>Frequency: 0.11%<extra></extra>",
         "marker": {
          "color": "black"
         },
         "orientation": "h",
         "showlegend": false,
         "type": "bar",
         "width": 0.6,
         "x": [
          6.0989010989010985
         ],
         "y": [
          120
         ]
        },
        {
         "base": 0,
         "hovertemplate": "&lt;AAG&gt;2<extra></extra>",
         "marker": {
          "color": "bisque"
         },
         "orientation": "h",
         "showlegend": false,
         "type": "bar",
         "width": 0.9,
         "x": [
          6
         ],
         "y": [
          121
         ]
        },
        {
         "base": 6,
         "hovertemplate": "&lt;AAAGAAG&gt;6<extra></extra>",
         "marker": {
          "color": "#6a3d9a"
         },
         "orientation": "h",
         "showlegend": false,
         "type": "bar",
         "width": 0.9,
         "x": [
          42
         ],
         "y": [
          121
         ]
        },
        {
         "base": 48,
         "hovertemplate": "&lt;AAG&gt;25<extra></extra>",
         "marker": {
          "color": "bisque"
         },
         "orientation": "h",
         "showlegend": false,
         "type": "bar",
         "width": 0.9,
         "x": [
          75
         ],
         "y": [
          121
         ]
        },
        {
         "base": 126,
         "hovertemplate": "EncodedSeq: &lt;AAG&gt;2&lt;AAAGAAG&gt;6&lt;AAG&gt;25<br>Allele count: 1<br>Frequency: 0.11%<extra></extra>",
         "marker": {
          "color": "black"
         },
         "orientation": "h",
         "showlegend": false,
         "type": "bar",
         "width": 0.6,
         "x": [
          6.0989010989010985
         ],
         "y": [
          121
         ]
        },
        {
         "base": 0,
         "hovertemplate": "&lt;AAG&gt;41<extra></extra>",
         "marker": {
          "color": "bisque"
         },
         "orientation": "h",
         "showlegend": false,
         "type": "bar",
         "width": 0.9,
         "x": [
          123
         ],
         "y": [
          122
         ]
        },
        {
         "base": 126,
         "hovertemplate": "EncodedSeq: &lt;AAG&gt;41<br>Allele count: 1<br>Frequency: 0.11%<extra></extra>",
         "marker": {
          "color": "black"
         },
         "orientation": "h",
         "showlegend": false,
         "type": "bar",
         "width": 0.6,
         "x": [
          6.0989010989010985
         ],
         "y": [
          122
         ]
        },
        {
         "base": 0,
         "hovertemplate": "&lt;AAG&gt;21<extra></extra>",
         "marker": {
          "color": "bisque"
         },
         "orientation": "h",
         "showlegend": false,
         "type": "bar",
         "width": 0.9,
         "x": [
          63
         ],
         "y": [
          123
         ]
        },
        {
         "base": 63,
         "hovertemplate": "&lt;AGG&gt;1<extra></extra>",
         "marker": {
          "color": "#ff7f00"
         },
         "orientation": "h",
         "showlegend": false,
         "type": "bar",
         "width": 0.9,
         "x": [
          3
         ],
         "y": [
          123
         ]
        },
        {
         "base": 66,
         "hovertemplate": "&lt;AAG&gt;19<extra></extra>",
         "marker": {
          "color": "bisque"
         },
         "orientation": "h",
         "showlegend": false,
         "type": "bar",
         "width": 0.9,
         "x": [
          57
         ],
         "y": [
          123
         ]
        },
        {
         "base": 126,
         "hovertemplate": "EncodedSeq: &lt;AAG&gt;21&lt;AGG&gt;1&lt;AAG&gt;19<br>Allele count: 1<br>Frequency: 0.11%<extra></extra>",
         "marker": {
          "color": "black"
         },
         "orientation": "h",
         "showlegend": false,
         "type": "bar",
         "width": 0.6,
         "x": [
          6.0989010989010985
         ],
         "y": [
          123
         ]
        },
        {
         "base": 0,
         "hovertemplate": "&lt;AAG&gt;25<extra></extra>",
         "marker": {
          "color": "bisque"
         },
         "orientation": "h",
         "showlegend": false,
         "type": "bar",
         "width": 0.9,
         "x": [
          75
         ],
         "y": [
          124
         ]
        },
        {
         "base": 75,
         "hovertemplate": "&lt;G&gt;1<extra></extra>",
         "marker": {
          "color": "#ccebc5"
         },
         "orientation": "h",
         "showlegend": false,
         "type": "bar",
         "width": 0.9,
         "x": [
          1
         ],
         "y": [
          124
         ]
        },
        {
         "base": 76,
         "hovertemplate": "&lt;AAG&gt;15<extra></extra>",
         "marker": {
          "color": "bisque"
         },
         "orientation": "h",
         "showlegend": false,
         "type": "bar",
         "width": 0.9,
         "x": [
          45
         ],
         "y": [
          124
         ]
        },
        {
         "base": 124,
         "hovertemplate": "EncodedSeq: &lt;AAG&gt;25&lt;G&gt;1&lt;AAG&gt;15<br>Allele count: 1<br>Frequency: 0.11%<extra></extra>",
         "marker": {
          "color": "black"
         },
         "orientation": "h",
         "showlegend": false,
         "type": "bar",
         "width": 0.6,
         "x": [
          6.0989010989010985
         ],
         "y": [
          124
         ]
        },
        {
         "base": 0,
         "hovertemplate": "&lt;AAG&gt;4<extra></extra>",
         "marker": {
          "color": "bisque"
         },
         "orientation": "h",
         "showlegend": false,
         "type": "bar",
         "width": 0.9,
         "x": [
          12
         ],
         "y": [
          125
         ]
        },
        {
         "base": 12,
         "hovertemplate": "&lt;AAAGAAG&gt;1<extra></extra>",
         "marker": {
          "color": "#6a3d9a"
         },
         "orientation": "h",
         "showlegend": false,
         "type": "bar",
         "width": 0.9,
         "x": [
          7
         ],
         "y": [
          125
         ]
        },
        {
         "base": 19,
         "hovertemplate": "&lt;AAAGAAGAAG&gt;3<extra></extra>",
         "marker": {
          "color": "#a6cee3"
         },
         "orientation": "h",
         "showlegend": false,
         "type": "bar",
         "width": 0.9,
         "x": [
          30
         ],
         "y": [
          125
         ]
        },
        {
         "base": 49,
         "hovertemplate": "&lt;AAG&gt;24<extra></extra>",
         "marker": {
          "color": "bisque"
         },
         "orientation": "h",
         "showlegend": false,
         "type": "bar",
         "width": 0.9,
         "x": [
          72
         ],
         "y": [
          125
         ]
        },
        {
         "base": 124,
         "hovertemplate": "EncodedSeq: &lt;AAG&gt;4&lt;AAAGAAG&gt;1&lt;AAAGAAGAAG&gt;3&lt;AAG&gt;24<br>Allele count: 1<br>Frequency: 0.11%<extra></extra>",
         "marker": {
          "color": "black"
         },
         "orientation": "h",
         "showlegend": false,
         "type": "bar",
         "width": 0.6,
         "x": [
          6.0989010989010985
         ],
         "y": [
          125
         ]
        },
        {
         "base": 0,
         "hovertemplate": "&lt;AAG&gt;24<extra></extra>",
         "marker": {
          "color": "bisque"
         },
         "orientation": "h",
         "showlegend": false,
         "type": "bar",
         "width": 0.9,
         "x": [
          72
         ],
         "y": [
          126
         ]
        },
        {
         "base": 72,
         "hovertemplate": "&lt;AGGAGG&gt;1<extra></extra>",
         "marker": {
          "color": "gray"
         },
         "orientation": "h",
         "showlegend": false,
         "type": "bar",
         "width": 0.9,
         "x": [
          6
         ],
         "y": [
          126
         ]
        },
        {
         "base": 78,
         "hovertemplate": "&lt;AAG&gt;14<extra></extra>",
         "marker": {
          "color": "bisque"
         },
         "orientation": "h",
         "showlegend": false,
         "type": "bar",
         "width": 0.9,
         "x": [
          42
         ],
         "y": [
          126
         ]
        },
        {
         "base": 123,
         "hovertemplate": "EncodedSeq: &lt;AAG&gt;24&lt;AGGAGG&gt;1&lt;AAG&gt;14<br>Allele count: 1<br>Frequency: 0.11%<extra></extra>",
         "marker": {
          "color": "black"
         },
         "orientation": "h",
         "showlegend": false,
         "type": "bar",
         "width": 0.6,
         "x": [
          6.0989010989010985
         ],
         "y": [
          126
         ]
        },
        {
         "base": 0,
         "hovertemplate": "&lt;AAG&gt;2<extra></extra>",
         "marker": {
          "color": "bisque"
         },
         "orientation": "h",
         "showlegend": false,
         "type": "bar",
         "width": 0.9,
         "x": [
          6
         ],
         "y": [
          127
         ]
        },
        {
         "base": 6,
         "hovertemplate": "&lt;AAGAAGAGG&gt;3<extra></extra>",
         "marker": {
          "color": "#ffed6f"
         },
         "orientation": "h",
         "showlegend": false,
         "type": "bar",
         "width": 0.9,
         "x": [
          27
         ],
         "y": [
          127
         ]
        },
        {
         "base": 33,
         "hovertemplate": "&lt;AAG&gt;29<extra></extra>",
         "marker": {
          "color": "bisque"
         },
         "orientation": "h",
         "showlegend": false,
         "type": "bar",
         "width": 0.9,
         "x": [
          87
         ],
         "y": [
          127
         ]
        },
        {
         "base": 123,
         "hovertemplate": "EncodedSeq: &lt;AAG&gt;2&lt;AAGAAGAGG&gt;3&lt;AAG&gt;29<br>Allele count: 1<br>Frequency: 0.11%<extra></extra>",
         "marker": {
          "color": "black"
         },
         "orientation": "h",
         "showlegend": false,
         "type": "bar",
         "width": 0.6,
         "x": [
          6.0989010989010985
         ],
         "y": [
          127
         ]
        },
        {
         "base": 0,
         "hovertemplate": "&lt;AAG&gt;5<extra></extra>",
         "marker": {
          "color": "bisque"
         },
         "orientation": "h",
         "showlegend": false,
         "type": "bar",
         "width": 0.9,
         "x": [
          15
         ],
         "y": [
          128
         ]
        },
        {
         "base": 15,
         "hovertemplate": "&lt;AAAGAAG&gt;5<extra></extra>",
         "marker": {
          "color": "#6a3d9a"
         },
         "orientation": "h",
         "showlegend": false,
         "type": "bar",
         "width": 0.9,
         "x": [
          35
         ],
         "y": [
          128
         ]
        },
        {
         "base": 50,
         "hovertemplate": "&lt;AAG&gt;23<extra></extra>",
         "marker": {
          "color": "bisque"
         },
         "orientation": "h",
         "showlegend": false,
         "type": "bar",
         "width": 0.9,
         "x": [
          69
         ],
         "y": [
          128
         ]
        },
        {
         "base": 122,
         "hovertemplate": "EncodedSeq: &lt;AAG&gt;5&lt;AAAGAAG&gt;5&lt;AAG&gt;23<br>Allele count: 3<br>Frequency: 0.33%<extra></extra>",
         "marker": {
          "color": "black"
         },
         "orientation": "h",
         "showlegend": false,
         "type": "bar",
         "width": 0.6,
         "x": [
          8.296703296703297
         ],
         "y": [
          128
         ]
        },
        {
         "base": 0,
         "hovertemplate": "&lt;AAG&gt;5<extra></extra>",
         "marker": {
          "color": "bisque"
         },
         "orientation": "h",
         "showlegend": false,
         "type": "bar",
         "width": 0.9,
         "x": [
          15
         ],
         "y": [
          129
         ]
        },
        {
         "base": 15,
         "hovertemplate": "&lt;AAAGAAG&gt;5<extra></extra>",
         "marker": {
          "color": "#6a3d9a"
         },
         "orientation": "h",
         "showlegend": false,
         "type": "bar",
         "width": 0.9,
         "x": [
          35
         ],
         "y": [
          129
         ]
        },
        {
         "base": 50,
         "hovertemplate": "&lt;AAG&gt;16<extra></extra>",
         "marker": {
          "color": "bisque"
         },
         "orientation": "h",
         "showlegend": false,
         "type": "bar",
         "width": 0.9,
         "x": [
          48
         ],
         "y": [
          129
         ]
        },
        {
         "base": 98,
         "hovertemplate": "&lt;AATAGAAATGTGTTT&gt;1<extra></extra>",
         "marker": {
          "color": "gray"
         },
         "orientation": "h",
         "showlegend": false,
         "type": "bar",
         "width": 0.9,
         "x": [
          15
         ],
         "y": [
          129
         ]
        },
        {
         "base": 113,
         "hovertemplate": "&lt;AAG&gt;2<extra></extra>",
         "marker": {
          "color": "bisque"
         },
         "orientation": "h",
         "showlegend": false,
         "type": "bar",
         "width": 0.9,
         "x": [
          6
         ],
         "y": [
          129
         ]
        },
        {
         "base": 122,
         "hovertemplate": "EncodedSeq: &lt;AAG&gt;5&lt;AAAGAAG&gt;5&lt;AAG&gt;16&lt;AATAGAAATGTGTTT&gt;1&lt;AAG&gt;2<br>Allele count: 1<br>Frequency: 0.11%<extra></extra>",
         "marker": {
          "color": "black"
         },
         "orientation": "h",
         "showlegend": false,
         "type": "bar",
         "width": 0.6,
         "x": [
          6.0989010989010985
         ],
         "y": [
          129
         ]
        },
        {
         "base": 0,
         "hovertemplate": "&lt;AAG&gt;2<extra></extra>",
         "marker": {
          "color": "bisque"
         },
         "orientation": "h",
         "showlegend": false,
         "type": "bar",
         "width": 0.9,
         "x": [
          6
         ],
         "y": [
          130
         ]
        },
        {
         "base": 6,
         "hovertemplate": "&lt;AAAGAAG&gt;3<extra></extra>",
         "marker": {
          "color": "#6a3d9a"
         },
         "orientation": "h",
         "showlegend": false,
         "type": "bar",
         "width": 0.9,
         "x": [
          21
         ],
         "y": [
          130
         ]
        },
        {
         "base": 27,
         "hovertemplate": "&lt;AAG&gt;4<extra></extra>",
         "marker": {
          "color": "bisque"
         },
         "orientation": "h",
         "showlegend": false,
         "type": "bar",
         "width": 0.9,
         "x": [
          12
         ],
         "y": [
          130
         ]
        },
        {
         "base": 39,
         "hovertemplate": "&lt;AAAGAAG&gt;1<extra></extra>",
         "marker": {
          "color": "#6a3d9a"
         },
         "orientation": "h",
         "showlegend": false,
         "type": "bar",
         "width": 0.9,
         "x": [
          7
         ],
         "y": [
          130
         ]
        },
        {
         "base": 46,
         "hovertemplate": "&lt;AAG&gt;24<extra></extra>",
         "marker": {
          "color": "bisque"
         },
         "orientation": "h",
         "showlegend": false,
         "type": "bar",
         "width": 0.9,
         "x": [
          72
         ],
         "y": [
          130
         ]
        },
        {
         "base": 121,
         "hovertemplate": "EncodedSeq: &lt;AAG&gt;2&lt;AAAGAAG&gt;3&lt;AAG&gt;4&lt;AAAGAAG&gt;1&lt;AAG&gt;24<br>Allele count: 1<br>Frequency: 0.11%<extra></extra>",
         "marker": {
          "color": "black"
         },
         "orientation": "h",
         "showlegend": false,
         "type": "bar",
         "width": 0.6,
         "x": [
          6.0989010989010985
         ],
         "y": [
          130
         ]
        },
        {
         "base": 0,
         "hovertemplate": "&lt;AAG&gt;2<extra></extra>",
         "marker": {
          "color": "bisque"
         },
         "orientation": "h",
         "showlegend": false,
         "type": "bar",
         "width": 0.9,
         "x": [
          6
         ],
         "y": [
          131
         ]
        },
        {
         "base": 6,
         "hovertemplate": "&lt;A&gt;1<extra></extra>",
         "marker": {
          "color": "#1f78b4"
         },
         "orientation": "h",
         "showlegend": false,
         "type": "bar",
         "width": 0.9,
         "x": [
          1
         ],
         "y": [
          131
         ]
        },
        {
         "base": 7,
         "hovertemplate": "&lt;AAAGAAG&gt;3<extra></extra>",
         "marker": {
          "color": "#6a3d9a"
         },
         "orientation": "h",
         "showlegend": false,
         "type": "bar",
         "width": 0.9,
         "x": [
          21
         ],
         "y": [
          131
         ]
        },
        {
         "base": 28,
         "hovertemplate": "&lt;AAG&gt;30<extra></extra>",
         "marker": {
          "color": "bisque"
         },
         "orientation": "h",
         "showlegend": false,
         "type": "bar",
         "width": 0.9,
         "x": [
          90
         ],
         "y": [
          131
         ]
        },
        {
         "base": 121,
         "hovertemplate": "EncodedSeq: &lt;AAG&gt;2&lt;A&gt;1&lt;AAAGAAG&gt;3&lt;AAG&gt;30<br>Allele count: 1<br>Frequency: 0.11%<extra></extra>",
         "marker": {
          "color": "black"
         },
         "orientation": "h",
         "showlegend": false,
         "type": "bar",
         "width": 0.6,
         "x": [
          6.0989010989010985
         ],
         "y": [
          131
         ]
        },
        {
         "base": 0,
         "hovertemplate": "&lt;AAG&gt;5<extra></extra>",
         "marker": {
          "color": "bisque"
         },
         "orientation": "h",
         "showlegend": false,
         "type": "bar",
         "width": 0.9,
         "x": [
          15
         ],
         "y": [
          132
         ]
        },
        {
         "base": 15,
         "hovertemplate": "&lt;AAAGAAG&gt;1<extra></extra>",
         "marker": {
          "color": "#6a3d9a"
         },
         "orientation": "h",
         "showlegend": false,
         "type": "bar",
         "width": 0.9,
         "x": [
          7
         ],
         "y": [
          132
         ]
        },
        {
         "base": 22,
         "hovertemplate": "&lt;AAAG&gt;2<extra></extra>",
         "marker": {
          "color": "#999999"
         },
         "orientation": "h",
         "showlegend": false,
         "type": "bar",
         "width": 0.9,
         "x": [
          8
         ],
         "y": [
          132
         ]
        },
        {
         "base": 30,
         "hovertemplate": "&lt;AAAGAAG&gt;3<extra></extra>",
         "marker": {
          "color": "#6a3d9a"
         },
         "orientation": "h",
         "showlegend": false,
         "type": "bar",
         "width": 0.9,
         "x": [
          21
         ],
         "y": [
          132
         ]
        },
        {
         "base": 51,
         "hovertemplate": "&lt;AAG&gt;22<extra></extra>",
         "marker": {
          "color": "bisque"
         },
         "orientation": "h",
         "showlegend": false,
         "type": "bar",
         "width": 0.9,
         "x": [
          66
         ],
         "y": [
          132
         ]
        },
        {
         "base": 120,
         "hovertemplate": "EncodedSeq: &lt;AAG&gt;5&lt;AAAGAAG&gt;1&lt;AAAG&gt;2&lt;AAAGAAG&gt;3&lt;AAG&gt;22<br>Allele count: 1<br>Frequency: 0.11%<extra></extra>",
         "marker": {
          "color": "black"
         },
         "orientation": "h",
         "showlegend": false,
         "type": "bar",
         "width": 0.6,
         "x": [
          6.0989010989010985
         ],
         "y": [
          132
         ]
        },
        {
         "base": 0,
         "hovertemplate": "&lt;AAG&gt;5<extra></extra>",
         "marker": {
          "color": "bisque"
         },
         "orientation": "h",
         "showlegend": false,
         "type": "bar",
         "width": 0.9,
         "x": [
          15
         ],
         "y": [
          133
         ]
        },
        {
         "base": 15,
         "hovertemplate": "&lt;AAAG&gt;1<extra></extra>",
         "marker": {
          "color": "#999999"
         },
         "orientation": "h",
         "showlegend": false,
         "type": "bar",
         "width": 0.9,
         "x": [
          4
         ],
         "y": [
          133
         ]
        },
        {
         "base": 19,
         "hovertemplate": "&lt;AAAGAAG&gt;1<extra></extra>",
         "marker": {
          "color": "#6a3d9a"
         },
         "orientation": "h",
         "showlegend": false,
         "type": "bar",
         "width": 0.9,
         "x": [
          7
         ],
         "y": [
          133
         ]
        },
        {
         "base": 26,
         "hovertemplate": "&lt;AAG&gt;1<extra></extra>",
         "marker": {
          "color": "bisque"
         },
         "orientation": "h",
         "showlegend": false,
         "type": "bar",
         "width": 0.9,
         "x": [
          3
         ],
         "y": [
          133
         ]
        },
        {
         "base": 29,
         "hovertemplate": "&lt;AAAGAAG&gt;3<extra></extra>",
         "marker": {
          "color": "#6a3d9a"
         },
         "orientation": "h",
         "showlegend": false,
         "type": "bar",
         "width": 0.9,
         "x": [
          21
         ],
         "y": [
          133
         ]
        },
        {
         "base": 50,
         "hovertemplate": "&lt;AAG&gt;22<extra></extra>",
         "marker": {
          "color": "bisque"
         },
         "orientation": "h",
         "showlegend": false,
         "type": "bar",
         "width": 0.9,
         "x": [
          66
         ],
         "y": [
          133
         ]
        },
        {
         "base": 119,
         "hovertemplate": "EncodedSeq: &lt;AAG&gt;5&lt;AAAG&gt;1&lt;AAAGAAG&gt;1&lt;AAG&gt;1&lt;AAAGAAG&gt;3&lt;AAG&gt;22<br>Allele count: 1<br>Frequency: 0.11%<extra></extra>",
         "marker": {
          "color": "black"
         },
         "orientation": "h",
         "showlegend": false,
         "type": "bar",
         "width": 0.6,
         "x": [
          6.0989010989010985
         ],
         "y": [
          133
         ]
        },
        {
         "base": 0,
         "hovertemplate": "&lt;AAG&gt;5<extra></extra>",
         "marker": {
          "color": "bisque"
         },
         "orientation": "h",
         "showlegend": false,
         "type": "bar",
         "width": 0.9,
         "x": [
          15
         ],
         "y": [
          134
         ]
        },
        {
         "base": 15,
         "hovertemplate": "&lt;AAAGAAG&gt;5<extra></extra>",
         "marker": {
          "color": "#6a3d9a"
         },
         "orientation": "h",
         "showlegend": false,
         "type": "bar",
         "width": 0.9,
         "x": [
          35
         ],
         "y": [
          134
         ]
        },
        {
         "base": 50,
         "hovertemplate": "&lt;AAG&gt;22<extra></extra>",
         "marker": {
          "color": "bisque"
         },
         "orientation": "h",
         "showlegend": false,
         "type": "bar",
         "width": 0.9,
         "x": [
          66
         ],
         "y": [
          134
         ]
        },
        {
         "base": 119,
         "hovertemplate": "EncodedSeq: &lt;AAG&gt;5&lt;AAAGAAG&gt;5&lt;AAG&gt;22<br>Allele count: 1<br>Frequency: 0.11%<extra></extra>",
         "marker": {
          "color": "black"
         },
         "orientation": "h",
         "showlegend": false,
         "type": "bar",
         "width": 0.6,
         "x": [
          6.0989010989010985
         ],
         "y": [
          134
         ]
        },
        {
         "base": 0,
         "hovertemplate": "&lt;AAG&gt;5<extra></extra>",
         "marker": {
          "color": "bisque"
         },
         "orientation": "h",
         "showlegend": false,
         "type": "bar",
         "width": 0.9,
         "x": [
          15
         ],
         "y": [
          135
         ]
        },
        {
         "base": 15,
         "hovertemplate": "&lt;AAAGAAG&gt;2<extra></extra>",
         "marker": {
          "color": "#6a3d9a"
         },
         "orientation": "h",
         "showlegend": false,
         "type": "bar",
         "width": 0.9,
         "x": [
          14
         ],
         "y": [
          135
         ]
        },
        {
         "base": 29,
         "hovertemplate": "&lt;AAAGAAGAAGAAG&gt;2<extra></extra>",
         "marker": {
          "color": "#bc80bd"
         },
         "orientation": "h",
         "showlegend": false,
         "type": "bar",
         "width": 0.9,
         "x": [
          26
         ],
         "y": [
          135
         ]
        },
        {
         "base": 55,
         "hovertemplate": "&lt;AAG&gt;20<extra></extra>",
         "marker": {
          "color": "bisque"
         },
         "orientation": "h",
         "showlegend": false,
         "type": "bar",
         "width": 0.9,
         "x": [
          60
         ],
         "y": [
          135
         ]
        },
        {
         "base": 118,
         "hovertemplate": "EncodedSeq: &lt;AAG&gt;5&lt;AAAGAAG&gt;2&lt;AAAGAAGAAGAAG&gt;2&lt;AAG&gt;20<br>Allele count: 1<br>Frequency: 0.11%<extra></extra>",
         "marker": {
          "color": "black"
         },
         "orientation": "h",
         "showlegend": false,
         "type": "bar",
         "width": 0.6,
         "x": [
          6.0989010989010985
         ],
         "y": [
          135
         ]
        },
        {
         "base": 0,
         "hovertemplate": "&lt;AAG&gt;5<extra></extra>",
         "marker": {
          "color": "bisque"
         },
         "orientation": "h",
         "showlegend": false,
         "type": "bar",
         "width": 0.9,
         "x": [
          15
         ],
         "y": [
          136
         ]
        },
        {
         "base": 15,
         "hovertemplate": "&lt;AAAGAAG&gt;4<extra></extra>",
         "marker": {
          "color": "#6a3d9a"
         },
         "orientation": "h",
         "showlegend": false,
         "type": "bar",
         "width": 0.9,
         "x": [
          28
         ],
         "y": [
          136
         ]
        },
        {
         "base": 43,
         "hovertemplate": "&lt;AAG&gt;24<extra></extra>",
         "marker": {
          "color": "bisque"
         },
         "orientation": "h",
         "showlegend": false,
         "type": "bar",
         "width": 0.9,
         "x": [
          72
         ],
         "y": [
          136
         ]
        },
        {
         "base": 118,
         "hovertemplate": "EncodedSeq: &lt;AAG&gt;5&lt;AAAGAAG&gt;4&lt;AAG&gt;24<br>Allele count: 1<br>Frequency: 0.11%<extra></extra>",
         "marker": {
          "color": "black"
         },
         "orientation": "h",
         "showlegend": false,
         "type": "bar",
         "width": 0.6,
         "x": [
          6.0989010989010985
         ],
         "y": [
          136
         ]
        },
        {
         "base": 0,
         "hovertemplate": "&lt;AAG&gt;2<extra></extra>",
         "marker": {
          "color": "bisque"
         },
         "orientation": "h",
         "showlegend": false,
         "type": "bar",
         "width": 0.9,
         "x": [
          6
         ],
         "y": [
          137
         ]
        },
        {
         "base": 6,
         "hovertemplate": "&lt;AAAGAAG&gt;6<extra></extra>",
         "marker": {
          "color": "#6a3d9a"
         },
         "orientation": "h",
         "showlegend": false,
         "type": "bar",
         "width": 0.9,
         "x": [
          42
         ],
         "y": [
          137
         ]
        },
        {
         "base": 48,
         "hovertemplate": "&lt;AAG&gt;22<extra></extra>",
         "marker": {
          "color": "bisque"
         },
         "orientation": "h",
         "showlegend": false,
         "type": "bar",
         "width": 0.9,
         "x": [
          66
         ],
         "y": [
          137
         ]
        },
        {
         "base": 117,
         "hovertemplate": "EncodedSeq: &lt;AAG&gt;2&lt;AAAGAAG&gt;6&lt;AAG&gt;22<br>Allele count: 1<br>Frequency: 0.11%<extra></extra>",
         "marker": {
          "color": "black"
         },
         "orientation": "h",
         "showlegend": false,
         "type": "bar",
         "width": 0.6,
         "x": [
          6.0989010989010985
         ],
         "y": [
          137
         ]
        },
        {
         "base": 0,
         "hovertemplate": "&lt;AAG&gt;6<extra></extra>",
         "marker": {
          "color": "bisque"
         },
         "orientation": "h",
         "showlegend": false,
         "type": "bar",
         "width": 0.9,
         "x": [
          18
         ],
         "y": [
          138
         ]
        },
        {
         "base": 18,
         "hovertemplate": "&lt;A&gt;1<extra></extra>",
         "marker": {
          "color": "#1f78b4"
         },
         "orientation": "h",
         "showlegend": false,
         "type": "bar",
         "width": 0.9,
         "x": [
          1
         ],
         "y": [
          138
         ]
        },
        {
         "base": 19,
         "hovertemplate": "&lt;AAG&gt;2<extra></extra>",
         "marker": {
          "color": "bisque"
         },
         "orientation": "h",
         "showlegend": false,
         "type": "bar",
         "width": 0.9,
         "x": [
          6
         ],
         "y": [
          138
         ]
        },
        {
         "base": 25,
         "hovertemplate": "&lt;AG&gt;1<extra></extra>",
         "marker": {
          "color": "#8dd3c7"
         },
         "orientation": "h",
         "showlegend": false,
         "type": "bar",
         "width": 0.9,
         "x": [
          2
         ],
         "y": [
          138
         ]
        },
        {
         "base": 27,
         "hovertemplate": "&lt;AAG&gt;29<extra></extra>",
         "marker": {
          "color": "bisque"
         },
         "orientation": "h",
         "showlegend": false,
         "type": "bar",
         "width": 0.9,
         "x": [
          87
         ],
         "y": [
          138
         ]
        },
        {
         "base": 117,
         "hovertemplate": "EncodedSeq: &lt;AAG&gt;6&lt;A&gt;1&lt;AAG&gt;2&lt;AG&gt;1&lt;AAG&gt;29<br>Allele count: 1<br>Frequency: 0.11%<extra></extra>",
         "marker": {
          "color": "black"
         },
         "orientation": "h",
         "showlegend": false,
         "type": "bar",
         "width": 0.6,
         "x": [
          6.0989010989010985
         ],
         "y": [
          138
         ]
        },
        {
         "base": 0,
         "hovertemplate": "&lt;AAG&gt;38<extra></extra>",
         "marker": {
          "color": "bisque"
         },
         "orientation": "h",
         "showlegend": false,
         "type": "bar",
         "width": 0.9,
         "x": [
          114
         ],
         "y": [
          139
         ]
        },
        {
         "base": 117,
         "hovertemplate": "EncodedSeq: &lt;AAG&gt;38<br>Allele count: 1<br>Frequency: 0.11%<extra></extra>",
         "marker": {
          "color": "black"
         },
         "orientation": "h",
         "showlegend": false,
         "type": "bar",
         "width": 0.6,
         "x": [
          6.0989010989010985
         ],
         "y": [
          139
         ]
        },
        {
         "base": 0,
         "hovertemplate": "&lt;AAG&gt;5<extra></extra>",
         "marker": {
          "color": "bisque"
         },
         "orientation": "h",
         "showlegend": false,
         "type": "bar",
         "width": 0.9,
         "x": [
          15
         ],
         "y": [
          140
         ]
        },
        {
         "base": 15,
         "hovertemplate": "&lt;AAAGAAG&gt;1<extra></extra>",
         "marker": {
          "color": "#6a3d9a"
         },
         "orientation": "h",
         "showlegend": false,
         "type": "bar",
         "width": 0.9,
         "x": [
          7
         ],
         "y": [
          140
         ]
        },
        {
         "base": 22,
         "hovertemplate": "&lt;AAG&gt;1<extra></extra>",
         "marker": {
          "color": "bisque"
         },
         "orientation": "h",
         "showlegend": false,
         "type": "bar",
         "width": 0.9,
         "x": [
          3
         ],
         "y": [
          140
         ]
        },
        {
         "base": 25,
         "hovertemplate": "&lt;AAAGAAG&gt;4<extra></extra>",
         "marker": {
          "color": "#6a3d9a"
         },
         "orientation": "h",
         "showlegend": false,
         "type": "bar",
         "width": 0.9,
         "x": [
          28
         ],
         "y": [
          140
         ]
        },
        {
         "base": 53,
         "hovertemplate": "&lt;AAG&gt;20<extra></extra>",
         "marker": {
          "color": "bisque"
         },
         "orientation": "h",
         "showlegend": false,
         "type": "bar",
         "width": 0.9,
         "x": [
          60
         ],
         "y": [
          140
         ]
        },
        {
         "base": 116,
         "hovertemplate": "EncodedSeq: &lt;AAG&gt;5&lt;AAAGAAG&gt;1&lt;AAG&gt;1&lt;AAAGAAG&gt;4&lt;AAG&gt;20<br>Allele count: 1<br>Frequency: 0.11%<extra></extra>",
         "marker": {
          "color": "black"
         },
         "orientation": "h",
         "showlegend": false,
         "type": "bar",
         "width": 0.6,
         "x": [
          6.0989010989010985
         ],
         "y": [
          140
         ]
        },
        {
         "base": 0,
         "hovertemplate": "&lt;AAG&gt;5<extra></extra>",
         "marker": {
          "color": "bisque"
         },
         "orientation": "h",
         "showlegend": false,
         "type": "bar",
         "width": 0.9,
         "x": [
          15
         ],
         "y": [
          141
         ]
        },
        {
         "base": 15,
         "hovertemplate": "&lt;AAAGAAGAAG&gt;2<extra></extra>",
         "marker": {
          "color": "#a6cee3"
         },
         "orientation": "h",
         "showlegend": false,
         "type": "bar",
         "width": 0.9,
         "x": [
          20
         ],
         "y": [
          141
         ]
        },
        {
         "base": 35,
         "hovertemplate": "&lt;AAG&gt;26<extra></extra>",
         "marker": {
          "color": "bisque"
         },
         "orientation": "h",
         "showlegend": false,
         "type": "bar",
         "width": 0.9,
         "x": [
          78
         ],
         "y": [
          141
         ]
        },
        {
         "base": 116,
         "hovertemplate": "EncodedSeq: &lt;AAG&gt;5&lt;AAAGAAGAAG&gt;2&lt;AAG&gt;26<br>Allele count: 1<br>Frequency: 0.11%<extra></extra>",
         "marker": {
          "color": "black"
         },
         "orientation": "h",
         "showlegend": false,
         "type": "bar",
         "width": 0.6,
         "x": [
          6.0989010989010985
         ],
         "y": [
          141
         ]
        },
        {
         "base": 0,
         "hovertemplate": "&lt;AAG&gt;5<extra></extra>",
         "marker": {
          "color": "bisque"
         },
         "orientation": "h",
         "showlegend": false,
         "type": "bar",
         "width": 0.9,
         "x": [
          15
         ],
         "y": [
          142
         ]
        },
        {
         "base": 15,
         "hovertemplate": "&lt;AAAGAAG&gt;5<extra></extra>",
         "marker": {
          "color": "#6a3d9a"
         },
         "orientation": "h",
         "showlegend": false,
         "type": "bar",
         "width": 0.9,
         "x": [
          35
         ],
         "y": [
          142
         ]
        },
        {
         "base": 50,
         "hovertemplate": "&lt;AAG&gt;21<extra></extra>",
         "marker": {
          "color": "bisque"
         },
         "orientation": "h",
         "showlegend": false,
         "type": "bar",
         "width": 0.9,
         "x": [
          63
         ],
         "y": [
          142
         ]
        },
        {
         "base": 116,
         "hovertemplate": "EncodedSeq: &lt;AAG&gt;5&lt;AAAGAAG&gt;5&lt;AAG&gt;21<br>Allele count: 4<br>Frequency: 0.44%<extra></extra>",
         "marker": {
          "color": "black"
         },
         "orientation": "h",
         "showlegend": false,
         "type": "bar",
         "width": 0.6,
         "x": [
          9.395604395604396
         ],
         "y": [
          142
         ]
        },
        {
         "base": 0,
         "hovertemplate": "&lt;AAG&gt;5<extra></extra>",
         "marker": {
          "color": "bisque"
         },
         "orientation": "h",
         "showlegend": false,
         "type": "bar",
         "width": 0.9,
         "x": [
          15
         ],
         "y": [
          143
         ]
        },
        {
         "base": 15,
         "hovertemplate": "&lt;AAAGAAG&gt;3<extra></extra>",
         "marker": {
          "color": "#6a3d9a"
         },
         "orientation": "h",
         "showlegend": false,
         "type": "bar",
         "width": 0.9,
         "x": [
          21
         ],
         "y": [
          143
         ]
        },
        {
         "base": 36,
         "hovertemplate": "&lt;AAG&gt;25<extra></extra>",
         "marker": {
          "color": "bisque"
         },
         "orientation": "h",
         "showlegend": false,
         "type": "bar",
         "width": 0.9,
         "x": [
          75
         ],
         "y": [
          143
         ]
        },
        {
         "base": 114,
         "hovertemplate": "EncodedSeq: &lt;AAG&gt;5&lt;AAAGAAG&gt;3&lt;AAG&gt;25<br>Allele count: 1<br>Frequency: 0.11%<extra></extra>",
         "marker": {
          "color": "black"
         },
         "orientation": "h",
         "showlegend": false,
         "type": "bar",
         "width": 0.6,
         "x": [
          6.0989010989010985
         ],
         "y": [
          143
         ]
        },
        {
         "base": 0,
         "hovertemplate": "&lt;AAG&gt;37<extra></extra>",
         "marker": {
          "color": "bisque"
         },
         "orientation": "h",
         "showlegend": false,
         "type": "bar",
         "width": 0.9,
         "x": [
          111
         ],
         "y": [
          144
         ]
        },
        {
         "base": 114,
         "hovertemplate": "EncodedSeq: &lt;AAG&gt;37<br>Allele count: 1<br>Frequency: 0.11%<extra></extra>",
         "marker": {
          "color": "black"
         },
         "orientation": "h",
         "showlegend": false,
         "type": "bar",
         "width": 0.6,
         "x": [
          6.0989010989010985
         ],
         "y": [
          144
         ]
        },
        {
         "base": 0,
         "hovertemplate": "&lt;AAG&gt;9<extra></extra>",
         "marker": {
          "color": "bisque"
         },
         "orientation": "h",
         "showlegend": false,
         "type": "bar",
         "width": 0.9,
         "x": [
          27
         ],
         "y": [
          145
         ]
        },
        {
         "base": 27,
         "hovertemplate": "&lt;A&gt;1<extra></extra>",
         "marker": {
          "color": "#1f78b4"
         },
         "orientation": "h",
         "showlegend": false,
         "type": "bar",
         "width": 0.9,
         "x": [
          1
         ],
         "y": [
          145
         ]
        },
        {
         "base": 28,
         "hovertemplate": "&lt;AAAGAAGAAGAAG&gt;2<extra></extra>",
         "marker": {
          "color": "#bc80bd"
         },
         "orientation": "h",
         "showlegend": false,
         "type": "bar",
         "width": 0.9,
         "x": [
          26
         ],
         "y": [
          145
         ]
        },
        {
         "base": 54,
         "hovertemplate": "&lt;AAG&gt;19<extra></extra>",
         "marker": {
          "color": "bisque"
         },
         "orientation": "h",
         "showlegend": false,
         "type": "bar",
         "width": 0.9,
         "x": [
          57
         ],
         "y": [
          145
         ]
        },
        {
         "base": 114,
         "hovertemplate": "EncodedSeq: &lt;AAG&gt;9&lt;A&gt;1&lt;AAAGAAGAAGAAG&gt;2&lt;AAG&gt;19<br>Allele count: 1<br>Frequency: 0.11%<extra></extra>",
         "marker": {
          "color": "black"
         },
         "orientation": "h",
         "showlegend": false,
         "type": "bar",
         "width": 0.6,
         "x": [
          6.0989010989010985
         ],
         "y": [
          145
         ]
        },
        {
         "base": 0,
         "hovertemplate": "&lt;AAG&gt;2<extra></extra>",
         "marker": {
          "color": "bisque"
         },
         "orientation": "h",
         "showlegend": false,
         "type": "bar",
         "width": 0.9,
         "x": [
          6
         ],
         "y": [
          146
         ]
        },
        {
         "base": 6,
         "hovertemplate": "&lt;AAAGAAG&gt;1<extra></extra>",
         "marker": {
          "color": "#6a3d9a"
         },
         "orientation": "h",
         "showlegend": false,
         "type": "bar",
         "width": 0.9,
         "x": [
          7
         ],
         "y": [
          146
         ]
        },
        {
         "base": 13,
         "hovertemplate": "&lt;AAAGAAGAAGAAG&gt;2<extra></extra>",
         "marker": {
          "color": "#bc80bd"
         },
         "orientation": "h",
         "showlegend": false,
         "type": "bar",
         "width": 0.9,
         "x": [
          26
         ],
         "y": [
          146
         ]
        },
        {
         "base": 39,
         "hovertemplate": "&lt;AAG&gt;24<extra></extra>",
         "marker": {
          "color": "bisque"
         },
         "orientation": "h",
         "showlegend": false,
         "type": "bar",
         "width": 0.9,
         "x": [
          72
         ],
         "y": [
          146
         ]
        },
        {
         "base": 114,
         "hovertemplate": "EncodedSeq: &lt;AAG&gt;2&lt;AAAGAAG&gt;1&lt;AAAGAAGAAGAAG&gt;2&lt;AAG&gt;24<br>Allele count: 1<br>Frequency: 0.11%<extra></extra>",
         "marker": {
          "color": "black"
         },
         "orientation": "h",
         "showlegend": false,
         "type": "bar",
         "width": 0.6,
         "x": [
          6.0989010989010985
         ],
         "y": [
          146
         ]
        },
        {
         "base": 0,
         "hovertemplate": "&lt;AAG&gt;5<extra></extra>",
         "marker": {
          "color": "bisque"
         },
         "orientation": "h",
         "showlegend": false,
         "type": "bar",
         "width": 0.9,
         "x": [
          15
         ],
         "y": [
          147
         ]
        },
        {
         "base": 15,
         "hovertemplate": "&lt;AAAGAAG&gt;5<extra></extra>",
         "marker": {
          "color": "#6a3d9a"
         },
         "orientation": "h",
         "showlegend": false,
         "type": "bar",
         "width": 0.9,
         "x": [
          35
         ],
         "y": [
          147
         ]
        },
        {
         "base": 50,
         "hovertemplate": "&lt;AAG&gt;20<extra></extra>",
         "marker": {
          "color": "bisque"
         },
         "orientation": "h",
         "showlegend": false,
         "type": "bar",
         "width": 0.9,
         "x": [
          60
         ],
         "y": [
          147
         ]
        },
        {
         "base": 113,
         "hovertemplate": "EncodedSeq: &lt;AAG&gt;5&lt;AAAGAAG&gt;5&lt;AAG&gt;20<br>Allele count: 2<br>Frequency: 0.22%<extra></extra>",
         "marker": {
          "color": "black"
         },
         "orientation": "h",
         "showlegend": false,
         "type": "bar",
         "width": 0.6,
         "x": [
          7.197802197802198
         ],
         "y": [
          147
         ]
        },
        {
         "base": 0,
         "hovertemplate": "&lt;AAG&gt;7<extra></extra>",
         "marker": {
          "color": "bisque"
         },
         "orientation": "h",
         "showlegend": false,
         "type": "bar",
         "width": 0.9,
         "x": [
          21
         ],
         "y": [
          148
         ]
        },
        {
         "base": 21,
         "hovertemplate": "&lt;AAAGAAG&gt;2<extra></extra>",
         "marker": {
          "color": "#6a3d9a"
         },
         "orientation": "h",
         "showlegend": false,
         "type": "bar",
         "width": 0.9,
         "x": [
          14
         ],
         "y": [
          148
         ]
        },
        {
         "base": 35,
         "hovertemplate": "&lt;AAG&gt;1<extra></extra>",
         "marker": {
          "color": "bisque"
         },
         "orientation": "h",
         "showlegend": false,
         "type": "bar",
         "width": 0.9,
         "x": [
          3
         ],
         "y": [
          148
         ]
        },
        {
         "base": 38,
         "hovertemplate": "&lt;AAAGAAG&gt;2<extra></extra>",
         "marker": {
          "color": "#6a3d9a"
         },
         "orientation": "h",
         "showlegend": false,
         "type": "bar",
         "width": 0.9,
         "x": [
          14
         ],
         "y": [
          148
         ]
        },
        {
         "base": 52,
         "hovertemplate": "&lt;AAG&gt;19<extra></extra>",
         "marker": {
          "color": "bisque"
         },
         "orientation": "h",
         "showlegend": false,
         "type": "bar",
         "width": 0.9,
         "x": [
          57
         ],
         "y": [
          148
         ]
        },
        {
         "base": 112,
         "hovertemplate": "EncodedSeq: &lt;AAG&gt;7&lt;AAAGAAG&gt;2&lt;AAG&gt;1&lt;AAAGAAG&gt;2&lt;AAG&gt;19<br>Allele count: 1<br>Frequency: 0.11%<extra></extra>",
         "marker": {
          "color": "black"
         },
         "orientation": "h",
         "showlegend": false,
         "type": "bar",
         "width": 0.6,
         "x": [
          6.0989010989010985
         ],
         "y": [
          148
         ]
        },
        {
         "base": 0,
         "hovertemplate": "&lt;AAG&gt;5<extra></extra>",
         "marker": {
          "color": "bisque"
         },
         "orientation": "h",
         "showlegend": false,
         "type": "bar",
         "width": 0.9,
         "x": [
          15
         ],
         "y": [
          149
         ]
        },
        {
         "base": 15,
         "hovertemplate": "&lt;AAAGAAG&gt;5<extra></extra>",
         "marker": {
          "color": "#6a3d9a"
         },
         "orientation": "h",
         "showlegend": false,
         "type": "bar",
         "width": 0.9,
         "x": [
          35
         ],
         "y": [
          149
         ]
        },
        {
         "base": 50,
         "hovertemplate": "&lt;AAGAG&gt;1<extra></extra>",
         "marker": {
          "color": "gray"
         },
         "orientation": "h",
         "showlegend": false,
         "type": "bar",
         "width": 0.9,
         "x": [
          5
         ],
         "y": [
          149
         ]
        },
        {
         "base": 55,
         "hovertemplate": "&lt;AAG&gt;18<extra></extra>",
         "marker": {
          "color": "bisque"
         },
         "orientation": "h",
         "showlegend": false,
         "type": "bar",
         "width": 0.9,
         "x": [
          54
         ],
         "y": [
          149
         ]
        },
        {
         "base": 112,
         "hovertemplate": "EncodedSeq: &lt;AAG&gt;5&lt;AAAGAAG&gt;5&lt;AAGAG&gt;1&lt;AAG&gt;18<br>Allele count: 1<br>Frequency: 0.11%<extra></extra>",
         "marker": {
          "color": "black"
         },
         "orientation": "h",
         "showlegend": false,
         "type": "bar",
         "width": 0.6,
         "x": [
          6.0989010989010985
         ],
         "y": [
          149
         ]
        },
        {
         "base": 0,
         "hovertemplate": "&lt;AAG&gt;5<extra></extra>",
         "marker": {
          "color": "bisque"
         },
         "orientation": "h",
         "showlegend": false,
         "type": "bar",
         "width": 0.9,
         "x": [
          15
         ],
         "y": [
          150
         ]
        },
        {
         "base": 15,
         "hovertemplate": "&lt;AAAGAAG&gt;4<extra></extra>",
         "marker": {
          "color": "#6a3d9a"
         },
         "orientation": "h",
         "showlegend": false,
         "type": "bar",
         "width": 0.9,
         "x": [
          28
         ],
         "y": [
          150
         ]
        },
        {
         "base": 43,
         "hovertemplate": "&lt;AAG&gt;22<extra></extra>",
         "marker": {
          "color": "bisque"
         },
         "orientation": "h",
         "showlegend": false,
         "type": "bar",
         "width": 0.9,
         "x": [
          66
         ],
         "y": [
          150
         ]
        },
        {
         "base": 112,
         "hovertemplate": "EncodedSeq: &lt;AAG&gt;5&lt;AAAGAAG&gt;4&lt;AAG&gt;22<br>Allele count: 1<br>Frequency: 0.11%<extra></extra>",
         "marker": {
          "color": "black"
         },
         "orientation": "h",
         "showlegend": false,
         "type": "bar",
         "width": 0.6,
         "x": [
          6.0989010989010985
         ],
         "y": [
          150
         ]
        },
        {
         "base": 0,
         "hovertemplate": "&lt;AAG&gt;5<extra></extra>",
         "marker": {
          "color": "bisque"
         },
         "orientation": "h",
         "showlegend": false,
         "type": "bar",
         "width": 0.9,
         "x": [
          15
         ],
         "y": [
          151
         ]
        },
        {
         "base": 15,
         "hovertemplate": "&lt;AAAGAAG&gt;5<extra></extra>",
         "marker": {
          "color": "#6a3d9a"
         },
         "orientation": "h",
         "showlegend": false,
         "type": "bar",
         "width": 0.9,
         "x": [
          35
         ],
         "y": [
          151
         ]
        },
        {
         "base": 50,
         "hovertemplate": "&lt;AAG&gt;19<extra></extra>",
         "marker": {
          "color": "bisque"
         },
         "orientation": "h",
         "showlegend": false,
         "type": "bar",
         "width": 0.9,
         "x": [
          57
         ],
         "y": [
          151
         ]
        },
        {
         "base": 110,
         "hovertemplate": "EncodedSeq: &lt;AAG&gt;5&lt;AAAGAAG&gt;5&lt;AAG&gt;19<br>Allele count: 1<br>Frequency: 0.11%<extra></extra>",
         "marker": {
          "color": "black"
         },
         "orientation": "h",
         "showlegend": false,
         "type": "bar",
         "width": 0.6,
         "x": [
          6.0989010989010985
         ],
         "y": [
          151
         ]
        },
        {
         "base": 0,
         "hovertemplate": "&lt;AAG&gt;5<extra></extra>",
         "marker": {
          "color": "bisque"
         },
         "orientation": "h",
         "showlegend": false,
         "type": "bar",
         "width": 0.9,
         "x": [
          15
         ],
         "y": [
          152
         ]
        },
        {
         "base": 15,
         "hovertemplate": "&lt;AAAGAAG&gt;2<extra></extra>",
         "marker": {
          "color": "#6a3d9a"
         },
         "orientation": "h",
         "showlegend": false,
         "type": "bar",
         "width": 0.9,
         "x": [
          14
         ],
         "y": [
          152
         ]
        },
        {
         "base": 29,
         "hovertemplate": "&lt;AAAGAAGAAGAAG&gt;2<extra></extra>",
         "marker": {
          "color": "#bc80bd"
         },
         "orientation": "h",
         "showlegend": false,
         "type": "bar",
         "width": 0.9,
         "x": [
          26
         ],
         "y": [
          152
         ]
        },
        {
         "base": 55,
         "hovertemplate": "&lt;AAG&gt;17<extra></extra>",
         "marker": {
          "color": "bisque"
         },
         "orientation": "h",
         "showlegend": false,
         "type": "bar",
         "width": 0.9,
         "x": [
          51
         ],
         "y": [
          152
         ]
        },
        {
         "base": 109,
         "hovertemplate": "EncodedSeq: &lt;AAG&gt;5&lt;AAAGAAG&gt;2&lt;AAAGAAGAAGAAG&gt;2&lt;AAG&gt;17<br>Allele count: 1<br>Frequency: 0.11%<extra></extra>",
         "marker": {
          "color": "black"
         },
         "orientation": "h",
         "showlegend": false,
         "type": "bar",
         "width": 0.6,
         "x": [
          6.0989010989010985
         ],
         "y": [
          152
         ]
        },
        {
         "base": 0,
         "hovertemplate": "&lt;AAG&gt;9<extra></extra>",
         "marker": {
          "color": "bisque"
         },
         "orientation": "h",
         "showlegend": false,
         "type": "bar",
         "width": 0.9,
         "x": [
          27
         ],
         "y": [
          153
         ]
        },
        {
         "base": 27,
         "hovertemplate": "&lt;A&gt;1<extra></extra>",
         "marker": {
          "color": "#1f78b4"
         },
         "orientation": "h",
         "showlegend": false,
         "type": "bar",
         "width": 0.9,
         "x": [
          1
         ],
         "y": [
          153
         ]
        },
        {
         "base": 28,
         "hovertemplate": "&lt;AAG&gt;26<extra></extra>",
         "marker": {
          "color": "bisque"
         },
         "orientation": "h",
         "showlegend": false,
         "type": "bar",
         "width": 0.9,
         "x": [
          78
         ],
         "y": [
          153
         ]
        },
        {
         "base": 109,
         "hovertemplate": "EncodedSeq: &lt;AAG&gt;9&lt;A&gt;1&lt;AAG&gt;26<br>Allele count: 1<br>Frequency: 0.11%<extra></extra>",
         "marker": {
          "color": "black"
         },
         "orientation": "h",
         "showlegend": false,
         "type": "bar",
         "width": 0.6,
         "x": [
          6.0989010989010985
         ],
         "y": [
          153
         ]
        },
        {
         "base": 0,
         "hovertemplate": "&lt;AAG&gt;5<extra></extra>",
         "marker": {
          "color": "bisque"
         },
         "orientation": "h",
         "showlegend": false,
         "type": "bar",
         "width": 0.9,
         "x": [
          15
         ],
         "y": [
          154
         ]
        },
        {
         "base": 15,
         "hovertemplate": "&lt;AAAGAAG&gt;4<extra></extra>",
         "marker": {
          "color": "#6a3d9a"
         },
         "orientation": "h",
         "showlegend": false,
         "type": "bar",
         "width": 0.9,
         "x": [
          28
         ],
         "y": [
          154
         ]
        },
        {
         "base": 43,
         "hovertemplate": "&lt;AAG&gt;21<extra></extra>",
         "marker": {
          "color": "bisque"
         },
         "orientation": "h",
         "showlegend": false,
         "type": "bar",
         "width": 0.9,
         "x": [
          63
         ],
         "y": [
          154
         ]
        },
        {
         "base": 109,
         "hovertemplate": "EncodedSeq: &lt;AAG&gt;5&lt;AAAGAAG&gt;4&lt;AAG&gt;21<br>Allele count: 3<br>Frequency: 0.33%<extra></extra>",
         "marker": {
          "color": "black"
         },
         "orientation": "h",
         "showlegend": false,
         "type": "bar",
         "width": 0.6,
         "x": [
          8.296703296703297
         ],
         "y": [
          154
         ]
        },
        {
         "base": 0,
         "hovertemplate": "&lt;AAG&gt;5<extra></extra>",
         "marker": {
          "color": "bisque"
         },
         "orientation": "h",
         "showlegend": false,
         "type": "bar",
         "width": 0.9,
         "x": [
          15
         ],
         "y": [
          155
         ]
        },
        {
         "base": 15,
         "hovertemplate": "&lt;AAAGAAG&gt;2<extra></extra>",
         "marker": {
          "color": "#6a3d9a"
         },
         "orientation": "h",
         "showlegend": false,
         "type": "bar",
         "width": 0.9,
         "x": [
          14
         ],
         "y": [
          155
         ]
        },
        {
         "base": 29,
         "hovertemplate": "&lt;AAG&gt;2<extra></extra>",
         "marker": {
          "color": "bisque"
         },
         "orientation": "h",
         "showlegend": false,
         "type": "bar",
         "width": 0.9,
         "x": [
          6
         ],
         "y": [
          155
         ]
        },
        {
         "base": 35,
         "hovertemplate": "&lt;AAAGAAG&gt;2<extra></extra>",
         "marker": {
          "color": "#6a3d9a"
         },
         "orientation": "h",
         "showlegend": false,
         "type": "bar",
         "width": 0.9,
         "x": [
          14
         ],
         "y": [
          155
         ]
        },
        {
         "base": 49,
         "hovertemplate": "&lt;AAG&gt;19<extra></extra>",
         "marker": {
          "color": "bisque"
         },
         "orientation": "h",
         "showlegend": false,
         "type": "bar",
         "width": 0.9,
         "x": [
          57
         ],
         "y": [
          155
         ]
        },
        {
         "base": 109,
         "hovertemplate": "EncodedSeq: &lt;AAG&gt;5&lt;AAAGAAG&gt;2&lt;AAG&gt;2&lt;AAAGAAG&gt;2&lt;AAG&gt;19<br>Allele count: 1<br>Frequency: 0.11%<extra></extra>",
         "marker": {
          "color": "black"
         },
         "orientation": "h",
         "showlegend": false,
         "type": "bar",
         "width": 0.6,
         "x": [
          6.0989010989010985
         ],
         "y": [
          155
         ]
        },
        {
         "base": 0,
         "hovertemplate": "&lt;AAG&gt;1<extra></extra>",
         "marker": {
          "color": "bisque"
         },
         "orientation": "h",
         "showlegend": false,
         "type": "bar",
         "width": 0.9,
         "x": [
          3
         ],
         "y": [
          156
         ]
        },
        {
         "base": 3,
         "hovertemplate": "&lt;AAAGAAG&gt;3<extra></extra>",
         "marker": {
          "color": "#6a3d9a"
         },
         "orientation": "h",
         "showlegend": false,
         "type": "bar",
         "width": 0.9,
         "x": [
          21
         ],
         "y": [
          156
         ]
        },
        {
         "base": 24,
         "hovertemplate": "&lt;AAG&gt;27<extra></extra>",
         "marker": {
          "color": "bisque"
         },
         "orientation": "h",
         "showlegend": false,
         "type": "bar",
         "width": 0.9,
         "x": [
          81
         ],
         "y": [
          156
         ]
        },
        {
         "base": 108,
         "hovertemplate": "EncodedSeq: &lt;AAG&gt;1&lt;AAAGAAG&gt;3&lt;AAG&gt;27<br>Allele count: 1<br>Frequency: 0.11%<extra></extra>",
         "marker": {
          "color": "black"
         },
         "orientation": "h",
         "showlegend": false,
         "type": "bar",
         "width": 0.6,
         "x": [
          6.0989010989010985
         ],
         "y": [
          156
         ]
        },
        {
         "base": 0,
         "hovertemplate": "&lt;AAG&gt;35<extra></extra>",
         "marker": {
          "color": "bisque"
         },
         "orientation": "h",
         "showlegend": false,
         "type": "bar",
         "width": 0.9,
         "x": [
          105
         ],
         "y": [
          157
         ]
        },
        {
         "base": 108,
         "hovertemplate": "EncodedSeq: &lt;AAG&gt;35<br>Allele count: 1<br>Frequency: 0.11%<extra></extra>",
         "marker": {
          "color": "black"
         },
         "orientation": "h",
         "showlegend": false,
         "type": "bar",
         "width": 0.6,
         "x": [
          6.0989010989010985
         ],
         "y": [
          157
         ]
        },
        {
         "base": 0,
         "hovertemplate": "&lt;AAG&gt;5<extra></extra>",
         "marker": {
          "color": "bisque"
         },
         "orientation": "h",
         "showlegend": false,
         "type": "bar",
         "width": 0.9,
         "x": [
          15
         ],
         "y": [
          158
         ]
        },
        {
         "base": 15,
         "hovertemplate": "&lt;AAAGAAGAAGAAG&gt;2<extra></extra>",
         "marker": {
          "color": "#bc80bd"
         },
         "orientation": "h",
         "showlegend": false,
         "type": "bar",
         "width": 0.9,
         "x": [
          26
         ],
         "y": [
          158
         ]
        },
        {
         "base": 41,
         "hovertemplate": "&lt;AAG&gt;21<extra></extra>",
         "marker": {
          "color": "bisque"
         },
         "orientation": "h",
         "showlegend": false,
         "type": "bar",
         "width": 0.9,
         "x": [
          63
         ],
         "y": [
          158
         ]
        },
        {
         "base": 107,
         "hovertemplate": "EncodedSeq: &lt;AAG&gt;5&lt;AAAGAAGAAGAAG&gt;2&lt;AAG&gt;21<br>Allele count: 1<br>Frequency: 0.11%<extra></extra>",
         "marker": {
          "color": "black"
         },
         "orientation": "h",
         "showlegend": false,
         "type": "bar",
         "width": 0.6,
         "x": [
          6.0989010989010985
         ],
         "y": [
          158
         ]
        },
        {
         "base": 0,
         "hovertemplate": "&lt;AAG&gt;5<extra></extra>",
         "marker": {
          "color": "bisque"
         },
         "orientation": "h",
         "showlegend": false,
         "type": "bar",
         "width": 0.9,
         "x": [
          15
         ],
         "y": [
          159
         ]
        },
        {
         "base": 15,
         "hovertemplate": "&lt;AAAGAAG&gt;5<extra></extra>",
         "marker": {
          "color": "#6a3d9a"
         },
         "orientation": "h",
         "showlegend": false,
         "type": "bar",
         "width": 0.9,
         "x": [
          35
         ],
         "y": [
          159
         ]
        },
        {
         "base": 50,
         "hovertemplate": "&lt;AAG&gt;18<extra></extra>",
         "marker": {
          "color": "bisque"
         },
         "orientation": "h",
         "showlegend": false,
         "type": "bar",
         "width": 0.9,
         "x": [
          54
         ],
         "y": [
          159
         ]
        },
        {
         "base": 107,
         "hovertemplate": "EncodedSeq: &lt;AAG&gt;5&lt;AAAGAAG&gt;5&lt;AAG&gt;18<br>Allele count: 1<br>Frequency: 0.11%<extra></extra>",
         "marker": {
          "color": "black"
         },
         "orientation": "h",
         "showlegend": false,
         "type": "bar",
         "width": 0.6,
         "x": [
          6.0989010989010985
         ],
         "y": [
          159
         ]
        },
        {
         "base": 0,
         "hovertemplate": "&lt;AAG&gt;7<extra></extra>",
         "marker": {
          "color": "bisque"
         },
         "orientation": "h",
         "showlegend": false,
         "type": "bar",
         "width": 0.9,
         "x": [
          21
         ],
         "y": [
          160
         ]
        },
        {
         "base": 21,
         "hovertemplate": "&lt;A&gt;1<extra></extra>",
         "marker": {
          "color": "#1f78b4"
         },
         "orientation": "h",
         "showlegend": false,
         "type": "bar",
         "width": 0.9,
         "x": [
          1
         ],
         "y": [
          160
         ]
        },
        {
         "base": 22,
         "hovertemplate": "&lt;AAG&gt;26<extra></extra>",
         "marker": {
          "color": "bisque"
         },
         "orientation": "h",
         "showlegend": false,
         "type": "bar",
         "width": 0.9,
         "x": [
          78
         ],
         "y": [
          160
         ]
        },
        {
         "base": 103,
         "hovertemplate": "EncodedSeq: &lt;AAG&gt;7&lt;A&gt;1&lt;AAG&gt;26<br>Allele count: 1<br>Frequency: 0.11%<extra></extra>",
         "marker": {
          "color": "black"
         },
         "orientation": "h",
         "showlegend": false,
         "type": "bar",
         "width": 0.6,
         "x": [
          6.0989010989010985
         ],
         "y": [
          160
         ]
        },
        {
         "base": 0,
         "hovertemplate": "&lt;AAG&gt;1<extra></extra>",
         "marker": {
          "color": "bisque"
         },
         "orientation": "h",
         "showlegend": false,
         "type": "bar",
         "width": 0.9,
         "x": [
          3
         ],
         "y": [
          161
         ]
        },
        {
         "base": 3,
         "hovertemplate": "&lt;AAAGAAG&gt;4<extra></extra>",
         "marker": {
          "color": "#6a3d9a"
         },
         "orientation": "h",
         "showlegend": false,
         "type": "bar",
         "width": 0.9,
         "x": [
          28
         ],
         "y": [
          161
         ]
        },
        {
         "base": 31,
         "hovertemplate": "&lt;AAG&gt;23<extra></extra>",
         "marker": {
          "color": "bisque"
         },
         "orientation": "h",
         "showlegend": false,
         "type": "bar",
         "width": 0.9,
         "x": [
          69
         ],
         "y": [
          161
         ]
        },
        {
         "base": 103,
         "hovertemplate": "EncodedSeq: &lt;AAG&gt;1&lt;AAAGAAG&gt;4&lt;AAG&gt;23<br>Allele count: 2<br>Frequency: 0.22%<extra></extra>",
         "marker": {
          "color": "black"
         },
         "orientation": "h",
         "showlegend": false,
         "type": "bar",
         "width": 0.6,
         "x": [
          7.197802197802198
         ],
         "y": [
          161
         ]
        },
        {
         "base": 0,
         "hovertemplate": "&lt;AAG&gt;7<extra></extra>",
         "marker": {
          "color": "bisque"
         },
         "orientation": "h",
         "showlegend": false,
         "type": "bar",
         "width": 0.9,
         "x": [
          21
         ],
         "y": [
          162
         ]
        },
        {
         "base": 21,
         "hovertemplate": "&lt;A&gt;1<extra></extra>",
         "marker": {
          "color": "#1f78b4"
         },
         "orientation": "h",
         "showlegend": false,
         "type": "bar",
         "width": 0.9,
         "x": [
          1
         ],
         "y": [
          162
         ]
        },
        {
         "base": 22,
         "hovertemplate": "&lt;AAG&gt;24<extra></extra>",
         "marker": {
          "color": "bisque"
         },
         "orientation": "h",
         "showlegend": false,
         "type": "bar",
         "width": 0.9,
         "x": [
          72
         ],
         "y": [
          162
         ]
        },
        {
         "base": 97,
         "hovertemplate": "EncodedSeq: &lt;AAG&gt;7&lt;A&gt;1&lt;AAG&gt;24<br>Allele count: 2<br>Frequency: 0.22%<extra></extra>",
         "marker": {
          "color": "black"
         },
         "orientation": "h",
         "showlegend": false,
         "type": "bar",
         "width": 0.6,
         "x": [
          7.197802197802198
         ],
         "y": [
          162
         ]
        },
        {
         "base": 0,
         "hovertemplate": "&lt;AAG&gt;31<extra></extra>",
         "marker": {
          "color": "bisque"
         },
         "orientation": "h",
         "showlegend": false,
         "type": "bar",
         "width": 0.9,
         "x": [
          93
         ],
         "y": [
          163
         ]
        },
        {
         "base": 96,
         "hovertemplate": "EncodedSeq: &lt;AAG&gt;31<br>Allele count: 1<br>Frequency: 0.11%<extra></extra>",
         "marker": {
          "color": "black"
         },
         "orientation": "h",
         "showlegend": false,
         "type": "bar",
         "width": 0.6,
         "x": [
          6.0989010989010985
         ],
         "y": [
          163
         ]
        },
        {
         "base": 0,
         "hovertemplate": "&lt;AAG&gt;5<extra></extra>",
         "marker": {
          "color": "bisque"
         },
         "orientation": "h",
         "showlegend": false,
         "type": "bar",
         "width": 0.9,
         "x": [
          15
         ],
         "y": [
          164
         ]
        },
        {
         "base": 15,
         "hovertemplate": "&lt;AAAGAAG&gt;4<extra></extra>",
         "marker": {
          "color": "#6a3d9a"
         },
         "orientation": "h",
         "showlegend": false,
         "type": "bar",
         "width": 0.9,
         "x": [
          28
         ],
         "y": [
          164
         ]
        },
        {
         "base": 43,
         "hovertemplate": "&lt;AAG&gt;16<extra></extra>",
         "marker": {
          "color": "bisque"
         },
         "orientation": "h",
         "showlegend": false,
         "type": "bar",
         "width": 0.9,
         "x": [
          48
         ],
         "y": [
          164
         ]
        },
        {
         "base": 94,
         "hovertemplate": "EncodedSeq: &lt;AAG&gt;5&lt;AAAGAAG&gt;4&lt;AAG&gt;16<br>Allele count: 1<br>Frequency: 0.11%<extra></extra>",
         "marker": {
          "color": "black"
         },
         "orientation": "h",
         "showlegend": false,
         "type": "bar",
         "width": 0.6,
         "x": [
          6.0989010989010985
         ],
         "y": [
          164
         ]
        },
        {
         "base": 0,
         "hovertemplate": "&lt;AAG&gt;30<extra></extra>",
         "marker": {
          "color": "bisque"
         },
         "orientation": "h",
         "showlegend": false,
         "type": "bar",
         "width": 0.9,
         "x": [
          90
         ],
         "y": [
          165
         ]
        },
        {
         "base": 93,
         "hovertemplate": "EncodedSeq: &lt;AAG&gt;30<br>Allele count: 2<br>Frequency: 0.22%<extra></extra>",
         "marker": {
          "color": "black"
         },
         "orientation": "h",
         "showlegend": false,
         "type": "bar",
         "width": 0.6,
         "x": [
          7.197802197802198
         ],
         "y": [
          165
         ]
        },
        {
         "base": 0,
         "hovertemplate": "&lt;AAG&gt;29<extra></extra>",
         "marker": {
          "color": "bisque"
         },
         "orientation": "h",
         "showlegend": false,
         "type": "bar",
         "width": 0.9,
         "x": [
          87
         ],
         "y": [
          166
         ]
        },
        {
         "base": 90,
         "hovertemplate": "EncodedSeq: &lt;AAG&gt;29<br>Allele count: 3<br>Frequency: 0.33%<extra></extra>",
         "marker": {
          "color": "black"
         },
         "orientation": "h",
         "showlegend": false,
         "type": "bar",
         "width": 0.6,
         "x": [
          8.296703296703297
         ],
         "y": [
          166
         ]
        },
        {
         "base": 0,
         "hovertemplate": "&lt;AAG&gt;28<extra></extra>",
         "marker": {
          "color": "bisque"
         },
         "orientation": "h",
         "showlegend": false,
         "type": "bar",
         "width": 0.9,
         "x": [
          84
         ],
         "y": [
          167
         ]
        },
        {
         "base": 87,
         "hovertemplate": "EncodedSeq: &lt;AAG&gt;28<br>Allele count: 1<br>Frequency: 0.11%<extra></extra>",
         "marker": {
          "color": "black"
         },
         "orientation": "h",
         "showlegend": false,
         "type": "bar",
         "width": 0.6,
         "x": [
          6.0989010989010985
         ],
         "y": [
          167
         ]
        },
        {
         "base": 0,
         "hovertemplate": "&lt;AAG&gt;27<extra></extra>",
         "marker": {
          "color": "bisque"
         },
         "orientation": "h",
         "showlegend": false,
         "type": "bar",
         "width": 0.9,
         "x": [
          81
         ],
         "y": [
          168
         ]
        },
        {
         "base": 84,
         "hovertemplate": "EncodedSeq: &lt;AAG&gt;27<br>Allele count: 4<br>Frequency: 0.44%<extra></extra>",
         "marker": {
          "color": "black"
         },
         "orientation": "h",
         "showlegend": false,
         "type": "bar",
         "width": 0.6,
         "x": [
          9.395604395604396
         ],
         "y": [
          168
         ]
        },
        {
         "base": 0,
         "hovertemplate": "&lt;AAG&gt;26<extra></extra>",
         "marker": {
          "color": "bisque"
         },
         "orientation": "h",
         "showlegend": false,
         "type": "bar",
         "width": 0.9,
         "x": [
          78
         ],
         "y": [
          169
         ]
        },
        {
         "base": 81,
         "hovertemplate": "EncodedSeq: &lt;AAG&gt;26<br>Allele count: 9<br>Frequency: 0.98%<extra></extra>",
         "marker": {
          "color": "black"
         },
         "orientation": "h",
         "showlegend": false,
         "type": "bar",
         "width": 0.6,
         "x": [
          14.89010989010989
         ],
         "y": [
          169
         ]
        },
        {
         "base": 0,
         "hovertemplate": "&lt;AAG&gt;25<extra></extra>",
         "marker": {
          "color": "bisque"
         },
         "orientation": "h",
         "showlegend": false,
         "type": "bar",
         "width": 0.9,
         "x": [
          75
         ],
         "y": [
          170
         ]
        },
        {
         "base": 78,
         "hovertemplate": "EncodedSeq: &lt;AAG&gt;25<br>Allele count: 15<br>Frequency: 1.64%<extra></extra>",
         "marker": {
          "color": "black"
         },
         "orientation": "h",
         "showlegend": false,
         "type": "bar",
         "width": 0.6,
         "x": [
          21.483516483516482
         ],
         "y": [
          170
         ]
        },
        {
         "base": 0,
         "hovertemplate": "&lt;AAG&gt;24<extra></extra>",
         "marker": {
          "color": "bisque"
         },
         "orientation": "h",
         "showlegend": false,
         "type": "bar",
         "width": 0.9,
         "x": [
          72
         ],
         "y": [
          171
         ]
        },
        {
         "base": 75,
         "hovertemplate": "EncodedSeq: &lt;AAG&gt;24<br>Allele count: 17<br>Frequency: 1.86%<extra></extra>",
         "marker": {
          "color": "black"
         },
         "orientation": "h",
         "showlegend": false,
         "type": "bar",
         "width": 0.6,
         "x": [
          23.681318681318682
         ],
         "y": [
          171
         ]
        },
        {
         "base": 0,
         "hovertemplate": "&lt;AAG&gt;23<extra></extra>",
         "marker": {
          "color": "bisque"
         },
         "orientation": "h",
         "showlegend": false,
         "type": "bar",
         "width": 0.9,
         "x": [
          69
         ],
         "y": [
          172
         ]
        },
        {
         "base": 72,
         "hovertemplate": "EncodedSeq: &lt;AAG&gt;23<br>Allele count: 14<br>Frequency: 1.53%<extra></extra>",
         "marker": {
          "color": "black"
         },
         "orientation": "h",
         "showlegend": false,
         "type": "bar",
         "width": 0.6,
         "x": [
          20.384615384615387
         ],
         "y": [
          172
         ]
        },
        {
         "base": 0,
         "hovertemplate": "&lt;AAG&gt;22<extra></extra>",
         "marker": {
          "color": "bisque"
         },
         "orientation": "h",
         "showlegend": false,
         "type": "bar",
         "width": 0.9,
         "x": [
          66
         ],
         "y": [
          173
         ]
        },
        {
         "base": 69,
         "hovertemplate": "EncodedSeq: &lt;AAG&gt;22<br>Allele count: 16<br>Frequency: 1.75%<extra></extra>",
         "marker": {
          "color": "black"
         },
         "orientation": "h",
         "showlegend": false,
         "type": "bar",
         "width": 0.6,
         "x": [
          22.582417582417584
         ],
         "y": [
          173
         ]
        },
        {
         "base": 0,
         "hovertemplate": "&lt;AAG&gt;21<extra></extra>",
         "marker": {
          "color": "bisque"
         },
         "orientation": "h",
         "showlegend": false,
         "type": "bar",
         "width": 0.9,
         "x": [
          63
         ],
         "y": [
          174
         ]
        },
        {
         "base": 66,
         "hovertemplate": "EncodedSeq: &lt;AAG&gt;21<br>Allele count: 17<br>Frequency: 1.86%<extra></extra>",
         "marker": {
          "color": "black"
         },
         "orientation": "h",
         "showlegend": false,
         "type": "bar",
         "width": 0.6,
         "x": [
          23.681318681318682
         ],
         "y": [
          174
         ]
        },
        {
         "base": 0,
         "hovertemplate": "&lt;AAG&gt;20<extra></extra>",
         "marker": {
          "color": "bisque"
         },
         "orientation": "h",
         "showlegend": false,
         "type": "bar",
         "width": 0.9,
         "x": [
          60
         ],
         "y": [
          175
         ]
        },
        {
         "base": 63,
         "hovertemplate": "EncodedSeq: &lt;AAG&gt;20<br>Allele count: 17<br>Frequency: 1.86%<extra></extra>",
         "marker": {
          "color": "black"
         },
         "orientation": "h",
         "showlegend": false,
         "type": "bar",
         "width": 0.6,
         "x": [
          23.681318681318682
         ],
         "y": [
          175
         ]
        },
        {
         "base": 0,
         "hovertemplate": "&lt;AAG&gt;19<extra></extra>",
         "marker": {
          "color": "bisque"
         },
         "orientation": "h",
         "showlegend": false,
         "type": "bar",
         "width": 0.9,
         "x": [
          57
         ],
         "y": [
          176
         ]
        },
        {
         "base": 60,
         "hovertemplate": "EncodedSeq: &lt;AAG&gt;19<br>Allele count: 14<br>Frequency: 1.53%<extra></extra>",
         "marker": {
          "color": "black"
         },
         "orientation": "h",
         "showlegend": false,
         "type": "bar",
         "width": 0.6,
         "x": [
          20.384615384615387
         ],
         "y": [
          176
         ]
        },
        {
         "base": 0,
         "hovertemplate": "&lt;AAG&gt;18<extra></extra>",
         "marker": {
          "color": "bisque"
         },
         "orientation": "h",
         "showlegend": false,
         "type": "bar",
         "width": 0.9,
         "x": [
          54
         ],
         "y": [
          177
         ]
        },
        {
         "base": 57,
         "hovertemplate": "EncodedSeq: &lt;AAG&gt;18<br>Allele count: 33<br>Frequency: 3.61%<extra></extra>",
         "marker": {
          "color": "black"
         },
         "orientation": "h",
         "showlegend": false,
         "type": "bar",
         "width": 0.6,
         "x": [
          41.26373626373626
         ],
         "y": [
          177
         ]
        },
        {
         "base": 0,
         "hovertemplate": "&lt;AAG&gt;17<extra></extra>",
         "marker": {
          "color": "bisque"
         },
         "orientation": "h",
         "showlegend": false,
         "type": "bar",
         "width": 0.9,
         "x": [
          51
         ],
         "y": [
          178
         ]
        },
        {
         "base": 54,
         "hovertemplate": "EncodedSeq: &lt;AAG&gt;17<br>Allele count: 44<br>Frequency: 4.81%<extra></extra>",
         "marker": {
          "color": "black"
         },
         "orientation": "h",
         "showlegend": false,
         "type": "bar",
         "width": 0.6,
         "x": [
          53.35164835164835
         ],
         "y": [
          178
         ]
        },
        {
         "base": 0,
         "hovertemplate": "&lt;AAG&gt;16<extra></extra>",
         "marker": {
          "color": "bisque"
         },
         "orientation": "h",
         "showlegend": false,
         "type": "bar",
         "width": 0.9,
         "x": [
          48
         ],
         "y": [
          179
         ]
        },
        {
         "base": 51,
         "hovertemplate": "EncodedSeq: &lt;AAG&gt;16<br>Allele count: 77<br>Frequency: 8.42%<extra></extra>",
         "marker": {
          "color": "black"
         },
         "orientation": "h",
         "showlegend": false,
         "type": "bar",
         "width": 0.6,
         "x": [
          89.61538461538461
         ],
         "y": [
          179
         ]
        },
        {
         "base": 0,
         "hovertemplate": "&lt;AAG&gt;15<extra></extra>",
         "marker": {
          "color": "bisque"
         },
         "orientation": "h",
         "showlegend": false,
         "type": "bar",
         "width": 0.9,
         "x": [
          45
         ],
         "y": [
          180
         ]
        },
        {
         "base": 48,
         "hovertemplate": "EncodedSeq: &lt;AAG&gt;15<br>Allele count: 15<br>Frequency: 1.64%<extra></extra>",
         "marker": {
          "color": "black"
         },
         "orientation": "h",
         "showlegend": false,
         "type": "bar",
         "width": 0.6,
         "x": [
          21.483516483516482
         ],
         "y": [
          180
         ]
        },
        {
         "base": 0,
         "hovertemplate": "&lt;AAG&gt;14<extra></extra>",
         "marker": {
          "color": "bisque"
         },
         "orientation": "h",
         "showlegend": false,
         "type": "bar",
         "width": 0.9,
         "x": [
          42
         ],
         "y": [
          181
         ]
        },
        {
         "base": 45,
         "hovertemplate": "EncodedSeq: &lt;AAG&gt;14<br>Allele count: 33<br>Frequency: 3.61%<extra></extra>",
         "marker": {
          "color": "black"
         },
         "orientation": "h",
         "showlegend": false,
         "type": "bar",
         "width": 0.6,
         "x": [
          41.26373626373626
         ],
         "y": [
          181
         ]
        },
        {
         "base": 0,
         "hovertemplate": "&lt;AAG&gt;13<extra></extra>",
         "marker": {
          "color": "bisque"
         },
         "orientation": "h",
         "showlegend": false,
         "type": "bar",
         "width": 0.9,
         "x": [
          39
         ],
         "y": [
          182
         ]
        },
        {
         "base": 42,
         "hovertemplate": "EncodedSeq: &lt;AAG&gt;13<br>Allele count: 2<br>Frequency: 0.22%<extra></extra>",
         "marker": {
          "color": "black"
         },
         "orientation": "h",
         "showlegend": false,
         "type": "bar",
         "width": 0.6,
         "x": [
          7.197802197802198
         ],
         "y": [
          182
         ]
        },
        {
         "base": 0,
         "hovertemplate": "&lt;AAG&gt;12<extra></extra>",
         "marker": {
          "color": "bisque"
         },
         "orientation": "h",
         "showlegend": false,
         "type": "bar",
         "width": 0.9,
         "x": [
          36
         ],
         "y": [
          183
         ]
        },
        {
         "base": 39,
         "hovertemplate": "EncodedSeq: &lt;AAG&gt;12<br>Allele count: 6<br>Frequency: 0.66%<extra></extra>",
         "marker": {
          "color": "black"
         },
         "orientation": "h",
         "showlegend": false,
         "type": "bar",
         "width": 0.6,
         "x": [
          11.593406593406595
         ],
         "y": [
          183
         ]
        },
        {
         "base": 0,
         "hovertemplate": "&lt;AAG&gt;11<extra></extra>",
         "marker": {
          "color": "bisque"
         },
         "orientation": "h",
         "showlegend": false,
         "type": "bar",
         "width": 0.9,
         "x": [
          33
         ],
         "y": [
          184
         ]
        },
        {
         "base": 36,
         "hovertemplate": "EncodedSeq: &lt;AAG&gt;11<br>Allele count: 40<br>Frequency: 4.38%<extra></extra>",
         "marker": {
          "color": "black"
         },
         "orientation": "h",
         "showlegend": false,
         "type": "bar",
         "width": 0.6,
         "x": [
          48.956043956043956
         ],
         "y": [
          184
         ]
        },
        {
         "base": 0,
         "hovertemplate": "&lt;AAG&gt;10<extra></extra>",
         "marker": {
          "color": "bisque"
         },
         "orientation": "h",
         "showlegend": false,
         "type": "bar",
         "width": 0.9,
         "x": [
          30
         ],
         "y": [
          185
         ]
        },
        {
         "base": 33,
         "hovertemplate": "EncodedSeq: &lt;AAG&gt;10<br>Allele count: 5<br>Frequency: 0.55%<extra></extra>",
         "marker": {
          "color": "black"
         },
         "orientation": "h",
         "showlegend": false,
         "type": "bar",
         "width": 0.6,
         "x": [
          10.494505494505495
         ],
         "y": [
          185
         ]
        },
        {
         "base": 0,
         "hovertemplate": "&lt;AAG&gt;9<extra></extra>",
         "marker": {
          "color": "bisque"
         },
         "orientation": "h",
         "showlegend": false,
         "type": "bar",
         "width": 0.9,
         "x": [
          27
         ],
         "y": [
          186
         ]
        },
        {
         "base": 30,
         "hovertemplate": "EncodedSeq: &lt;AAG&gt;9<br>Allele count: 165<br>Frequency: 18.05%<extra></extra>",
         "marker": {
          "color": "black"
         },
         "orientation": "h",
         "showlegend": false,
         "type": "bar",
         "width": 0.6,
         "x": [
          186.3186813186813
         ],
         "y": [
          186
         ]
        },
        {
         "base": 0,
         "hovertemplate": "&lt;AAG&gt;2<extra></extra>",
         "marker": {
          "color": "bisque"
         },
         "orientation": "h",
         "showlegend": false,
         "type": "bar",
         "width": 0.9,
         "x": [
          6
         ],
         "y": [
          187
         ]
        },
        {
         "base": 6,
         "hovertemplate": "&lt;AG&gt;1<extra></extra>",
         "marker": {
          "color": "#8dd3c7"
         },
         "orientation": "h",
         "showlegend": false,
         "type": "bar",
         "width": 0.9,
         "x": [
          2
         ],
         "y": [
          187
         ]
        },
        {
         "base": 8,
         "hovertemplate": "&lt;AAG&gt;6<extra></extra>",
         "marker": {
          "color": "bisque"
         },
         "orientation": "h",
         "showlegend": false,
         "type": "bar",
         "width": 0.9,
         "x": [
          18
         ],
         "y": [
          187
         ]
        },
        {
         "base": 29,
         "hovertemplate": "EncodedSeq: &lt;AAG&gt;2&lt;AG&gt;1&lt;AAG&gt;6<br>Allele count: 1<br>Frequency: 0.11%<extra></extra>",
         "marker": {
          "color": "black"
         },
         "orientation": "h",
         "showlegend": false,
         "type": "bar",
         "width": 0.6,
         "x": [
          6.0989010989010985
         ],
         "y": [
          187
         ]
        },
        {
         "base": 0,
         "hovertemplate": "&lt;AAG&gt;8<extra></extra>",
         "marker": {
          "color": "bisque"
         },
         "orientation": "h",
         "showlegend": false,
         "type": "bar",
         "width": 0.9,
         "x": [
          24
         ],
         "y": [
          188
         ]
        },
        {
         "base": 27,
         "hovertemplate": "EncodedSeq: &lt;AAG&gt;8<br>Allele count: 182<br>Frequency: 19.91%<extra></extra>",
         "marker": {
          "color": "black"
         },
         "orientation": "h",
         "showlegend": false,
         "type": "bar",
         "width": 0.6,
         "x": [
          205
         ],
         "y": [
          188
         ]
        },
        {
         "hoverinfo": "skip",
         "marker": {
          "color": "bisque",
          "size": 20
         },
         "mode": "markers",
         "name": "AAG",
         "type": "scatter",
         "x": [
          null
         ],
         "y": [
          null
         ]
        },
        {
         "hoverinfo": "skip",
         "marker": {
          "color": "#6a3d9a",
          "size": 20
         },
         "mode": "markers",
         "name": "AAAGAAG",
         "type": "scatter",
         "x": [
          null
         ],
         "y": [
          null
         ]
        },
        {
         "hoverinfo": "skip",
         "marker": {
          "color": "#b2df8a",
          "size": 20
         },
         "mode": "markers",
         "name": "AAGAGG",
         "type": "scatter",
         "x": [
          null
         ],
         "y": [
          null
         ]
        },
        {
         "hoverinfo": "skip",
         "marker": {
          "color": "#1f78b4",
          "size": 20
         },
         "mode": "markers",
         "name": "A",
         "type": "scatter",
         "x": [
          null
         ],
         "y": [
          null
         ]
        },
        {
         "hoverinfo": "skip",
         "marker": {
          "color": "#33a02c",
          "size": 20
         },
         "mode": "markers",
         "name": "GAG",
         "type": "scatter",
         "x": [
          null
         ],
         "y": [
          null
         ]
        },
        {
         "hoverinfo": "skip",
         "marker": {
          "color": "#a6cee3",
          "size": 20
         },
         "mode": "markers",
         "name": "AAAGAAGAAG",
         "type": "scatter",
         "x": [
          null
         ],
         "y": [
          null
         ]
        },
        {
         "hoverinfo": "skip",
         "marker": {
          "color": "#e31a1c",
          "size": 20
         },
         "mode": "markers",
         "name": "AAGAAGAAGAAGCAG",
         "type": "scatter",
         "x": [
          null
         ],
         "y": [
          null
         ]
        },
        {
         "hoverinfo": "skip",
         "marker": {
          "color": "#fdbf6f",
          "size": 20
         },
         "mode": "markers",
         "name": "AAGCAG",
         "type": "scatter",
         "x": [
          null
         ],
         "y": [
          null
         ]
        },
        {
         "hoverinfo": "skip",
         "marker": {
          "color": "#b15928",
          "size": 20
         },
         "mode": "markers",
         "name": "AAGCAGCAG",
         "type": "scatter",
         "x": [
          null
         ],
         "y": [
          null
         ]
        },
        {
         "hoverinfo": "skip",
         "marker": {
          "color": "#cab2d6",
          "size": 20
         },
         "mode": "markers",
         "name": "AAGAAGCAGAAGCAG",
         "type": "scatter",
         "x": [
          null
         ],
         "y": [
          null
         ]
        },
        {
         "hoverinfo": "skip",
         "marker": {
          "color": "#fb9a99",
          "size": 20
         },
         "mode": "markers",
         "name": "AAGAAGCAG",
         "type": "scatter",
         "x": [
          null
         ],
         "y": [
          null
         ]
        },
        {
         "hoverinfo": "skip",
         "marker": {
          "color": "magenta",
          "size": 20
         },
         "mode": "markers",
         "name": "AAGAAGAAGCAG",
         "type": "scatter",
         "x": [
          null
         ],
         "y": [
          null
         ]
        },
        {
         "hoverinfo": "skip",
         "marker": {
          "color": "#ffff99",
          "size": 20
         },
         "mode": "markers",
         "name": "AAGCAGAAGCAGCAG",
         "type": "scatter",
         "x": [
          null
         ],
         "y": [
          null
         ]
        },
        {
         "hoverinfo": "skip",
         "marker": {
          "color": "#ff7f00",
          "size": 20
         },
         "mode": "markers",
         "name": "AGG",
         "type": "scatter",
         "x": [
          null
         ],
         "y": [
          null
         ]
        },
        {
         "hoverinfo": "skip",
         "marker": {
          "color": "#8dd3c7",
          "size": 20
         },
         "mode": "markers",
         "name": "AG",
         "type": "scatter",
         "x": [
          null
         ],
         "y": [
          null
         ]
        },
        {
         "hoverinfo": "skip",
         "marker": {
          "color": "#ffed6f",
          "size": 20
         },
         "mode": "markers",
         "name": "AAGAAGAGG",
         "type": "scatter",
         "x": [
          null
         ],
         "y": [
          null
         ]
        },
        {
         "hoverinfo": "skip",
         "marker": {
          "color": "#bc80bd",
          "size": 20
         },
         "mode": "markers",
         "name": "AAAGAAGAAGAAG",
         "type": "scatter",
         "x": [
          null
         ],
         "y": [
          null
         ]
        },
        {
         "hoverinfo": "skip",
         "marker": {
          "color": "#ccebc5",
          "size": 20
         },
         "mode": "markers",
         "name": "G",
         "type": "scatter",
         "x": [
          null
         ],
         "y": [
          null
         ]
        },
        {
         "hoverinfo": "skip",
         "marker": {
          "color": "#fccde5",
          "size": 20
         },
         "mode": "markers",
         "name": "AAGAGGAGG",
         "type": "scatter",
         "x": [
          null
         ],
         "y": [
          null
         ]
        },
        {
         "hoverinfo": "skip",
         "marker": {
          "color": "#d9d9d9",
          "size": 20
         },
         "mode": "markers",
         "name": "AAGAAGGAG",
         "type": "scatter",
         "x": [
          null
         ],
         "y": [
          null
         ]
        },
        {
         "hoverinfo": "skip",
         "marker": {
          "color": "#ffcc99",
          "size": 20
         },
         "mode": "markers",
         "name": "AAGAAGGAGGAG",
         "type": "scatter",
         "x": [
          null
         ],
         "y": [
          null
         ]
        },
        {
         "hoverinfo": "skip",
         "marker": {
          "color": "#999999",
          "size": 20
         },
         "mode": "markers",
         "name": "AAAG",
         "type": "scatter",
         "x": [
          null
         ],
         "y": [
          null
         ]
        },
        {
         "hoverinfo": "skip",
         "marker": {
          "color": "gray",
          "size": 20
         },
         "mode": "markers",
         "name": "Other",
         "type": "scatter",
         "x": [
          null
         ],
         "y": [
          null
         ]
        },
        {
         "hoverinfo": "skip",
         "marker": {
          "color": "gray",
          "size": 20
         },
         "mode": "markers",
         "name": "Other",
         "type": "scatter",
         "x": [
          null
         ],
         "y": [
          null
         ]
        }
       ],
       "layout": {
        "autosize": true,
        "barmode": "stack",
        "legend": {
         "font": {
          "size": 10
         },
         "title": {
          "text": "Motifs"
         },
         "x": 1.01,
         "y": 0,
         "yanchor": "bottom"
        },
        "margin": {
         "b": 40,
         "l": 40,
         "r": 180,
         "t": 40
        },
        "template": {
         "data": {
          "bar": [
           {
            "error_x": {
             "color": "#2a3f5f"
            },
            "error_y": {
             "color": "#2a3f5f"
            },
            "marker": {
             "line": {
              "color": "#E5ECF6",
              "width": 0.5
             },
             "pattern": {
              "fillmode": "overlay",
              "size": 10,
              "solidity": 0.2
             }
            },
            "type": "bar"
           }
          ],
          "barpolar": [
           {
            "marker": {
             "line": {
              "color": "#E5ECF6",
              "width": 0.5
             },
             "pattern": {
              "fillmode": "overlay",
              "size": 10,
              "solidity": 0.2
             }
            },
            "type": "barpolar"
           }
          ],
          "carpet": [
           {
            "aaxis": {
             "endlinecolor": "#2a3f5f",
             "gridcolor": "white",
             "linecolor": "white",
             "minorgridcolor": "white",
             "startlinecolor": "#2a3f5f"
            },
            "baxis": {
             "endlinecolor": "#2a3f5f",
             "gridcolor": "white",
             "linecolor": "white",
             "minorgridcolor": "white",
             "startlinecolor": "#2a3f5f"
            },
            "type": "carpet"
           }
          ],
          "choropleth": [
           {
            "colorbar": {
             "outlinewidth": 0,
             "ticks": ""
            },
            "type": "choropleth"
           }
          ],
          "contour": [
           {
            "colorbar": {
             "outlinewidth": 0,
             "ticks": ""
            },
            "colorscale": [
             [
              0,
              "#0d0887"
             ],
             [
              0.1111111111111111,
              "#46039f"
             ],
             [
              0.2222222222222222,
              "#7201a8"
             ],
             [
              0.3333333333333333,
              "#9c179e"
             ],
             [
              0.4444444444444444,
              "#bd3786"
             ],
             [
              0.5555555555555556,
              "#d8576b"
             ],
             [
              0.6666666666666666,
              "#ed7953"
             ],
             [
              0.7777777777777778,
              "#fb9f3a"
             ],
             [
              0.8888888888888888,
              "#fdca26"
             ],
             [
              1,
              "#f0f921"
             ]
            ],
            "type": "contour"
           }
          ],
          "contourcarpet": [
           {
            "colorbar": {
             "outlinewidth": 0,
             "ticks": ""
            },
            "type": "contourcarpet"
           }
          ],
          "heatmap": [
           {
            "colorbar": {
             "outlinewidth": 0,
             "ticks": ""
            },
            "colorscale": [
             [
              0,
              "#0d0887"
             ],
             [
              0.1111111111111111,
              "#46039f"
             ],
             [
              0.2222222222222222,
              "#7201a8"
             ],
             [
              0.3333333333333333,
              "#9c179e"
             ],
             [
              0.4444444444444444,
              "#bd3786"
             ],
             [
              0.5555555555555556,
              "#d8576b"
             ],
             [
              0.6666666666666666,
              "#ed7953"
             ],
             [
              0.7777777777777778,
              "#fb9f3a"
             ],
             [
              0.8888888888888888,
              "#fdca26"
             ],
             [
              1,
              "#f0f921"
             ]
            ],
            "type": "heatmap"
           }
          ],
          "heatmapgl": [
           {
            "colorbar": {
             "outlinewidth": 0,
             "ticks": ""
            },
            "colorscale": [
             [
              0,
              "#0d0887"
             ],
             [
              0.1111111111111111,
              "#46039f"
             ],
             [
              0.2222222222222222,
              "#7201a8"
             ],
             [
              0.3333333333333333,
              "#9c179e"
             ],
             [
              0.4444444444444444,
              "#bd3786"
             ],
             [
              0.5555555555555556,
              "#d8576b"
             ],
             [
              0.6666666666666666,
              "#ed7953"
             ],
             [
              0.7777777777777778,
              "#fb9f3a"
             ],
             [
              0.8888888888888888,
              "#fdca26"
             ],
             [
              1,
              "#f0f921"
             ]
            ],
            "type": "heatmapgl"
           }
          ],
          "histogram": [
           {
            "marker": {
             "pattern": {
              "fillmode": "overlay",
              "size": 10,
              "solidity": 0.2
             }
            },
            "type": "histogram"
           }
          ],
          "histogram2d": [
           {
            "colorbar": {
             "outlinewidth": 0,
             "ticks": ""
            },
            "colorscale": [
             [
              0,
              "#0d0887"
             ],
             [
              0.1111111111111111,
              "#46039f"
             ],
             [
              0.2222222222222222,
              "#7201a8"
             ],
             [
              0.3333333333333333,
              "#9c179e"
             ],
             [
              0.4444444444444444,
              "#bd3786"
             ],
             [
              0.5555555555555556,
              "#d8576b"
             ],
             [
              0.6666666666666666,
              "#ed7953"
             ],
             [
              0.7777777777777778,
              "#fb9f3a"
             ],
             [
              0.8888888888888888,
              "#fdca26"
             ],
             [
              1,
              "#f0f921"
             ]
            ],
            "type": "histogram2d"
           }
          ],
          "histogram2dcontour": [
           {
            "colorbar": {
             "outlinewidth": 0,
             "ticks": ""
            },
            "colorscale": [
             [
              0,
              "#0d0887"
             ],
             [
              0.1111111111111111,
              "#46039f"
             ],
             [
              0.2222222222222222,
              "#7201a8"
             ],
             [
              0.3333333333333333,
              "#9c179e"
             ],
             [
              0.4444444444444444,
              "#bd3786"
             ],
             [
              0.5555555555555556,
              "#d8576b"
             ],
             [
              0.6666666666666666,
              "#ed7953"
             ],
             [
              0.7777777777777778,
              "#fb9f3a"
             ],
             [
              0.8888888888888888,
              "#fdca26"
             ],
             [
              1,
              "#f0f921"
             ]
            ],
            "type": "histogram2dcontour"
           }
          ],
          "mesh3d": [
           {
            "colorbar": {
             "outlinewidth": 0,
             "ticks": ""
            },
            "type": "mesh3d"
           }
          ],
          "parcoords": [
           {
            "line": {
             "colorbar": {
              "outlinewidth": 0,
              "ticks": ""
             }
            },
            "type": "parcoords"
           }
          ],
          "pie": [
           {
            "automargin": true,
            "type": "pie"
           }
          ],
          "scatter": [
           {
            "fillpattern": {
             "fillmode": "overlay",
             "size": 10,
             "solidity": 0.2
            },
            "type": "scatter"
           }
          ],
          "scatter3d": [
           {
            "line": {
             "colorbar": {
              "outlinewidth": 0,
              "ticks": ""
             }
            },
            "marker": {
             "colorbar": {
              "outlinewidth": 0,
              "ticks": ""
             }
            },
            "type": "scatter3d"
           }
          ],
          "scattercarpet": [
           {
            "marker": {
             "colorbar": {
              "outlinewidth": 0,
              "ticks": ""
             }
            },
            "type": "scattercarpet"
           }
          ],
          "scattergeo": [
           {
            "marker": {
             "colorbar": {
              "outlinewidth": 0,
              "ticks": ""
             }
            },
            "type": "scattergeo"
           }
          ],
          "scattergl": [
           {
            "marker": {
             "colorbar": {
              "outlinewidth": 0,
              "ticks": ""
             }
            },
            "type": "scattergl"
           }
          ],
          "scattermapbox": [
           {
            "marker": {
             "colorbar": {
              "outlinewidth": 0,
              "ticks": ""
             }
            },
            "type": "scattermapbox"
           }
          ],
          "scatterpolar": [
           {
            "marker": {
             "colorbar": {
              "outlinewidth": 0,
              "ticks": ""
             }
            },
            "type": "scatterpolar"
           }
          ],
          "scatterpolargl": [
           {
            "marker": {
             "colorbar": {
              "outlinewidth": 0,
              "ticks": ""
             }
            },
            "type": "scatterpolargl"
           }
          ],
          "scatterternary": [
           {
            "marker": {
             "colorbar": {
              "outlinewidth": 0,
              "ticks": ""
             }
            },
            "type": "scatterternary"
           }
          ],
          "surface": [
           {
            "colorbar": {
             "outlinewidth": 0,
             "ticks": ""
            },
            "colorscale": [
             [
              0,
              "#0d0887"
             ],
             [
              0.1111111111111111,
              "#46039f"
             ],
             [
              0.2222222222222222,
              "#7201a8"
             ],
             [
              0.3333333333333333,
              "#9c179e"
             ],
             [
              0.4444444444444444,
              "#bd3786"
             ],
             [
              0.5555555555555556,
              "#d8576b"
             ],
             [
              0.6666666666666666,
              "#ed7953"
             ],
             [
              0.7777777777777778,
              "#fb9f3a"
             ],
             [
              0.8888888888888888,
              "#fdca26"
             ],
             [
              1,
              "#f0f921"
             ]
            ],
            "type": "surface"
           }
          ],
          "table": [
           {
            "cells": {
             "fill": {
              "color": "#EBF0F8"
             },
             "line": {
              "color": "white"
             }
            },
            "header": {
             "fill": {
              "color": "#C8D4E3"
             },
             "line": {
              "color": "white"
             }
            },
            "type": "table"
           }
          ]
         },
         "layout": {
          "annotationdefaults": {
           "arrowcolor": "#2a3f5f",
           "arrowhead": 0,
           "arrowwidth": 1
          },
          "autotypenumbers": "strict",
          "coloraxis": {
           "colorbar": {
            "outlinewidth": 0,
            "ticks": ""
           }
          },
          "colorscale": {
           "diverging": [
            [
             0,
             "#8e0152"
            ],
            [
             0.1,
             "#c51b7d"
            ],
            [
             0.2,
             "#de77ae"
            ],
            [
             0.3,
             "#f1b6da"
            ],
            [
             0.4,
             "#fde0ef"
            ],
            [
             0.5,
             "#f7f7f7"
            ],
            [
             0.6,
             "#e6f5d0"
            ],
            [
             0.7,
             "#b8e186"
            ],
            [
             0.8,
             "#7fbc41"
            ],
            [
             0.9,
             "#4d9221"
            ],
            [
             1,
             "#276419"
            ]
           ],
           "sequential": [
            [
             0,
             "#0d0887"
            ],
            [
             0.1111111111111111,
             "#46039f"
            ],
            [
             0.2222222222222222,
             "#7201a8"
            ],
            [
             0.3333333333333333,
             "#9c179e"
            ],
            [
             0.4444444444444444,
             "#bd3786"
            ],
            [
             0.5555555555555556,
             "#d8576b"
            ],
            [
             0.6666666666666666,
             "#ed7953"
            ],
            [
             0.7777777777777778,
             "#fb9f3a"
            ],
            [
             0.8888888888888888,
             "#fdca26"
            ],
            [
             1,
             "#f0f921"
            ]
           ],
           "sequentialminus": [
            [
             0,
             "#0d0887"
            ],
            [
             0.1111111111111111,
             "#46039f"
            ],
            [
             0.2222222222222222,
             "#7201a8"
            ],
            [
             0.3333333333333333,
             "#9c179e"
            ],
            [
             0.4444444444444444,
             "#bd3786"
            ],
            [
             0.5555555555555556,
             "#d8576b"
            ],
            [
             0.6666666666666666,
             "#ed7953"
            ],
            [
             0.7777777777777778,
             "#fb9f3a"
            ],
            [
             0.8888888888888888,
             "#fdca26"
            ],
            [
             1,
             "#f0f921"
            ]
           ]
          },
          "colorway": [
           "#636efa",
           "#EF553B",
           "#00cc96",
           "#ab63fa",
           "#FFA15A",
           "#19d3f3",
           "#FF6692",
           "#B6E880",
           "#FF97FF",
           "#FECB52"
          ],
          "font": {
           "color": "#2a3f5f"
          },
          "geo": {
           "bgcolor": "white",
           "lakecolor": "white",
           "landcolor": "#E5ECF6",
           "showlakes": true,
           "showland": true,
           "subunitcolor": "white"
          },
          "hoverlabel": {
           "align": "left"
          },
          "hovermode": "closest",
          "mapbox": {
           "style": "light"
          },
          "paper_bgcolor": "white",
          "plot_bgcolor": "#E5ECF6",
          "polar": {
           "angularaxis": {
            "gridcolor": "white",
            "linecolor": "white",
            "ticks": ""
           },
           "bgcolor": "#E5ECF6",
           "radialaxis": {
            "gridcolor": "white",
            "linecolor": "white",
            "ticks": ""
           }
          },
          "scene": {
           "xaxis": {
            "backgroundcolor": "#E5ECF6",
            "gridcolor": "white",
            "gridwidth": 2,
            "linecolor": "white",
            "showbackground": true,
            "ticks": "",
            "zerolinecolor": "white"
           },
           "yaxis": {
            "backgroundcolor": "#E5ECF6",
            "gridcolor": "white",
            "gridwidth": 2,
            "linecolor": "white",
            "showbackground": true,
            "ticks": "",
            "zerolinecolor": "white"
           },
           "zaxis": {
            "backgroundcolor": "#E5ECF6",
            "gridcolor": "white",
            "gridwidth": 2,
            "linecolor": "white",
            "showbackground": true,
            "ticks": "",
            "zerolinecolor": "white"
           }
          },
          "shapedefaults": {
           "line": {
            "color": "#2a3f5f"
           }
          },
          "ternary": {
           "aaxis": {
            "gridcolor": "white",
            "linecolor": "white",
            "ticks": ""
           },
           "baxis": {
            "gridcolor": "white",
            "linecolor": "white",
            "ticks": ""
           },
           "bgcolor": "#E5ECF6",
           "caxis": {
            "gridcolor": "white",
            "linecolor": "white",
            "ticks": ""
           }
          },
          "title": {
           "x": 0.05
          },
          "xaxis": {
           "automargin": true,
           "gridcolor": "white",
           "linecolor": "white",
           "ticks": "",
           "title": {
            "standoff": 15
           },
           "zerolinecolor": "white",
           "zerolinewidth": 2
          },
          "yaxis": {
           "automargin": true,
           "gridcolor": "white",
           "linecolor": "white",
           "ticks": "",
           "title": {
            "standoff": 15
           },
           "zerolinecolor": "white",
           "zerolinewidth": 2
          }
         }
        },
        "title": {
         "text": "Waterfall Plot with Motif Segments + Allele Frequency Markers"
        },
        "xaxis": {
         "range": [
          0,
          2089
         ],
         "title": {
          "text": "Repeat Length (bp)"
         },
         "type": "linear"
        },
        "yaxis": {
         "autorange": true,
         "range": [
          188.5,
          -0.5
         ],
         "showticklabels": false,
         "title": {
          "text": "Alleles (ranked by length)"
         },
         "type": "linear"
        }
       }
      },
      "image/png": "[encoded data removed]",
      "text/html": [
       "<div>                            <div id=\"7e63d5a7-abf4-4f2e-a05e-d79721cdc768\" class=\"plotly-graph-div\" style=\"height:1500px; width:100%;\"></div>            <script type=\"text/javascript\">                require([\"plotly\"], function(Plotly) {                    window.PLOTLYENV=window.PLOTLYENV || {};                                    if (document.getElementById(\"7e63d5a7-abf4-4f2e-a05e-d79721cdc768\")) {                    Plotly.newPlot(                        \"7e63d5a7-abf4-4f2e-a05e-d79721cdc768\",                        [{\"base\":0,\"hovertemplate\":\"&lt;AAG&gt;12\\u003cextra\\u003e\\u003c\\u002fextra\\u003e\",\"marker\":{\"color\":\"bisque\"},\"orientation\":\"h\",\"showlegend\":false,\"width\":0.9,\"x\":[36],\"y\":[0],\"type\":\"bar\"},{\"base\":36,\"hovertemplate\":\"&lt;AAGAAGAAGAAGCAG&gt;1\\u003cextra\\u003e\\u003c\\u002fextra\\u003e\",\"marker\":{\"color\":\"#e31a1c\"},\"orientation\":\"h\",\"showlegend\":false,\"width\":0.9,\"x\":[15],\"y\":[0],\"type\":\"bar\"},{\"base\":51,\"hovertemplate\":\"&lt;AAG&gt;1\\u003cextra\\u003e\\u003c\\u002fextra\\u003e\",\"marker\":{\"color\":\"bisque\"},\"orientation\":\"h\",\"showlegend\":false,\"width\":0.9,\"x\":[3],\"y\":[0],\"type\":\"bar\"},{\"base\":54,\"hovertemplate\":\"&lt;AAGAAGAAGAAGCAG&gt;1\\u003cextra\\u003e\\u003c\\u002fextra\\u003e\",\"marker\":{\"color\":\"#e31a1c\"},\"orientation\":\"h\",\"showlegend\":false,\"width\":0.9,\"x\":[15],\"y\":[0],\"type\":\"bar\"},{\"base\":69,\"hovertemplate\":\"&lt;AAG&gt;1\\u003cextra\\u003e\\u003c\\u002fextra\\u003e\",\"marker\":{\"color\":\"bisque\"},\"orientation\":\"h\",\"showlegend\":false,\"width\":0.9,\"x\":[3],\"y\":[0],\"type\":\"bar\"},{\"base\":72,\"hovertemplate\":\"&lt;AAGAAGAAGAAGCAG&gt;30\\u003cextra\\u003e\\u003c\\u002fextra\\u003e\",\"marker\":{\"color\":\"#e31a1c\"},\"orientation\":\"h\",\"showlegend\":false,\"width\":0.9,\"x\":[450],\"y\":[0],\"type\":\"bar\"},{\"base\":522,\"hovertemplate\":\"&lt;AAGCAG&gt;3\\u003cextra\\u003e\\u003c\\u002fextra\\u003e\",\"marker\":{\"color\":\"#fdbf6f\"},\"orientation\":\"h\",\"showlegend\":false,\"width\":0.9,\"x\":[18],\"y\":[0],\"type\":\"bar\"},{\"base\":540,\"hovertemplate\":\"&lt;AAGCAGCAG&gt;5\\u003cextra\\u003e\\u003c\\u002fextra\\u003e\",\"marker\":{\"color\":\"#b15928\"},\"orientation\":\"h\",\"showlegend\":false,\"width\":0.9,\"x\":[45],\"y\":[0],\"type\":\"bar\"},{\"base\":585,\"hovertemplate\":\"&lt;AAGCAG&gt;12\\u003cextra\\u003e\\u003c\\u002fextra\\u003e\",\"marker\":{\"color\":\"#fdbf6f\"},\"orientation\":\"h\",\"showlegend\":false,\"width\":0.9,\"x\":[72],\"y\":[0],\"type\":\"bar\"},{\"base\":657,\"hovertemplate\":\"&lt;AAGAAGCAGAAGCAG&gt;6\\u003cextra\\u003e\\u003c\\u002fextra\\u003e\",\"marker\":{\"color\":\"#cab2d6\"},\"orientation\":\"h\",\"showlegend\":false,\"width\":0.9,\"x\":[90],\"y\":[0],\"type\":\"bar\"},{\"base\":747,\"hovertemplate\":\"&lt;AAGAAGCAG&gt;2\\u003cextra\\u003e\\u003c\\u002fextra\\u003e\",\"marker\":{\"color\":\"#fb9a99\"},\"orientation\":\"h\",\"showlegend\":false,\"width\":0.9,\"x\":[18],\"y\":[0],\"type\":\"bar\"},{\"base\":765,\"hovertemplate\":\"&lt;CAG&gt;1\\u003cextra\\u003e\\u003c\\u002fextra\\u003e\",\"marker\":{\"color\":\"gray\"},\"orientation\":\"h\",\"showlegend\":false,\"width\":0.9,\"x\":[3],\"y\":[0],\"type\":\"bar\"},{\"base\":768,\"hovertemplate\":\"&lt;AAGCAGCAG&gt;3\\u003cextra\\u003e\\u003c\\u002fextra\\u003e\",\"marker\":{\"color\":\"#b15928\"},\"orientation\":\"h\",\"showlegend\":false,\"width\":0.9,\"x\":[27],\"y\":[0],\"type\":\"bar\"},{\"base\":795,\"hovertemplate\":\"&lt;AAGCAG&gt;8\\u003cextra\\u003e\\u003c\\u002fextra\\u003e\",\"marker\":{\"color\":\"#fdbf6f\"},\"orientation\":\"h\",\"showlegend\":false,\"width\":0.9,\"x\":[48],\"y\":[0],\"type\":\"bar\"},{\"base\":843,\"hovertemplate\":\"&lt;AAGAAGCAG&gt;3\\u003cextra\\u003e\\u003c\\u002fextra\\u003e\",\"marker\":{\"color\":\"#fb9a99\"},\"orientation\":\"h\",\"showlegend\":false,\"width\":0.9,\"x\":[27],\"y\":[0],\"type\":\"bar\"},{\"base\":870,\"hovertemplate\":\"&lt;AAGAAGCAGAAGCAG&gt;1\\u003cextra\\u003e\\u003c\\u002fextra\\u003e\",\"marker\":{\"color\":\"#cab2d6\"},\"orientation\":\"h\",\"showlegend\":false,\"width\":0.9,\"x\":[15],\"y\":[0],\"type\":\"bar\"},{\"base\":885,\"hovertemplate\":\"&lt;AAGCAG&gt;16\\u003cextra\\u003e\\u003c\\u002fextra\\u003e\",\"marker\":{\"color\":\"#fdbf6f\"},\"orientation\":\"h\",\"showlegend\":false,\"width\":0.9,\"x\":[96],\"y\":[0],\"type\":\"bar\"},{\"base\":981,\"hovertemplate\":\"&lt;AAGAAGAAGCAG&gt;4\\u003cextra\\u003e\\u003c\\u002fextra\\u003e\",\"marker\":{\"color\":\"magenta\"},\"orientation\":\"h\",\"showlegend\":false,\"width\":0.9,\"x\":[48],\"y\":[0],\"type\":\"bar\"},{\"base\":1029,\"hovertemplate\":\"&lt;AAGAAGAAGAAGCAG&gt;6\\u003cextra\\u003e\\u003c\\u002fextra\\u003e\",\"marker\":{\"color\":\"#e31a1c\"},\"orientation\":\"h\",\"showlegend\":false,\"width\":0.9,\"x\":[90],\"y\":[0],\"type\":\"bar\"},{\"base\":1119,\"hovertemplate\":\"&lt;AAGAAGCAG&gt;2\\u003cextra\\u003e\\u003c\\u002fextra\\u003e\",\"marker\":{\"color\":\"#fb9a99\"},\"orientation\":\"h\",\"showlegend\":false,\"width\":0.9,\"x\":[18],\"y\":[0],\"type\":\"bar\"},{\"base\":1137,\"hovertemplate\":\"&lt;AAGAAGCAGAAGCAG&gt;2\\u003cextra\\u003e\\u003c\\u002fextra\\u003e\",\"marker\":{\"color\":\"#cab2d6\"},\"orientation\":\"h\",\"showlegend\":false,\"width\":0.9,\"x\":[30],\"y\":[0],\"type\":\"bar\"},{\"base\":1167,\"hovertemplate\":\"&lt;AAGAAGAAGAAGCAG&gt;1\\u003cextra\\u003e\\u003c\\u002fextra\\u003e\",\"marker\":{\"color\":\"#e31a1c\"},\"orientation\":\"h\",\"showlegend\":false,\"width\":0.9,\"x\":[15],\"y\":[0],\"type\":\"bar\"},{\"base\":1182,\"hovertemplate\":\"&lt;AAGAAGCAGAAGCAG&gt;3\\u003cextra\\u003e\\u003c\\u002fextra\\u003e\",\"marker\":{\"color\":\"#cab2d6\"},\"orientation\":\"h\",\"showlegend\":false,\"width\":0.9,\"x\":[45],\"y\":[0],\"type\":\"bar\"},{\"base\":1227,\"hovertemplate\":\"&lt;AAGCAGCAG&gt;1\\u003cextra\\u003e\\u003c\\u002fextra\\u003e\",\"marker\":{\"color\":\"#b15928\"},\"orientation\":\"h\",\"showlegend\":false,\"width\":0.9,\"x\":[9],\"y\":[0],\"type\":\"bar\"},{\"base\":1236,\"hovertemplate\":\"&lt;AAGCAG&gt;1\\u003cextra\\u003e\\u003c\\u002fextra\\u003e\",\"marker\":{\"color\":\"#fdbf6f\"},\"orientation\":\"h\",\"showlegend\":false,\"width\":0.9,\"x\":[6],\"y\":[0],\"type\":\"bar\"},{\"base\":1242,\"hovertemplate\":\"&lt;AAGAAGAAGCAG&gt;2\\u003cextra\\u003e\\u003c\\u002fextra\\u003e\",\"marker\":{\"color\":\"magenta\"},\"orientation\":\"h\",\"showlegend\":false,\"width\":0.9,\"x\":[24],\"y\":[0],\"type\":\"bar\"},{\"base\":1266,\"hovertemplate\":\"&lt;AAGCAG&gt;81\\u003cextra\\u003e\\u003c\\u002fextra\\u003e\",\"marker\":{\"color\":\"#fdbf6f\"},\"orientation\":\"h\",\"showlegend\":false,\"width\":0.9,\"x\":[486],\"y\":[0],\"type\":\"bar\"},{\"base\":1752,\"hovertemplate\":\"&lt;AAG&gt;29\\u003cextra\\u003e\\u003c\\u002fextra\\u003e\",\"marker\":{\"color\":\"bisque\"},\"orientation\":\"h\",\"showlegend\":false,\"width\":0.9,\"x\":[87],\"y\":[0],\"type\":\"bar\"},{\"base\":1842,\"hovertemplate\":\"EncodedSeq: &lt;AAG&gt;12&lt;AAGAAGAAGAAGCAG&gt;1&lt;AAG&gt;1&lt;AAGAAGAAGAAGCAG&gt;1&lt;AAG&gt;1&lt;AAGAAGAAGAAGCAG&gt;30&lt;AAGCAG&gt;3&lt;AAGCAGCAG&gt;5&lt;AAGCAG&gt;12&lt;AAGAAGCAGAAGCAG&gt;6&lt;AAGAAGCAG&gt;2&lt;CAG&gt;1&lt;AAGCAGCAG&gt;3&lt;AAGCAG&gt;8&lt;AAGAAGCAG&gt;3&lt;AAGAAGCAGAAGCAG&gt;1&lt;AAGCAG&gt;16&lt;AAGAAGAAGCAG&gt;4&lt;AAGAAGAAGAAGCAG&gt;6&lt;AAGAAGCAG&gt;2&lt;AAGAAGCAGAAGCAG&gt;2&lt;AAGAAGAAGAAGCAG&gt;1&lt;AAGAAGCAGAAGCAG&gt;3&lt;AAGCAGCAG&gt;1&lt;AAGCAG&gt;1&lt;AAGAAGAAGCAG&gt;2&lt;AAGCAG&gt;81&lt;AAG&gt;29\\u003cbr\\u003eAllele count: 1\\u003cbr\\u003eFrequency: 0.11%\\u003cextra\\u003e\\u003c\\u002fextra\\u003e\",\"marker\":{\"color\":\"black\"},\"orientation\":\"h\",\"showlegend\":false,\"width\":0.6,\"x\":[6.0989010989010985],\"y\":[0],\"type\":\"bar\"},{\"base\":0,\"hovertemplate\":\"&lt;AAG&gt;4\\u003cextra\\u003e\\u003c\\u002fextra\\u003e\",\"marker\":{\"color\":\"bisque\"},\"orientation\":\"h\",\"showlegend\":false,\"width\":0.9,\"x\":[12],\"y\":[1],\"type\":\"bar\"},{\"base\":12,\"hovertemplate\":\"&lt;AAGAAGGAGGAG&gt;2\\u003cextra\\u003e\\u003c\\u002fextra\\u003e\",\"marker\":{\"color\":\"#ffcc99\"},\"orientation\":\"h\",\"showlegend\":false,\"width\":0.9,\"x\":[24],\"y\":[1],\"type\":\"bar\"},{\"base\":36,\"hovertemplate\":\"&lt;AAGGAGGAG&gt;1\\u003cextra\\u003e\\u003c\\u002fextra\\u003e\",\"marker\":{\"color\":\"gray\"},\"orientation\":\"h\",\"showlegend\":false,\"width\":0.9,\"x\":[9],\"y\":[1],\"type\":\"bar\"},{\"base\":45,\"hovertemplate\":\"&lt;G&gt;1\\u003cextra\\u003e\\u003c\\u002fextra\\u003e\",\"marker\":{\"color\":\"#ccebc5\"},\"orientation\":\"h\",\"showlegend\":false,\"width\":0.9,\"x\":[1],\"y\":[1],\"type\":\"bar\"},{\"base\":46,\"hovertemplate\":\"&lt;AGG&gt;24\\u003cextra\\u003e\\u003c\\u002fextra\\u003e\",\"marker\":{\"color\":\"#ff7f00\"},\"orientation\":\"h\",\"showlegend\":false,\"width\":0.9,\"x\":[72],\"y\":[1],\"type\":\"bar\"},{\"base\":118,\"hovertemplate\":\"&lt;AG&gt;1\\u003cextra\\u003e\\u003c\\u002fextra\\u003e\",\"marker\":{\"color\":\"#8dd3c7\"},\"orientation\":\"h\",\"showlegend\":false,\"width\":0.9,\"x\":[2],\"y\":[1],\"type\":\"bar\"},{\"base\":120,\"hovertemplate\":\"&lt;AAGAAGGAG&gt;5\\u003cextra\\u003e\\u003c\\u002fextra\\u003e\",\"marker\":{\"color\":\"#d9d9d9\"},\"orientation\":\"h\",\"showlegend\":false,\"width\":0.9,\"x\":[45],\"y\":[1],\"type\":\"bar\"},{\"base\":165,\"hovertemplate\":\"&lt;A&gt;1\\u003cextra\\u003e\\u003c\\u002fextra\\u003e\",\"marker\":{\"color\":\"#1f78b4\"},\"orientation\":\"h\",\"showlegend\":false,\"width\":0.9,\"x\":[1],\"y\":[1],\"type\":\"bar\"},{\"base\":166,\"hovertemplate\":\"&lt;AAGAAGGAG&gt;1\\u003cextra\\u003e\\u003c\\u002fextra\\u003e\",\"marker\":{\"color\":\"#d9d9d9\"},\"orientation\":\"h\",\"showlegend\":false,\"width\":0.9,\"x\":[9],\"y\":[1],\"type\":\"bar\"},{\"base\":175,\"hovertemplate\":\"&lt;AAGGAG&gt;2\\u003cextra\\u003e\\u003c\\u002fextra\\u003e\",\"marker\":{\"color\":\"gray\"},\"orientation\":\"h\",\"showlegend\":false,\"width\":0.9,\"x\":[12],\"y\":[1],\"type\":\"bar\"},{\"base\":187,\"hovertemplate\":\"&lt;AAGGAGGAG&gt;1\\u003cextra\\u003e\\u003c\\u002fextra\\u003e\",\"marker\":{\"color\":\"gray\"},\"orientation\":\"h\",\"showlegend\":false,\"width\":0.9,\"x\":[9],\"y\":[1],\"type\":\"bar\"},{\"base\":196,\"hovertemplate\":\"&lt;AAGGAG&gt;1\\u003cextra\\u003e\\u003c\\u002fextra\\u003e\",\"marker\":{\"color\":\"gray\"},\"orientation\":\"h\",\"showlegend\":false,\"width\":0.9,\"x\":[6],\"y\":[1],\"type\":\"bar\"},{\"base\":202,\"hovertemplate\":\"&lt;AAG&gt;285\\u003cextra\\u003e\\u003c\\u002fextra\\u003e\",\"marker\":{\"color\":\"bisque\"},\"orientation\":\"h\",\"showlegend\":false,\"width\":0.9,\"x\":[855],\"y\":[1],\"type\":\"bar\"},{\"base\":1060,\"hovertemplate\":\"EncodedSeq: &lt;AAG&gt;4&lt;AAGAAGGAGGAG&gt;2&lt;AAGGAGGAG&gt;1&lt;G&gt;1&lt;AGG&gt;24&lt;AG&gt;1&lt;AAGAAGGAG&gt;5&lt;A&gt;1&lt;AAGAAGGAG&gt;1&lt;AAGGAG&gt;2&lt;AAGGAGGAG&gt;1&lt;AAGGAG&gt;1&lt;AAG&gt;285\\u003cbr\\u003eAllele count: 1\\u003cbr\\u003eFrequency: 0.11%\\u003cextra\\u003e\\u003c\\u002fextra\\u003e\",\"marker\":{\"color\":\"black\"},\"orientation\":\"h\",\"showlegend\":false,\"width\":0.6,\"x\":[6.0989010989010985],\"y\":[1],\"type\":\"bar\"},{\"base\":0,\"hovertemplate\":\"&lt;AAG&gt;10\\u003cextra\\u003e\\u003c\\u002fextra\\u003e\",\"marker\":{\"color\":\"bisque\"},\"orientation\":\"h\",\"showlegend\":false,\"width\":0.9,\"x\":[30],\"y\":[2],\"type\":\"bar\"},{\"base\":30,\"hovertemplate\":\"&lt;AAGAAGAAGAAGCAG&gt;1\\u003cextra\\u003e\\u003c\\u002fextra\\u003e\",\"marker\":{\"color\":\"#e31a1c\"},\"orientation\":\"h\",\"showlegend\":false,\"width\":0.9,\"x\":[15],\"y\":[2],\"type\":\"bar\"},{\"base\":45,\"hovertemplate\":\"&lt;AAG&gt;1\\u003cextra\\u003e\\u003c\\u002fextra\\u003e\",\"marker\":{\"color\":\"bisque\"},\"orientation\":\"h\",\"showlegend\":false,\"width\":0.9,\"x\":[3],\"y\":[2],\"type\":\"bar\"},{\"base\":48,\"hovertemplate\":\"&lt;AAGAAGAAGAAGCAG&gt;29\\u003cextra\\u003e\\u003c\\u002fextra\\u003e\",\"marker\":{\"color\":\"#e31a1c\"},\"orientation\":\"h\",\"showlegend\":false,\"width\":0.9,\"x\":[435],\"y\":[2],\"type\":\"bar\"},{\"base\":483,\"hovertemplate\":\"&lt;AAGCAG&gt;3\\u003cextra\\u003e\\u003c\\u002fextra\\u003e\",\"marker\":{\"color\":\"#fdbf6f\"},\"orientation\":\"h\",\"showlegend\":false,\"width\":0.9,\"x\":[18],\"y\":[2],\"type\":\"bar\"},{\"base\":501,\"hovertemplate\":\"&lt;AAGCAGCAG&gt;5\\u003cextra\\u003e\\u003c\\u002fextra\\u003e\",\"marker\":{\"color\":\"#b15928\"},\"orientation\":\"h\",\"showlegend\":false,\"width\":0.9,\"x\":[45],\"y\":[2],\"type\":\"bar\"},{\"base\":546,\"hovertemplate\":\"&lt;AAGCAG&gt;6\\u003cextra\\u003e\\u003c\\u002fextra\\u003e\",\"marker\":{\"color\":\"#fdbf6f\"},\"orientation\":\"h\",\"showlegend\":false,\"width\":0.9,\"x\":[36],\"y\":[2],\"type\":\"bar\"},{\"base\":582,\"hovertemplate\":\"&lt;AAGCAGCAG&gt;1\\u003cextra\\u003e\\u003c\\u002fextra\\u003e\",\"marker\":{\"color\":\"#b15928\"},\"orientation\":\"h\",\"showlegend\":false,\"width\":0.9,\"x\":[9],\"y\":[2],\"type\":\"bar\"},{\"base\":591,\"hovertemplate\":\"&lt;AAGCAG&gt;4\\u003cextra\\u003e\\u003c\\u002fextra\\u003e\",\"marker\":{\"color\":\"#fdbf6f\"},\"orientation\":\"h\",\"showlegend\":false,\"width\":0.9,\"x\":[24],\"y\":[2],\"type\":\"bar\"},{\"base\":615,\"hovertemplate\":\"&lt;AAGCAGCAG&gt;1\\u003cextra\\u003e\\u003c\\u002fextra\\u003e\",\"marker\":{\"color\":\"#b15928\"},\"orientation\":\"h\",\"showlegend\":false,\"width\":0.9,\"x\":[9],\"y\":[2],\"type\":\"bar\"},{\"base\":624,\"hovertemplate\":\"&lt;AAGCAG&gt;1\\u003cextra\\u003e\\u003c\\u002fextra\\u003e\",\"marker\":{\"color\":\"#fdbf6f\"},\"orientation\":\"h\",\"showlegend\":false,\"width\":0.9,\"x\":[6],\"y\":[2],\"type\":\"bar\"},{\"base\":630,\"hovertemplate\":\"&lt;AAGAAGCAGAAGCAG&gt;4\\u003cextra\\u003e\\u003c\\u002fextra\\u003e\",\"marker\":{\"color\":\"#cab2d6\"},\"orientation\":\"h\",\"showlegend\":false,\"width\":0.9,\"x\":[60],\"y\":[2],\"type\":\"bar\"},{\"base\":690,\"hovertemplate\":\"&lt;AAG&gt;1\\u003cextra\\u003e\\u003c\\u002fextra\\u003e\",\"marker\":{\"color\":\"bisque\"},\"orientation\":\"h\",\"showlegend\":false,\"width\":0.9,\"x\":[3],\"y\":[2],\"type\":\"bar\"},{\"base\":693,\"hovertemplate\":\"&lt;AAGAAGCAGAAGCAG&gt;2\\u003cextra\\u003e\\u003c\\u002fextra\\u003e\",\"marker\":{\"color\":\"#cab2d6\"},\"orientation\":\"h\",\"showlegend\":false,\"width\":0.9,\"x\":[30],\"y\":[2],\"type\":\"bar\"},{\"base\":723,\"hovertemplate\":\"&lt;AAGCAG&gt;33\\u003cextra\\u003e\\u003c\\u002fextra\\u003e\",\"marker\":{\"color\":\"#fdbf6f\"},\"orientation\":\"h\",\"showlegend\":false,\"width\":0.9,\"x\":[198],\"y\":[2],\"type\":\"bar\"},{\"base\":921,\"hovertemplate\":\"&lt;AAG&gt;12\\u003cextra\\u003e\\u003c\\u002fextra\\u003e\",\"marker\":{\"color\":\"bisque\"},\"orientation\":\"h\",\"showlegend\":false,\"width\":0.9,\"x\":[36],\"y\":[2],\"type\":\"bar\"},{\"base\":960,\"hovertemplate\":\"EncodedSeq: &lt;AAG&gt;10&lt;AAGAAGAAGAAGCAG&gt;1&lt;AAG&gt;1&lt;AAGAAGAAGAAGCAG&gt;29&lt;AAGCAG&gt;3&lt;AAGCAGCAG&gt;5&lt;AAGCAG&gt;6&lt;AAGCAGCAG&gt;1&lt;AAGCAG&gt;4&lt;AAGCAGCAG&gt;1&lt;AAGCAG&gt;1&lt;AAGAAGCAGAAGCAG&gt;4&lt;AAG&gt;1&lt;AAGAAGCAGAAGCAG&gt;2&lt;AAGCAG&gt;33&lt;AAG&gt;12\\u003cbr\\u003eAllele count: 1\\u003cbr\\u003eFrequency: 0.11%\\u003cextra\\u003e\\u003c\\u002fextra\\u003e\",\"marker\":{\"color\":\"black\"},\"orientation\":\"h\",\"showlegend\":false,\"width\":0.6,\"x\":[6.0989010989010985],\"y\":[2],\"type\":\"bar\"},{\"base\":0,\"hovertemplate\":\"&lt;AAG&gt;19\\u003cextra\\u003e\\u003c\\u002fextra\\u003e\",\"marker\":{\"color\":\"bisque\"},\"orientation\":\"h\",\"showlegend\":false,\"width\":0.9,\"x\":[57],\"y\":[3],\"type\":\"bar\"},{\"base\":57,\"hovertemplate\":\"&lt;AAGAAGAAGAAGCAG&gt;1\\u003cextra\\u003e\\u003c\\u002fextra\\u003e\",\"marker\":{\"color\":\"#e31a1c\"},\"orientation\":\"h\",\"showlegend\":false,\"width\":0.9,\"x\":[15],\"y\":[3],\"type\":\"bar\"},{\"base\":72,\"hovertemplate\":\"&lt;AAGAAGAAGCAG&gt;3\\u003cextra\\u003e\\u003c\\u002fextra\\u003e\",\"marker\":{\"color\":\"magenta\"},\"orientation\":\"h\",\"showlegend\":false,\"width\":0.9,\"x\":[36],\"y\":[3],\"type\":\"bar\"},{\"base\":108,\"hovertemplate\":\"&lt;AAGCAG&gt;1\\u003cextra\\u003e\\u003c\\u002fextra\\u003e\",\"marker\":{\"color\":\"#fdbf6f\"},\"orientation\":\"h\",\"showlegend\":false,\"width\":0.9,\"x\":[6],\"y\":[3],\"type\":\"bar\"},{\"base\":114,\"hovertemplate\":\"&lt;AAGAAGAAGAAGCAG&gt;21\\u003cextra\\u003e\\u003c\\u002fextra\\u003e\",\"marker\":{\"color\":\"#e31a1c\"},\"orientation\":\"h\",\"showlegend\":false,\"width\":0.9,\"x\":[315],\"y\":[3],\"type\":\"bar\"},{\"base\":429,\"hovertemplate\":\"&lt;AAG&gt;9\\u003cextra\\u003e\\u003c\\u002fextra\\u003e\",\"marker\":{\"color\":\"bisque\"},\"orientation\":\"h\",\"showlegend\":false,\"width\":0.9,\"x\":[27],\"y\":[3],\"type\":\"bar\"},{\"base\":456,\"hovertemplate\":\"&lt;AAGAAGAAGAAGCAG&gt;3\\u003cextra\\u003e\\u003c\\u002fextra\\u003e\",\"marker\":{\"color\":\"#e31a1c\"},\"orientation\":\"h\",\"showlegend\":false,\"width\":0.9,\"x\":[45],\"y\":[3],\"type\":\"bar\"},{\"base\":501,\"hovertemplate\":\"&lt;AAGCAG&gt;9\\u003cextra\\u003e\\u003c\\u002fextra\\u003e\",\"marker\":{\"color\":\"#fdbf6f\"},\"orientation\":\"h\",\"showlegend\":false,\"width\":0.9,\"x\":[54],\"y\":[3],\"type\":\"bar\"},{\"base\":555,\"hovertemplate\":\"&lt;AAGCAGAAGCAGCAG&gt;1\\u003cextra\\u003e\\u003c\\u002fextra\\u003e\",\"marker\":{\"color\":\"#ffff99\"},\"orientation\":\"h\",\"showlegend\":false,\"width\":0.9,\"x\":[15],\"y\":[3],\"type\":\"bar\"},{\"base\":570,\"hovertemplate\":\"&lt;AAGCAGCAG&gt;2\\u003cextra\\u003e\\u003c\\u002fextra\\u003e\",\"marker\":{\"color\":\"#b15928\"},\"orientation\":\"h\",\"showlegend\":false,\"width\":0.9,\"x\":[18],\"y\":[3],\"type\":\"bar\"},{\"base\":588,\"hovertemplate\":\"&lt;AAGCAG&gt;11\\u003cextra\\u003e\\u003c\\u002fextra\\u003e\",\"marker\":{\"color\":\"#fdbf6f\"},\"orientation\":\"h\",\"showlegend\":false,\"width\":0.9,\"x\":[66],\"y\":[3],\"type\":\"bar\"},{\"base\":654,\"hovertemplate\":\"&lt;AAG&gt;1\\u003cextra\\u003e\\u003c\\u002fextra\\u003e\",\"marker\":{\"color\":\"bisque\"},\"orientation\":\"h\",\"showlegend\":false,\"width\":0.9,\"x\":[3],\"y\":[3],\"type\":\"bar\"},{\"base\":657,\"hovertemplate\":\"&lt;AAGCAG&gt;1\\u003cextra\\u003e\\u003c\\u002fextra\\u003e\",\"marker\":{\"color\":\"#fdbf6f\"},\"orientation\":\"h\",\"showlegend\":false,\"width\":0.9,\"x\":[6],\"y\":[3],\"type\":\"bar\"},{\"base\":663,\"hovertemplate\":\"&lt;AAGCAGAAGCAGCAG&gt;4\\u003cextra\\u003e\\u003c\\u002fextra\\u003e\",\"marker\":{\"color\":\"#ffff99\"},\"orientation\":\"h\",\"showlegend\":false,\"width\":0.9,\"x\":[60],\"y\":[3],\"type\":\"bar\"},{\"base\":723,\"hovertemplate\":\"&lt;AAGCAG&gt;2\\u003cextra\\u003e\\u003c\\u002fextra\\u003e\",\"marker\":{\"color\":\"#fdbf6f\"},\"orientation\":\"h\",\"showlegend\":false,\"width\":0.9,\"x\":[12],\"y\":[3],\"type\":\"bar\"},{\"base\":735,\"hovertemplate\":\"&lt;AAG&gt;1\\u003cextra\\u003e\\u003c\\u002fextra\\u003e\",\"marker\":{\"color\":\"bisque\"},\"orientation\":\"h\",\"showlegend\":false,\"width\":0.9,\"x\":[3],\"y\":[3],\"type\":\"bar\"},{\"base\":738,\"hovertemplate\":\"&lt;AAGCAG&gt;2\\u003cextra\\u003e\\u003c\\u002fextra\\u003e\",\"marker\":{\"color\":\"#fdbf6f\"},\"orientation\":\"h\",\"showlegend\":false,\"width\":0.9,\"x\":[12],\"y\":[3],\"type\":\"bar\"},{\"base\":750,\"hovertemplate\":\"&lt;AAGAAGAAGCAG&gt;1\\u003cextra\\u003e\\u003c\\u002fextra\\u003e\",\"marker\":{\"color\":\"magenta\"},\"orientation\":\"h\",\"showlegend\":false,\"width\":0.9,\"x\":[12],\"y\":[3],\"type\":\"bar\"},{\"base\":762,\"hovertemplate\":\"&lt;AAGAAGAAGAAGCAG&gt;3\\u003cextra\\u003e\\u003c\\u002fextra\\u003e\",\"marker\":{\"color\":\"#e31a1c\"},\"orientation\":\"h\",\"showlegend\":false,\"width\":0.9,\"x\":[45],\"y\":[3],\"type\":\"bar\"},{\"base\":807,\"hovertemplate\":\"&lt;AAG&gt;43\\u003cextra\\u003e\\u003c\\u002fextra\\u003e\",\"marker\":{\"color\":\"bisque\"},\"orientation\":\"h\",\"showlegend\":false,\"width\":0.9,\"x\":[129],\"y\":[3],\"type\":\"bar\"},{\"base\":939,\"hovertemplate\":\"EncodedSeq: &lt;AAG&gt;19&lt;AAGAAGAAGAAGCAG&gt;1&lt;AAGAAGAAGCAG&gt;3&lt;AAGCAG&gt;1&lt;AAGAAGAAGAAGCAG&gt;21&lt;AAG&gt;9&lt;AAGAAGAAGAAGCAG&gt;3&lt;AAGCAG&gt;9&lt;AAGCAGAAGCAGCAG&gt;1&lt;AAGCAGCAG&gt;2&lt;AAGCAG&gt;11&lt;AAG&gt;1&lt;AAGCAG&gt;1&lt;AAGCAGAAGCAGCAG&gt;4&lt;AAGCAG&gt;2&lt;AAG&gt;1&lt;AAGCAG&gt;2&lt;AAGAAGAAGCAG&gt;1&lt;AAGAAGAAGAAGCAG&gt;3&lt;AAG&gt;43\\u003cbr\\u003eAllele count: 1\\u003cbr\\u003eFrequency: 0.11%\\u003cextra\\u003e\\u003c\\u002fextra\\u003e\",\"marker\":{\"color\":\"black\"},\"orientation\":\"h\",\"showlegend\":false,\"width\":0.6,\"x\":[6.0989010989010985],\"y\":[3],\"type\":\"bar\"},{\"base\":0,\"hovertemplate\":\"&lt;AAG&gt;20\\u003cextra\\u003e\\u003c\\u002fextra\\u003e\",\"marker\":{\"color\":\"bisque\"},\"orientation\":\"h\",\"showlegend\":false,\"width\":0.9,\"x\":[60],\"y\":[4],\"type\":\"bar\"},{\"base\":60,\"hovertemplate\":\"&lt;AAGAAGAAGAAGCAG&gt;1\\u003cextra\\u003e\\u003c\\u002fextra\\u003e\",\"marker\":{\"color\":\"#e31a1c\"},\"orientation\":\"h\",\"showlegend\":false,\"width\":0.9,\"x\":[15],\"y\":[4],\"type\":\"bar\"},{\"base\":75,\"hovertemplate\":\"&lt;AAGAAGAAGCAG&gt;3\\u003cextra\\u003e\\u003c\\u002fextra\\u003e\",\"marker\":{\"color\":\"magenta\"},\"orientation\":\"h\",\"showlegend\":false,\"width\":0.9,\"x\":[36],\"y\":[4],\"type\":\"bar\"},{\"base\":111,\"hovertemplate\":\"&lt;AAGCAG&gt;1\\u003cextra\\u003e\\u003c\\u002fextra\\u003e\",\"marker\":{\"color\":\"#fdbf6f\"},\"orientation\":\"h\",\"showlegend\":false,\"width\":0.9,\"x\":[6],\"y\":[4],\"type\":\"bar\"},{\"base\":117,\"hovertemplate\":\"&lt;AAGAAGAAGAAGCAG&gt;25\\u003cextra\\u003e\\u003c\\u002fextra\\u003e\",\"marker\":{\"color\":\"#e31a1c\"},\"orientation\":\"h\",\"showlegend\":false,\"width\":0.9,\"x\":[375],\"y\":[4],\"type\":\"bar\"},{\"base\":492,\"hovertemplate\":\"&lt;AAGCAG&gt;9\\u003cextra\\u003e\\u003c\\u002fextra\\u003e\",\"marker\":{\"color\":\"#fdbf6f\"},\"orientation\":\"h\",\"showlegend\":false,\"width\":0.9,\"x\":[54],\"y\":[4],\"type\":\"bar\"},{\"base\":546,\"hovertemplate\":\"&lt;AAGCAGAAGCAGCAG&gt;1\\u003cextra\\u003e\\u003c\\u002fextra\\u003e\",\"marker\":{\"color\":\"#ffff99\"},\"orientation\":\"h\",\"showlegend\":false,\"width\":0.9,\"x\":[15],\"y\":[4],\"type\":\"bar\"},{\"base\":561,\"hovertemplate\":\"&lt;AAGCAGCAG&gt;2\\u003cextra\\u003e\\u003c\\u002fextra\\u003e\",\"marker\":{\"color\":\"#b15928\"},\"orientation\":\"h\",\"showlegend\":false,\"width\":0.9,\"x\":[18],\"y\":[4],\"type\":\"bar\"},{\"base\":579,\"hovertemplate\":\"&lt;AAGCAG&gt;9\\u003cextra\\u003e\\u003c\\u002fextra\\u003e\",\"marker\":{\"color\":\"#fdbf6f\"},\"orientation\":\"h\",\"showlegend\":false,\"width\":0.9,\"x\":[54],\"y\":[4],\"type\":\"bar\"},{\"base\":633,\"hovertemplate\":\"&lt;AAG&gt;1\\u003cextra\\u003e\\u003c\\u002fextra\\u003e\",\"marker\":{\"color\":\"bisque\"},\"orientation\":\"h\",\"showlegend\":false,\"width\":0.9,\"x\":[3],\"y\":[4],\"type\":\"bar\"},{\"base\":636,\"hovertemplate\":\"&lt;AAGCAG&gt;1\\u003cextra\\u003e\\u003c\\u002fextra\\u003e\",\"marker\":{\"color\":\"#fdbf6f\"},\"orientation\":\"h\",\"showlegend\":false,\"width\":0.9,\"x\":[6],\"y\":[4],\"type\":\"bar\"},{\"base\":642,\"hovertemplate\":\"&lt;AAGCAGAAGCAGCAG&gt;4\\u003cextra\\u003e\\u003c\\u002fextra\\u003e\",\"marker\":{\"color\":\"#ffff99\"},\"orientation\":\"h\",\"showlegend\":false,\"width\":0.9,\"x\":[60],\"y\":[4],\"type\":\"bar\"},{\"base\":702,\"hovertemplate\":\"&lt;AAGCAG&gt;2\\u003cextra\\u003e\\u003c\\u002fextra\\u003e\",\"marker\":{\"color\":\"#fdbf6f\"},\"orientation\":\"h\",\"showlegend\":false,\"width\":0.9,\"x\":[12],\"y\":[4],\"type\":\"bar\"},{\"base\":714,\"hovertemplate\":\"&lt;AAG&gt;1\\u003cextra\\u003e\\u003c\\u002fextra\\u003e\",\"marker\":{\"color\":\"bisque\"},\"orientation\":\"h\",\"showlegend\":false,\"width\":0.9,\"x\":[3],\"y\":[4],\"type\":\"bar\"},{\"base\":717,\"hovertemplate\":\"&lt;AAGCAG&gt;2\\u003cextra\\u003e\\u003c\\u002fextra\\u003e\",\"marker\":{\"color\":\"#fdbf6f\"},\"orientation\":\"h\",\"showlegend\":false,\"width\":0.9,\"x\":[12],\"y\":[4],\"type\":\"bar\"},{\"base\":729,\"hovertemplate\":\"&lt;AAGAAGAAGCAG&gt;1\\u003cextra\\u003e\\u003c\\u002fextra\\u003e\",\"marker\":{\"color\":\"magenta\"},\"orientation\":\"h\",\"showlegend\":false,\"width\":0.9,\"x\":[12],\"y\":[4],\"type\":\"bar\"},{\"base\":741,\"hovertemplate\":\"&lt;AAGAAGAAGAAGCAG&gt;3\\u003cextra\\u003e\\u003c\\u002fextra\\u003e\",\"marker\":{\"color\":\"#e31a1c\"},\"orientation\":\"h\",\"showlegend\":false,\"width\":0.9,\"x\":[45],\"y\":[4],\"type\":\"bar\"},{\"base\":786,\"hovertemplate\":\"&lt;AAG&gt;23\\u003cextra\\u003e\\u003c\\u002fextra\\u003e\",\"marker\":{\"color\":\"bisque\"},\"orientation\":\"h\",\"showlegend\":false,\"width\":0.9,\"x\":[69],\"y\":[4],\"type\":\"bar\"},{\"base\":855,\"hovertemplate\":\"&lt;AGG&gt;1\\u003cextra\\u003e\\u003c\\u002fextra\\u003e\",\"marker\":{\"color\":\"#ff7f00\"},\"orientation\":\"h\",\"showlegend\":false,\"width\":0.9,\"x\":[3],\"y\":[4],\"type\":\"bar\"},{\"base\":858,\"hovertemplate\":\"&lt;AAG&gt;16\\u003cextra\\u003e\\u003c\\u002fextra\\u003e\",\"marker\":{\"color\":\"bisque\"},\"orientation\":\"h\",\"showlegend\":false,\"width\":0.9,\"x\":[48],\"y\":[4],\"type\":\"bar\"},{\"base\":909,\"hovertemplate\":\"EncodedSeq: &lt;AAG&gt;20&lt;AAGAAGAAGAAGCAG&gt;1&lt;AAGAAGAAGCAG&gt;3&lt;AAGCAG&gt;1&lt;AAGAAGAAGAAGCAG&gt;25&lt;AAGCAG&gt;9&lt;AAGCAGAAGCAGCAG&gt;1&lt;AAGCAGCAG&gt;2&lt;AAGCAG&gt;9&lt;AAG&gt;1&lt;AAGCAG&gt;1&lt;AAGCAGAAGCAGCAG&gt;4&lt;AAGCAG&gt;2&lt;AAG&gt;1&lt;AAGCAG&gt;2&lt;AAGAAGAAGCAG&gt;1&lt;AAGAAGAAGAAGCAG&gt;3&lt;AAG&gt;23&lt;AGG&gt;1&lt;AAG&gt;16\\u003cbr\\u003eAllele count: 1\\u003cbr\\u003eFrequency: 0.11%\\u003cextra\\u003e\\u003c\\u002fextra\\u003e\",\"marker\":{\"color\":\"black\"},\"orientation\":\"h\",\"showlegend\":false,\"width\":0.6,\"x\":[6.0989010989010985],\"y\":[4],\"type\":\"bar\"},{\"base\":0,\"hovertemplate\":\"&lt;AAG&gt;22\\u003cextra\\u003e\\u003c\\u002fextra\\u003e\",\"marker\":{\"color\":\"bisque\"},\"orientation\":\"h\",\"showlegend\":false,\"width\":0.9,\"x\":[66],\"y\":[5],\"type\":\"bar\"},{\"base\":66,\"hovertemplate\":\"&lt;AAGAAGAAGAAGCAG&gt;1\\u003cextra\\u003e\\u003c\\u002fextra\\u003e\",\"marker\":{\"color\":\"#e31a1c\"},\"orientation\":\"h\",\"showlegend\":false,\"width\":0.9,\"x\":[15],\"y\":[5],\"type\":\"bar\"},{\"base\":81,\"hovertemplate\":\"&lt;AAGAAGAAGCAG&gt;3\\u003cextra\\u003e\\u003c\\u002fextra\\u003e\",\"marker\":{\"color\":\"magenta\"},\"orientation\":\"h\",\"showlegend\":false,\"width\":0.9,\"x\":[36],\"y\":[5],\"type\":\"bar\"},{\"base\":117,\"hovertemplate\":\"&lt;AAGCAG&gt;1\\u003cextra\\u003e\\u003c\\u002fextra\\u003e\",\"marker\":{\"color\":\"#fdbf6f\"},\"orientation\":\"h\",\"showlegend\":false,\"width\":0.9,\"x\":[6],\"y\":[5],\"type\":\"bar\"},{\"base\":123,\"hovertemplate\":\"&lt;AAGAAGAAGAAGCAG&gt;24\\u003cextra\\u003e\\u003c\\u002fextra\\u003e\",\"marker\":{\"color\":\"#e31a1c\"},\"orientation\":\"h\",\"showlegend\":false,\"width\":0.9,\"x\":[360],\"y\":[5],\"type\":\"bar\"},{\"base\":483,\"hovertemplate\":\"&lt;AAGCAG&gt;9\\u003cextra\\u003e\\u003c\\u002fextra\\u003e\",\"marker\":{\"color\":\"#fdbf6f\"},\"orientation\":\"h\",\"showlegend\":false,\"width\":0.9,\"x\":[54],\"y\":[5],\"type\":\"bar\"},{\"base\":537,\"hovertemplate\":\"&lt;AAGCAGAAGCAGCAG&gt;1\\u003cextra\\u003e\\u003c\\u002fextra\\u003e\",\"marker\":{\"color\":\"#ffff99\"},\"orientation\":\"h\",\"showlegend\":false,\"width\":0.9,\"x\":[15],\"y\":[5],\"type\":\"bar\"},{\"base\":552,\"hovertemplate\":\"&lt;AAGCAGCAG&gt;2\\u003cextra\\u003e\\u003c\\u002fextra\\u003e\",\"marker\":{\"color\":\"#b15928\"},\"orientation\":\"h\",\"showlegend\":false,\"width\":0.9,\"x\":[18],\"y\":[5],\"type\":\"bar\"},{\"base\":570,\"hovertemplate\":\"&lt;AAGCAG&gt;10\\u003cextra\\u003e\\u003c\\u002fextra\\u003e\",\"marker\":{\"color\":\"#fdbf6f\"},\"orientation\":\"h\",\"showlegend\":false,\"width\":0.9,\"x\":[60],\"y\":[5],\"type\":\"bar\"},{\"base\":630,\"hovertemplate\":\"&lt;AAG&gt;1\\u003cextra\\u003e\\u003c\\u002fextra\\u003e\",\"marker\":{\"color\":\"bisque\"},\"orientation\":\"h\",\"showlegend\":false,\"width\":0.9,\"x\":[3],\"y\":[5],\"type\":\"bar\"},{\"base\":633,\"hovertemplate\":\"&lt;AAGCAG&gt;1\\u003cextra\\u003e\\u003c\\u002fextra\\u003e\",\"marker\":{\"color\":\"#fdbf6f\"},\"orientation\":\"h\",\"showlegend\":false,\"width\":0.9,\"x\":[6],\"y\":[5],\"type\":\"bar\"},{\"base\":639,\"hovertemplate\":\"&lt;AAGCAGAAGCAGCAG&gt;4\\u003cextra\\u003e\\u003c\\u002fextra\\u003e\",\"marker\":{\"color\":\"#ffff99\"},\"orientation\":\"h\",\"showlegend\":false,\"width\":0.9,\"x\":[60],\"y\":[5],\"type\":\"bar\"},{\"base\":699,\"hovertemplate\":\"&lt;AAGCAG&gt;2\\u003cextra\\u003e\\u003c\\u002fextra\\u003e\",\"marker\":{\"color\":\"#fdbf6f\"},\"orientation\":\"h\",\"showlegend\":false,\"width\":0.9,\"x\":[12],\"y\":[5],\"type\":\"bar\"},{\"base\":711,\"hovertemplate\":\"&lt;AAG&gt;1\\u003cextra\\u003e\\u003c\\u002fextra\\u003e\",\"marker\":{\"color\":\"bisque\"},\"orientation\":\"h\",\"showlegend\":false,\"width\":0.9,\"x\":[3],\"y\":[5],\"type\":\"bar\"},{\"base\":714,\"hovertemplate\":\"&lt;AAGCAG&gt;2\\u003cextra\\u003e\\u003c\\u002fextra\\u003e\",\"marker\":{\"color\":\"#fdbf6f\"},\"orientation\":\"h\",\"showlegend\":false,\"width\":0.9,\"x\":[12],\"y\":[5],\"type\":\"bar\"},{\"base\":726,\"hovertemplate\":\"&lt;AAGAAGAAGCAG&gt;1\\u003cextra\\u003e\\u003c\\u002fextra\\u003e\",\"marker\":{\"color\":\"magenta\"},\"orientation\":\"h\",\"showlegend\":false,\"width\":0.9,\"x\":[12],\"y\":[5],\"type\":\"bar\"},{\"base\":738,\"hovertemplate\":\"&lt;AAGAAGAAGAAGCAG&gt;3\\u003cextra\\u003e\\u003c\\u002fextra\\u003e\",\"marker\":{\"color\":\"#e31a1c\"},\"orientation\":\"h\",\"showlegend\":false,\"width\":0.9,\"x\":[45],\"y\":[5],\"type\":\"bar\"},{\"base\":783,\"hovertemplate\":\"&lt;AAG&gt;25\\u003cextra\\u003e\\u003c\\u002fextra\\u003e\",\"marker\":{\"color\":\"bisque\"},\"orientation\":\"h\",\"showlegend\":false,\"width\":0.9,\"x\":[75],\"y\":[5],\"type\":\"bar\"},{\"base\":858,\"hovertemplate\":\"&lt;AGG&gt;1\\u003cextra\\u003e\\u003c\\u002fextra\\u003e\",\"marker\":{\"color\":\"#ff7f00\"},\"orientation\":\"h\",\"showlegend\":false,\"width\":0.9,\"x\":[3],\"y\":[5],\"type\":\"bar\"},{\"base\":861,\"hovertemplate\":\"&lt;AAG&gt;12\\u003cextra\\u003e\\u003c\\u002fextra\\u003e\",\"marker\":{\"color\":\"bisque\"},\"orientation\":\"h\",\"showlegend\":false,\"width\":0.9,\"x\":[36],\"y\":[5],\"type\":\"bar\"},{\"base\":900,\"hovertemplate\":\"EncodedSeq: &lt;AAG&gt;22&lt;AAGAAGAAGAAGCAG&gt;1&lt;AAGAAGAAGCAG&gt;3&lt;AAGCAG&gt;1&lt;AAGAAGAAGAAGCAG&gt;24&lt;AAGCAG&gt;9&lt;AAGCAGAAGCAGCAG&gt;1&lt;AAGCAGCAG&gt;2&lt;AAGCAG&gt;10&lt;AAG&gt;1&lt;AAGCAG&gt;1&lt;AAGCAGAAGCAGCAG&gt;4&lt;AAGCAG&gt;2&lt;AAG&gt;1&lt;AAGCAG&gt;2&lt;AAGAAGAAGCAG&gt;1&lt;AAGAAGAAGAAGCAG&gt;3&lt;AAG&gt;25&lt;AGG&gt;1&lt;AAG&gt;12\\u003cbr\\u003eAllele count: 1\\u003cbr\\u003eFrequency: 0.11%\\u003cextra\\u003e\\u003c\\u002fextra\\u003e\",\"marker\":{\"color\":\"black\"},\"orientation\":\"h\",\"showlegend\":false,\"width\":0.6,\"x\":[6.0989010989010985],\"y\":[5],\"type\":\"bar\"},{\"base\":0,\"hovertemplate\":\"&lt;AAG&gt;31\\u003cextra\\u003e\\u003c\\u002fextra\\u003e\",\"marker\":{\"color\":\"bisque\"},\"orientation\":\"h\",\"showlegend\":false,\"width\":0.9,\"x\":[93],\"y\":[6],\"type\":\"bar\"},{\"base\":93,\"hovertemplate\":\"&lt;AAGAAGAAGAAGCAG&gt;1\\u003cextra\\u003e\\u003c\\u002fextra\\u003e\",\"marker\":{\"color\":\"#e31a1c\"},\"orientation\":\"h\",\"showlegend\":false,\"width\":0.9,\"x\":[15],\"y\":[6],\"type\":\"bar\"},{\"base\":108,\"hovertemplate\":\"&lt;AAGAAGAAGCAG&gt;3\\u003cextra\\u003e\\u003c\\u002fextra\\u003e\",\"marker\":{\"color\":\"magenta\"},\"orientation\":\"h\",\"showlegend\":false,\"width\":0.9,\"x\":[36],\"y\":[6],\"type\":\"bar\"},{\"base\":144,\"hovertemplate\":\"&lt;AAGCAG&gt;1\\u003cextra\\u003e\\u003c\\u002fextra\\u003e\",\"marker\":{\"color\":\"#fdbf6f\"},\"orientation\":\"h\",\"showlegend\":false,\"width\":0.9,\"x\":[6],\"y\":[6],\"type\":\"bar\"},{\"base\":150,\"hovertemplate\":\"&lt;AAGAAGAAGAAGCAG&gt;21\\u003cextra\\u003e\\u003c\\u002fextra\\u003e\",\"marker\":{\"color\":\"#e31a1c\"},\"orientation\":\"h\",\"showlegend\":false,\"width\":0.9,\"x\":[315],\"y\":[6],\"type\":\"bar\"},{\"base\":465,\"hovertemplate\":\"&lt;AAGCAG&gt;7\\u003cextra\\u003e\\u003c\\u002fextra\\u003e\",\"marker\":{\"color\":\"#fdbf6f\"},\"orientation\":\"h\",\"showlegend\":false,\"width\":0.9,\"x\":[42],\"y\":[6],\"type\":\"bar\"},{\"base\":507,\"hovertemplate\":\"&lt;AAGCAGAAGCAGCAG&gt;1\\u003cextra\\u003e\\u003c\\u002fextra\\u003e\",\"marker\":{\"color\":\"#ffff99\"},\"orientation\":\"h\",\"showlegend\":false,\"width\":0.9,\"x\":[15],\"y\":[6],\"type\":\"bar\"},{\"base\":522,\"hovertemplate\":\"&lt;AAGCAGCAG&gt;2\\u003cextra\\u003e\\u003c\\u002fextra\\u003e\",\"marker\":{\"color\":\"#b15928\"},\"orientation\":\"h\",\"showlegend\":false,\"width\":0.9,\"x\":[18],\"y\":[6],\"type\":\"bar\"},{\"base\":540,\"hovertemplate\":\"&lt;AAGCAG&gt;10\\u003cextra\\u003e\\u003c\\u002fextra\\u003e\",\"marker\":{\"color\":\"#fdbf6f\"},\"orientation\":\"h\",\"showlegend\":false,\"width\":0.9,\"x\":[60],\"y\":[6],\"type\":\"bar\"},{\"base\":600,\"hovertemplate\":\"&lt;AAGCAGAAGCAGCAG&gt;5\\u003cextra\\u003e\\u003c\\u002fextra\\u003e\",\"marker\":{\"color\":\"#ffff99\"},\"orientation\":\"h\",\"showlegend\":false,\"width\":0.9,\"x\":[75],\"y\":[6],\"type\":\"bar\"},{\"base\":675,\"hovertemplate\":\"&lt;AAGCAG&gt;2\\u003cextra\\u003e\\u003c\\u002fextra\\u003e\",\"marker\":{\"color\":\"#fdbf6f\"},\"orientation\":\"h\",\"showlegend\":false,\"width\":0.9,\"x\":[12],\"y\":[6],\"type\":\"bar\"},{\"base\":687,\"hovertemplate\":\"&lt;AAG&gt;1\\u003cextra\\u003e\\u003c\\u002fextra\\u003e\",\"marker\":{\"color\":\"bisque\"},\"orientation\":\"h\",\"showlegend\":false,\"width\":0.9,\"x\":[3],\"y\":[6],\"type\":\"bar\"},{\"base\":690,\"hovertemplate\":\"&lt;AAGCAG&gt;2\\u003cextra\\u003e\\u003c\\u002fextra\\u003e\",\"marker\":{\"color\":\"#fdbf6f\"},\"orientation\":\"h\",\"showlegend\":false,\"width\":0.9,\"x\":[12],\"y\":[6],\"type\":\"bar\"},{\"base\":702,\"hovertemplate\":\"&lt;AAGAAGAAGCAG&gt;1\\u003cextra\\u003e\\u003c\\u002fextra\\u003e\",\"marker\":{\"color\":\"magenta\"},\"orientation\":\"h\",\"showlegend\":false,\"width\":0.9,\"x\":[12],\"y\":[6],\"type\":\"bar\"},{\"base\":714,\"hovertemplate\":\"&lt;AAGAAGAAGAAGCAG&gt;3\\u003cextra\\u003e\\u003c\\u002fextra\\u003e\",\"marker\":{\"color\":\"#e31a1c\"},\"orientation\":\"h\",\"showlegend\":false,\"width\":0.9,\"x\":[45],\"y\":[6],\"type\":\"bar\"},{\"base\":759,\"hovertemplate\":\"&lt;AAG&gt;42\\u003cextra\\u003e\\u003c\\u002fextra\\u003e\",\"marker\":{\"color\":\"bisque\"},\"orientation\":\"h\",\"showlegend\":false,\"width\":0.9,\"x\":[126],\"y\":[6],\"type\":\"bar\"},{\"base\":888,\"hovertemplate\":\"EncodedSeq: &lt;AAG&gt;31&lt;AAGAAGAAGAAGCAG&gt;1&lt;AAGAAGAAGCAG&gt;3&lt;AAGCAG&gt;1&lt;AAGAAGAAGAAGCAG&gt;21&lt;AAGCAG&gt;7&lt;AAGCAGAAGCAGCAG&gt;1&lt;AAGCAGCAG&gt;2&lt;AAGCAG&gt;10&lt;AAGCAGAAGCAGCAG&gt;5&lt;AAGCAG&gt;2&lt;AAG&gt;1&lt;AAGCAG&gt;2&lt;AAGAAGAAGCAG&gt;1&lt;AAGAAGAAGAAGCAG&gt;3&lt;AAG&gt;42\\u003cbr\\u003eAllele count: 1\\u003cbr\\u003eFrequency: 0.11%\\u003cextra\\u003e\\u003c\\u002fextra\\u003e\",\"marker\":{\"color\":\"black\"},\"orientation\":\"h\",\"showlegend\":false,\"width\":0.6,\"x\":[6.0989010989010985],\"y\":[6],\"type\":\"bar\"},{\"base\":0,\"hovertemplate\":\"&lt;AAG&gt;20\\u003cextra\\u003e\\u003c\\u002fextra\\u003e\",\"marker\":{\"color\":\"bisque\"},\"orientation\":\"h\",\"showlegend\":false,\"width\":0.9,\"x\":[60],\"y\":[7],\"type\":\"bar\"},{\"base\":60,\"hovertemplate\":\"&lt;AAGAAGAAGAAGCAG&gt;1\\u003cextra\\u003e\\u003c\\u002fextra\\u003e\",\"marker\":{\"color\":\"#e31a1c\"},\"orientation\":\"h\",\"showlegend\":false,\"width\":0.9,\"x\":[15],\"y\":[7],\"type\":\"bar\"},{\"base\":75,\"hovertemplate\":\"&lt;AAGAAGAAGCAG&gt;3\\u003cextra\\u003e\\u003c\\u002fextra\\u003e\",\"marker\":{\"color\":\"magenta\"},\"orientation\":\"h\",\"showlegend\":false,\"width\":0.9,\"x\":[36],\"y\":[7],\"type\":\"bar\"},{\"base\":111,\"hovertemplate\":\"&lt;AAGCAG&gt;1\\u003cextra\\u003e\\u003c\\u002fextra\\u003e\",\"marker\":{\"color\":\"#fdbf6f\"},\"orientation\":\"h\",\"showlegend\":false,\"width\":0.9,\"x\":[6],\"y\":[7],\"type\":\"bar\"},{\"base\":117,\"hovertemplate\":\"&lt;AAGAAGAAGAAGCAG&gt;5\\u003cextra\\u003e\\u003c\\u002fextra\\u003e\",\"marker\":{\"color\":\"#e31a1c\"},\"orientation\":\"h\",\"showlegend\":false,\"width\":0.9,\"x\":[75],\"y\":[7],\"type\":\"bar\"},{\"base\":192,\"hovertemplate\":\"&lt;AAGAAGAAGCAG&gt;1\\u003cextra\\u003e\\u003c\\u002fextra\\u003e\",\"marker\":{\"color\":\"magenta\"},\"orientation\":\"h\",\"showlegend\":false,\"width\":0.9,\"x\":[12],\"y\":[7],\"type\":\"bar\"},{\"base\":204,\"hovertemplate\":\"&lt;AAGAAGAAGAAGCAG&gt;18\\u003cextra\\u003e\\u003c\\u002fextra\\u003e\",\"marker\":{\"color\":\"#e31a1c\"},\"orientation\":\"h\",\"showlegend\":false,\"width\":0.9,\"x\":[270],\"y\":[7],\"type\":\"bar\"},{\"base\":474,\"hovertemplate\":\"&lt;AAGCAG&gt;9\\u003cextra\\u003e\\u003c\\u002fextra\\u003e\",\"marker\":{\"color\":\"#fdbf6f\"},\"orientation\":\"h\",\"showlegend\":false,\"width\":0.9,\"x\":[54],\"y\":[7],\"type\":\"bar\"},{\"base\":528,\"hovertemplate\":\"&lt;AAGCAGAAGCAGCAG&gt;1\\u003cextra\\u003e\\u003c\\u002fextra\\u003e\",\"marker\":{\"color\":\"#ffff99\"},\"orientation\":\"h\",\"showlegend\":false,\"width\":0.9,\"x\":[15],\"y\":[7],\"type\":\"bar\"},{\"base\":543,\"hovertemplate\":\"&lt;AAGCAGCAG&gt;2\\u003cextra\\u003e\\u003c\\u002fextra\\u003e\",\"marker\":{\"color\":\"#b15928\"},\"orientation\":\"h\",\"showlegend\":false,\"width\":0.9,\"x\":[18],\"y\":[7],\"type\":\"bar\"},{\"base\":561,\"hovertemplate\":\"&lt;AAGCAG&gt;10\\u003cextra\\u003e\\u003c\\u002fextra\\u003e\",\"marker\":{\"color\":\"#fdbf6f\"},\"orientation\":\"h\",\"showlegend\":false,\"width\":0.9,\"x\":[60],\"y\":[7],\"type\":\"bar\"},{\"base\":621,\"hovertemplate\":\"&lt;AAG&gt;1\\u003cextra\\u003e\\u003c\\u002fextra\\u003e\",\"marker\":{\"color\":\"bisque\"},\"orientation\":\"h\",\"showlegend\":false,\"width\":0.9,\"x\":[3],\"y\":[7],\"type\":\"bar\"},{\"base\":624,\"hovertemplate\":\"&lt;AAGCAG&gt;1\\u003cextra\\u003e\\u003c\\u002fextra\\u003e\",\"marker\":{\"color\":\"#fdbf6f\"},\"orientation\":\"h\",\"showlegend\":false,\"width\":0.9,\"x\":[6],\"y\":[7],\"type\":\"bar\"},{\"base\":630,\"hovertemplate\":\"&lt;AAGCAGAAGCAGCAG&gt;4\\u003cextra\\u003e\\u003c\\u002fextra\\u003e\",\"marker\":{\"color\":\"#ffff99\"},\"orientation\":\"h\",\"showlegend\":false,\"width\":0.9,\"x\":[60],\"y\":[7],\"type\":\"bar\"},{\"base\":690,\"hovertemplate\":\"&lt;AAGCAG&gt;2\\u003cextra\\u003e\\u003c\\u002fextra\\u003e\",\"marker\":{\"color\":\"#fdbf6f\"},\"orientation\":\"h\",\"showlegend\":false,\"width\":0.9,\"x\":[12],\"y\":[7],\"type\":\"bar\"},{\"base\":702,\"hovertemplate\":\"&lt;AAG&gt;1\\u003cextra\\u003e\\u003c\\u002fextra\\u003e\",\"marker\":{\"color\":\"bisque\"},\"orientation\":\"h\",\"showlegend\":false,\"width\":0.9,\"x\":[3],\"y\":[7],\"type\":\"bar\"},{\"base\":705,\"hovertemplate\":\"&lt;AAGCAG&gt;2\\u003cextra\\u003e\\u003c\\u002fextra\\u003e\",\"marker\":{\"color\":\"#fdbf6f\"},\"orientation\":\"h\",\"showlegend\":false,\"width\":0.9,\"x\":[12],\"y\":[7],\"type\":\"bar\"},{\"base\":717,\"hovertemplate\":\"&lt;AAGAAGAAGCAG&gt;1\\u003cextra\\u003e\\u003c\\u002fextra\\u003e\",\"marker\":{\"color\":\"magenta\"},\"orientation\":\"h\",\"showlegend\":false,\"width\":0.9,\"x\":[12],\"y\":[7],\"type\":\"bar\"},{\"base\":729,\"hovertemplate\":\"&lt;AAGAAGAAGAAGCAG&gt;3\\u003cextra\\u003e\\u003c\\u002fextra\\u003e\",\"marker\":{\"color\":\"#e31a1c\"},\"orientation\":\"h\",\"showlegend\":false,\"width\":0.9,\"x\":[45],\"y\":[7],\"type\":\"bar\"},{\"base\":774,\"hovertemplate\":\"&lt;AAG&gt;22\\u003cextra\\u003e\\u003c\\u002fextra\\u003e\",\"marker\":{\"color\":\"bisque\"},\"orientation\":\"h\",\"showlegend\":false,\"width\":0.9,\"x\":[66],\"y\":[7],\"type\":\"bar\"},{\"base\":840,\"hovertemplate\":\"&lt;AGG&gt;1\\u003cextra\\u003e\\u003c\\u002fextra\\u003e\",\"marker\":{\"color\":\"#ff7f00\"},\"orientation\":\"h\",\"showlegend\":false,\"width\":0.9,\"x\":[3],\"y\":[7],\"type\":\"bar\"},{\"base\":843,\"hovertemplate\":\"&lt;AAG&gt;12\\u003cextra\\u003e\\u003c\\u002fextra\\u003e\",\"marker\":{\"color\":\"bisque\"},\"orientation\":\"h\",\"showlegend\":false,\"width\":0.9,\"x\":[36],\"y\":[7],\"type\":\"bar\"},{\"base\":882,\"hovertemplate\":\"EncodedSeq: &lt;AAG&gt;20&lt;AAGAAGAAGAAGCAG&gt;1&lt;AAGAAGAAGCAG&gt;3&lt;AAGCAG&gt;1&lt;AAGAAGAAGAAGCAG&gt;5&lt;AAGAAGAAGCAG&gt;1&lt;AAGAAGAAGAAGCAG&gt;18&lt;AAGCAG&gt;9&lt;AAGCAGAAGCAGCAG&gt;1&lt;AAGCAGCAG&gt;2&lt;AAGCAG&gt;10&lt;AAG&gt;1&lt;AAGCAG&gt;1&lt;AAGCAGAAGCAGCAG&gt;4&lt;AAGCAG&gt;2&lt;AAG&gt;1&lt;AAGCAG&gt;2&lt;AAGAAGAAGCAG&gt;1&lt;AAGAAGAAGAAGCAG&gt;3&lt;AAG&gt;22&lt;AGG&gt;1&lt;AAG&gt;12\\u003cbr\\u003eAllele count: 1\\u003cbr\\u003eFrequency: 0.11%\\u003cextra\\u003e\\u003c\\u002fextra\\u003e\",\"marker\":{\"color\":\"black\"},\"orientation\":\"h\",\"showlegend\":false,\"width\":0.6,\"x\":[6.0989010989010985],\"y\":[7],\"type\":\"bar\"},{\"base\":0,\"hovertemplate\":\"&lt;AAG&gt;286\\u003cextra\\u003e\\u003c\\u002fextra\\u003e\",\"marker\":{\"color\":\"bisque\"},\"orientation\":\"h\",\"showlegend\":false,\"width\":0.9,\"x\":[858],\"y\":[8],\"type\":\"bar\"},{\"base\":861,\"hovertemplate\":\"EncodedSeq: &lt;AAG&gt;286\\u003cbr\\u003eAllele count: 1\\u003cbr\\u003eFrequency: 0.11%\\u003cextra\\u003e\\u003c\\u002fextra\\u003e\",\"marker\":{\"color\":\"black\"},\"orientation\":\"h\",\"showlegend\":false,\"width\":0.6,\"x\":[6.0989010989010985],\"y\":[8],\"type\":\"bar\"},{\"base\":0,\"hovertemplate\":\"&lt;AAG&gt;275\\u003cextra\\u003e\\u003c\\u002fextra\\u003e\",\"marker\":{\"color\":\"bisque\"},\"orientation\":\"h\",\"showlegend\":false,\"width\":0.9,\"x\":[825],\"y\":[9],\"type\":\"bar\"},{\"base\":828,\"hovertemplate\":\"EncodedSeq: &lt;AAG&gt;275\\u003cbr\\u003eAllele count: 1\\u003cbr\\u003eFrequency: 0.11%\\u003cextra\\u003e\\u003c\\u002fextra\\u003e\",\"marker\":{\"color\":\"black\"},\"orientation\":\"h\",\"showlegend\":false,\"width\":0.6,\"x\":[6.0989010989010985],\"y\":[9],\"type\":\"bar\"},{\"base\":0,\"hovertemplate\":\"&lt;AAG&gt;247\\u003cextra\\u003e\\u003c\\u002fextra\\u003e\",\"marker\":{\"color\":\"bisque\"},\"orientation\":\"h\",\"showlegend\":false,\"width\":0.9,\"x\":[741],\"y\":[10],\"type\":\"bar\"},{\"base\":744,\"hovertemplate\":\"EncodedSeq: &lt;AAG&gt;247\\u003cbr\\u003eAllele count: 1\\u003cbr\\u003eFrequency: 0.11%\\u003cextra\\u003e\\u003c\\u002fextra\\u003e\",\"marker\":{\"color\":\"black\"},\"orientation\":\"h\",\"showlegend\":false,\"width\":0.6,\"x\":[6.0989010989010985],\"y\":[10],\"type\":\"bar\"},{\"base\":0,\"hovertemplate\":\"&lt;AAG&gt;243\\u003cextra\\u003e\\u003c\\u002fextra\\u003e\",\"marker\":{\"color\":\"bisque\"},\"orientation\":\"h\",\"showlegend\":false,\"width\":0.9,\"x\":[729],\"y\":[11],\"type\":\"bar\"},{\"base\":732,\"hovertemplate\":\"EncodedSeq: &lt;AAG&gt;243\\u003cbr\\u003eAllele count: 1\\u003cbr\\u003eFrequency: 0.11%\\u003cextra\\u003e\\u003c\\u002fextra\\u003e\",\"marker\":{\"color\":\"black\"},\"orientation\":\"h\",\"showlegend\":false,\"width\":0.6,\"x\":[6.0989010989010985],\"y\":[11],\"type\":\"bar\"},{\"base\":0,\"hovertemplate\":\"&lt;AAG&gt;242\\u003cextra\\u003e\\u003c\\u002fextra\\u003e\",\"marker\":{\"color\":\"bisque\"},\"orientation\":\"h\",\"showlegend\":false,\"width\":0.9,\"x\":[726],\"y\":[12],\"type\":\"bar\"},{\"base\":729,\"hovertemplate\":\"EncodedSeq: &lt;AAG&gt;242\\u003cbr\\u003eAllele count: 1\\u003cbr\\u003eFrequency: 0.11%\\u003cextra\\u003e\\u003c\\u002fextra\\u003e\",\"marker\":{\"color\":\"black\"},\"orientation\":\"h\",\"showlegend\":false,\"width\":0.6,\"x\":[6.0989010989010985],\"y\":[12],\"type\":\"bar\"},{\"base\":0,\"hovertemplate\":\"&lt;AAG&gt;240\\u003cextra\\u003e\\u003c\\u002fextra\\u003e\",\"marker\":{\"color\":\"bisque\"},\"orientation\":\"h\",\"showlegend\":false,\"width\":0.9,\"x\":[720],\"y\":[13],\"type\":\"bar\"},{\"base\":723,\"hovertemplate\":\"EncodedSeq: &lt;AAG&gt;240\\u003cbr\\u003eAllele count: 1\\u003cbr\\u003eFrequency: 0.11%\\u003cextra\\u003e\\u003c\\u002fextra\\u003e\",\"marker\":{\"color\":\"black\"},\"orientation\":\"h\",\"showlegend\":false,\"width\":0.6,\"x\":[6.0989010989010985],\"y\":[13],\"type\":\"bar\"},{\"base\":0,\"hovertemplate\":\"&lt;AAG&gt;238\\u003cextra\\u003e\\u003c\\u002fextra\\u003e\",\"marker\":{\"color\":\"bisque\"},\"orientation\":\"h\",\"showlegend\":false,\"width\":0.9,\"x\":[714],\"y\":[14],\"type\":\"bar\"},{\"base\":717,\"hovertemplate\":\"EncodedSeq: &lt;AAG&gt;238\\u003cbr\\u003eAllele count: 1\\u003cbr\\u003eFrequency: 0.11%\\u003cextra\\u003e\\u003c\\u002fextra\\u003e\",\"marker\":{\"color\":\"black\"},\"orientation\":\"h\",\"showlegend\":false,\"width\":0.6,\"x\":[6.0989010989010985],\"y\":[14],\"type\":\"bar\"},{\"base\":0,\"hovertemplate\":\"&lt;AAG&gt;3\\u003cextra\\u003e\\u003c\\u002fextra\\u003e\",\"marker\":{\"color\":\"bisque\"},\"orientation\":\"h\",\"showlegend\":false,\"width\":0.9,\"x\":[9],\"y\":[15],\"type\":\"bar\"},{\"base\":9,\"hovertemplate\":\"&lt;A&gt;1\\u003cextra\\u003e\\u003c\\u002fextra\\u003e\",\"marker\":{\"color\":\"#1f78b4\"},\"orientation\":\"h\",\"showlegend\":false,\"width\":0.9,\"x\":[1],\"y\":[15],\"type\":\"bar\"},{\"base\":10,\"hovertemplate\":\"&lt;AAAGAAGAAG&gt;2\\u003cextra\\u003e\\u003c\\u002fextra\\u003e\",\"marker\":{\"color\":\"#a6cee3\"},\"orientation\":\"h\",\"showlegend\":false,\"width\":0.9,\"x\":[20],\"y\":[15],\"type\":\"bar\"},{\"base\":30,\"hovertemplate\":\"&lt;G&gt;1\\u003cextra\\u003e\\u003c\\u002fextra\\u003e\",\"marker\":{\"color\":\"#ccebc5\"},\"orientation\":\"h\",\"showlegend\":false,\"width\":0.9,\"x\":[1],\"y\":[15],\"type\":\"bar\"},{\"base\":31,\"hovertemplate\":\"&lt;AAGAAGAAGG&gt;1\\u003cextra\\u003e\\u003c\\u002fextra\\u003e\",\"marker\":{\"color\":\"gray\"},\"orientation\":\"h\",\"showlegend\":false,\"width\":0.9,\"x\":[10],\"y\":[15],\"type\":\"bar\"},{\"base\":41,\"hovertemplate\":\"&lt;AAG&gt;222\\u003cextra\\u003e\\u003c\\u002fextra\\u003e\",\"marker\":{\"color\":\"bisque\"},\"orientation\":\"h\",\"showlegend\":false,\"width\":0.9,\"x\":[666],\"y\":[15],\"type\":\"bar\"},{\"base\":710,\"hovertemplate\":\"EncodedSeq: &lt;AAG&gt;3&lt;A&gt;1&lt;AAAGAAGAAG&gt;2&lt;G&gt;1&lt;AAGAAGAAGG&gt;1&lt;AAG&gt;222\\u003cbr\\u003eAllele count: 1\\u003cbr\\u003eFrequency: 0.11%\\u003cextra\\u003e\\u003c\\u002fextra\\u003e\",\"marker\":{\"color\":\"black\"},\"orientation\":\"h\",\"showlegend\":false,\"width\":0.6,\"x\":[6.0989010989010985],\"y\":[15],\"type\":\"bar\"},{\"base\":0,\"hovertemplate\":\"&lt;AAG&gt;3\\u003cextra\\u003e\\u003c\\u002fextra\\u003e\",\"marker\":{\"color\":\"bisque\"},\"orientation\":\"h\",\"showlegend\":false,\"width\":0.9,\"x\":[9],\"y\":[16],\"type\":\"bar\"},{\"base\":9,\"hovertemplate\":\"&lt;A&gt;1\\u003cextra\\u003e\\u003c\\u002fextra\\u003e\",\"marker\":{\"color\":\"#1f78b4\"},\"orientation\":\"h\",\"showlegend\":false,\"width\":0.9,\"x\":[1],\"y\":[16],\"type\":\"bar\"},{\"base\":10,\"hovertemplate\":\"&lt;AAAGAAGAAG&gt;2\\u003cextra\\u003e\\u003c\\u002fextra\\u003e\",\"marker\":{\"color\":\"#a6cee3\"},\"orientation\":\"h\",\"showlegend\":false,\"width\":0.9,\"x\":[20],\"y\":[16],\"type\":\"bar\"},{\"base\":30,\"hovertemplate\":\"&lt;AAG&gt;220\\u003cextra\\u003e\\u003c\\u002fextra\\u003e\",\"marker\":{\"color\":\"bisque\"},\"orientation\":\"h\",\"showlegend\":false,\"width\":0.9,\"x\":[660],\"y\":[16],\"type\":\"bar\"},{\"base\":693,\"hovertemplate\":\"EncodedSeq: &lt;AAG&gt;3&lt;A&gt;1&lt;AAAGAAGAAG&gt;2&lt;AAG&gt;220\\u003cbr\\u003eAllele count: 1\\u003cbr\\u003eFrequency: 0.11%\\u003cextra\\u003e\\u003c\\u002fextra\\u003e\",\"marker\":{\"color\":\"black\"},\"orientation\":\"h\",\"showlegend\":false,\"width\":0.6,\"x\":[6.0989010989010985],\"y\":[16],\"type\":\"bar\"},{\"base\":0,\"hovertemplate\":\"&lt;AAG&gt;229\\u003cextra\\u003e\\u003c\\u002fextra\\u003e\",\"marker\":{\"color\":\"bisque\"},\"orientation\":\"h\",\"showlegend\":false,\"width\":0.9,\"x\":[687],\"y\":[17],\"type\":\"bar\"},{\"base\":690,\"hovertemplate\":\"EncodedSeq: &lt;AAG&gt;229\\u003cbr\\u003eAllele count: 1\\u003cbr\\u003eFrequency: 0.11%\\u003cextra\\u003e\\u003c\\u002fextra\\u003e\",\"marker\":{\"color\":\"black\"},\"orientation\":\"h\",\"showlegend\":false,\"width\":0.6,\"x\":[6.0989010989010985],\"y\":[17],\"type\":\"bar\"},{\"base\":0,\"hovertemplate\":\"&lt;AAG&gt;8\\u003cextra\\u003e\\u003c\\u002fextra\\u003e\",\"marker\":{\"color\":\"bisque\"},\"orientation\":\"h\",\"showlegend\":false,\"width\":0.9,\"x\":[24],\"y\":[18],\"type\":\"bar\"},{\"base\":24,\"hovertemplate\":\"&lt;GA&gt;1\\u003cextra\\u003e\\u003c\\u002fextra\\u003e\",\"marker\":{\"color\":\"gray\"},\"orientation\":\"h\",\"showlegend\":false,\"width\":0.9,\"x\":[2],\"y\":[18],\"type\":\"bar\"},{\"base\":26,\"hovertemplate\":\"&lt;AAG&gt;2\\u003cextra\\u003e\\u003c\\u002fextra\\u003e\",\"marker\":{\"color\":\"bisque\"},\"orientation\":\"h\",\"showlegend\":false,\"width\":0.9,\"x\":[6],\"y\":[18],\"type\":\"bar\"},{\"base\":32,\"hovertemplate\":\"&lt;G&gt;1\\u003cextra\\u003e\\u003c\\u002fextra\\u003e\",\"marker\":{\"color\":\"#ccebc5\"},\"orientation\":\"h\",\"showlegend\":false,\"width\":0.9,\"x\":[1],\"y\":[18],\"type\":\"bar\"},{\"base\":33,\"hovertemplate\":\"&lt;AAG&gt;3\\u003cextra\\u003e\\u003c\\u002fextra\\u003e\",\"marker\":{\"color\":\"bisque\"},\"orientation\":\"h\",\"showlegend\":false,\"width\":0.9,\"x\":[9],\"y\":[18],\"type\":\"bar\"},{\"base\":42,\"hovertemplate\":\"&lt;A&gt;1\\u003cextra\\u003e\\u003c\\u002fextra\\u003e\",\"marker\":{\"color\":\"#1f78b4\"},\"orientation\":\"h\",\"showlegend\":false,\"width\":0.9,\"x\":[1],\"y\":[18],\"type\":\"bar\"},{\"base\":43,\"hovertemplate\":\"&lt;AAG&gt;205\\u003cextra\\u003e\\u003c\\u002fextra\\u003e\",\"marker\":{\"color\":\"bisque\"},\"orientation\":\"h\",\"showlegend\":false,\"width\":0.9,\"x\":[615],\"y\":[18],\"type\":\"bar\"},{\"base\":661,\"hovertemplate\":\"EncodedSeq: &lt;AAG&gt;8&lt;GA&gt;1&lt;AAG&gt;2&lt;G&gt;1&lt;AAG&gt;3&lt;A&gt;1&lt;AAG&gt;205\\u003cbr\\u003eAllele count: 1\\u003cbr\\u003eFrequency: 0.11%\\u003cextra\\u003e\\u003c\\u002fextra\\u003e\",\"marker\":{\"color\":\"black\"},\"orientation\":\"h\",\"showlegend\":false,\"width\":0.6,\"x\":[6.0989010989010985],\"y\":[18],\"type\":\"bar\"},{\"base\":0,\"hovertemplate\":\"&lt;AAG&gt;218\\u003cextra\\u003e\\u003c\\u002fextra\\u003e\",\"marker\":{\"color\":\"bisque\"},\"orientation\":\"h\",\"showlegend\":false,\"width\":0.9,\"x\":[654],\"y\":[19],\"type\":\"bar\"},{\"base\":657,\"hovertemplate\":\"EncodedSeq: &lt;AAG&gt;218\\u003cbr\\u003eAllele count: 1\\u003cbr\\u003eFrequency: 0.11%\\u003cextra\\u003e\\u003c\\u002fextra\\u003e\",\"marker\":{\"color\":\"black\"},\"orientation\":\"h\",\"showlegend\":false,\"width\":0.6,\"x\":[6.0989010989010985],\"y\":[19],\"type\":\"bar\"},{\"base\":0,\"hovertemplate\":\"&lt;AAG&gt;217\\u003cextra\\u003e\\u003c\\u002fextra\\u003e\",\"marker\":{\"color\":\"bisque\"},\"orientation\":\"h\",\"showlegend\":false,\"width\":0.9,\"x\":[651],\"y\":[20],\"type\":\"bar\"},{\"base\":654,\"hovertemplate\":\"EncodedSeq: &lt;AAG&gt;217\\u003cbr\\u003eAllele count: 1\\u003cbr\\u003eFrequency: 0.11%\\u003cextra\\u003e\\u003c\\u002fextra\\u003e\",\"marker\":{\"color\":\"black\"},\"orientation\":\"h\",\"showlegend\":false,\"width\":0.6,\"x\":[6.0989010989010985],\"y\":[20],\"type\":\"bar\"},{\"base\":0,\"hovertemplate\":\"&lt;AAG&gt;6\\u003cextra\\u003e\\u003c\\u002fextra\\u003e\",\"marker\":{\"color\":\"bisque\"},\"orientation\":\"h\",\"showlegend\":false,\"width\":0.9,\"x\":[18],\"y\":[21],\"type\":\"bar\"},{\"base\":18,\"hovertemplate\":\"&lt;AGG&gt;1\\u003cextra\\u003e\\u003c\\u002fextra\\u003e\",\"marker\":{\"color\":\"#ff7f00\"},\"orientation\":\"h\",\"showlegend\":false,\"width\":0.9,\"x\":[3],\"y\":[21],\"type\":\"bar\"},{\"base\":21,\"hovertemplate\":\"&lt;AAG&gt;205\\u003cextra\\u003e\\u003c\\u002fextra\\u003e\",\"marker\":{\"color\":\"bisque\"},\"orientation\":\"h\",\"showlegend\":false,\"width\":0.9,\"x\":[615],\"y\":[21],\"type\":\"bar\"},{\"base\":639,\"hovertemplate\":\"EncodedSeq: &lt;AAG&gt;6&lt;AGG&gt;1&lt;AAG&gt;205\\u003cbr\\u003eAllele count: 1\\u003cbr\\u003eFrequency: 0.11%\\u003cextra\\u003e\\u003c\\u002fextra\\u003e\",\"marker\":{\"color\":\"black\"},\"orientation\":\"h\",\"showlegend\":false,\"width\":0.6,\"x\":[6.0989010989010985],\"y\":[21],\"type\":\"bar\"},{\"base\":0,\"hovertemplate\":\"&lt;AAG&gt;205\\u003cextra\\u003e\\u003c\\u002fextra\\u003e\",\"marker\":{\"color\":\"bisque\"},\"orientation\":\"h\",\"showlegend\":false,\"width\":0.9,\"x\":[615],\"y\":[22],\"type\":\"bar\"},{\"base\":618,\"hovertemplate\":\"EncodedSeq: &lt;AAG&gt;205\\u003cbr\\u003eAllele count: 3\\u003cbr\\u003eFrequency: 0.33%\\u003cextra\\u003e\\u003c\\u002fextra\\u003e\",\"marker\":{\"color\":\"black\"},\"orientation\":\"h\",\"showlegend\":false,\"width\":0.6,\"x\":[8.296703296703297],\"y\":[22],\"type\":\"bar\"},{\"base\":0,\"hovertemplate\":\"&lt;AAG&gt;2\\u003cextra\\u003e\\u003c\\u002fextra\\u003e\",\"marker\":{\"color\":\"bisque\"},\"orientation\":\"h\",\"showlegend\":false,\"width\":0.9,\"x\":[6],\"y\":[23],\"type\":\"bar\"},{\"base\":6,\"hovertemplate\":\"&lt;A&gt;1\\u003cextra\\u003e\\u003c\\u002fextra\\u003e\",\"marker\":{\"color\":\"#1f78b4\"},\"orientation\":\"h\",\"showlegend\":false,\"width\":0.9,\"x\":[1],\"y\":[23],\"type\":\"bar\"},{\"base\":7,\"hovertemplate\":\"&lt;AAG&gt;3\\u003cextra\\u003e\\u003c\\u002fextra\\u003e\",\"marker\":{\"color\":\"bisque\"},\"orientation\":\"h\",\"showlegend\":false,\"width\":0.9,\"x\":[9],\"y\":[23],\"type\":\"bar\"},{\"base\":16,\"hovertemplate\":\"&lt;AAGAAGGAG&gt;6\\u003cextra\\u003e\\u003c\\u002fextra\\u003e\",\"marker\":{\"color\":\"#d9d9d9\"},\"orientation\":\"h\",\"showlegend\":false,\"width\":0.9,\"x\":[54],\"y\":[23],\"type\":\"bar\"},{\"base\":70,\"hovertemplate\":\"&lt;AAGAAGGAGGAG&gt;1\\u003cextra\\u003e\\u003c\\u002fextra\\u003e\",\"marker\":{\"color\":\"#ffcc99\"},\"orientation\":\"h\",\"showlegend\":false,\"width\":0.9,\"x\":[12],\"y\":[23],\"type\":\"bar\"},{\"base\":82,\"hovertemplate\":\"&lt;AAGAAGGAGGAGGAG&gt;2\\u003cextra\\u003e\\u003c\\u002fextra\\u003e\",\"marker\":{\"color\":\"gray\"},\"orientation\":\"h\",\"showlegend\":false,\"width\":0.9,\"x\":[30],\"y\":[23],\"type\":\"bar\"},{\"base\":112,\"hovertemplate\":\"&lt;AAGGAGGAGGAG&gt;1\\u003cextra\\u003e\\u003c\\u002fextra\\u003e\",\"marker\":{\"color\":\"gray\"},\"orientation\":\"h\",\"showlegend\":false,\"width\":0.9,\"x\":[12],\"y\":[23],\"type\":\"bar\"},{\"base\":124,\"hovertemplate\":\"&lt;G&gt;1\\u003cextra\\u003e\\u003c\\u002fextra\\u003e\",\"marker\":{\"color\":\"#ccebc5\"},\"orientation\":\"h\",\"showlegend\":false,\"width\":0.9,\"x\":[1],\"y\":[23],\"type\":\"bar\"},{\"base\":125,\"hovertemplate\":\"&lt;AGG&gt;11\\u003cextra\\u003e\\u003c\\u002fextra\\u003e\",\"marker\":{\"color\":\"#ff7f00\"},\"orientation\":\"h\",\"showlegend\":false,\"width\":0.9,\"x\":[33],\"y\":[23],\"type\":\"bar\"},{\"base\":158,\"hovertemplate\":\"&lt;AG&gt;1\\u003cextra\\u003e\\u003c\\u002fextra\\u003e\",\"marker\":{\"color\":\"#8dd3c7\"},\"orientation\":\"h\",\"showlegend\":false,\"width\":0.9,\"x\":[2],\"y\":[23],\"type\":\"bar\"},{\"base\":160,\"hovertemplate\":\"&lt;AAG&gt;149\\u003cextra\\u003e\\u003c\\u002fextra\\u003e\",\"marker\":{\"color\":\"bisque\"},\"orientation\":\"h\",\"showlegend\":false,\"width\":0.9,\"x\":[447],\"y\":[23],\"type\":\"bar\"},{\"base\":610,\"hovertemplate\":\"EncodedSeq: &lt;AAG&gt;2&lt;A&gt;1&lt;AAG&gt;3&lt;AAGAAGGAG&gt;6&lt;AAGAAGGAGGAG&gt;1&lt;AAGAAGGAGGAGGAG&gt;2&lt;AAGGAGGAGGAG&gt;1&lt;G&gt;1&lt;AGG&gt;11&lt;AG&gt;1&lt;AAG&gt;149\\u003cbr\\u003eAllele count: 1\\u003cbr\\u003eFrequency: 0.11%\\u003cextra\\u003e\\u003c\\u002fextra\\u003e\",\"marker\":{\"color\":\"black\"},\"orientation\":\"h\",\"showlegend\":false,\"width\":0.6,\"x\":[6.0989010989010985],\"y\":[23],\"type\":\"bar\"},{\"base\":0,\"hovertemplate\":\"&lt;AAG&gt;196\\u003cextra\\u003e\\u003c\\u002fextra\\u003e\",\"marker\":{\"color\":\"bisque\"},\"orientation\":\"h\",\"showlegend\":false,\"width\":0.9,\"x\":[588],\"y\":[24],\"type\":\"bar\"},{\"base\":591,\"hovertemplate\":\"EncodedSeq: &lt;AAG&gt;196\\u003cbr\\u003eAllele count: 1\\u003cbr\\u003eFrequency: 0.11%\\u003cextra\\u003e\\u003c\\u002fextra\\u003e\",\"marker\":{\"color\":\"black\"},\"orientation\":\"h\",\"showlegend\":false,\"width\":0.6,\"x\":[6.0989010989010985],\"y\":[24],\"type\":\"bar\"},{\"base\":0,\"hovertemplate\":\"&lt;AAG&gt;190\\u003cextra\\u003e\\u003c\\u002fextra\\u003e\",\"marker\":{\"color\":\"bisque\"},\"orientation\":\"h\",\"showlegend\":false,\"width\":0.9,\"x\":[570],\"y\":[25],\"type\":\"bar\"},{\"base\":573,\"hovertemplate\":\"EncodedSeq: &lt;AAG&gt;190\\u003cbr\\u003eAllele count: 1\\u003cbr\\u003eFrequency: 0.11%\\u003cextra\\u003e\\u003c\\u002fextra\\u003e\",\"marker\":{\"color\":\"black\"},\"orientation\":\"h\",\"showlegend\":false,\"width\":0.6,\"x\":[6.0989010989010985],\"y\":[25],\"type\":\"bar\"},{\"base\":0,\"hovertemplate\":\"&lt;AAG&gt;188\\u003cextra\\u003e\\u003c\\u002fextra\\u003e\",\"marker\":{\"color\":\"bisque\"},\"orientation\":\"h\",\"showlegend\":false,\"width\":0.9,\"x\":[564],\"y\":[26],\"type\":\"bar\"},{\"base\":567,\"hovertemplate\":\"EncodedSeq: &lt;AAG&gt;188\\u003cbr\\u003eAllele count: 1\\u003cbr\\u003eFrequency: 0.11%\\u003cextra\\u003e\\u003c\\u002fextra\\u003e\",\"marker\":{\"color\":\"black\"},\"orientation\":\"h\",\"showlegend\":false,\"width\":0.6,\"x\":[6.0989010989010985],\"y\":[26],\"type\":\"bar\"},{\"base\":0,\"hovertemplate\":\"&lt;AAG&gt;92\\u003cextra\\u003e\\u003c\\u002fextra\\u003e\",\"marker\":{\"color\":\"bisque\"},\"orientation\":\"h\",\"showlegend\":false,\"width\":0.9,\"x\":[276],\"y\":[27],\"type\":\"bar\"},{\"base\":276,\"hovertemplate\":\"&lt;AG&gt;1\\u003cextra\\u003e\\u003c\\u002fextra\\u003e\",\"marker\":{\"color\":\"#8dd3c7\"},\"orientation\":\"h\",\"showlegend\":false,\"width\":0.9,\"x\":[2],\"y\":[27],\"type\":\"bar\"},{\"base\":278,\"hovertemplate\":\"&lt;AAG&gt;80\\u003cextra\\u003e\\u003c\\u002fextra\\u003e\",\"marker\":{\"color\":\"bisque\"},\"orientation\":\"h\",\"showlegend\":false,\"width\":0.9,\"x\":[240],\"y\":[27],\"type\":\"bar\"},{\"base\":521,\"hovertemplate\":\"EncodedSeq: &lt;AAG&gt;92&lt;AG&gt;1&lt;AAG&gt;80\\u003cbr\\u003eAllele count: 1\\u003cbr\\u003eFrequency: 0.11%\\u003cextra\\u003e\\u003c\\u002fextra\\u003e\",\"marker\":{\"color\":\"black\"},\"orientation\":\"h\",\"showlegend\":false,\"width\":0.6,\"x\":[6.0989010989010985],\"y\":[27],\"type\":\"bar\"},{\"base\":0,\"hovertemplate\":\"&lt;AAG&gt;1\\u003cextra\\u003e\\u003c\\u002fextra\\u003e\",\"marker\":{\"color\":\"bisque\"},\"orientation\":\"h\",\"showlegend\":false,\"width\":0.9,\"x\":[3],\"y\":[28],\"type\":\"bar\"},{\"base\":3,\"hovertemplate\":\"&lt;AAGAAGAAGAGG&gt;2\\u003cextra\\u003e\\u003c\\u002fextra\\u003e\",\"marker\":{\"color\":\"gray\"},\"orientation\":\"h\",\"showlegend\":false,\"width\":0.9,\"x\":[24],\"y\":[28],\"type\":\"bar\"},{\"base\":27,\"hovertemplate\":\"&lt;AAG&gt;157\\u003cextra\\u003e\\u003c\\u002fextra\\u003e\",\"marker\":{\"color\":\"bisque\"},\"orientation\":\"h\",\"showlegend\":false,\"width\":0.9,\"x\":[471],\"y\":[28],\"type\":\"bar\"},{\"base\":501,\"hovertemplate\":\"EncodedSeq: &lt;AAG&gt;1&lt;AAGAAGAAGAGG&gt;2&lt;AAG&gt;157\\u003cbr\\u003eAllele count: 1\\u003cbr\\u003eFrequency: 0.11%\\u003cextra\\u003e\\u003c\\u002fextra\\u003e\",\"marker\":{\"color\":\"black\"},\"orientation\":\"h\",\"showlegend\":false,\"width\":0.6,\"x\":[6.0989010989010985],\"y\":[28],\"type\":\"bar\"},{\"base\":0,\"hovertemplate\":\"&lt;AAG&gt;163\\u003cextra\\u003e\\u003c\\u002fextra\\u003e\",\"marker\":{\"color\":\"bisque\"},\"orientation\":\"h\",\"showlegend\":false,\"width\":0.9,\"x\":[489],\"y\":[29],\"type\":\"bar\"},{\"base\":492,\"hovertemplate\":\"EncodedSeq: &lt;AAG&gt;163\\u003cbr\\u003eAllele count: 1\\u003cbr\\u003eFrequency: 0.11%\\u003cextra\\u003e\\u003c\\u002fextra\\u003e\",\"marker\":{\"color\":\"black\"},\"orientation\":\"h\",\"showlegend\":false,\"width\":0.6,\"x\":[6.0989010989010985],\"y\":[29],\"type\":\"bar\"},{\"base\":0,\"hovertemplate\":\"&lt;AAG&gt;162\\u003cextra\\u003e\\u003c\\u002fextra\\u003e\",\"marker\":{\"color\":\"bisque\"},\"orientation\":\"h\",\"showlegend\":false,\"width\":0.9,\"x\":[486],\"y\":[30],\"type\":\"bar\"},{\"base\":489,\"hovertemplate\":\"EncodedSeq: &lt;AAG&gt;162\\u003cbr\\u003eAllele count: 1\\u003cbr\\u003eFrequency: 0.11%\\u003cextra\\u003e\\u003c\\u002fextra\\u003e\",\"marker\":{\"color\":\"black\"},\"orientation\":\"h\",\"showlegend\":false,\"width\":0.6,\"x\":[6.0989010989010985],\"y\":[30],\"type\":\"bar\"},{\"base\":0,\"hovertemplate\":\"&lt;AAG&gt;159\\u003cextra\\u003e\\u003c\\u002fextra\\u003e\",\"marker\":{\"color\":\"bisque\"},\"orientation\":\"h\",\"showlegend\":false,\"width\":0.9,\"x\":[477],\"y\":[31],\"type\":\"bar\"},{\"base\":480,\"hovertemplate\":\"EncodedSeq: &lt;AAG&gt;159\\u003cbr\\u003eAllele count: 1\\u003cbr\\u003eFrequency: 0.11%\\u003cextra\\u003e\\u003c\\u002fextra\\u003e\",\"marker\":{\"color\":\"black\"},\"orientation\":\"h\",\"showlegend\":false,\"width\":0.6,\"x\":[6.0989010989010985],\"y\":[31],\"type\":\"bar\"},{\"base\":0,\"hovertemplate\":\"&lt;AAG&gt;152\\u003cextra\\u003e\\u003c\\u002fextra\\u003e\",\"marker\":{\"color\":\"bisque\"},\"orientation\":\"h\",\"showlegend\":false,\"width\":0.9,\"x\":[456],\"y\":[32],\"type\":\"bar\"},{\"base\":456,\"hovertemplate\":\"&lt;AAAT&gt;1\\u003cextra\\u003e\\u003c\\u002fextra\\u003e\",\"marker\":{\"color\":\"gray\"},\"orientation\":\"h\",\"showlegend\":false,\"width\":0.9,\"x\":[4],\"y\":[32],\"type\":\"bar\"},{\"base\":460,\"hovertemplate\":\"&lt;AAG&gt;5\\u003cextra\\u003e\\u003c\\u002fextra\\u003e\",\"marker\":{\"color\":\"bisque\"},\"orientation\":\"h\",\"showlegend\":false,\"width\":0.9,\"x\":[15],\"y\":[32],\"type\":\"bar\"},{\"base\":478,\"hovertemplate\":\"EncodedSeq: &lt;AAG&gt;152&lt;AAAT&gt;1&lt;AAG&gt;5\\u003cbr\\u003eAllele count: 1\\u003cbr\\u003eFrequency: 0.11%\\u003cextra\\u003e\\u003c\\u002fextra\\u003e\",\"marker\":{\"color\":\"black\"},\"orientation\":\"h\",\"showlegend\":false,\"width\":0.6,\"x\":[6.0989010989010985],\"y\":[32],\"type\":\"bar\"},{\"base\":0,\"hovertemplate\":\"&lt;AAG&gt;6\\u003cextra\\u003e\\u003c\\u002fextra\\u003e\",\"marker\":{\"color\":\"bisque\"},\"orientation\":\"h\",\"showlegend\":false,\"width\":0.9,\"x\":[18],\"y\":[33],\"type\":\"bar\"},{\"base\":18,\"hovertemplate\":\"&lt;A&gt;1\\u003cextra\\u003e\\u003c\\u002fextra\\u003e\",\"marker\":{\"color\":\"#1f78b4\"},\"orientation\":\"h\",\"showlegend\":false,\"width\":0.9,\"x\":[1],\"y\":[33],\"type\":\"bar\"},{\"base\":19,\"hovertemplate\":\"&lt;AAG&gt;3\\u003cextra\\u003e\\u003c\\u002fextra\\u003e\",\"marker\":{\"color\":\"bisque\"},\"orientation\":\"h\",\"showlegend\":false,\"width\":0.9,\"x\":[9],\"y\":[33],\"type\":\"bar\"},{\"base\":28,\"hovertemplate\":\"&lt;G&gt;1\\u003cextra\\u003e\\u003c\\u002fextra\\u003e\",\"marker\":{\"color\":\"#ccebc5\"},\"orientation\":\"h\",\"showlegend\":false,\"width\":0.9,\"x\":[1],\"y\":[33],\"type\":\"bar\"},{\"base\":29,\"hovertemplate\":\"&lt;AAG&gt;140\\u003cextra\\u003e\\u003c\\u002fextra\\u003e\",\"marker\":{\"color\":\"bisque\"},\"orientation\":\"h\",\"showlegend\":false,\"width\":0.9,\"x\":[420],\"y\":[33],\"type\":\"bar\"},{\"base\":452,\"hovertemplate\":\"EncodedSeq: &lt;AAG&gt;6&lt;A&gt;1&lt;AAG&gt;3&lt;G&gt;1&lt;AAG&gt;140\\u003cbr\\u003eAllele count: 1\\u003cbr\\u003eFrequency: 0.11%\\u003cextra\\u003e\\u003c\\u002fextra\\u003e\",\"marker\":{\"color\":\"black\"},\"orientation\":\"h\",\"showlegend\":false,\"width\":0.6,\"x\":[6.0989010989010985],\"y\":[33],\"type\":\"bar\"},{\"base\":0,\"hovertemplate\":\"&lt;AAG&gt;2\\u003cextra\\u003e\\u003c\\u002fextra\\u003e\",\"marker\":{\"color\":\"bisque\"},\"orientation\":\"h\",\"showlegend\":false,\"width\":0.9,\"x\":[6],\"y\":[34],\"type\":\"bar\"},{\"base\":6,\"hovertemplate\":\"&lt;A&gt;2\\u003cextra\\u003e\\u003c\\u002fextra\\u003e\",\"marker\":{\"color\":\"#1f78b4\"},\"orientation\":\"h\",\"showlegend\":false,\"width\":0.9,\"x\":[2],\"y\":[34],\"type\":\"bar\"},{\"base\":8,\"hovertemplate\":\"&lt;AAG&gt;147\\u003cextra\\u003e\\u003c\\u002fextra\\u003e\",\"marker\":{\"color\":\"bisque\"},\"orientation\":\"h\",\"showlegend\":false,\"width\":0.9,\"x\":[441],\"y\":[34],\"type\":\"bar\"},{\"base\":452,\"hovertemplate\":\"EncodedSeq: &lt;AAG&gt;2&lt;A&gt;2&lt;AAG&gt;147\\u003cbr\\u003eAllele count: 1\\u003cbr\\u003eFrequency: 0.11%\\u003cextra\\u003e\\u003c\\u002fextra\\u003e\",\"marker\":{\"color\":\"black\"},\"orientation\":\"h\",\"showlegend\":false,\"width\":0.6,\"x\":[6.0989010989010985],\"y\":[34],\"type\":\"bar\"},{\"base\":0,\"hovertemplate\":\"&lt;AAG&gt;144\\u003cextra\\u003e\\u003c\\u002fextra\\u003e\",\"marker\":{\"color\":\"bisque\"},\"orientation\":\"h\",\"showlegend\":false,\"width\":0.9,\"x\":[432],\"y\":[35],\"type\":\"bar\"},{\"base\":435,\"hovertemplate\":\"EncodedSeq: &lt;AAG&gt;144\\u003cbr\\u003eAllele count: 2\\u003cbr\\u003eFrequency: 0.22%\\u003cextra\\u003e\\u003c\\u002fextra\\u003e\",\"marker\":{\"color\":\"black\"},\"orientation\":\"h\",\"showlegend\":false,\"width\":0.6,\"x\":[7.197802197802198],\"y\":[35],\"type\":\"bar\"},{\"base\":0,\"hovertemplate\":\"&lt;AAG&gt;3\\u003cextra\\u003e\\u003c\\u002fextra\\u003e\",\"marker\":{\"color\":\"bisque\"},\"orientation\":\"h\",\"showlegend\":false,\"width\":0.9,\"x\":[9],\"y\":[36],\"type\":\"bar\"},{\"base\":9,\"hovertemplate\":\"&lt;A&gt;2\\u003cextra\\u003e\\u003c\\u002fextra\\u003e\",\"marker\":{\"color\":\"#1f78b4\"},\"orientation\":\"h\",\"showlegend\":false,\"width\":0.9,\"x\":[2],\"y\":[36],\"type\":\"bar\"},{\"base\":11,\"hovertemplate\":\"&lt;AAG&gt;131\\u003cextra\\u003e\\u003c\\u002fextra\\u003e\",\"marker\":{\"color\":\"bisque\"},\"orientation\":\"h\",\"showlegend\":false,\"width\":0.9,\"x\":[393],\"y\":[36],\"type\":\"bar\"},{\"base\":407,\"hovertemplate\":\"EncodedSeq: &lt;AAG&gt;3&lt;A&gt;2&lt;AAG&gt;131\\u003cbr\\u003eAllele count: 1\\u003cbr\\u003eFrequency: 0.11%\\u003cextra\\u003e\\u003c\\u002fextra\\u003e\",\"marker\":{\"color\":\"black\"},\"orientation\":\"h\",\"showlegend\":false,\"width\":0.6,\"x\":[6.0989010989010985],\"y\":[36],\"type\":\"bar\"},{\"base\":0,\"hovertemplate\":\"&lt;AAG&gt;1\\u003cextra\\u003e\\u003c\\u002fextra\\u003e\",\"marker\":{\"color\":\"bisque\"},\"orientation\":\"h\",\"showlegend\":false,\"width\":0.9,\"x\":[3],\"y\":[37],\"type\":\"bar\"},{\"base\":3,\"hovertemplate\":\"&lt;AAGAAGAAGAGG&gt;6\\u003cextra\\u003e\\u003c\\u002fextra\\u003e\",\"marker\":{\"color\":\"gray\"},\"orientation\":\"h\",\"showlegend\":false,\"width\":0.9,\"x\":[72],\"y\":[37],\"type\":\"bar\"},{\"base\":75,\"hovertemplate\":\"&lt;AAGAAGAAGAG&gt;1\\u003cextra\\u003e\\u003c\\u002fextra\\u003e\",\"marker\":{\"color\":\"gray\"},\"orientation\":\"h\",\"showlegend\":false,\"width\":0.9,\"x\":[11],\"y\":[37],\"type\":\"bar\"},{\"base\":86,\"hovertemplate\":\"&lt;AAGAAGAAGAGG&gt;1\\u003cextra\\u003e\\u003c\\u002fextra\\u003e\",\"marker\":{\"color\":\"gray\"},\"orientation\":\"h\",\"showlegend\":false,\"width\":0.9,\"x\":[12],\"y\":[37],\"type\":\"bar\"},{\"base\":98,\"hovertemplate\":\"&lt;AAG&gt;102\\u003cextra\\u003e\\u003c\\u002fextra\\u003e\",\"marker\":{\"color\":\"bisque\"},\"orientation\":\"h\",\"showlegend\":false,\"width\":0.9,\"x\":[306],\"y\":[37],\"type\":\"bar\"},{\"base\":407,\"hovertemplate\":\"EncodedSeq: &lt;AAG&gt;1&lt;AAGAAGAAGAGG&gt;6&lt;AAGAAGAAGAG&gt;1&lt;AAGAAGAAGAGG&gt;1&lt;AAG&gt;102\\u003cbr\\u003eAllele count: 1\\u003cbr\\u003eFrequency: 0.11%\\u003cextra\\u003e\\u003c\\u002fextra\\u003e\",\"marker\":{\"color\":\"black\"},\"orientation\":\"h\",\"showlegend\":false,\"width\":0.6,\"x\":[6.0989010989010985],\"y\":[37],\"type\":\"bar\"},{\"base\":0,\"hovertemplate\":\"&lt;AAG&gt;3\\u003cextra\\u003e\\u003c\\u002fextra\\u003e\",\"marker\":{\"color\":\"bisque\"},\"orientation\":\"h\",\"showlegend\":false,\"width\":0.9,\"x\":[9],\"y\":[38],\"type\":\"bar\"},{\"base\":9,\"hovertemplate\":\"&lt;A&gt;1\\u003cextra\\u003e\\u003c\\u002fextra\\u003e\",\"marker\":{\"color\":\"#1f78b4\"},\"orientation\":\"h\",\"showlegend\":false,\"width\":0.9,\"x\":[1],\"y\":[38],\"type\":\"bar\"},{\"base\":10,\"hovertemplate\":\"&lt;AAAGAAGAAG&gt;2\\u003cextra\\u003e\\u003c\\u002fextra\\u003e\",\"marker\":{\"color\":\"#a6cee3\"},\"orientation\":\"h\",\"showlegend\":false,\"width\":0.9,\"x\":[20],\"y\":[38],\"type\":\"bar\"},{\"base\":30,\"hovertemplate\":\"&lt;AAG&gt;46\\u003cextra\\u003e\\u003c\\u002fextra\\u003e\",\"marker\":{\"color\":\"bisque\"},\"orientation\":\"h\",\"showlegend\":false,\"width\":0.9,\"x\":[138],\"y\":[38],\"type\":\"bar\"},{\"base\":168,\"hovertemplate\":\"&lt;AG&gt;1\\u003cextra\\u003e\\u003c\\u002fextra\\u003e\",\"marker\":{\"color\":\"#8dd3c7\"},\"orientation\":\"h\",\"showlegend\":false,\"width\":0.9,\"x\":[2],\"y\":[38],\"type\":\"bar\"},{\"base\":170,\"hovertemplate\":\"&lt;AAG&gt;74\\u003cextra\\u003e\\u003c\\u002fextra\\u003e\",\"marker\":{\"color\":\"bisque\"},\"orientation\":\"h\",\"showlegend\":false,\"width\":0.9,\"x\":[222],\"y\":[38],\"type\":\"bar\"},{\"base\":395,\"hovertemplate\":\"EncodedSeq: &lt;AAG&gt;3&lt;A&gt;1&lt;AAAGAAGAAG&gt;2&lt;AAG&gt;46&lt;AG&gt;1&lt;AAG&gt;74\\u003cbr\\u003eAllele count: 1\\u003cbr\\u003eFrequency: 0.11%\\u003cextra\\u003e\\u003c\\u002fextra\\u003e\",\"marker\":{\"color\":\"black\"},\"orientation\":\"h\",\"showlegend\":false,\"width\":0.6,\"x\":[6.0989010989010985],\"y\":[38],\"type\":\"bar\"},{\"base\":0,\"hovertemplate\":\"&lt;AAG&gt;127\\u003cextra\\u003e\\u003c\\u002fextra\\u003e\",\"marker\":{\"color\":\"bisque\"},\"orientation\":\"h\",\"showlegend\":false,\"width\":0.9,\"x\":[381],\"y\":[39],\"type\":\"bar\"},{\"base\":384,\"hovertemplate\":\"EncodedSeq: &lt;AAG&gt;127\\u003cbr\\u003eAllele count: 1\\u003cbr\\u003eFrequency: 0.11%\\u003cextra\\u003e\\u003c\\u002fextra\\u003e\",\"marker\":{\"color\":\"black\"},\"orientation\":\"h\",\"showlegend\":false,\"width\":0.6,\"x\":[6.0989010989010985],\"y\":[39],\"type\":\"bar\"},{\"base\":0,\"hovertemplate\":\"&lt;AAG&gt;1\\u003cextra\\u003e\\u003c\\u002fextra\\u003e\",\"marker\":{\"color\":\"bisque\"},\"orientation\":\"h\",\"showlegend\":false,\"width\":0.9,\"x\":[3],\"y\":[40],\"type\":\"bar\"},{\"base\":3,\"hovertemplate\":\"&lt;AAGAAGAAGAGG&gt;2\\u003cextra\\u003e\\u003c\\u002fextra\\u003e\",\"marker\":{\"color\":\"gray\"},\"orientation\":\"h\",\"showlegend\":false,\"width\":0.9,\"x\":[24],\"y\":[40],\"type\":\"bar\"},{\"base\":27,\"hovertemplate\":\"&lt;AAG&gt;118\\u003cextra\\u003e\\u003c\\u002fextra\\u003e\",\"marker\":{\"color\":\"bisque\"},\"orientation\":\"h\",\"showlegend\":false,\"width\":0.9,\"x\":[354],\"y\":[40],\"type\":\"bar\"},{\"base\":384,\"hovertemplate\":\"EncodedSeq: &lt;AAG&gt;1&lt;AAGAAGAAGAGG&gt;2&lt;AAG&gt;118\\u003cbr\\u003eAllele count: 1\\u003cbr\\u003eFrequency: 0.11%\\u003cextra\\u003e\\u003c\\u002fextra\\u003e\",\"marker\":{\"color\":\"black\"},\"orientation\":\"h\",\"showlegend\":false,\"width\":0.6,\"x\":[6.0989010989010985],\"y\":[40],\"type\":\"bar\"},{\"base\":0,\"hovertemplate\":\"&lt;AAG&gt;125\\u003cextra\\u003e\\u003c\\u002fextra\\u003e\",\"marker\":{\"color\":\"bisque\"},\"orientation\":\"h\",\"showlegend\":false,\"width\":0.9,\"x\":[375],\"y\":[41],\"type\":\"bar\"},{\"base\":378,\"hovertemplate\":\"EncodedSeq: &lt;AAG&gt;125\\u003cbr\\u003eAllele count: 1\\u003cbr\\u003eFrequency: 0.11%\\u003cextra\\u003e\\u003c\\u002fextra\\u003e\",\"marker\":{\"color\":\"black\"},\"orientation\":\"h\",\"showlegend\":false,\"width\":0.6,\"x\":[6.0989010989010985],\"y\":[41],\"type\":\"bar\"},{\"base\":0,\"hovertemplate\":\"&lt;AAG&gt;119\\u003cextra\\u003e\\u003c\\u002fextra\\u003e\",\"marker\":{\"color\":\"bisque\"},\"orientation\":\"h\",\"showlegend\":false,\"width\":0.9,\"x\":[357],\"y\":[42],\"type\":\"bar\"},{\"base\":360,\"hovertemplate\":\"EncodedSeq: &lt;AAG&gt;119\\u003cbr\\u003eAllele count: 1\\u003cbr\\u003eFrequency: 0.11%\\u003cextra\\u003e\\u003c\\u002fextra\\u003e\",\"marker\":{\"color\":\"black\"},\"orientation\":\"h\",\"showlegend\":false,\"width\":0.6,\"x\":[6.0989010989010985],\"y\":[42],\"type\":\"bar\"},{\"base\":0,\"hovertemplate\":\"&lt;AAG&gt;117\\u003cextra\\u003e\\u003c\\u002fextra\\u003e\",\"marker\":{\"color\":\"bisque\"},\"orientation\":\"h\",\"showlegend\":false,\"width\":0.9,\"x\":[351],\"y\":[43],\"type\":\"bar\"},{\"base\":354,\"hovertemplate\":\"EncodedSeq: &lt;AAG&gt;117\\u003cbr\\u003eAllele count: 1\\u003cbr\\u003eFrequency: 0.11%\\u003cextra\\u003e\\u003c\\u002fextra\\u003e\",\"marker\":{\"color\":\"black\"},\"orientation\":\"h\",\"showlegend\":false,\"width\":0.6,\"x\":[6.0989010989010985],\"y\":[43],\"type\":\"bar\"},{\"base\":0,\"hovertemplate\":\"&lt;AAG&gt;3\\u003cextra\\u003e\\u003c\\u002fextra\\u003e\",\"marker\":{\"color\":\"bisque\"},\"orientation\":\"h\",\"showlegend\":false,\"width\":0.9,\"x\":[9],\"y\":[44],\"type\":\"bar\"},{\"base\":9,\"hovertemplate\":\"&lt;AAGGAG&gt;1\\u003cextra\\u003e\\u003c\\u002fextra\\u003e\",\"marker\":{\"color\":\"gray\"},\"orientation\":\"h\",\"showlegend\":false,\"width\":0.9,\"x\":[6],\"y\":[44],\"type\":\"bar\"},{\"base\":15,\"hovertemplate\":\"&lt;G&gt;1\\u003cextra\\u003e\\u003c\\u002fextra\\u003e\",\"marker\":{\"color\":\"#ccebc5\"},\"orientation\":\"h\",\"showlegend\":false,\"width\":0.9,\"x\":[1],\"y\":[44],\"type\":\"bar\"},{\"base\":16,\"hovertemplate\":\"&lt;AGG&gt;34\\u003cextra\\u003e\\u003c\\u002fextra\\u003e\",\"marker\":{\"color\":\"#ff7f00\"},\"orientation\":\"h\",\"showlegend\":false,\"width\":0.9,\"x\":[102],\"y\":[44],\"type\":\"bar\"},{\"base\":118,\"hovertemplate\":\"&lt;AG&gt;1\\u003cextra\\u003e\\u003c\\u002fextra\\u003e\",\"marker\":{\"color\":\"#8dd3c7\"},\"orientation\":\"h\",\"showlegend\":false,\"width\":0.9,\"x\":[2],\"y\":[44],\"type\":\"bar\"},{\"base\":120,\"hovertemplate\":\"&lt;AAGGAG&gt;2\\u003cextra\\u003e\\u003c\\u002fextra\\u003e\",\"marker\":{\"color\":\"gray\"},\"orientation\":\"h\",\"showlegend\":false,\"width\":0.9,\"x\":[12],\"y\":[44],\"type\":\"bar\"},{\"base\":132,\"hovertemplate\":\"&lt;G&gt;1\\u003cextra\\u003e\\u003c\\u002fextra\\u003e\",\"marker\":{\"color\":\"#ccebc5\"},\"orientation\":\"h\",\"showlegend\":false,\"width\":0.9,\"x\":[1],\"y\":[44],\"type\":\"bar\"},{\"base\":133,\"hovertemplate\":\"&lt;AGG&gt;24\\u003cextra\\u003e\\u003c\\u002fextra\\u003e\",\"marker\":{\"color\":\"#ff7f00\"},\"orientation\":\"h\",\"showlegend\":false,\"width\":0.9,\"x\":[72],\"y\":[44],\"type\":\"bar\"},{\"base\":205,\"hovertemplate\":\"&lt;AG&gt;1\\u003cextra\\u003e\\u003c\\u002fextra\\u003e\",\"marker\":{\"color\":\"#8dd3c7\"},\"orientation\":\"h\",\"showlegend\":false,\"width\":0.9,\"x\":[2],\"y\":[44],\"type\":\"bar\"},{\"base\":207,\"hovertemplate\":\"&lt;AAGGAG&gt;15\\u003cextra\\u003e\\u003c\\u002fextra\\u003e\",\"marker\":{\"color\":\"gray\"},\"orientation\":\"h\",\"showlegend\":false,\"width\":0.9,\"x\":[90],\"y\":[44],\"type\":\"bar\"},{\"base\":297,\"hovertemplate\":\"&lt;AAG&gt;15\\u003cextra\\u003e\\u003c\\u002fextra\\u003e\",\"marker\":{\"color\":\"bisque\"},\"orientation\":\"h\",\"showlegend\":false,\"width\":0.9,\"x\":[45],\"y\":[44],\"type\":\"bar\"},{\"base\":345,\"hovertemplate\":\"EncodedSeq: &lt;AAG&gt;3&lt;AAGGAG&gt;1&lt;G&gt;1&lt;AGG&gt;34&lt;AG&gt;1&lt;AAGGAG&gt;2&lt;G&gt;1&lt;AGG&gt;24&lt;AG&gt;1&lt;AAGGAG&gt;15&lt;AAG&gt;15\\u003cbr\\u003eAllele count: 1\\u003cbr\\u003eFrequency: 0.11%\\u003cextra\\u003e\\u003c\\u002fextra\\u003e\",\"marker\":{\"color\":\"black\"},\"orientation\":\"h\",\"showlegend\":false,\"width\":0.6,\"x\":[6.0989010989010985],\"y\":[44],\"type\":\"bar\"},{\"base\":0,\"hovertemplate\":\"&lt;AAG&gt;17\\u003cextra\\u003e\\u003c\\u002fextra\\u003e\",\"marker\":{\"color\":\"bisque\"},\"orientation\":\"h\",\"showlegend\":false,\"width\":0.9,\"x\":[51],\"y\":[45],\"type\":\"bar\"},{\"base\":51,\"hovertemplate\":\"&lt;AG&gt;1\\u003cextra\\u003e\\u003c\\u002fextra\\u003e\",\"marker\":{\"color\":\"#8dd3c7\"},\"orientation\":\"h\",\"showlegend\":false,\"width\":0.9,\"x\":[2],\"y\":[45],\"type\":\"bar\"},{\"base\":53,\"hovertemplate\":\"&lt;AAG&gt;95\\u003cextra\\u003e\\u003c\\u002fextra\\u003e\",\"marker\":{\"color\":\"bisque\"},\"orientation\":\"h\",\"showlegend\":false,\"width\":0.9,\"x\":[285],\"y\":[45],\"type\":\"bar\"},{\"base\":341,\"hovertemplate\":\"EncodedSeq: &lt;AAG&gt;17&lt;AG&gt;1&lt;AAG&gt;95\\u003cbr\\u003eAllele count: 1\\u003cbr\\u003eFrequency: 0.11%\\u003cextra\\u003e\\u003c\\u002fextra\\u003e\",\"marker\":{\"color\":\"black\"},\"orientation\":\"h\",\"showlegend\":false,\"width\":0.6,\"x\":[6.0989010989010985],\"y\":[45],\"type\":\"bar\"},{\"base\":0,\"hovertemplate\":\"&lt;AAG&gt;1\\u003cextra\\u003e\\u003c\\u002fextra\\u003e\",\"marker\":{\"color\":\"bisque\"},\"orientation\":\"h\",\"showlegend\":false,\"width\":0.9,\"x\":[3],\"y\":[46],\"type\":\"bar\"},{\"base\":3,\"hovertemplate\":\"&lt;AAAGAAG&gt;1\\u003cextra\\u003e\\u003c\\u002fextra\\u003e\",\"marker\":{\"color\":\"#6a3d9a\"},\"orientation\":\"h\",\"showlegend\":false,\"width\":0.9,\"x\":[7],\"y\":[46],\"type\":\"bar\"},{\"base\":10,\"hovertemplate\":\"&lt;AAAGAAGAAGAAG&gt;2\\u003cextra\\u003e\\u003c\\u002fextra\\u003e\",\"marker\":{\"color\":\"#bc80bd\"},\"orientation\":\"h\",\"showlegend\":false,\"width\":0.9,\"x\":[26],\"y\":[46],\"type\":\"bar\"},{\"base\":36,\"hovertemplate\":\"&lt;AAG&gt;99\\u003cextra\\u003e\\u003c\\u002fextra\\u003e\",\"marker\":{\"color\":\"bisque\"},\"orientation\":\"h\",\"showlegend\":false,\"width\":0.9,\"x\":[297],\"y\":[46],\"type\":\"bar\"},{\"base\":336,\"hovertemplate\":\"EncodedSeq: &lt;AAG&gt;1&lt;AAAGAAG&gt;1&lt;AAAGAAGAAGAAG&gt;2&lt;AAG&gt;99\\u003cbr\\u003eAllele count: 1\\u003cbr\\u003eFrequency: 0.11%\\u003cextra\\u003e\\u003c\\u002fextra\\u003e\",\"marker\":{\"color\":\"black\"},\"orientation\":\"h\",\"showlegend\":false,\"width\":0.6,\"x\":[6.0989010989010985],\"y\":[46],\"type\":\"bar\"},{\"base\":0,\"hovertemplate\":\"&lt;AAG&gt;97\\u003cextra\\u003e\\u003c\\u002fextra\\u003e\",\"marker\":{\"color\":\"bisque\"},\"orientation\":\"h\",\"showlegend\":false,\"width\":0.9,\"x\":[291],\"y\":[47],\"type\":\"bar\"},{\"base\":294,\"hovertemplate\":\"EncodedSeq: &lt;AAG&gt;97\\u003cbr\\u003eAllele count: 1\\u003cbr\\u003eFrequency: 0.11%\\u003cextra\\u003e\\u003c\\u002fextra\\u003e\",\"marker\":{\"color\":\"black\"},\"orientation\":\"h\",\"showlegend\":false,\"width\":0.6,\"x\":[6.0989010989010985],\"y\":[47],\"type\":\"bar\"},{\"base\":0,\"hovertemplate\":\"&lt;AAG&gt;96\\u003cextra\\u003e\\u003c\\u002fextra\\u003e\",\"marker\":{\"color\":\"bisque\"},\"orientation\":\"h\",\"showlegend\":false,\"width\":0.9,\"x\":[288],\"y\":[48],\"type\":\"bar\"},{\"base\":291,\"hovertemplate\":\"EncodedSeq: &lt;AAG&gt;96\\u003cbr\\u003eAllele count: 1\\u003cbr\\u003eFrequency: 0.11%\\u003cextra\\u003e\\u003c\\u002fextra\\u003e\",\"marker\":{\"color\":\"black\"},\"orientation\":\"h\",\"showlegend\":false,\"width\":0.6,\"x\":[6.0989010989010985],\"y\":[48],\"type\":\"bar\"},{\"base\":0,\"hovertemplate\":\"&lt;AAG&gt;8\\u003cextra\\u003e\\u003c\\u002fextra\\u003e\",\"marker\":{\"color\":\"bisque\"},\"orientation\":\"h\",\"showlegend\":false,\"width\":0.9,\"x\":[24],\"y\":[49],\"type\":\"bar\"},{\"base\":24,\"hovertemplate\":\"&lt;AGG&gt;3\\u003cextra\\u003e\\u003c\\u002fextra\\u003e\",\"marker\":{\"color\":\"#ff7f00\"},\"orientation\":\"h\",\"showlegend\":false,\"width\":0.9,\"x\":[9],\"y\":[49],\"type\":\"bar\"},{\"base\":33,\"hovertemplate\":\"&lt;AAGG&gt;1\\u003cextra\\u003e\\u003c\\u002fextra\\u003e\",\"marker\":{\"color\":\"gray\"},\"orientation\":\"h\",\"showlegend\":false,\"width\":0.9,\"x\":[4],\"y\":[49],\"type\":\"bar\"},{\"base\":37,\"hovertemplate\":\"&lt;AAG&gt;82\\u003cextra\\u003e\\u003c\\u002fextra\\u003e\",\"marker\":{\"color\":\"bisque\"},\"orientation\":\"h\",\"showlegend\":false,\"width\":0.9,\"x\":[246],\"y\":[49],\"type\":\"bar\"},{\"base\":286,\"hovertemplate\":\"EncodedSeq: &lt;AAG&gt;8&lt;AGG&gt;3&lt;AAGG&gt;1&lt;AAG&gt;82\\u003cbr\\u003eAllele count: 1\\u003cbr\\u003eFrequency: 0.11%\\u003cextra\\u003e\\u003c\\u002fextra\\u003e\",\"marker\":{\"color\":\"black\"},\"orientation\":\"h\",\"showlegend\":false,\"width\":0.6,\"x\":[6.0989010989010985],\"y\":[49],\"type\":\"bar\"},{\"base\":0,\"hovertemplate\":\"&lt;AAG&gt;80\\u003cextra\\u003e\\u003c\\u002fextra\\u003e\",\"marker\":{\"color\":\"bisque\"},\"orientation\":\"h\",\"showlegend\":false,\"width\":0.9,\"x\":[240],\"y\":[50],\"type\":\"bar\"},{\"base\":240,\"hovertemplate\":\"&lt;AGA&gt;1\\u003cextra\\u003e\\u003c\\u002fextra\\u003e\",\"marker\":{\"color\":\"gray\"},\"orientation\":\"h\",\"showlegend\":false,\"width\":0.9,\"x\":[3],\"y\":[50],\"type\":\"bar\"},{\"base\":243,\"hovertemplate\":\"&lt;AAG&gt;13\\u003cextra\\u003e\\u003c\\u002fextra\\u003e\",\"marker\":{\"color\":\"bisque\"},\"orientation\":\"h\",\"showlegend\":false,\"width\":0.9,\"x\":[39],\"y\":[50],\"type\":\"bar\"},{\"base\":285,\"hovertemplate\":\"EncodedSeq: &lt;AAG&gt;80&lt;AGA&gt;1&lt;AAG&gt;13\\u003cbr\\u003eAllele count: 1\\u003cbr\\u003eFrequency: 0.11%\\u003cextra\\u003e\\u003c\\u002fextra\\u003e\",\"marker\":{\"color\":\"black\"},\"orientation\":\"h\",\"showlegend\":false,\"width\":0.6,\"x\":[6.0989010989010985],\"y\":[50],\"type\":\"bar\"},{\"base\":0,\"hovertemplate\":\"&lt;AAG&gt;88\\u003cextra\\u003e\\u003c\\u002fextra\\u003e\",\"marker\":{\"color\":\"bisque\"},\"orientation\":\"h\",\"showlegend\":false,\"width\":0.9,\"x\":[264],\"y\":[51],\"type\":\"bar\"},{\"base\":267,\"hovertemplate\":\"EncodedSeq: &lt;AAG&gt;88\\u003cbr\\u003eAllele count: 1\\u003cbr\\u003eFrequency: 0.11%\\u003cextra\\u003e\\u003c\\u002fextra\\u003e\",\"marker\":{\"color\":\"black\"},\"orientation\":\"h\",\"showlegend\":false,\"width\":0.6,\"x\":[6.0989010989010985],\"y\":[51],\"type\":\"bar\"},{\"base\":0,\"hovertemplate\":\"&lt;AAG&gt;25\\u003cextra\\u003e\\u003c\\u002fextra\\u003e\",\"marker\":{\"color\":\"bisque\"},\"orientation\":\"h\",\"showlegend\":false,\"width\":0.9,\"x\":[75],\"y\":[52],\"type\":\"bar\"},{\"base\":75,\"hovertemplate\":\"&lt;AG&gt;1\\u003cextra\\u003e\\u003c\\u002fextra\\u003e\",\"marker\":{\"color\":\"#8dd3c7\"},\"orientation\":\"h\",\"showlegend\":false,\"width\":0.9,\"x\":[2],\"y\":[52],\"type\":\"bar\"},{\"base\":77,\"hovertemplate\":\"&lt;AAG&gt;61\\u003cextra\\u003e\\u003c\\u002fextra\\u003e\",\"marker\":{\"color\":\"bisque\"},\"orientation\":\"h\",\"showlegend\":false,\"width\":0.9,\"x\":[183],\"y\":[52],\"type\":\"bar\"},{\"base\":263,\"hovertemplate\":\"EncodedSeq: &lt;AAG&gt;25&lt;AG&gt;1&lt;AAG&gt;61\\u003cbr\\u003eAllele count: 1\\u003cbr\\u003eFrequency: 0.11%\\u003cextra\\u003e\\u003c\\u002fextra\\u003e\",\"marker\":{\"color\":\"black\"},\"orientation\":\"h\",\"showlegend\":false,\"width\":0.6,\"x\":[6.0989010989010985],\"y\":[52],\"type\":\"bar\"},{\"base\":0,\"hovertemplate\":\"&lt;AAG&gt;85\\u003cextra\\u003e\\u003c\\u002fextra\\u003e\",\"marker\":{\"color\":\"bisque\"},\"orientation\":\"h\",\"showlegend\":false,\"width\":0.9,\"x\":[255],\"y\":[53],\"type\":\"bar\"},{\"base\":258,\"hovertemplate\":\"EncodedSeq: &lt;AAG&gt;85\\u003cbr\\u003eAllele count: 1\\u003cbr\\u003eFrequency: 0.11%\\u003cextra\\u003e\\u003c\\u002fextra\\u003e\",\"marker\":{\"color\":\"black\"},\"orientation\":\"h\",\"showlegend\":false,\"width\":0.6,\"x\":[6.0989010989010985],\"y\":[53],\"type\":\"bar\"},{\"base\":0,\"hovertemplate\":\"&lt;AAG&gt;84\\u003cextra\\u003e\\u003c\\u002fextra\\u003e\",\"marker\":{\"color\":\"bisque\"},\"orientation\":\"h\",\"showlegend\":false,\"width\":0.9,\"x\":[252],\"y\":[54],\"type\":\"bar\"},{\"base\":255,\"hovertemplate\":\"EncodedSeq: &lt;AAG&gt;84\\u003cbr\\u003eAllele count: 1\\u003cbr\\u003eFrequency: 0.11%\\u003cextra\\u003e\\u003c\\u002fextra\\u003e\",\"marker\":{\"color\":\"black\"},\"orientation\":\"h\",\"showlegend\":false,\"width\":0.6,\"x\":[6.0989010989010985],\"y\":[54],\"type\":\"bar\"},{\"base\":0,\"hovertemplate\":\"&lt;AAG&gt;3\\u003cextra\\u003e\\u003c\\u002fextra\\u003e\",\"marker\":{\"color\":\"bisque\"},\"orientation\":\"h\",\"showlegend\":false,\"width\":0.9,\"x\":[9],\"y\":[55],\"type\":\"bar\"},{\"base\":9,\"hovertemplate\":\"&lt;A&gt;2\\u003cextra\\u003e\\u003c\\u002fextra\\u003e\",\"marker\":{\"color\":\"#1f78b4\"},\"orientation\":\"h\",\"showlegend\":false,\"width\":0.9,\"x\":[2],\"y\":[55],\"type\":\"bar\"},{\"base\":11,\"hovertemplate\":\"&lt;AAG&gt;78\\u003cextra\\u003e\\u003c\\u002fextra\\u003e\",\"marker\":{\"color\":\"bisque\"},\"orientation\":\"h\",\"showlegend\":false,\"width\":0.9,\"x\":[234],\"y\":[55],\"type\":\"bar\"},{\"base\":248,\"hovertemplate\":\"EncodedSeq: &lt;AAG&gt;3&lt;A&gt;2&lt;AAG&gt;78\\u003cbr\\u003eAllele count: 1\\u003cbr\\u003eFrequency: 0.11%\\u003cextra\\u003e\\u003c\\u002fextra\\u003e\",\"marker\":{\"color\":\"black\"},\"orientation\":\"h\",\"showlegend\":false,\"width\":0.6,\"x\":[6.0989010989010985],\"y\":[55],\"type\":\"bar\"},{\"base\":0,\"hovertemplate\":\"&lt;AAG&gt;75\\u003cextra\\u003e\\u003c\\u002fextra\\u003e\",\"marker\":{\"color\":\"bisque\"},\"orientation\":\"h\",\"showlegend\":false,\"width\":0.9,\"x\":[225],\"y\":[56],\"type\":\"bar\"},{\"base\":225,\"hovertemplate\":\"&lt;AAGAAGAAT&gt;2\\u003cextra\\u003e\\u003c\\u002fextra\\u003e\",\"marker\":{\"color\":\"gray\"},\"orientation\":\"h\",\"showlegend\":false,\"width\":0.9,\"x\":[18],\"y\":[56],\"type\":\"bar\"},{\"base\":246,\"hovertemplate\":\"EncodedSeq: &lt;AAG&gt;75&lt;AAGAAGAAT&gt;2\\u003cbr\\u003eAllele count: 1\\u003cbr\\u003eFrequency: 0.11%\\u003cextra\\u003e\\u003c\\u002fextra\\u003e\",\"marker\":{\"color\":\"black\"},\"orientation\":\"h\",\"showlegend\":false,\"width\":0.6,\"x\":[6.0989010989010985],\"y\":[56],\"type\":\"bar\"},{\"base\":0,\"hovertemplate\":\"&lt;AAG&gt;80\\u003cextra\\u003e\\u003c\\u002fextra\\u003e\",\"marker\":{\"color\":\"bisque\"},\"orientation\":\"h\",\"showlegend\":false,\"width\":0.9,\"x\":[240],\"y\":[57],\"type\":\"bar\"},{\"base\":243,\"hovertemplate\":\"EncodedSeq: &lt;AAG&gt;80\\u003cbr\\u003eAllele count: 1\\u003cbr\\u003eFrequency: 0.11%\\u003cextra\\u003e\\u003c\\u002fextra\\u003e\",\"marker\":{\"color\":\"black\"},\"orientation\":\"h\",\"showlegend\":false,\"width\":0.6,\"x\":[6.0989010989010985],\"y\":[57],\"type\":\"bar\"},{\"base\":0,\"hovertemplate\":\"&lt;AAG&gt;3\\u003cextra\\u003e\\u003c\\u002fextra\\u003e\",\"marker\":{\"color\":\"bisque\"},\"orientation\":\"h\",\"showlegend\":false,\"width\":0.9,\"x\":[9],\"y\":[58],\"type\":\"bar\"},{\"base\":9,\"hovertemplate\":\"&lt;A&gt;1\\u003cextra\\u003e\\u003c\\u002fextra\\u003e\",\"marker\":{\"color\":\"#1f78b4\"},\"orientation\":\"h\",\"showlegend\":false,\"width\":0.9,\"x\":[1],\"y\":[58],\"type\":\"bar\"},{\"base\":10,\"hovertemplate\":\"&lt;AAAGAAGAAG&gt;2\\u003cextra\\u003e\\u003c\\u002fextra\\u003e\",\"marker\":{\"color\":\"#a6cee3\"},\"orientation\":\"h\",\"showlegend\":false,\"width\":0.9,\"x\":[20],\"y\":[58],\"type\":\"bar\"},{\"base\":30,\"hovertemplate\":\"&lt;AAG&gt;70\\u003cextra\\u003e\\u003c\\u002fextra\\u003e\",\"marker\":{\"color\":\"bisque\"},\"orientation\":\"h\",\"showlegend\":false,\"width\":0.9,\"x\":[210],\"y\":[58],\"type\":\"bar\"},{\"base\":243,\"hovertemplate\":\"EncodedSeq: &lt;AAG&gt;3&lt;A&gt;1&lt;AAAGAAGAAG&gt;2&lt;AAG&gt;70\\u003cbr\\u003eAllele count: 1\\u003cbr\\u003eFrequency: 0.11%\\u003cextra\\u003e\\u003c\\u002fextra\\u003e\",\"marker\":{\"color\":\"black\"},\"orientation\":\"h\",\"showlegend\":false,\"width\":0.6,\"x\":[6.0989010989010985],\"y\":[58],\"type\":\"bar\"},{\"base\":0,\"hovertemplate\":\"&lt;AAG&gt;6\\u003cextra\\u003e\\u003c\\u002fextra\\u003e\",\"marker\":{\"color\":\"bisque\"},\"orientation\":\"h\",\"showlegend\":false,\"width\":0.9,\"x\":[18],\"y\":[59],\"type\":\"bar\"},{\"base\":18,\"hovertemplate\":\"&lt;AAGAAGAGG&gt;3\\u003cextra\\u003e\\u003c\\u002fextra\\u003e\",\"marker\":{\"color\":\"#ffed6f\"},\"orientation\":\"h\",\"showlegend\":false,\"width\":0.9,\"x\":[27],\"y\":[59],\"type\":\"bar\"},{\"base\":45,\"hovertemplate\":\"&lt;AAG&gt;60\\u003cextra\\u003e\\u003c\\u002fextra\\u003e\",\"marker\":{\"color\":\"bisque\"},\"orientation\":\"h\",\"showlegend\":false,\"width\":0.9,\"x\":[180],\"y\":[59],\"type\":\"bar\"},{\"base\":228,\"hovertemplate\":\"EncodedSeq: &lt;AAG&gt;6&lt;AAGAAGAGG&gt;3&lt;AAG&gt;60\\u003cbr\\u003eAllele count: 1\\u003cbr\\u003eFrequency: 0.11%\\u003cextra\\u003e\\u003c\\u002fextra\\u003e\",\"marker\":{\"color\":\"black\"},\"orientation\":\"h\",\"showlegend\":false,\"width\":0.6,\"x\":[6.0989010989010985],\"y\":[59],\"type\":\"bar\"},{\"base\":0,\"hovertemplate\":\"&lt;AAG&gt;8\\u003cextra\\u003e\\u003c\\u002fextra\\u003e\",\"marker\":{\"color\":\"bisque\"},\"orientation\":\"h\",\"showlegend\":false,\"width\":0.9,\"x\":[24],\"y\":[60],\"type\":\"bar\"},{\"base\":24,\"hovertemplate\":\"&lt;AAGAGGAGG&gt;13\\u003cextra\\u003e\\u003c\\u002fextra\\u003e\",\"marker\":{\"color\":\"#fccde5\"},\"orientation\":\"h\",\"showlegend\":false,\"width\":0.9,\"x\":[117],\"y\":[60],\"type\":\"bar\"},{\"base\":141,\"hovertemplate\":\"&lt;AAG&gt;25\\u003cextra\\u003e\\u003c\\u002fextra\\u003e\",\"marker\":{\"color\":\"bisque\"},\"orientation\":\"h\",\"showlegend\":false,\"width\":0.9,\"x\":[75],\"y\":[60],\"type\":\"bar\"},{\"base\":219,\"hovertemplate\":\"EncodedSeq: &lt;AAG&gt;8&lt;AAGAGGAGG&gt;13&lt;AAG&gt;25\\u003cbr\\u003eAllele count: 1\\u003cbr\\u003eFrequency: 0.11%\\u003cextra\\u003e\\u003c\\u002fextra\\u003e\",\"marker\":{\"color\":\"black\"},\"orientation\":\"h\",\"showlegend\":false,\"width\":0.6,\"x\":[6.0989010989010985],\"y\":[60],\"type\":\"bar\"},{\"base\":0,\"hovertemplate\":\"&lt;AAG&gt;4\\u003cextra\\u003e\\u003c\\u002fextra\\u003e\",\"marker\":{\"color\":\"bisque\"},\"orientation\":\"h\",\"showlegend\":false,\"width\":0.9,\"x\":[12],\"y\":[61],\"type\":\"bar\"},{\"base\":12,\"hovertemplate\":\"&lt;A&gt;2\\u003cextra\\u003e\\u003c\\u002fextra\\u003e\",\"marker\":{\"color\":\"#1f78b4\"},\"orientation\":\"h\",\"showlegend\":false,\"width\":0.9,\"x\":[2],\"y\":[61],\"type\":\"bar\"},{\"base\":14,\"hovertemplate\":\"&lt;AAG&gt;14\\u003cextra\\u003e\\u003c\\u002fextra\\u003e\",\"marker\":{\"color\":\"bisque\"},\"orientation\":\"h\",\"showlegend\":false,\"width\":0.9,\"x\":[42],\"y\":[61],\"type\":\"bar\"},{\"base\":56,\"hovertemplate\":\"&lt;AAGAGG&gt;15\\u003cextra\\u003e\\u003c\\u002fextra\\u003e\",\"marker\":{\"color\":\"#b2df8a\"},\"orientation\":\"h\",\"showlegend\":false,\"width\":0.9,\"x\":[90],\"y\":[61],\"type\":\"bar\"},{\"base\":146,\"hovertemplate\":\"&lt;AAG&gt;23\\u003cextra\\u003e\\u003c\\u002fextra\\u003e\",\"marker\":{\"color\":\"bisque\"},\"orientation\":\"h\",\"showlegend\":false,\"width\":0.9,\"x\":[69],\"y\":[61],\"type\":\"bar\"},{\"base\":218,\"hovertemplate\":\"EncodedSeq: &lt;AAG&gt;4&lt;A&gt;2&lt;AAG&gt;14&lt;AAGAGG&gt;15&lt;AAG&gt;23\\u003cbr\\u003eAllele count: 1\\u003cbr\\u003eFrequency: 0.11%\\u003cextra\\u003e\\u003c\\u002fextra\\u003e\",\"marker\":{\"color\":\"black\"},\"orientation\":\"h\",\"showlegend\":false,\"width\":0.6,\"x\":[6.0989010989010985],\"y\":[61],\"type\":\"bar\"},{\"base\":0,\"hovertemplate\":\"&lt;AAG&gt;4\\u003cextra\\u003e\\u003c\\u002fextra\\u003e\",\"marker\":{\"color\":\"bisque\"},\"orientation\":\"h\",\"showlegend\":false,\"width\":0.9,\"x\":[12],\"y\":[62],\"type\":\"bar\"},{\"base\":12,\"hovertemplate\":\"&lt;A&gt;2\\u003cextra\\u003e\\u003c\\u002fextra\\u003e\",\"marker\":{\"color\":\"#1f78b4\"},\"orientation\":\"h\",\"showlegend\":false,\"width\":0.9,\"x\":[2],\"y\":[62],\"type\":\"bar\"},{\"base\":14,\"hovertemplate\":\"&lt;AAG&gt;13\\u003cextra\\u003e\\u003c\\u002fextra\\u003e\",\"marker\":{\"color\":\"bisque\"},\"orientation\":\"h\",\"showlegend\":false,\"width\":0.9,\"x\":[39],\"y\":[62],\"type\":\"bar\"},{\"base\":53,\"hovertemplate\":\"&lt;AAGAGG&gt;14\\u003cextra\\u003e\\u003c\\u002fextra\\u003e\",\"marker\":{\"color\":\"#b2df8a\"},\"orientation\":\"h\",\"showlegend\":false,\"width\":0.9,\"x\":[84],\"y\":[62],\"type\":\"bar\"},{\"base\":137,\"hovertemplate\":\"&lt;AAG&gt;24\\u003cextra\\u003e\\u003c\\u002fextra\\u003e\",\"marker\":{\"color\":\"bisque\"},\"orientation\":\"h\",\"showlegend\":false,\"width\":0.9,\"x\":[72],\"y\":[62],\"type\":\"bar\"},{\"base\":212,\"hovertemplate\":\"EncodedSeq: &lt;AAG&gt;4&lt;A&gt;2&lt;AAG&gt;13&lt;AAGAGG&gt;14&lt;AAG&gt;24\\u003cbr\\u003eAllele count: 1\\u003cbr\\u003eFrequency: 0.11%\\u003cextra\\u003e\\u003c\\u002fextra\\u003e\",\"marker\":{\"color\":\"black\"},\"orientation\":\"h\",\"showlegend\":false,\"width\":0.6,\"x\":[6.0989010989010985],\"y\":[62],\"type\":\"bar\"},{\"base\":0,\"hovertemplate\":\"&lt;AAG&gt;2\\u003cextra\\u003e\\u003c\\u002fextra\\u003e\",\"marker\":{\"color\":\"bisque\"},\"orientation\":\"h\",\"showlegend\":false,\"width\":0.9,\"x\":[6],\"y\":[63],\"type\":\"bar\"},{\"base\":6,\"hovertemplate\":\"&lt;A&gt;1\\u003cextra\\u003e\\u003c\\u002fextra\\u003e\",\"marker\":{\"color\":\"#1f78b4\"},\"orientation\":\"h\",\"showlegend\":false,\"width\":0.9,\"x\":[1],\"y\":[63],\"type\":\"bar\"},{\"base\":7,\"hovertemplate\":\"&lt;AAG&gt;65\\u003cextra\\u003e\\u003c\\u002fextra\\u003e\",\"marker\":{\"color\":\"bisque\"},\"orientation\":\"h\",\"showlegend\":false,\"width\":0.9,\"x\":[195],\"y\":[63],\"type\":\"bar\"},{\"base\":205,\"hovertemplate\":\"EncodedSeq: &lt;AAG&gt;2&lt;A&gt;1&lt;AAG&gt;65\\u003cbr\\u003eAllele count: 1\\u003cbr\\u003eFrequency: 0.11%\\u003cextra\\u003e\\u003c\\u002fextra\\u003e\",\"marker\":{\"color\":\"black\"},\"orientation\":\"h\",\"showlegend\":false,\"width\":0.6,\"x\":[6.0989010989010985],\"y\":[63],\"type\":\"bar\"},{\"base\":0,\"hovertemplate\":\"&lt;AAG&gt;4\\u003cextra\\u003e\\u003c\\u002fextra\\u003e\",\"marker\":{\"color\":\"bisque\"},\"orientation\":\"h\",\"showlegend\":false,\"width\":0.9,\"x\":[12],\"y\":[64],\"type\":\"bar\"},{\"base\":12,\"hovertemplate\":\"&lt;A&gt;1\\u003cextra\\u003e\\u003c\\u002fextra\\u003e\",\"marker\":{\"color\":\"#1f78b4\"},\"orientation\":\"h\",\"showlegend\":false,\"width\":0.9,\"x\":[1],\"y\":[64],\"type\":\"bar\"},{\"base\":13,\"hovertemplate\":\"&lt;AAG&gt;63\\u003cextra\\u003e\\u003c\\u002fextra\\u003e\",\"marker\":{\"color\":\"bisque\"},\"orientation\":\"h\",\"showlegend\":false,\"width\":0.9,\"x\":[189],\"y\":[64],\"type\":\"bar\"},{\"base\":205,\"hovertemplate\":\"EncodedSeq: &lt;AAG&gt;4&lt;A&gt;1&lt;AAG&gt;63\\u003cbr\\u003eAllele count: 1\\u003cbr\\u003eFrequency: 0.11%\\u003cextra\\u003e\\u003c\\u002fextra\\u003e\",\"marker\":{\"color\":\"black\"},\"orientation\":\"h\",\"showlegend\":false,\"width\":0.6,\"x\":[6.0989010989010985],\"y\":[64],\"type\":\"bar\"},{\"base\":0,\"hovertemplate\":\"&lt;AAG&gt;67\\u003cextra\\u003e\\u003c\\u002fextra\\u003e\",\"marker\":{\"color\":\"bisque\"},\"orientation\":\"h\",\"showlegend\":false,\"width\":0.9,\"x\":[201],\"y\":[65],\"type\":\"bar\"},{\"base\":204,\"hovertemplate\":\"EncodedSeq: &lt;AAG&gt;67\\u003cbr\\u003eAllele count: 1\\u003cbr\\u003eFrequency: 0.11%\\u003cextra\\u003e\\u003c\\u002fextra\\u003e\",\"marker\":{\"color\":\"black\"},\"orientation\":\"h\",\"showlegend\":false,\"width\":0.6,\"x\":[6.0989010989010985],\"y\":[65],\"type\":\"bar\"},{\"base\":0,\"hovertemplate\":\"&lt;AAG&gt;7\\u003cextra\\u003e\\u003c\\u002fextra\\u003e\",\"marker\":{\"color\":\"bisque\"},\"orientation\":\"h\",\"showlegend\":false,\"width\":0.9,\"x\":[21],\"y\":[66],\"type\":\"bar\"},{\"base\":21,\"hovertemplate\":\"&lt;AAGAAGAGG&gt;2\\u003cextra\\u003e\\u003c\\u002fextra\\u003e\",\"marker\":{\"color\":\"#ffed6f\"},\"orientation\":\"h\",\"showlegend\":false,\"width\":0.9,\"x\":[18],\"y\":[66],\"type\":\"bar\"},{\"base\":39,\"hovertemplate\":\"&lt;AGG&gt;1\\u003cextra\\u003e\\u003c\\u002fextra\\u003e\",\"marker\":{\"color\":\"#ff7f00\"},\"orientation\":\"h\",\"showlegend\":false,\"width\":0.9,\"x\":[3],\"y\":[66],\"type\":\"bar\"},{\"base\":42,\"hovertemplate\":\"&lt;AAGAGGAGG&gt;2\\u003cextra\\u003e\\u003c\\u002fextra\\u003e\",\"marker\":{\"color\":\"#fccde5\"},\"orientation\":\"h\",\"showlegend\":false,\"width\":0.9,\"x\":[18],\"y\":[66],\"type\":\"bar\"},{\"base\":60,\"hovertemplate\":\"&lt;AAGAAGAGG&gt;4\\u003cextra\\u003e\\u003c\\u002fextra\\u003e\",\"marker\":{\"color\":\"#ffed6f\"},\"orientation\":\"h\",\"showlegend\":false,\"width\":0.9,\"x\":[36],\"y\":[66],\"type\":\"bar\"},{\"base\":96,\"hovertemplate\":\"&lt;AAGAGG&gt;5\\u003cextra\\u003e\\u003c\\u002fextra\\u003e\",\"marker\":{\"color\":\"#b2df8a\"},\"orientation\":\"h\",\"showlegend\":false,\"width\":0.9,\"x\":[30],\"y\":[66],\"type\":\"bar\"},{\"base\":126,\"hovertemplate\":\"&lt;AAG&gt;24\\u003cextra\\u003e\\u003c\\u002fextra\\u003e\",\"marker\":{\"color\":\"bisque\"},\"orientation\":\"h\",\"showlegend\":false,\"width\":0.9,\"x\":[72],\"y\":[66],\"type\":\"bar\"},{\"base\":201,\"hovertemplate\":\"EncodedSeq: &lt;AAG&gt;7&lt;AAGAAGAGG&gt;2&lt;AGG&gt;1&lt;AAGAGGAGG&gt;2&lt;AAGAAGAGG&gt;4&lt;AAGAGG&gt;5&lt;AAG&gt;24\\u003cbr\\u003eAllele count: 1\\u003cbr\\u003eFrequency: 0.11%\\u003cextra\\u003e\\u003c\\u002fextra\\u003e\",\"marker\":{\"color\":\"black\"},\"orientation\":\"h\",\"showlegend\":false,\"width\":0.6,\"x\":[6.0989010989010985],\"y\":[66],\"type\":\"bar\"},{\"base\":0,\"hovertemplate\":\"&lt;AAG&gt;3\\u003cextra\\u003e\\u003c\\u002fextra\\u003e\",\"marker\":{\"color\":\"bisque\"},\"orientation\":\"h\",\"showlegend\":false,\"width\":0.9,\"x\":[9],\"y\":[67],\"type\":\"bar\"},{\"base\":9,\"hovertemplate\":\"&lt;AAGAAGAGG&gt;1\\u003cextra\\u003e\\u003c\\u002fextra\\u003e\",\"marker\":{\"color\":\"#ffed6f\"},\"orientation\":\"h\",\"showlegend\":false,\"width\":0.9,\"x\":[9],\"y\":[67],\"type\":\"bar\"},{\"base\":18,\"hovertemplate\":\"&lt;AAGAGGAGG&gt;8\\u003cextra\\u003e\\u003c\\u002fextra\\u003e\",\"marker\":{\"color\":\"#fccde5\"},\"orientation\":\"h\",\"showlegend\":false,\"width\":0.9,\"x\":[72],\"y\":[67],\"type\":\"bar\"},{\"base\":90,\"hovertemplate\":\"&lt;AAGAAGAGG&gt;2\\u003cextra\\u003e\\u003c\\u002fextra\\u003e\",\"marker\":{\"color\":\"#ffed6f\"},\"orientation\":\"h\",\"showlegend\":false,\"width\":0.9,\"x\":[18],\"y\":[67],\"type\":\"bar\"},{\"base\":108,\"hovertemplate\":\"&lt;AAGAGG&gt;1\\u003cextra\\u003e\\u003c\\u002fextra\\u003e\",\"marker\":{\"color\":\"#b2df8a\"},\"orientation\":\"h\",\"showlegend\":false,\"width\":0.9,\"x\":[6],\"y\":[67],\"type\":\"bar\"},{\"base\":114,\"hovertemplate\":\"&lt;AAG&gt;28\\u003cextra\\u003e\\u003c\\u002fextra\\u003e\",\"marker\":{\"color\":\"bisque\"},\"orientation\":\"h\",\"showlegend\":false,\"width\":0.9,\"x\":[84],\"y\":[67],\"type\":\"bar\"},{\"base\":201,\"hovertemplate\":\"EncodedSeq: &lt;AAG&gt;3&lt;AAGAAGAGG&gt;1&lt;AAGAGGAGG&gt;8&lt;AAGAAGAGG&gt;2&lt;AAGAGG&gt;1&lt;AAG&gt;28\\u003cbr\\u003eAllele count: 1\\u003cbr\\u003eFrequency: 0.11%\\u003cextra\\u003e\\u003c\\u002fextra\\u003e\",\"marker\":{\"color\":\"black\"},\"orientation\":\"h\",\"showlegend\":false,\"width\":0.6,\"x\":[6.0989010989010985],\"y\":[67],\"type\":\"bar\"},{\"base\":0,\"hovertemplate\":\"&lt;AAG&gt;66\\u003cextra\\u003e\\u003c\\u002fextra\\u003e\",\"marker\":{\"color\":\"bisque\"},\"orientation\":\"h\",\"showlegend\":false,\"width\":0.9,\"x\":[198],\"y\":[68],\"type\":\"bar\"},{\"base\":201,\"hovertemplate\":\"EncodedSeq: &lt;AAG&gt;66\\u003cbr\\u003eAllele count: 1\\u003cbr\\u003eFrequency: 0.11%\\u003cextra\\u003e\\u003c\\u002fextra\\u003e\",\"marker\":{\"color\":\"black\"},\"orientation\":\"h\",\"showlegend\":false,\"width\":0.6,\"x\":[6.0989010989010985],\"y\":[68],\"type\":\"bar\"},{\"base\":0,\"hovertemplate\":\"&lt;AAG&gt;7\\u003cextra\\u003e\\u003c\\u002fextra\\u003e\",\"marker\":{\"color\":\"bisque\"},\"orientation\":\"h\",\"showlegend\":false,\"width\":0.9,\"x\":[21],\"y\":[69],\"type\":\"bar\"},{\"base\":21,\"hovertemplate\":\"&lt;AAGAAGAGG&gt;2\\u003cextra\\u003e\\u003c\\u002fextra\\u003e\",\"marker\":{\"color\":\"#ffed6f\"},\"orientation\":\"h\",\"showlegend\":false,\"width\":0.9,\"x\":[18],\"y\":[69],\"type\":\"bar\"},{\"base\":39,\"hovertemplate\":\"&lt;AGG&gt;1\\u003cextra\\u003e\\u003c\\u002fextra\\u003e\",\"marker\":{\"color\":\"#ff7f00\"},\"orientation\":\"h\",\"showlegend\":false,\"width\":0.9,\"x\":[3],\"y\":[69],\"type\":\"bar\"},{\"base\":42,\"hovertemplate\":\"&lt;AAGAGGAGG&gt;2\\u003cextra\\u003e\\u003c\\u002fextra\\u003e\",\"marker\":{\"color\":\"#fccde5\"},\"orientation\":\"h\",\"showlegend\":false,\"width\":0.9,\"x\":[18],\"y\":[69],\"type\":\"bar\"},{\"base\":60,\"hovertemplate\":\"&lt;AAGAAGAGG&gt;4\\u003cextra\\u003e\\u003c\\u002fextra\\u003e\",\"marker\":{\"color\":\"#ffed6f\"},\"orientation\":\"h\",\"showlegend\":false,\"width\":0.9,\"x\":[36],\"y\":[69],\"type\":\"bar\"},{\"base\":96,\"hovertemplate\":\"&lt;AAGAGG&gt;5\\u003cextra\\u003e\\u003c\\u002fextra\\u003e\",\"marker\":{\"color\":\"#b2df8a\"},\"orientation\":\"h\",\"showlegend\":false,\"width\":0.9,\"x\":[30],\"y\":[69],\"type\":\"bar\"},{\"base\":126,\"hovertemplate\":\"&lt;AAG&gt;23\\u003cextra\\u003e\\u003c\\u002fextra\\u003e\",\"marker\":{\"color\":\"bisque\"},\"orientation\":\"h\",\"showlegend\":false,\"width\":0.9,\"x\":[69],\"y\":[69],\"type\":\"bar\"},{\"base\":198,\"hovertemplate\":\"EncodedSeq: &lt;AAG&gt;7&lt;AAGAAGAGG&gt;2&lt;AGG&gt;1&lt;AAGAGGAGG&gt;2&lt;AAGAAGAGG&gt;4&lt;AAGAGG&gt;5&lt;AAG&gt;23\\u003cbr\\u003eAllele count: 1\\u003cbr\\u003eFrequency: 0.11%\\u003cextra\\u003e\\u003c\\u002fextra\\u003e\",\"marker\":{\"color\":\"black\"},\"orientation\":\"h\",\"showlegend\":false,\"width\":0.6,\"x\":[6.0989010989010985],\"y\":[69],\"type\":\"bar\"},{\"base\":0,\"hovertemplate\":\"&lt;AAG&gt;2\\u003cextra\\u003e\\u003c\\u002fextra\\u003e\",\"marker\":{\"color\":\"bisque\"},\"orientation\":\"h\",\"showlegend\":false,\"width\":0.9,\"x\":[6],\"y\":[70],\"type\":\"bar\"},{\"base\":6,\"hovertemplate\":\"&lt;A&gt;2\\u003cextra\\u003e\\u003c\\u002fextra\\u003e\",\"marker\":{\"color\":\"#1f78b4\"},\"orientation\":\"h\",\"showlegend\":false,\"width\":0.9,\"x\":[2],\"y\":[70],\"type\":\"bar\"},{\"base\":8,\"hovertemplate\":\"&lt;AAG&gt;60\\u003cextra\\u003e\\u003c\\u002fextra\\u003e\",\"marker\":{\"color\":\"bisque\"},\"orientation\":\"h\",\"showlegend\":false,\"width\":0.9,\"x\":[180],\"y\":[70],\"type\":\"bar\"},{\"base\":191,\"hovertemplate\":\"EncodedSeq: &lt;AAG&gt;2&lt;A&gt;2&lt;AAG&gt;60\\u003cbr\\u003eAllele count: 1\\u003cbr\\u003eFrequency: 0.11%\\u003cextra\\u003e\\u003c\\u002fextra\\u003e\",\"marker\":{\"color\":\"black\"},\"orientation\":\"h\",\"showlegend\":false,\"width\":0.6,\"x\":[6.0989010989010985],\"y\":[70],\"type\":\"bar\"},{\"base\":0,\"hovertemplate\":\"&lt;AAG&gt;6\\u003cextra\\u003e\\u003c\\u002fextra\\u003e\",\"marker\":{\"color\":\"bisque\"},\"orientation\":\"h\",\"showlegend\":false,\"width\":0.9,\"x\":[18],\"y\":[71],\"type\":\"bar\"},{\"base\":18,\"hovertemplate\":\"&lt;AAAGAAGAAG&gt;3\\u003cextra\\u003e\\u003c\\u002fextra\\u003e\",\"marker\":{\"color\":\"#a6cee3\"},\"orientation\":\"h\",\"showlegend\":false,\"width\":0.9,\"x\":[30],\"y\":[71],\"type\":\"bar\"},{\"base\":48,\"hovertemplate\":\"&lt;AAG&gt;46\\u003cextra\\u003e\\u003c\\u002fextra\\u003e\",\"marker\":{\"color\":\"bisque\"},\"orientation\":\"h\",\"showlegend\":false,\"width\":0.9,\"x\":[138],\"y\":[71],\"type\":\"bar\"},{\"base\":189,\"hovertemplate\":\"EncodedSeq: &lt;AAG&gt;6&lt;AAAGAAGAAG&gt;3&lt;AAG&gt;46\\u003cbr\\u003eAllele count: 1\\u003cbr\\u003eFrequency: 0.11%\\u003cextra\\u003e\\u003c\\u002fextra\\u003e\",\"marker\":{\"color\":\"black\"},\"orientation\":\"h\",\"showlegend\":false,\"width\":0.6,\"x\":[6.0989010989010985],\"y\":[71],\"type\":\"bar\"},{\"base\":0,\"hovertemplate\":\"&lt;AAG&gt;14\\u003cextra\\u003e\\u003c\\u002fextra\\u003e\",\"marker\":{\"color\":\"bisque\"},\"orientation\":\"h\",\"showlegend\":false,\"width\":0.9,\"x\":[42],\"y\":[72],\"type\":\"bar\"},{\"base\":42,\"hovertemplate\":\"&lt;AAGAGG&gt;13\\u003cextra\\u003e\\u003c\\u002fextra\\u003e\",\"marker\":{\"color\":\"#b2df8a\"},\"orientation\":\"h\",\"showlegend\":false,\"width\":0.9,\"x\":[78],\"y\":[72],\"type\":\"bar\"},{\"base\":120,\"hovertemplate\":\"&lt;AAG&gt;21\\u003cextra\\u003e\\u003c\\u002fextra\\u003e\",\"marker\":{\"color\":\"bisque\"},\"orientation\":\"h\",\"showlegend\":false,\"width\":0.9,\"x\":[63],\"y\":[72],\"type\":\"bar\"},{\"base\":186,\"hovertemplate\":\"EncodedSeq: &lt;AAG&gt;14&lt;AAGAGG&gt;13&lt;AAG&gt;21\\u003cbr\\u003eAllele count: 1\\u003cbr\\u003eFrequency: 0.11%\\u003cextra\\u003e\\u003c\\u002fextra\\u003e\",\"marker\":{\"color\":\"black\"},\"orientation\":\"h\",\"showlegend\":false,\"width\":0.6,\"x\":[6.0989010989010985],\"y\":[72],\"type\":\"bar\"},{\"base\":0,\"hovertemplate\":\"&lt;AAG&gt;11\\u003cextra\\u003e\\u003c\\u002fextra\\u003e\",\"marker\":{\"color\":\"bisque\"},\"orientation\":\"h\",\"showlegend\":false,\"width\":0.9,\"x\":[33],\"y\":[73],\"type\":\"bar\"},{\"base\":33,\"hovertemplate\":\"&lt;AAGAGG&gt;15\\u003cextra\\u003e\\u003c\\u002fextra\\u003e\",\"marker\":{\"color\":\"#b2df8a\"},\"orientation\":\"h\",\"showlegend\":false,\"width\":0.9,\"x\":[90],\"y\":[73],\"type\":\"bar\"},{\"base\":123,\"hovertemplate\":\"&lt;AAG&gt;20\\u003cextra\\u003e\\u003c\\u002fextra\\u003e\",\"marker\":{\"color\":\"bisque\"},\"orientation\":\"h\",\"showlegend\":false,\"width\":0.9,\"x\":[60],\"y\":[73],\"type\":\"bar\"},{\"base\":186,\"hovertemplate\":\"EncodedSeq: &lt;AAG&gt;11&lt;AAGAGG&gt;15&lt;AAG&gt;20\\u003cbr\\u003eAllele count: 1\\u003cbr\\u003eFrequency: 0.11%\\u003cextra\\u003e\\u003c\\u002fextra\\u003e\",\"marker\":{\"color\":\"black\"},\"orientation\":\"h\",\"showlegend\":false,\"width\":0.6,\"x\":[6.0989010989010985],\"y\":[73],\"type\":\"bar\"},{\"base\":0,\"hovertemplate\":\"&lt;AAG&gt;16\\u003cextra\\u003e\\u003c\\u002fextra\\u003e\",\"marker\":{\"color\":\"bisque\"},\"orientation\":\"h\",\"showlegend\":false,\"width\":0.9,\"x\":[48],\"y\":[74],\"type\":\"bar\"},{\"base\":48,\"hovertemplate\":\"&lt;AAGAGG&gt;13\\u003cextra\\u003e\\u003c\\u002fextra\\u003e\",\"marker\":{\"color\":\"#b2df8a\"},\"orientation\":\"h\",\"showlegend\":false,\"width\":0.9,\"x\":[78],\"y\":[74],\"type\":\"bar\"},{\"base\":126,\"hovertemplate\":\"&lt;AAG&gt;19\\u003cextra\\u003e\\u003c\\u002fextra\\u003e\",\"marker\":{\"color\":\"bisque\"},\"orientation\":\"h\",\"showlegend\":false,\"width\":0.9,\"x\":[57],\"y\":[74],\"type\":\"bar\"},{\"base\":186,\"hovertemplate\":\"EncodedSeq: &lt;AAG&gt;16&lt;AAGAGG&gt;13&lt;AAG&gt;19\\u003cbr\\u003eAllele count: 1\\u003cbr\\u003eFrequency: 0.11%\\u003cextra\\u003e\\u003c\\u002fextra\\u003e\",\"marker\":{\"color\":\"black\"},\"orientation\":\"h\",\"showlegend\":false,\"width\":0.6,\"x\":[6.0989010989010985],\"y\":[74],\"type\":\"bar\"},{\"base\":0,\"hovertemplate\":\"&lt;AAG&gt;10\\u003cextra\\u003e\\u003c\\u002fextra\\u003e\",\"marker\":{\"color\":\"bisque\"},\"orientation\":\"h\",\"showlegend\":false,\"width\":0.9,\"x\":[30],\"y\":[75],\"type\":\"bar\"},{\"base\":30,\"hovertemplate\":\"&lt;AAGAGG&gt;13\\u003cextra\\u003e\\u003c\\u002fextra\\u003e\",\"marker\":{\"color\":\"#b2df8a\"},\"orientation\":\"h\",\"showlegend\":false,\"width\":0.9,\"x\":[78],\"y\":[75],\"type\":\"bar\"},{\"base\":108,\"hovertemplate\":\"&lt;AAG&gt;24\\u003cextra\\u003e\\u003c\\u002fextra\\u003e\",\"marker\":{\"color\":\"bisque\"},\"orientation\":\"h\",\"showlegend\":false,\"width\":0.9,\"x\":[72],\"y\":[75],\"type\":\"bar\"},{\"base\":183,\"hovertemplate\":\"EncodedSeq: &lt;AAG&gt;10&lt;AAGAGG&gt;13&lt;AAG&gt;24\\u003cbr\\u003eAllele count: 1\\u003cbr\\u003eFrequency: 0.11%\\u003cextra\\u003e\\u003c\\u002fextra\\u003e\",\"marker\":{\"color\":\"black\"},\"orientation\":\"h\",\"showlegend\":false,\"width\":0.6,\"x\":[6.0989010989010985],\"y\":[75],\"type\":\"bar\"},{\"base\":0,\"hovertemplate\":\"&lt;AAG&gt;8\\u003cextra\\u003e\\u003c\\u002fextra\\u003e\",\"marker\":{\"color\":\"bisque\"},\"orientation\":\"h\",\"showlegend\":false,\"width\":0.9,\"x\":[24],\"y\":[76],\"type\":\"bar\"},{\"base\":24,\"hovertemplate\":\"&lt;AAGAGG&gt;14\\u003cextra\\u003e\\u003c\\u002fextra\\u003e\",\"marker\":{\"color\":\"#b2df8a\"},\"orientation\":\"h\",\"showlegend\":false,\"width\":0.9,\"x\":[84],\"y\":[76],\"type\":\"bar\"},{\"base\":108,\"hovertemplate\":\"&lt;AAG&gt;23\\u003cextra\\u003e\\u003c\\u002fextra\\u003e\",\"marker\":{\"color\":\"bisque\"},\"orientation\":\"h\",\"showlegend\":false,\"width\":0.9,\"x\":[69],\"y\":[76],\"type\":\"bar\"},{\"base\":180,\"hovertemplate\":\"EncodedSeq: &lt;AAG&gt;8&lt;AAGAGG&gt;14&lt;AAG&gt;23\\u003cbr\\u003eAllele count: 1\\u003cbr\\u003eFrequency: 0.11%\\u003cextra\\u003e\\u003c\\u002fextra\\u003e\",\"marker\":{\"color\":\"black\"},\"orientation\":\"h\",\"showlegend\":false,\"width\":0.6,\"x\":[6.0989010989010985],\"y\":[76],\"type\":\"bar\"},{\"base\":0,\"hovertemplate\":\"&lt;AAG&gt;10\\u003cextra\\u003e\\u003c\\u002fextra\\u003e\",\"marker\":{\"color\":\"bisque\"},\"orientation\":\"h\",\"showlegend\":false,\"width\":0.9,\"x\":[30],\"y\":[77],\"type\":\"bar\"},{\"base\":30,\"hovertemplate\":\"&lt;AAGAGG&gt;15\\u003cextra\\u003e\\u003c\\u002fextra\\u003e\",\"marker\":{\"color\":\"#b2df8a\"},\"orientation\":\"h\",\"showlegend\":false,\"width\":0.9,\"x\":[90],\"y\":[77],\"type\":\"bar\"},{\"base\":120,\"hovertemplate\":\"&lt;AAG&gt;19\\u003cextra\\u003e\\u003c\\u002fextra\\u003e\",\"marker\":{\"color\":\"bisque\"},\"orientation\":\"h\",\"showlegend\":false,\"width\":0.9,\"x\":[57],\"y\":[77],\"type\":\"bar\"},{\"base\":180,\"hovertemplate\":\"EncodedSeq: &lt;AAG&gt;10&lt;AAGAGG&gt;15&lt;AAG&gt;19\\u003cbr\\u003eAllele count: 1\\u003cbr\\u003eFrequency: 0.11%\\u003cextra\\u003e\\u003c\\u002fextra\\u003e\",\"marker\":{\"color\":\"black\"},\"orientation\":\"h\",\"showlegend\":false,\"width\":0.6,\"x\":[6.0989010989010985],\"y\":[77],\"type\":\"bar\"},{\"base\":0,\"hovertemplate\":\"&lt;AAG&gt;10\\u003cextra\\u003e\\u003c\\u002fextra\\u003e\",\"marker\":{\"color\":\"bisque\"},\"orientation\":\"h\",\"showlegend\":false,\"width\":0.9,\"x\":[30],\"y\":[78],\"type\":\"bar\"},{\"base\":30,\"hovertemplate\":\"&lt;AAGAGG&gt;14\\u003cextra\\u003e\\u003c\\u002fextra\\u003e\",\"marker\":{\"color\":\"#b2df8a\"},\"orientation\":\"h\",\"showlegend\":false,\"width\":0.9,\"x\":[84],\"y\":[78],\"type\":\"bar\"},{\"base\":114,\"hovertemplate\":\"&lt;AAG&gt;20\\u003cextra\\u003e\\u003c\\u002fextra\\u003e\",\"marker\":{\"color\":\"bisque\"},\"orientation\":\"h\",\"showlegend\":false,\"width\":0.9,\"x\":[60],\"y\":[78],\"type\":\"bar\"},{\"base\":177,\"hovertemplate\":\"EncodedSeq: &lt;AAG&gt;10&lt;AAGAGG&gt;14&lt;AAG&gt;20\\u003cbr\\u003eAllele count: 1\\u003cbr\\u003eFrequency: 0.11%\\u003cextra\\u003e\\u003c\\u002fextra\\u003e\",\"marker\":{\"color\":\"black\"},\"orientation\":\"h\",\"showlegend\":false,\"width\":0.6,\"x\":[6.0989010989010985],\"y\":[78],\"type\":\"bar\"},{\"base\":0,\"hovertemplate\":\"&lt;AAG&gt;12\\u003cextra\\u003e\\u003c\\u002fextra\\u003e\",\"marker\":{\"color\":\"bisque\"},\"orientation\":\"h\",\"showlegend\":false,\"width\":0.9,\"x\":[36],\"y\":[79],\"type\":\"bar\"},{\"base\":36,\"hovertemplate\":\"&lt;AAGAGG&gt;14\\u003cextra\\u003e\\u003c\\u002fextra\\u003e\",\"marker\":{\"color\":\"#b2df8a\"},\"orientation\":\"h\",\"showlegend\":false,\"width\":0.9,\"x\":[84],\"y\":[79],\"type\":\"bar\"},{\"base\":120,\"hovertemplate\":\"&lt;AAG&gt;18\\u003cextra\\u003e\\u003c\\u002fextra\\u003e\",\"marker\":{\"color\":\"bisque\"},\"orientation\":\"h\",\"showlegend\":false,\"width\":0.9,\"x\":[54],\"y\":[79],\"type\":\"bar\"},{\"base\":177,\"hovertemplate\":\"EncodedSeq: &lt;AAG&gt;12&lt;AAGAGG&gt;14&lt;AAG&gt;18\\u003cbr\\u003eAllele count: 1\\u003cbr\\u003eFrequency: 0.11%\\u003cextra\\u003e\\u003c\\u002fextra\\u003e\",\"marker\":{\"color\":\"black\"},\"orientation\":\"h\",\"showlegend\":false,\"width\":0.6,\"x\":[6.0989010989010985],\"y\":[79],\"type\":\"bar\"},{\"base\":0,\"hovertemplate\":\"&lt;AAG&gt;10\\u003cextra\\u003e\\u003c\\u002fextra\\u003e\",\"marker\":{\"color\":\"bisque\"},\"orientation\":\"h\",\"showlegend\":false,\"width\":0.9,\"x\":[30],\"y\":[80],\"type\":\"bar\"},{\"base\":30,\"hovertemplate\":\"&lt;AAGAGG&gt;13\\u003cextra\\u003e\\u003c\\u002fextra\\u003e\",\"marker\":{\"color\":\"#b2df8a\"},\"orientation\":\"h\",\"showlegend\":false,\"width\":0.9,\"x\":[78],\"y\":[80],\"type\":\"bar\"},{\"base\":108,\"hovertemplate\":\"&lt;AAG&gt;22\\u003cextra\\u003e\\u003c\\u002fextra\\u003e\",\"marker\":{\"color\":\"bisque\"},\"orientation\":\"h\",\"showlegend\":false,\"width\":0.9,\"x\":[66],\"y\":[80],\"type\":\"bar\"},{\"base\":177,\"hovertemplate\":\"EncodedSeq: &lt;AAG&gt;10&lt;AAGAGG&gt;13&lt;AAG&gt;22\\u003cbr\\u003eAllele count: 1\\u003cbr\\u003eFrequency: 0.11%\\u003cextra\\u003e\\u003c\\u002fextra\\u003e\",\"marker\":{\"color\":\"black\"},\"orientation\":\"h\",\"showlegend\":false,\"width\":0.6,\"x\":[6.0989010989010985],\"y\":[80],\"type\":\"bar\"},{\"base\":0,\"hovertemplate\":\"&lt;AAG&gt;14\\u003cextra\\u003e\\u003c\\u002fextra\\u003e\",\"marker\":{\"color\":\"bisque\"},\"orientation\":\"h\",\"showlegend\":false,\"width\":0.9,\"x\":[42],\"y\":[81],\"type\":\"bar\"},{\"base\":42,\"hovertemplate\":\"&lt;AAGAGG&gt;11\\u003cextra\\u003e\\u003c\\u002fextra\\u003e\",\"marker\":{\"color\":\"#b2df8a\"},\"orientation\":\"h\",\"showlegend\":false,\"width\":0.9,\"x\":[66],\"y\":[81],\"type\":\"bar\"},{\"base\":108,\"hovertemplate\":\"&lt;AAG&gt;22\\u003cextra\\u003e\\u003c\\u002fextra\\u003e\",\"marker\":{\"color\":\"bisque\"},\"orientation\":\"h\",\"showlegend\":false,\"width\":0.9,\"x\":[66],\"y\":[81],\"type\":\"bar\"},{\"base\":177,\"hovertemplate\":\"EncodedSeq: &lt;AAG&gt;14&lt;AAGAGG&gt;11&lt;AAG&gt;22\\u003cbr\\u003eAllele count: 1\\u003cbr\\u003eFrequency: 0.11%\\u003cextra\\u003e\\u003c\\u002fextra\\u003e\",\"marker\":{\"color\":\"black\"},\"orientation\":\"h\",\"showlegend\":false,\"width\":0.6,\"x\":[6.0989010989010985],\"y\":[81],\"type\":\"bar\"},{\"base\":0,\"hovertemplate\":\"&lt;AAG&gt;12\\u003cextra\\u003e\\u003c\\u002fextra\\u003e\",\"marker\":{\"color\":\"bisque\"},\"orientation\":\"h\",\"showlegend\":false,\"width\":0.9,\"x\":[36],\"y\":[82],\"type\":\"bar\"},{\"base\":36,\"hovertemplate\":\"&lt;AAGAGG&gt;12\\u003cextra\\u003e\\u003c\\u002fextra\\u003e\",\"marker\":{\"color\":\"#b2df8a\"},\"orientation\":\"h\",\"showlegend\":false,\"width\":0.9,\"x\":[72],\"y\":[82],\"type\":\"bar\"},{\"base\":108,\"hovertemplate\":\"&lt;AAG&gt;21\\u003cextra\\u003e\\u003c\\u002fextra\\u003e\",\"marker\":{\"color\":\"bisque\"},\"orientation\":\"h\",\"showlegend\":false,\"width\":0.9,\"x\":[63],\"y\":[82],\"type\":\"bar\"},{\"base\":174,\"hovertemplate\":\"EncodedSeq: &lt;AAG&gt;12&lt;AAGAGG&gt;12&lt;AAG&gt;21\\u003cbr\\u003eAllele count: 1\\u003cbr\\u003eFrequency: 0.11%\\u003cextra\\u003e\\u003c\\u002fextra\\u003e\",\"marker\":{\"color\":\"black\"},\"orientation\":\"h\",\"showlegend\":false,\"width\":0.6,\"x\":[6.0989010989010985],\"y\":[82],\"type\":\"bar\"},{\"base\":0,\"hovertemplate\":\"&lt;AAG&gt;10\\u003cextra\\u003e\\u003c\\u002fextra\\u003e\",\"marker\":{\"color\":\"bisque\"},\"orientation\":\"h\",\"showlegend\":false,\"width\":0.9,\"x\":[30],\"y\":[83],\"type\":\"bar\"},{\"base\":30,\"hovertemplate\":\"&lt;AAGAGG&gt;13\\u003cextra\\u003e\\u003c\\u002fextra\\u003e\",\"marker\":{\"color\":\"#b2df8a\"},\"orientation\":\"h\",\"showlegend\":false,\"width\":0.9,\"x\":[78],\"y\":[83],\"type\":\"bar\"},{\"base\":108,\"hovertemplate\":\"&lt;AAG&gt;21\\u003cextra\\u003e\\u003c\\u002fextra\\u003e\",\"marker\":{\"color\":\"bisque\"},\"orientation\":\"h\",\"showlegend\":false,\"width\":0.9,\"x\":[63],\"y\":[83],\"type\":\"bar\"},{\"base\":174,\"hovertemplate\":\"EncodedSeq: &lt;AAG&gt;10&lt;AAGAGG&gt;13&lt;AAG&gt;21\\u003cbr\\u003eAllele count: 1\\u003cbr\\u003eFrequency: 0.11%\\u003cextra\\u003e\\u003c\\u002fextra\\u003e\",\"marker\":{\"color\":\"black\"},\"orientation\":\"h\",\"showlegend\":false,\"width\":0.6,\"x\":[6.0989010989010985],\"y\":[83],\"type\":\"bar\"},{\"base\":0,\"hovertemplate\":\"&lt;AAG&gt;10\\u003cextra\\u003e\\u003c\\u002fextra\\u003e\",\"marker\":{\"color\":\"bisque\"},\"orientation\":\"h\",\"showlegend\":false,\"width\":0.9,\"x\":[30],\"y\":[84],\"type\":\"bar\"},{\"base\":30,\"hovertemplate\":\"&lt;AAGAGG&gt;13\\u003cextra\\u003e\\u003c\\u002fextra\\u003e\",\"marker\":{\"color\":\"#b2df8a\"},\"orientation\":\"h\",\"showlegend\":false,\"width\":0.9,\"x\":[78],\"y\":[84],\"type\":\"bar\"},{\"base\":108,\"hovertemplate\":\"&lt;AAG&gt;20\\u003cextra\\u003e\\u003c\\u002fextra\\u003e\",\"marker\":{\"color\":\"bisque\"},\"orientation\":\"h\",\"showlegend\":false,\"width\":0.9,\"x\":[60],\"y\":[84],\"type\":\"bar\"},{\"base\":171,\"hovertemplate\":\"EncodedSeq: &lt;AAG&gt;10&lt;AAGAGG&gt;13&lt;AAG&gt;20\\u003cbr\\u003eAllele count: 2\\u003cbr\\u003eFrequency: 0.22%\\u003cextra\\u003e\\u003c\\u002fextra\\u003e\",\"marker\":{\"color\":\"black\"},\"orientation\":\"h\",\"showlegend\":false,\"width\":0.6,\"x\":[7.197802197802198],\"y\":[84],\"type\":\"bar\"},{\"base\":0,\"hovertemplate\":\"&lt;AAG&gt;3\\u003cextra\\u003e\\u003c\\u002fextra\\u003e\",\"marker\":{\"color\":\"bisque\"},\"orientation\":\"h\",\"showlegend\":false,\"width\":0.9,\"x\":[9],\"y\":[85],\"type\":\"bar\"},{\"base\":9,\"hovertemplate\":\"&lt;A&gt;1\\u003cextra\\u003e\\u003c\\u002fextra\\u003e\",\"marker\":{\"color\":\"#1f78b4\"},\"orientation\":\"h\",\"showlegend\":false,\"width\":0.9,\"x\":[1],\"y\":[85],\"type\":\"bar\"},{\"base\":10,\"hovertemplate\":\"&lt;AAAGAAGAAG&gt;4\\u003cextra\\u003e\\u003c\\u002fextra\\u003e\",\"marker\":{\"color\":\"#a6cee3\"},\"orientation\":\"h\",\"showlegend\":false,\"width\":0.9,\"x\":[40],\"y\":[85],\"type\":\"bar\"},{\"base\":50,\"hovertemplate\":\"&lt;G&gt;1\\u003cextra\\u003e\\u003c\\u002fextra\\u003e\",\"marker\":{\"color\":\"#ccebc5\"},\"orientation\":\"h\",\"showlegend\":false,\"width\":0.9,\"x\":[1],\"y\":[85],\"type\":\"bar\"},{\"base\":51,\"hovertemplate\":\"&lt;AAG&gt;39\\u003cextra\\u003e\\u003c\\u002fextra\\u003e\",\"marker\":{\"color\":\"bisque\"},\"orientation\":\"h\",\"showlegend\":false,\"width\":0.9,\"x\":[117],\"y\":[85],\"type\":\"bar\"},{\"base\":171,\"hovertemplate\":\"EncodedSeq: &lt;AAG&gt;3&lt;A&gt;1&lt;AAAGAAGAAG&gt;4&lt;G&gt;1&lt;AAG&gt;39\\u003cbr\\u003eAllele count: 1\\u003cbr\\u003eFrequency: 0.11%\\u003cextra\\u003e\\u003c\\u002fextra\\u003e\",\"marker\":{\"color\":\"black\"},\"orientation\":\"h\",\"showlegend\":false,\"width\":0.6,\"x\":[6.0989010989010985],\"y\":[85],\"type\":\"bar\"},{\"base\":0,\"hovertemplate\":\"&lt;AAG&gt;25\\u003cextra\\u003e\\u003c\\u002fextra\\u003e\",\"marker\":{\"color\":\"bisque\"},\"orientation\":\"h\",\"showlegend\":false,\"width\":0.9,\"x\":[75],\"y\":[86],\"type\":\"bar\"},{\"base\":75,\"hovertemplate\":\"&lt;GAG&gt;1\\u003cextra\\u003e\\u003c\\u002fextra\\u003e\",\"marker\":{\"color\":\"#33a02c\"},\"orientation\":\"h\",\"showlegend\":false,\"width\":0.9,\"x\":[3],\"y\":[86],\"type\":\"bar\"},{\"base\":78,\"hovertemplate\":\"&lt;AAG&gt;29\\u003cextra\\u003e\\u003c\\u002fextra\\u003e\",\"marker\":{\"color\":\"bisque\"},\"orientation\":\"h\",\"showlegend\":false,\"width\":0.9,\"x\":[87],\"y\":[86],\"type\":\"bar\"},{\"base\":168,\"hovertemplate\":\"EncodedSeq: &lt;AAG&gt;25&lt;GAG&gt;1&lt;AAG&gt;29\\u003cbr\\u003eAllele count: 1\\u003cbr\\u003eFrequency: 0.11%\\u003cextra\\u003e\\u003c\\u002fextra\\u003e\",\"marker\":{\"color\":\"black\"},\"orientation\":\"h\",\"showlegend\":false,\"width\":0.6,\"x\":[6.0989010989010985],\"y\":[86],\"type\":\"bar\"},{\"base\":0,\"hovertemplate\":\"&lt;AAG&gt;10\\u003cextra\\u003e\\u003c\\u002fextra\\u003e\",\"marker\":{\"color\":\"bisque\"},\"orientation\":\"h\",\"showlegend\":false,\"width\":0.9,\"x\":[30],\"y\":[87],\"type\":\"bar\"},{\"base\":30,\"hovertemplate\":\"&lt;AAGAGG&gt;13\\u003cextra\\u003e\\u003c\\u002fextra\\u003e\",\"marker\":{\"color\":\"#b2df8a\"},\"orientation\":\"h\",\"showlegend\":false,\"width\":0.9,\"x\":[78],\"y\":[87],\"type\":\"bar\"},{\"base\":108,\"hovertemplate\":\"&lt;AAG&gt;19\\u003cextra\\u003e\\u003c\\u002fextra\\u003e\",\"marker\":{\"color\":\"bisque\"},\"orientation\":\"h\",\"showlegend\":false,\"width\":0.9,\"x\":[57],\"y\":[87],\"type\":\"bar\"},{\"base\":168,\"hovertemplate\":\"EncodedSeq: &lt;AAG&gt;10&lt;AAGAGG&gt;13&lt;AAG&gt;19\\u003cbr\\u003eAllele count: 1\\u003cbr\\u003eFrequency: 0.11%\\u003cextra\\u003e\\u003c\\u002fextra\\u003e\",\"marker\":{\"color\":\"black\"},\"orientation\":\"h\",\"showlegend\":false,\"width\":0.6,\"x\":[6.0989010989010985],\"y\":[87],\"type\":\"bar\"},{\"base\":0,\"hovertemplate\":\"&lt;AAG&gt;10\\u003cextra\\u003e\\u003c\\u002fextra\\u003e\",\"marker\":{\"color\":\"bisque\"},\"orientation\":\"h\",\"showlegend\":false,\"width\":0.9,\"x\":[30],\"y\":[88],\"type\":\"bar\"},{\"base\":30,\"hovertemplate\":\"&lt;AAGAGG&gt;12\\u003cextra\\u003e\\u003c\\u002fextra\\u003e\",\"marker\":{\"color\":\"#b2df8a\"},\"orientation\":\"h\",\"showlegend\":false,\"width\":0.9,\"x\":[72],\"y\":[88],\"type\":\"bar\"},{\"base\":102,\"hovertemplate\":\"&lt;AAG&gt;20\\u003cextra\\u003e\\u003c\\u002fextra\\u003e\",\"marker\":{\"color\":\"bisque\"},\"orientation\":\"h\",\"showlegend\":false,\"width\":0.9,\"x\":[60],\"y\":[88],\"type\":\"bar\"},{\"base\":165,\"hovertemplate\":\"EncodedSeq: &lt;AAG&gt;10&lt;AAGAGG&gt;12&lt;AAG&gt;20\\u003cbr\\u003eAllele count: 3\\u003cbr\\u003eFrequency: 0.33%\\u003cextra\\u003e\\u003c\\u002fextra\\u003e\",\"marker\":{\"color\":\"black\"},\"orientation\":\"h\",\"showlegend\":false,\"width\":0.6,\"x\":[8.296703296703297],\"y\":[88],\"type\":\"bar\"},{\"base\":0,\"hovertemplate\":\"&lt;AAG&gt;10\\u003cextra\\u003e\\u003c\\u002fextra\\u003e\",\"marker\":{\"color\":\"bisque\"},\"orientation\":\"h\",\"showlegend\":false,\"width\":0.9,\"x\":[30],\"y\":[89],\"type\":\"bar\"},{\"base\":30,\"hovertemplate\":\"&lt;AAGAGG&gt;11\\u003cextra\\u003e\\u003c\\u002fextra\\u003e\",\"marker\":{\"color\":\"#b2df8a\"},\"orientation\":\"h\",\"showlegend\":false,\"width\":0.9,\"x\":[66],\"y\":[89],\"type\":\"bar\"},{\"base\":96,\"hovertemplate\":\"&lt;AAG&gt;22\\u003cextra\\u003e\\u003c\\u002fextra\\u003e\",\"marker\":{\"color\":\"bisque\"},\"orientation\":\"h\",\"showlegend\":false,\"width\":0.9,\"x\":[66],\"y\":[89],\"type\":\"bar\"},{\"base\":165,\"hovertemplate\":\"EncodedSeq: &lt;AAG&gt;10&lt;AAGAGG&gt;11&lt;AAG&gt;22\\u003cbr\\u003eAllele count: 1\\u003cbr\\u003eFrequency: 0.11%\\u003cextra\\u003e\\u003c\\u002fextra\\u003e\",\"marker\":{\"color\":\"black\"},\"orientation\":\"h\",\"showlegend\":false,\"width\":0.6,\"x\":[6.0989010989010985],\"y\":[89],\"type\":\"bar\"},{\"base\":0,\"hovertemplate\":\"&lt;AAG&gt;4\\u003cextra\\u003e\\u003c\\u002fextra\\u003e\",\"marker\":{\"color\":\"bisque\"},\"orientation\":\"h\",\"showlegend\":false,\"width\":0.9,\"x\":[12],\"y\":[90],\"type\":\"bar\"},{\"base\":12,\"hovertemplate\":\"&lt;A&gt;1\\u003cextra\\u003e\\u003c\\u002fextra\\u003e\",\"marker\":{\"color\":\"#1f78b4\"},\"orientation\":\"h\",\"showlegend\":false,\"width\":0.9,\"x\":[1],\"y\":[90],\"type\":\"bar\"},{\"base\":13,\"hovertemplate\":\"&lt;AAG&gt;49\\u003cextra\\u003e\\u003c\\u002fextra\\u003e\",\"marker\":{\"color\":\"bisque\"},\"orientation\":\"h\",\"showlegend\":false,\"width\":0.9,\"x\":[147],\"y\":[90],\"type\":\"bar\"},{\"base\":163,\"hovertemplate\":\"EncodedSeq: &lt;AAG&gt;4&lt;A&gt;1&lt;AAG&gt;49\\u003cbr\\u003eAllele count: 1\\u003cbr\\u003eFrequency: 0.11%\\u003cextra\\u003e\\u003c\\u002fextra\\u003e\",\"marker\":{\"color\":\"black\"},\"orientation\":\"h\",\"showlegend\":false,\"width\":0.6,\"x\":[6.0989010989010985],\"y\":[90],\"type\":\"bar\"},{\"base\":0,\"hovertemplate\":\"&lt;AAG&gt;26\\u003cextra\\u003e\\u003c\\u002fextra\\u003e\",\"marker\":{\"color\":\"bisque\"},\"orientation\":\"h\",\"showlegend\":false,\"width\":0.9,\"x\":[78],\"y\":[91],\"type\":\"bar\"},{\"base\":78,\"hovertemplate\":\"&lt;GAG&gt;1\\u003cextra\\u003e\\u003c\\u002fextra\\u003e\",\"marker\":{\"color\":\"#33a02c\"},\"orientation\":\"h\",\"showlegend\":false,\"width\":0.9,\"x\":[3],\"y\":[91],\"type\":\"bar\"},{\"base\":81,\"hovertemplate\":\"&lt;AAG&gt;26\\u003cextra\\u003e\\u003c\\u002fextra\\u003e\",\"marker\":{\"color\":\"bisque\"},\"orientation\":\"h\",\"showlegend\":false,\"width\":0.9,\"x\":[78],\"y\":[91],\"type\":\"bar\"},{\"base\":162,\"hovertemplate\":\"EncodedSeq: &lt;AAG&gt;26&lt;GAG&gt;1&lt;AAG&gt;26\\u003cbr\\u003eAllele count: 1\\u003cbr\\u003eFrequency: 0.11%\\u003cextra\\u003e\\u003c\\u002fextra\\u003e\",\"marker\":{\"color\":\"black\"},\"orientation\":\"h\",\"showlegend\":false,\"width\":0.6,\"x\":[6.0989010989010985],\"y\":[91],\"type\":\"bar\"},{\"base\":0,\"hovertemplate\":\"&lt;AAG&gt;26\\u003cextra\\u003e\\u003c\\u002fextra\\u003e\",\"marker\":{\"color\":\"bisque\"},\"orientation\":\"h\",\"showlegend\":false,\"width\":0.9,\"x\":[78],\"y\":[92],\"type\":\"bar\"},{\"base\":78,\"hovertemplate\":\"&lt;AGG&gt;1\\u003cextra\\u003e\\u003c\\u002fextra\\u003e\",\"marker\":{\"color\":\"#ff7f00\"},\"orientation\":\"h\",\"showlegend\":false,\"width\":0.9,\"x\":[3],\"y\":[92],\"type\":\"bar\"},{\"base\":81,\"hovertemplate\":\"&lt;AAG&gt;25\\u003cextra\\u003e\\u003c\\u002fextra\\u003e\",\"marker\":{\"color\":\"bisque\"},\"orientation\":\"h\",\"showlegend\":false,\"width\":0.9,\"x\":[75],\"y\":[92],\"type\":\"bar\"},{\"base\":159,\"hovertemplate\":\"EncodedSeq: &lt;AAG&gt;26&lt;AGG&gt;1&lt;AAG&gt;25\\u003cbr\\u003eAllele count: 1\\u003cbr\\u003eFrequency: 0.11%\\u003cextra\\u003e\\u003c\\u002fextra\\u003e\",\"marker\":{\"color\":\"black\"},\"orientation\":\"h\",\"showlegend\":false,\"width\":0.6,\"x\":[6.0989010989010985],\"y\":[92],\"type\":\"bar\"},{\"base\":0,\"hovertemplate\":\"&lt;AAG&gt;10\\u003cextra\\u003e\\u003c\\u002fextra\\u003e\",\"marker\":{\"color\":\"bisque\"},\"orientation\":\"h\",\"showlegend\":false,\"width\":0.9,\"x\":[30],\"y\":[93],\"type\":\"bar\"},{\"base\":30,\"hovertemplate\":\"&lt;AAGAGG&gt;11\\u003cextra\\u003e\\u003c\\u002fextra\\u003e\",\"marker\":{\"color\":\"#b2df8a\"},\"orientation\":\"h\",\"showlegend\":false,\"width\":0.9,\"x\":[66],\"y\":[93],\"type\":\"bar\"},{\"base\":96,\"hovertemplate\":\"&lt;AAG&gt;20\\u003cextra\\u003e\\u003c\\u002fextra\\u003e\",\"marker\":{\"color\":\"bisque\"},\"orientation\":\"h\",\"showlegend\":false,\"width\":0.9,\"x\":[60],\"y\":[93],\"type\":\"bar\"},{\"base\":159,\"hovertemplate\":\"EncodedSeq: &lt;AAG&gt;10&lt;AAGAGG&gt;11&lt;AAG&gt;20\\u003cbr\\u003eAllele count: 1\\u003cbr\\u003eFrequency: 0.11%\\u003cextra\\u003e\\u003c\\u002fextra\\u003e\",\"marker\":{\"color\":\"black\"},\"orientation\":\"h\",\"showlegend\":false,\"width\":0.6,\"x\":[6.0989010989010985],\"y\":[93],\"type\":\"bar\"},{\"base\":0,\"hovertemplate\":\"&lt;AAG&gt;2\\u003cextra\\u003e\\u003c\\u002fextra\\u003e\",\"marker\":{\"color\":\"bisque\"},\"orientation\":\"h\",\"showlegend\":false,\"width\":0.9,\"x\":[6],\"y\":[94],\"type\":\"bar\"},{\"base\":6,\"hovertemplate\":\"&lt;A&gt;1\\u003cextra\\u003e\\u003c\\u002fextra\\u003e\",\"marker\":{\"color\":\"#1f78b4\"},\"orientation\":\"h\",\"showlegend\":false,\"width\":0.9,\"x\":[1],\"y\":[94],\"type\":\"bar\"},{\"base\":7,\"hovertemplate\":\"&lt;AAG&gt;2\\u003cextra\\u003e\\u003c\\u002fextra\\u003e\",\"marker\":{\"color\":\"bisque\"},\"orientation\":\"h\",\"showlegend\":false,\"width\":0.9,\"x\":[6],\"y\":[94],\"type\":\"bar\"},{\"base\":13,\"hovertemplate\":\"&lt;G&gt;1\\u003cextra\\u003e\\u003c\\u002fextra\\u003e\",\"marker\":{\"color\":\"#ccebc5\"},\"orientation\":\"h\",\"showlegend\":false,\"width\":0.9,\"x\":[1],\"y\":[94],\"type\":\"bar\"},{\"base\":14,\"hovertemplate\":\"&lt;AAG&gt;46\\u003cextra\\u003e\\u003c\\u002fextra\\u003e\",\"marker\":{\"color\":\"bisque\"},\"orientation\":\"h\",\"showlegend\":false,\"width\":0.9,\"x\":[138],\"y\":[94],\"type\":\"bar\"},{\"base\":155,\"hovertemplate\":\"EncodedSeq: &lt;AAG&gt;2&lt;A&gt;1&lt;AAG&gt;2&lt;G&gt;1&lt;AAG&gt;46\\u003cbr\\u003eAllele count: 1\\u003cbr\\u003eFrequency: 0.11%\\u003cextra\\u003e\\u003c\\u002fextra\\u003e\",\"marker\":{\"color\":\"black\"},\"orientation\":\"h\",\"showlegend\":false,\"width\":0.6,\"x\":[6.0989010989010985],\"y\":[94],\"type\":\"bar\"},{\"base\":0,\"hovertemplate\":\"&lt;AAG&gt;25\\u003cextra\\u003e\\u003c\\u002fextra\\u003e\",\"marker\":{\"color\":\"bisque\"},\"orientation\":\"h\",\"showlegend\":false,\"width\":0.9,\"x\":[75],\"y\":[95],\"type\":\"bar\"},{\"base\":75,\"hovertemplate\":\"&lt;AG&gt;1\\u003cextra\\u003e\\u003c\\u002fextra\\u003e\",\"marker\":{\"color\":\"#8dd3c7\"},\"orientation\":\"h\",\"showlegend\":false,\"width\":0.9,\"x\":[2],\"y\":[95],\"type\":\"bar\"},{\"base\":77,\"hovertemplate\":\"&lt;AAG&gt;25\\u003cextra\\u003e\\u003c\\u002fextra\\u003e\",\"marker\":{\"color\":\"bisque\"},\"orientation\":\"h\",\"showlegend\":false,\"width\":0.9,\"x\":[75],\"y\":[95],\"type\":\"bar\"},{\"base\":155,\"hovertemplate\":\"EncodedSeq: &lt;AAG&gt;25&lt;AG&gt;1&lt;AAG&gt;25\\u003cbr\\u003eAllele count: 1\\u003cbr\\u003eFrequency: 0.11%\\u003cextra\\u003e\\u003c\\u002fextra\\u003e\",\"marker\":{\"color\":\"black\"},\"orientation\":\"h\",\"showlegend\":false,\"width\":0.6,\"x\":[6.0989010989010985],\"y\":[95],\"type\":\"bar\"},{\"base\":0,\"hovertemplate\":\"&lt;AAG&gt;2\\u003cextra\\u003e\\u003c\\u002fextra\\u003e\",\"marker\":{\"color\":\"bisque\"},\"orientation\":\"h\",\"showlegend\":false,\"width\":0.9,\"x\":[6],\"y\":[96],\"type\":\"bar\"},{\"base\":6,\"hovertemplate\":\"&lt;A&gt;1\\u003cextra\\u003e\\u003c\\u002fextra\\u003e\",\"marker\":{\"color\":\"#1f78b4\"},\"orientation\":\"h\",\"showlegend\":false,\"width\":0.9,\"x\":[1],\"y\":[96],\"type\":\"bar\"},{\"base\":7,\"hovertemplate\":\"&lt;AAG&gt;2\\u003cextra\\u003e\\u003c\\u002fextra\\u003e\",\"marker\":{\"color\":\"bisque\"},\"orientation\":\"h\",\"showlegend\":false,\"width\":0.9,\"x\":[6],\"y\":[96],\"type\":\"bar\"},{\"base\":13,\"hovertemplate\":\"&lt;G&gt;1\\u003cextra\\u003e\\u003c\\u002fextra\\u003e\",\"marker\":{\"color\":\"#ccebc5\"},\"orientation\":\"h\",\"showlegend\":false,\"width\":0.9,\"x\":[1],\"y\":[96],\"type\":\"bar\"},{\"base\":14,\"hovertemplate\":\"&lt;AAG&gt;27\\u003cextra\\u003e\\u003c\\u002fextra\\u003e\",\"marker\":{\"color\":\"bisque\"},\"orientation\":\"h\",\"showlegend\":false,\"width\":0.9,\"x\":[81],\"y\":[96],\"type\":\"bar\"},{\"base\":95,\"hovertemplate\":\"&lt;AGG&gt;1\\u003cextra\\u003e\\u003c\\u002fextra\\u003e\",\"marker\":{\"color\":\"#ff7f00\"},\"orientation\":\"h\",\"showlegend\":false,\"width\":0.9,\"x\":[3],\"y\":[96],\"type\":\"bar\"},{\"base\":98,\"hovertemplate\":\"&lt;AAG&gt;18\\u003cextra\\u003e\\u003c\\u002fextra\\u003e\",\"marker\":{\"color\":\"bisque\"},\"orientation\":\"h\",\"showlegend\":false,\"width\":0.9,\"x\":[54],\"y\":[96],\"type\":\"bar\"},{\"base\":155,\"hovertemplate\":\"EncodedSeq: &lt;AAG&gt;2&lt;A&gt;1&lt;AAG&gt;2&lt;G&gt;1&lt;AAG&gt;27&lt;AGG&gt;1&lt;AAG&gt;18\\u003cbr\\u003eAllele count: 1\\u003cbr\\u003eFrequency: 0.11%\\u003cextra\\u003e\\u003c\\u002fextra\\u003e\",\"marker\":{\"color\":\"black\"},\"orientation\":\"h\",\"showlegend\":false,\"width\":0.6,\"x\":[6.0989010989010985],\"y\":[96],\"type\":\"bar\"},{\"base\":0,\"hovertemplate\":\"&lt;AAG&gt;10\\u003cextra\\u003e\\u003c\\u002fextra\\u003e\",\"marker\":{\"color\":\"bisque\"},\"orientation\":\"h\",\"showlegend\":false,\"width\":0.9,\"x\":[30],\"y\":[97],\"type\":\"bar\"},{\"base\":30,\"hovertemplate\":\"&lt;AAGAGG&gt;10\\u003cextra\\u003e\\u003c\\u002fextra\\u003e\",\"marker\":{\"color\":\"#b2df8a\"},\"orientation\":\"h\",\"showlegend\":false,\"width\":0.9,\"x\":[60],\"y\":[97],\"type\":\"bar\"},{\"base\":90,\"hovertemplate\":\"&lt;AAG&gt;20\\u003cextra\\u003e\\u003c\\u002fextra\\u003e\",\"marker\":{\"color\":\"bisque\"},\"orientation\":\"h\",\"showlegend\":false,\"width\":0.9,\"x\":[60],\"y\":[97],\"type\":\"bar\"},{\"base\":153,\"hovertemplate\":\"EncodedSeq: &lt;AAG&gt;10&lt;AAGAGG&gt;10&lt;AAG&gt;20\\u003cbr\\u003eAllele count: 1\\u003cbr\\u003eFrequency: 0.11%\\u003cextra\\u003e\\u003c\\u002fextra\\u003e\",\"marker\":{\"color\":\"black\"},\"orientation\":\"h\",\"showlegend\":false,\"width\":0.6,\"x\":[6.0989010989010985],\"y\":[97],\"type\":\"bar\"},{\"base\":0,\"hovertemplate\":\"&lt;AAG&gt;6\\u003cextra\\u003e\\u003c\\u002fextra\\u003e\",\"marker\":{\"color\":\"bisque\"},\"orientation\":\"h\",\"showlegend\":false,\"width\":0.9,\"x\":[18],\"y\":[98],\"type\":\"bar\"},{\"base\":18,\"hovertemplate\":\"&lt;AAAGAAGAAG&gt;5\\u003cextra\\u003e\\u003c\\u002fextra\\u003e\",\"marker\":{\"color\":\"#a6cee3\"},\"orientation\":\"h\",\"showlegend\":false,\"width\":0.9,\"x\":[50],\"y\":[98],\"type\":\"bar\"},{\"base\":68,\"hovertemplate\":\"&lt;AAG&gt;27\\u003cextra\\u003e\\u003c\\u002fextra\\u003e\",\"marker\":{\"color\":\"bisque\"},\"orientation\":\"h\",\"showlegend\":false,\"width\":0.9,\"x\":[81],\"y\":[98],\"type\":\"bar\"},{\"base\":152,\"hovertemplate\":\"EncodedSeq: &lt;AAG&gt;6&lt;AAAGAAGAAG&gt;5&lt;AAG&gt;27\\u003cbr\\u003eAllele count: 1\\u003cbr\\u003eFrequency: 0.11%\\u003cextra\\u003e\\u003c\\u002fextra\\u003e\",\"marker\":{\"color\":\"black\"},\"orientation\":\"h\",\"showlegend\":false,\"width\":0.6,\"x\":[6.0989010989010985],\"y\":[98],\"type\":\"bar\"},{\"base\":0,\"hovertemplate\":\"&lt;AAG&gt;23\\u003cextra\\u003e\\u003c\\u002fextra\\u003e\",\"marker\":{\"color\":\"bisque\"},\"orientation\":\"h\",\"showlegend\":false,\"width\":0.9,\"x\":[69],\"y\":[99],\"type\":\"bar\"},{\"base\":69,\"hovertemplate\":\"&lt;GAG&gt;1\\u003cextra\\u003e\\u003c\\u002fextra\\u003e\",\"marker\":{\"color\":\"#33a02c\"},\"orientation\":\"h\",\"showlegend\":false,\"width\":0.9,\"x\":[3],\"y\":[99],\"type\":\"bar\"},{\"base\":72,\"hovertemplate\":\"&lt;AAG&gt;18\\u003cextra\\u003e\\u003c\\u002fextra\\u003e\",\"marker\":{\"color\":\"bisque\"},\"orientation\":\"h\",\"showlegend\":false,\"width\":0.9,\"x\":[54],\"y\":[99],\"type\":\"bar\"},{\"base\":126,\"hovertemplate\":\"&lt;AGAG&gt;1\\u003cextra\\u003e\\u003c\\u002fextra\\u003e\",\"marker\":{\"color\":\"gray\"},\"orientation\":\"h\",\"showlegend\":false,\"width\":0.9,\"x\":[4],\"y\":[99],\"type\":\"bar\"},{\"base\":130,\"hovertemplate\":\"&lt;AAG&gt;6\\u003cextra\\u003e\\u003c\\u002fextra\\u003e\",\"marker\":{\"color\":\"bisque\"},\"orientation\":\"h\",\"showlegend\":false,\"width\":0.9,\"x\":[18],\"y\":[99],\"type\":\"bar\"},{\"base\":151,\"hovertemplate\":\"EncodedSeq: &lt;AAG&gt;23&lt;GAG&gt;1&lt;AAG&gt;18&lt;AGAG&gt;1&lt;AAG&gt;6\\u003cbr\\u003eAllele count: 1\\u003cbr\\u003eFrequency: 0.11%\\u003cextra\\u003e\\u003c\\u002fextra\\u003e\",\"marker\":{\"color\":\"black\"},\"orientation\":\"h\",\"showlegend\":false,\"width\":0.6,\"x\":[6.0989010989010985],\"y\":[99],\"type\":\"bar\"},{\"base\":0,\"hovertemplate\":\"&lt;AAG&gt;49\\u003cextra\\u003e\\u003c\\u002fextra\\u003e\",\"marker\":{\"color\":\"bisque\"},\"orientation\":\"h\",\"showlegend\":false,\"width\":0.9,\"x\":[147],\"y\":[100],\"type\":\"bar\"},{\"base\":150,\"hovertemplate\":\"EncodedSeq: &lt;AAG&gt;49\\u003cbr\\u003eAllele count: 1\\u003cbr\\u003eFrequency: 0.11%\\u003cextra\\u003e\\u003c\\u002fextra\\u003e\",\"marker\":{\"color\":\"black\"},\"orientation\":\"h\",\"showlegend\":false,\"width\":0.6,\"x\":[6.0989010989010985],\"y\":[100],\"type\":\"bar\"},{\"base\":0,\"hovertemplate\":\"&lt;AAG&gt;23\\u003cextra\\u003e\\u003c\\u002fextra\\u003e\",\"marker\":{\"color\":\"bisque\"},\"orientation\":\"h\",\"showlegend\":false,\"width\":0.9,\"x\":[69],\"y\":[101],\"type\":\"bar\"},{\"base\":69,\"hovertemplate\":\"&lt;AGG&gt;1\\u003cextra\\u003e\\u003c\\u002fextra\\u003e\",\"marker\":{\"color\":\"#ff7f00\"},\"orientation\":\"h\",\"showlegend\":false,\"width\":0.9,\"x\":[3],\"y\":[101],\"type\":\"bar\"},{\"base\":72,\"hovertemplate\":\"&lt;AAG&gt;25\\u003cextra\\u003e\\u003c\\u002fextra\\u003e\",\"marker\":{\"color\":\"bisque\"},\"orientation\":\"h\",\"showlegend\":false,\"width\":0.9,\"x\":[75],\"y\":[101],\"type\":\"bar\"},{\"base\":150,\"hovertemplate\":\"EncodedSeq: &lt;AAG&gt;23&lt;AGG&gt;1&lt;AAG&gt;25\\u003cbr\\u003eAllele count: 1\\u003cbr\\u003eFrequency: 0.11%\\u003cextra\\u003e\\u003c\\u002fextra\\u003e\",\"marker\":{\"color\":\"black\"},\"orientation\":\"h\",\"showlegend\":false,\"width\":0.6,\"x\":[6.0989010989010985],\"y\":[101],\"type\":\"bar\"},{\"base\":0,\"hovertemplate\":\"&lt;AAG&gt;48\\u003cextra\\u003e\\u003c\\u002fextra\\u003e\",\"marker\":{\"color\":\"bisque\"},\"orientation\":\"h\",\"showlegend\":false,\"width\":0.9,\"x\":[144],\"y\":[102],\"type\":\"bar\"},{\"base\":147,\"hovertemplate\":\"EncodedSeq: &lt;AAG&gt;48\\u003cbr\\u003eAllele count: 1\\u003cbr\\u003eFrequency: 0.11%\\u003cextra\\u003e\\u003c\\u002fextra\\u003e\",\"marker\":{\"color\":\"black\"},\"orientation\":\"h\",\"showlegend\":false,\"width\":0.6,\"x\":[6.0989010989010985],\"y\":[102],\"type\":\"bar\"},{\"base\":0,\"hovertemplate\":\"&lt;AAG&gt;25\\u003cextra\\u003e\\u003c\\u002fextra\\u003e\",\"marker\":{\"color\":\"bisque\"},\"orientation\":\"h\",\"showlegend\":false,\"width\":0.9,\"x\":[75],\"y\":[103],\"type\":\"bar\"},{\"base\":75,\"hovertemplate\":\"&lt;GAG&gt;1\\u003cextra\\u003e\\u003c\\u002fextra\\u003e\",\"marker\":{\"color\":\"#33a02c\"},\"orientation\":\"h\",\"showlegend\":false,\"width\":0.9,\"x\":[3],\"y\":[103],\"type\":\"bar\"},{\"base\":78,\"hovertemplate\":\"&lt;AAG&gt;22\\u003cextra\\u003e\\u003c\\u002fextra\\u003e\",\"marker\":{\"color\":\"bisque\"},\"orientation\":\"h\",\"showlegend\":false,\"width\":0.9,\"x\":[66],\"y\":[103],\"type\":\"bar\"},{\"base\":147,\"hovertemplate\":\"EncodedSeq: &lt;AAG&gt;25&lt;GAG&gt;1&lt;AAG&gt;22\\u003cbr\\u003eAllele count: 1\\u003cbr\\u003eFrequency: 0.11%\\u003cextra\\u003e\\u003c\\u002fextra\\u003e\",\"marker\":{\"color\":\"black\"},\"orientation\":\"h\",\"showlegend\":false,\"width\":0.6,\"x\":[6.0989010989010985],\"y\":[103],\"type\":\"bar\"},{\"base\":0,\"hovertemplate\":\"&lt;AAG&gt;6\\u003cextra\\u003e\\u003c\\u002fextra\\u003e\",\"marker\":{\"color\":\"bisque\"},\"orientation\":\"h\",\"showlegend\":false,\"width\":0.9,\"x\":[18],\"y\":[104],\"type\":\"bar\"},{\"base\":18,\"hovertemplate\":\"&lt;AAAGAAGAAG&gt;1\\u003cextra\\u003e\\u003c\\u002fextra\\u003e\",\"marker\":{\"color\":\"#a6cee3\"},\"orientation\":\"h\",\"showlegend\":false,\"width\":0.9,\"x\":[10],\"y\":[104],\"type\":\"bar\"},{\"base\":28,\"hovertemplate\":\"&lt;AAG&gt;3\\u003cextra\\u003e\\u003c\\u002fextra\\u003e\",\"marker\":{\"color\":\"bisque\"},\"orientation\":\"h\",\"showlegend\":false,\"width\":0.9,\"x\":[9],\"y\":[104],\"type\":\"bar\"},{\"base\":37,\"hovertemplate\":\"&lt;AAAGAAGAAG&gt;2\\u003cextra\\u003e\\u003c\\u002fextra\\u003e\",\"marker\":{\"color\":\"#a6cee3\"},\"orientation\":\"h\",\"showlegend\":false,\"width\":0.9,\"x\":[20],\"y\":[104],\"type\":\"bar\"},{\"base\":57,\"hovertemplate\":\"&lt;AAG&gt;29\\u003cextra\\u003e\\u003c\\u002fextra\\u003e\",\"marker\":{\"color\":\"bisque\"},\"orientation\":\"h\",\"showlegend\":false,\"width\":0.9,\"x\":[87],\"y\":[104],\"type\":\"bar\"},{\"base\":147,\"hovertemplate\":\"EncodedSeq: &lt;AAG&gt;6&lt;AAAGAAGAAG&gt;1&lt;AAG&gt;3&lt;AAAGAAGAAG&gt;2&lt;AAG&gt;29\\u003cbr\\u003eAllele count: 1\\u003cbr\\u003eFrequency: 0.11%\\u003cextra\\u003e\\u003c\\u002fextra\\u003e\",\"marker\":{\"color\":\"black\"},\"orientation\":\"h\",\"showlegend\":false,\"width\":0.6,\"x\":[6.0989010989010985],\"y\":[104],\"type\":\"bar\"},{\"base\":0,\"hovertemplate\":\"&lt;AAG&gt;22\\u003cextra\\u003e\\u003c\\u002fextra\\u003e\",\"marker\":{\"color\":\"bisque\"},\"orientation\":\"h\",\"showlegend\":false,\"width\":0.9,\"x\":[66],\"y\":[105],\"type\":\"bar\"},{\"base\":66,\"hovertemplate\":\"&lt;GAG&gt;1\\u003cextra\\u003e\\u003c\\u002fextra\\u003e\",\"marker\":{\"color\":\"#33a02c\"},\"orientation\":\"h\",\"showlegend\":false,\"width\":0.9,\"x\":[3],\"y\":[105],\"type\":\"bar\"},{\"base\":69,\"hovertemplate\":\"&lt;AAG&gt;25\\u003cextra\\u003e\\u003c\\u002fextra\\u003e\",\"marker\":{\"color\":\"bisque\"},\"orientation\":\"h\",\"showlegend\":false,\"width\":0.9,\"x\":[75],\"y\":[105],\"type\":\"bar\"},{\"base\":147,\"hovertemplate\":\"EncodedSeq: &lt;AAG&gt;22&lt;GAG&gt;1&lt;AAG&gt;25\\u003cbr\\u003eAllele count: 1\\u003cbr\\u003eFrequency: 0.11%\\u003cextra\\u003e\\u003c\\u002fextra\\u003e\",\"marker\":{\"color\":\"black\"},\"orientation\":\"h\",\"showlegend\":false,\"width\":0.6,\"x\":[6.0989010989010985],\"y\":[105],\"type\":\"bar\"},{\"base\":0,\"hovertemplate\":\"&lt;AAG&gt;6\\u003cextra\\u003e\\u003c\\u002fextra\\u003e\",\"marker\":{\"color\":\"bisque\"},\"orientation\":\"h\",\"showlegend\":false,\"width\":0.9,\"x\":[18],\"y\":[106],\"type\":\"bar\"},{\"base\":18,\"hovertemplate\":\"&lt;AAAGAAGAAG&gt;5\\u003cextra\\u003e\\u003c\\u002fextra\\u003e\",\"marker\":{\"color\":\"#a6cee3\"},\"orientation\":\"h\",\"showlegend\":false,\"width\":0.9,\"x\":[50],\"y\":[106],\"type\":\"bar\"},{\"base\":68,\"hovertemplate\":\"&lt;AAG&gt;25\\u003cextra\\u003e\\u003c\\u002fextra\\u003e\",\"marker\":{\"color\":\"bisque\"},\"orientation\":\"h\",\"showlegend\":false,\"width\":0.9,\"x\":[75],\"y\":[106],\"type\":\"bar\"},{\"base\":146,\"hovertemplate\":\"EncodedSeq: &lt;AAG&gt;6&lt;AAAGAAGAAG&gt;5&lt;AAG&gt;25\\u003cbr\\u003eAllele count: 1\\u003cbr\\u003eFrequency: 0.11%\\u003cextra\\u003e\\u003c\\u002fextra\\u003e\",\"marker\":{\"color\":\"black\"},\"orientation\":\"h\",\"showlegend\":false,\"width\":0.6,\"x\":[6.0989010989010985],\"y\":[106],\"type\":\"bar\"},{\"base\":0,\"hovertemplate\":\"&lt;AAG&gt;21\\u003cextra\\u003e\\u003c\\u002fextra\\u003e\",\"marker\":{\"color\":\"bisque\"},\"orientation\":\"h\",\"showlegend\":false,\"width\":0.9,\"x\":[63],\"y\":[107],\"type\":\"bar\"},{\"base\":63,\"hovertemplate\":\"&lt;GAG&gt;1\\u003cextra\\u003e\\u003c\\u002fextra\\u003e\",\"marker\":{\"color\":\"#33a02c\"},\"orientation\":\"h\",\"showlegend\":false,\"width\":0.9,\"x\":[3],\"y\":[107],\"type\":\"bar\"},{\"base\":66,\"hovertemplate\":\"&lt;AAG&gt;25\\u003cextra\\u003e\\u003c\\u002fextra\\u003e\",\"marker\":{\"color\":\"bisque\"},\"orientation\":\"h\",\"showlegend\":false,\"width\":0.9,\"x\":[75],\"y\":[107],\"type\":\"bar\"},{\"base\":144,\"hovertemplate\":\"EncodedSeq: &lt;AAG&gt;21&lt;GAG&gt;1&lt;AAG&gt;25\\u003cbr\\u003eAllele count: 1\\u003cbr\\u003eFrequency: 0.11%\\u003cextra\\u003e\\u003c\\u002fextra\\u003e\",\"marker\":{\"color\":\"black\"},\"orientation\":\"h\",\"showlegend\":false,\"width\":0.6,\"x\":[6.0989010989010985],\"y\":[107],\"type\":\"bar\"},{\"base\":0,\"hovertemplate\":\"&lt;AAG&gt;16\\u003cextra\\u003e\\u003c\\u002fextra\\u003e\",\"marker\":{\"color\":\"bisque\"},\"orientation\":\"h\",\"showlegend\":false,\"width\":0.9,\"x\":[48],\"y\":[108],\"type\":\"bar\"},{\"base\":48,\"hovertemplate\":\"&lt;AATAGAA&gt;1\\u003cextra\\u003e\\u003c\\u002fextra\\u003e\",\"marker\":{\"color\":\"gray\"},\"orientation\":\"h\",\"showlegend\":false,\"width\":0.9,\"x\":[7],\"y\":[108],\"type\":\"bar\"},{\"base\":55,\"hovertemplate\":\"&lt;AAG&gt;28\\u003cextra\\u003e\\u003c\\u002fextra\\u003e\",\"marker\":{\"color\":\"bisque\"},\"orientation\":\"h\",\"showlegend\":false,\"width\":0.9,\"x\":[84],\"y\":[108],\"type\":\"bar\"},{\"base\":142,\"hovertemplate\":\"EncodedSeq: &lt;AAG&gt;16&lt;AATAGAA&gt;1&lt;AAG&gt;28\\u003cbr\\u003eAllele count: 1\\u003cbr\\u003eFrequency: 0.11%\\u003cextra\\u003e\\u003c\\u002fextra\\u003e\",\"marker\":{\"color\":\"black\"},\"orientation\":\"h\",\"showlegend\":false,\"width\":0.6,\"x\":[6.0989010989010985],\"y\":[108],\"type\":\"bar\"},{\"base\":0,\"hovertemplate\":\"&lt;AAG&gt;46\\u003cextra\\u003e\\u003c\\u002fextra\\u003e\",\"marker\":{\"color\":\"bisque\"},\"orientation\":\"h\",\"showlegend\":false,\"width\":0.9,\"x\":[138],\"y\":[109],\"type\":\"bar\"},{\"base\":141,\"hovertemplate\":\"EncodedSeq: &lt;AAG&gt;46\\u003cbr\\u003eAllele count: 1\\u003cbr\\u003eFrequency: 0.11%\\u003cextra\\u003e\\u003c\\u002fextra\\u003e\",\"marker\":{\"color\":\"black\"},\"orientation\":\"h\",\"showlegend\":false,\"width\":0.6,\"x\":[6.0989010989010985],\"y\":[109],\"type\":\"bar\"},{\"base\":0,\"hovertemplate\":\"&lt;AAG&gt;18\\u003cextra\\u003e\\u003c\\u002fextra\\u003e\",\"marker\":{\"color\":\"bisque\"},\"orientation\":\"h\",\"showlegend\":false,\"width\":0.9,\"x\":[54],\"y\":[110],\"type\":\"bar\"},{\"base\":54,\"hovertemplate\":\"&lt;AAAGAAG&gt;2\\u003cextra\\u003e\\u003c\\u002fextra\\u003e\",\"marker\":{\"color\":\"#6a3d9a\"},\"orientation\":\"h\",\"showlegend\":false,\"width\":0.9,\"x\":[14],\"y\":[110],\"type\":\"bar\"},{\"base\":68,\"hovertemplate\":\"&lt;AAG&gt;23\\u003cextra\\u003e\\u003c\\u002fextra\\u003e\",\"marker\":{\"color\":\"bisque\"},\"orientation\":\"h\",\"showlegend\":false,\"width\":0.9,\"x\":[69],\"y\":[110],\"type\":\"bar\"},{\"base\":140,\"hovertemplate\":\"EncodedSeq: &lt;AAG&gt;18&lt;AAAGAAG&gt;2&lt;AAG&gt;23\\u003cbr\\u003eAllele count: 1\\u003cbr\\u003eFrequency: 0.11%\\u003cextra\\u003e\\u003c\\u002fextra\\u003e\",\"marker\":{\"color\":\"black\"},\"orientation\":\"h\",\"showlegend\":false,\"width\":0.6,\"x\":[6.0989010989010985],\"y\":[110],\"type\":\"bar\"},{\"base\":0,\"hovertemplate\":\"&lt;AAG&gt;13\\u003cextra\\u003e\\u003c\\u002fextra\\u003e\",\"marker\":{\"color\":\"bisque\"},\"orientation\":\"h\",\"showlegend\":false,\"width\":0.9,\"x\":[39],\"y\":[111],\"type\":\"bar\"},{\"base\":39,\"hovertemplate\":\"&lt;A&gt;1\\u003cextra\\u003e\\u003c\\u002fextra\\u003e\",\"marker\":{\"color\":\"#1f78b4\"},\"orientation\":\"h\",\"showlegend\":false,\"width\":0.9,\"x\":[1],\"y\":[111],\"type\":\"bar\"},{\"base\":40,\"hovertemplate\":\"&lt;AAG&gt;31\\u003cextra\\u003e\\u003c\\u002fextra\\u003e\",\"marker\":{\"color\":\"bisque\"},\"orientation\":\"h\",\"showlegend\":false,\"width\":0.9,\"x\":[93],\"y\":[111],\"type\":\"bar\"},{\"base\":136,\"hovertemplate\":\"EncodedSeq: &lt;AAG&gt;13&lt;A&gt;1&lt;AAG&gt;31\\u003cbr\\u003eAllele count: 1\\u003cbr\\u003eFrequency: 0.11%\\u003cextra\\u003e\\u003c\\u002fextra\\u003e\",\"marker\":{\"color\":\"black\"},\"orientation\":\"h\",\"showlegend\":false,\"width\":0.6,\"x\":[6.0989010989010985],\"y\":[111],\"type\":\"bar\"},{\"base\":0,\"hovertemplate\":\"&lt;AAG&gt;6\\u003cextra\\u003e\\u003c\\u002fextra\\u003e\",\"marker\":{\"color\":\"bisque\"},\"orientation\":\"h\",\"showlegend\":false,\"width\":0.9,\"x\":[18],\"y\":[112],\"type\":\"bar\"},{\"base\":18,\"hovertemplate\":\"&lt;AAAGAAGAAG&gt;3\\u003cextra\\u003e\\u003c\\u002fextra\\u003e\",\"marker\":{\"color\":\"#a6cee3\"},\"orientation\":\"h\",\"showlegend\":false,\"width\":0.9,\"x\":[30],\"y\":[112],\"type\":\"bar\"},{\"base\":48,\"hovertemplate\":\"&lt;AAG&gt;28\\u003cextra\\u003e\\u003c\\u002fextra\\u003e\",\"marker\":{\"color\":\"bisque\"},\"orientation\":\"h\",\"showlegend\":false,\"width\":0.9,\"x\":[84],\"y\":[112],\"type\":\"bar\"},{\"base\":135,\"hovertemplate\":\"EncodedSeq: &lt;AAG&gt;6&lt;AAAGAAGAAG&gt;3&lt;AAG&gt;28\\u003cbr\\u003eAllele count: 1\\u003cbr\\u003eFrequency: 0.11%\\u003cextra\\u003e\\u003c\\u002fextra\\u003e\",\"marker\":{\"color\":\"black\"},\"orientation\":\"h\",\"showlegend\":false,\"width\":0.6,\"x\":[6.0989010989010985],\"y\":[112],\"type\":\"bar\"},{\"base\":0,\"hovertemplate\":\"&lt;AAG&gt;27\\u003cextra\\u003e\\u003c\\u002fextra\\u003e\",\"marker\":{\"color\":\"bisque\"},\"orientation\":\"h\",\"showlegend\":false,\"width\":0.9,\"x\":[81],\"y\":[113],\"type\":\"bar\"},{\"base\":81,\"hovertemplate\":\"&lt;AGGAGG&gt;1\\u003cextra\\u003e\\u003c\\u002fextra\\u003e\",\"marker\":{\"color\":\"gray\"},\"orientation\":\"h\",\"showlegend\":false,\"width\":0.9,\"x\":[6],\"y\":[113],\"type\":\"bar\"},{\"base\":87,\"hovertemplate\":\"&lt;AAG&gt;14\\u003cextra\\u003e\\u003c\\u002fextra\\u003e\",\"marker\":{\"color\":\"bisque\"},\"orientation\":\"h\",\"showlegend\":false,\"width\":0.9,\"x\":[42],\"y\":[113],\"type\":\"bar\"},{\"base\":132,\"hovertemplate\":\"EncodedSeq: &lt;AAG&gt;27&lt;AGGAGG&gt;1&lt;AAG&gt;14\\u003cbr\\u003eAllele count: 1\\u003cbr\\u003eFrequency: 0.11%\\u003cextra\\u003e\\u003c\\u002fextra\\u003e\",\"marker\":{\"color\":\"black\"},\"orientation\":\"h\",\"showlegend\":false,\"width\":0.6,\"x\":[6.0989010989010985],\"y\":[113],\"type\":\"bar\"},{\"base\":0,\"hovertemplate\":\"&lt;AAG&gt;6\\u003cextra\\u003e\\u003c\\u002fextra\\u003e\",\"marker\":{\"color\":\"bisque\"},\"orientation\":\"h\",\"showlegend\":false,\"width\":0.9,\"x\":[18],\"y\":[114],\"type\":\"bar\"},{\"base\":18,\"hovertemplate\":\"&lt;AAAGAAGAAG&gt;3\\u003cextra\\u003e\\u003c\\u002fextra\\u003e\",\"marker\":{\"color\":\"#a6cee3\"},\"orientation\":\"h\",\"showlegend\":false,\"width\":0.9,\"x\":[30],\"y\":[114],\"type\":\"bar\"},{\"base\":48,\"hovertemplate\":\"&lt;AAG&gt;27\\u003cextra\\u003e\\u003c\\u002fextra\\u003e\",\"marker\":{\"color\":\"bisque\"},\"orientation\":\"h\",\"showlegend\":false,\"width\":0.9,\"x\":[81],\"y\":[114],\"type\":\"bar\"},{\"base\":132,\"hovertemplate\":\"EncodedSeq: &lt;AAG&gt;6&lt;AAAGAAGAAG&gt;3&lt;AAG&gt;27\\u003cbr\\u003eAllele count: 1\\u003cbr\\u003eFrequency: 0.11%\\u003cextra\\u003e\\u003c\\u002fextra\\u003e\",\"marker\":{\"color\":\"black\"},\"orientation\":\"h\",\"showlegend\":false,\"width\":0.6,\"x\":[6.0989010989010985],\"y\":[114],\"type\":\"bar\"},{\"base\":0,\"hovertemplate\":\"&lt;AAG&gt;7\\u003cextra\\u003e\\u003c\\u002fextra\\u003e\",\"marker\":{\"color\":\"bisque\"},\"orientation\":\"h\",\"showlegend\":false,\"width\":0.9,\"x\":[21],\"y\":[115],\"type\":\"bar\"},{\"base\":21,\"hovertemplate\":\"&lt;AAGAGG&gt;7\\u003cextra\\u003e\\u003c\\u002fextra\\u003e\",\"marker\":{\"color\":\"#b2df8a\"},\"orientation\":\"h\",\"showlegend\":false,\"width\":0.9,\"x\":[42],\"y\":[115],\"type\":\"bar\"},{\"base\":63,\"hovertemplate\":\"&lt;AAG&gt;22\\u003cextra\\u003e\\u003c\\u002fextra\\u003e\",\"marker\":{\"color\":\"bisque\"},\"orientation\":\"h\",\"showlegend\":false,\"width\":0.9,\"x\":[66],\"y\":[115],\"type\":\"bar\"},{\"base\":132,\"hovertemplate\":\"EncodedSeq: &lt;AAG&gt;7&lt;AAGAGG&gt;7&lt;AAG&gt;22\\u003cbr\\u003eAllele count: 2\\u003cbr\\u003eFrequency: 0.22%\\u003cextra\\u003e\\u003c\\u002fextra\\u003e\",\"marker\":{\"color\":\"black\"},\"orientation\":\"h\",\"showlegend\":false,\"width\":0.6,\"x\":[7.197802197802198],\"y\":[115],\"type\":\"bar\"},{\"base\":0,\"hovertemplate\":\"&lt;AAG&gt;1\\u003cextra\\u003e\\u003c\\u002fextra\\u003e\",\"marker\":{\"color\":\"bisque\"},\"orientation\":\"h\",\"showlegend\":false,\"width\":0.9,\"x\":[3],\"y\":[116],\"type\":\"bar\"},{\"base\":3,\"hovertemplate\":\"&lt;AAAG&gt;1\\u003cextra\\u003e\\u003c\\u002fextra\\u003e\",\"marker\":{\"color\":\"#999999\"},\"orientation\":\"h\",\"showlegend\":false,\"width\":0.9,\"x\":[4],\"y\":[116],\"type\":\"bar\"},{\"base\":7,\"hovertemplate\":\"&lt;AAG&gt;14\\u003cextra\\u003e\\u003c\\u002fextra\\u003e\",\"marker\":{\"color\":\"bisque\"},\"orientation\":\"h\",\"showlegend\":false,\"width\":0.9,\"x\":[42],\"y\":[116],\"type\":\"bar\"},{\"base\":49,\"hovertemplate\":\"&lt;AAAG&gt;2\\u003cextra\\u003e\\u003c\\u002fextra\\u003e\",\"marker\":{\"color\":\"#999999\"},\"orientation\":\"h\",\"showlegend\":false,\"width\":0.9,\"x\":[8],\"y\":[116],\"type\":\"bar\"},{\"base\":57,\"hovertemplate\":\"&lt;AAG&gt;24\\u003cextra\\u003e\\u003c\\u002fextra\\u003e\",\"marker\":{\"color\":\"bisque\"},\"orientation\":\"h\",\"showlegend\":false,\"width\":0.9,\"x\":[72],\"y\":[116],\"type\":\"bar\"},{\"base\":132,\"hovertemplate\":\"EncodedSeq: &lt;AAG&gt;1&lt;AAAG&gt;1&lt;AAG&gt;14&lt;AAAG&gt;2&lt;AAG&gt;24\\u003cbr\\u003eAllele count: 1\\u003cbr\\u003eFrequency: 0.11%\\u003cextra\\u003e\\u003c\\u002fextra\\u003e\",\"marker\":{\"color\":\"black\"},\"orientation\":\"h\",\"showlegend\":false,\"width\":0.6,\"x\":[6.0989010989010985],\"y\":[116],\"type\":\"bar\"},{\"base\":0,\"hovertemplate\":\"&lt;AAG&gt;16\\u003cextra\\u003e\\u003c\\u002fextra\\u003e\",\"marker\":{\"color\":\"bisque\"},\"orientation\":\"h\",\"showlegend\":false,\"width\":0.9,\"x\":[48],\"y\":[117],\"type\":\"bar\"},{\"base\":48,\"hovertemplate\":\"&lt;A&gt;1\\u003cextra\\u003e\\u003c\\u002fextra\\u003e\",\"marker\":{\"color\":\"#1f78b4\"},\"orientation\":\"h\",\"showlegend\":false,\"width\":0.9,\"x\":[1],\"y\":[117],\"type\":\"bar\"},{\"base\":49,\"hovertemplate\":\"&lt;AAG&gt;26\\u003cextra\\u003e\\u003c\\u002fextra\\u003e\",\"marker\":{\"color\":\"bisque\"},\"orientation\":\"h\",\"showlegend\":false,\"width\":0.9,\"x\":[78],\"y\":[117],\"type\":\"bar\"},{\"base\":130,\"hovertemplate\":\"EncodedSeq: &lt;AAG&gt;16&lt;A&gt;1&lt;AAG&gt;26\\u003cbr\\u003eAllele count: 1\\u003cbr\\u003eFrequency: 0.11%\\u003cextra\\u003e\\u003c\\u002fextra\\u003e\",\"marker\":{\"color\":\"black\"},\"orientation\":\"h\",\"showlegend\":false,\"width\":0.6,\"x\":[6.0989010989010985],\"y\":[117],\"type\":\"bar\"},{\"base\":0,\"hovertemplate\":\"&lt;AAG&gt;7\\u003cextra\\u003e\\u003c\\u002fextra\\u003e\",\"marker\":{\"color\":\"bisque\"},\"orientation\":\"h\",\"showlegend\":false,\"width\":0.9,\"x\":[21],\"y\":[118],\"type\":\"bar\"},{\"base\":21,\"hovertemplate\":\"&lt;AAGAGG&gt;4\\u003cextra\\u003e\\u003c\\u002fextra\\u003e\",\"marker\":{\"color\":\"#b2df8a\"},\"orientation\":\"h\",\"showlegend\":false,\"width\":0.9,\"x\":[24],\"y\":[118],\"type\":\"bar\"},{\"base\":45,\"hovertemplate\":\"&lt;AAG&gt;27\\u003cextra\\u003e\\u003c\\u002fextra\\u003e\",\"marker\":{\"color\":\"bisque\"},\"orientation\":\"h\",\"showlegend\":false,\"width\":0.9,\"x\":[81],\"y\":[118],\"type\":\"bar\"},{\"base\":129,\"hovertemplate\":\"EncodedSeq: &lt;AAG&gt;7&lt;AAGAGG&gt;4&lt;AAG&gt;27\\u003cbr\\u003eAllele count: 1\\u003cbr\\u003eFrequency: 0.11%\\u003cextra\\u003e\\u003c\\u002fextra\\u003e\",\"marker\":{\"color\":\"black\"},\"orientation\":\"h\",\"showlegend\":false,\"width\":0.6,\"x\":[6.0989010989010985],\"y\":[118],\"type\":\"bar\"},{\"base\":0,\"hovertemplate\":\"&lt;AAG&gt;9\\u003cextra\\u003e\\u003c\\u002fextra\\u003e\",\"marker\":{\"color\":\"bisque\"},\"orientation\":\"h\",\"showlegend\":false,\"width\":0.9,\"x\":[27],\"y\":[119],\"type\":\"bar\"},{\"base\":27,\"hovertemplate\":\"&lt;AAAGAAGAAG&gt;3\\u003cextra\\u003e\\u003c\\u002fextra\\u003e\",\"marker\":{\"color\":\"#a6cee3\"},\"orientation\":\"h\",\"showlegend\":false,\"width\":0.9,\"x\":[30],\"y\":[119],\"type\":\"bar\"},{\"base\":57,\"hovertemplate\":\"&lt;AAG&gt;23\\u003cextra\\u003e\\u003c\\u002fextra\\u003e\",\"marker\":{\"color\":\"bisque\"},\"orientation\":\"h\",\"showlegend\":false,\"width\":0.9,\"x\":[69],\"y\":[119],\"type\":\"bar\"},{\"base\":129,\"hovertemplate\":\"EncodedSeq: &lt;AAG&gt;9&lt;AAAGAAGAAG&gt;3&lt;AAG&gt;23\\u003cbr\\u003eAllele count: 1\\u003cbr\\u003eFrequency: 0.11%\\u003cextra\\u003e\\u003c\\u002fextra\\u003e\",\"marker\":{\"color\":\"black\"},\"orientation\":\"h\",\"showlegend\":false,\"width\":0.6,\"x\":[6.0989010989010985],\"y\":[119],\"type\":\"bar\"},{\"base\":0,\"hovertemplate\":\"&lt;AAG&gt;7\\u003cextra\\u003e\\u003c\\u002fextra\\u003e\",\"marker\":{\"color\":\"bisque\"},\"orientation\":\"h\",\"showlegend\":false,\"width\":0.9,\"x\":[21],\"y\":[120],\"type\":\"bar\"},{\"base\":21,\"hovertemplate\":\"&lt;AAGAGG&gt;7\\u003cextra\\u003e\\u003c\\u002fextra\\u003e\",\"marker\":{\"color\":\"#b2df8a\"},\"orientation\":\"h\",\"showlegend\":false,\"width\":0.9,\"x\":[42],\"y\":[120],\"type\":\"bar\"},{\"base\":63,\"hovertemplate\":\"&lt;AAG&gt;21\\u003cextra\\u003e\\u003c\\u002fextra\\u003e\",\"marker\":{\"color\":\"bisque\"},\"orientation\":\"h\",\"showlegend\":false,\"width\":0.9,\"x\":[63],\"y\":[120],\"type\":\"bar\"},{\"base\":129,\"hovertemplate\":\"EncodedSeq: &lt;AAG&gt;7&lt;AAGAGG&gt;7&lt;AAG&gt;21\\u003cbr\\u003eAllele count: 1\\u003cbr\\u003eFrequency: 0.11%\\u003cextra\\u003e\\u003c\\u002fextra\\u003e\",\"marker\":{\"color\":\"black\"},\"orientation\":\"h\",\"showlegend\":false,\"width\":0.6,\"x\":[6.0989010989010985],\"y\":[120],\"type\":\"bar\"},{\"base\":0,\"hovertemplate\":\"&lt;AAG&gt;2\\u003cextra\\u003e\\u003c\\u002fextra\\u003e\",\"marker\":{\"color\":\"bisque\"},\"orientation\":\"h\",\"showlegend\":false,\"width\":0.9,\"x\":[6],\"y\":[121],\"type\":\"bar\"},{\"base\":6,\"hovertemplate\":\"&lt;AAAGAAG&gt;6\\u003cextra\\u003e\\u003c\\u002fextra\\u003e\",\"marker\":{\"color\":\"#6a3d9a\"},\"orientation\":\"h\",\"showlegend\":false,\"width\":0.9,\"x\":[42],\"y\":[121],\"type\":\"bar\"},{\"base\":48,\"hovertemplate\":\"&lt;AAG&gt;25\\u003cextra\\u003e\\u003c\\u002fextra\\u003e\",\"marker\":{\"color\":\"bisque\"},\"orientation\":\"h\",\"showlegend\":false,\"width\":0.9,\"x\":[75],\"y\":[121],\"type\":\"bar\"},{\"base\":126,\"hovertemplate\":\"EncodedSeq: &lt;AAG&gt;2&lt;AAAGAAG&gt;6&lt;AAG&gt;25\\u003cbr\\u003eAllele count: 1\\u003cbr\\u003eFrequency: 0.11%\\u003cextra\\u003e\\u003c\\u002fextra\\u003e\",\"marker\":{\"color\":\"black\"},\"orientation\":\"h\",\"showlegend\":false,\"width\":0.6,\"x\":[6.0989010989010985],\"y\":[121],\"type\":\"bar\"},{\"base\":0,\"hovertemplate\":\"&lt;AAG&gt;41\\u003cextra\\u003e\\u003c\\u002fextra\\u003e\",\"marker\":{\"color\":\"bisque\"},\"orientation\":\"h\",\"showlegend\":false,\"width\":0.9,\"x\":[123],\"y\":[122],\"type\":\"bar\"},{\"base\":126,\"hovertemplate\":\"EncodedSeq: &lt;AAG&gt;41\\u003cbr\\u003eAllele count: 1\\u003cbr\\u003eFrequency: 0.11%\\u003cextra\\u003e\\u003c\\u002fextra\\u003e\",\"marker\":{\"color\":\"black\"},\"orientation\":\"h\",\"showlegend\":false,\"width\":0.6,\"x\":[6.0989010989010985],\"y\":[122],\"type\":\"bar\"},{\"base\":0,\"hovertemplate\":\"&lt;AAG&gt;21\\u003cextra\\u003e\\u003c\\u002fextra\\u003e\",\"marker\":{\"color\":\"bisque\"},\"orientation\":\"h\",\"showlegend\":false,\"width\":0.9,\"x\":[63],\"y\":[123],\"type\":\"bar\"},{\"base\":63,\"hovertemplate\":\"&lt;AGG&gt;1\\u003cextra\\u003e\\u003c\\u002fextra\\u003e\",\"marker\":{\"color\":\"#ff7f00\"},\"orientation\":\"h\",\"showlegend\":false,\"width\":0.9,\"x\":[3],\"y\":[123],\"type\":\"bar\"},{\"base\":66,\"hovertemplate\":\"&lt;AAG&gt;19\\u003cextra\\u003e\\u003c\\u002fextra\\u003e\",\"marker\":{\"color\":\"bisque\"},\"orientation\":\"h\",\"showlegend\":false,\"width\":0.9,\"x\":[57],\"y\":[123],\"type\":\"bar\"},{\"base\":126,\"hovertemplate\":\"EncodedSeq: &lt;AAG&gt;21&lt;AGG&gt;1&lt;AAG&gt;19\\u003cbr\\u003eAllele count: 1\\u003cbr\\u003eFrequency: 0.11%\\u003cextra\\u003e\\u003c\\u002fextra\\u003e\",\"marker\":{\"color\":\"black\"},\"orientation\":\"h\",\"showlegend\":false,\"width\":0.6,\"x\":[6.0989010989010985],\"y\":[123],\"type\":\"bar\"},{\"base\":0,\"hovertemplate\":\"&lt;AAG&gt;25\\u003cextra\\u003e\\u003c\\u002fextra\\u003e\",\"marker\":{\"color\":\"bisque\"},\"orientation\":\"h\",\"showlegend\":false,\"width\":0.9,\"x\":[75],\"y\":[124],\"type\":\"bar\"},{\"base\":75,\"hovertemplate\":\"&lt;G&gt;1\\u003cextra\\u003e\\u003c\\u002fextra\\u003e\",\"marker\":{\"color\":\"#ccebc5\"},\"orientation\":\"h\",\"showlegend\":false,\"width\":0.9,\"x\":[1],\"y\":[124],\"type\":\"bar\"},{\"base\":76,\"hovertemplate\":\"&lt;AAG&gt;15\\u003cextra\\u003e\\u003c\\u002fextra\\u003e\",\"marker\":{\"color\":\"bisque\"},\"orientation\":\"h\",\"showlegend\":false,\"width\":0.9,\"x\":[45],\"y\":[124],\"type\":\"bar\"},{\"base\":124,\"hovertemplate\":\"EncodedSeq: &lt;AAG&gt;25&lt;G&gt;1&lt;AAG&gt;15\\u003cbr\\u003eAllele count: 1\\u003cbr\\u003eFrequency: 0.11%\\u003cextra\\u003e\\u003c\\u002fextra\\u003e\",\"marker\":{\"color\":\"black\"},\"orientation\":\"h\",\"showlegend\":false,\"width\":0.6,\"x\":[6.0989010989010985],\"y\":[124],\"type\":\"bar\"},{\"base\":0,\"hovertemplate\":\"&lt;AAG&gt;4\\u003cextra\\u003e\\u003c\\u002fextra\\u003e\",\"marker\":{\"color\":\"bisque\"},\"orientation\":\"h\",\"showlegend\":false,\"width\":0.9,\"x\":[12],\"y\":[125],\"type\":\"bar\"},{\"base\":12,\"hovertemplate\":\"&lt;AAAGAAG&gt;1\\u003cextra\\u003e\\u003c\\u002fextra\\u003e\",\"marker\":{\"color\":\"#6a3d9a\"},\"orientation\":\"h\",\"showlegend\":false,\"width\":0.9,\"x\":[7],\"y\":[125],\"type\":\"bar\"},{\"base\":19,\"hovertemplate\":\"&lt;AAAGAAGAAG&gt;3\\u003cextra\\u003e\\u003c\\u002fextra\\u003e\",\"marker\":{\"color\":\"#a6cee3\"},\"orientation\":\"h\",\"showlegend\":false,\"width\":0.9,\"x\":[30],\"y\":[125],\"type\":\"bar\"},{\"base\":49,\"hovertemplate\":\"&lt;AAG&gt;24\\u003cextra\\u003e\\u003c\\u002fextra\\u003e\",\"marker\":{\"color\":\"bisque\"},\"orientation\":\"h\",\"showlegend\":false,\"width\":0.9,\"x\":[72],\"y\":[125],\"type\":\"bar\"},{\"base\":124,\"hovertemplate\":\"EncodedSeq: &lt;AAG&gt;4&lt;AAAGAAG&gt;1&lt;AAAGAAGAAG&gt;3&lt;AAG&gt;24\\u003cbr\\u003eAllele count: 1\\u003cbr\\u003eFrequency: 0.11%\\u003cextra\\u003e\\u003c\\u002fextra\\u003e\",\"marker\":{\"color\":\"black\"},\"orientation\":\"h\",\"showlegend\":false,\"width\":0.6,\"x\":[6.0989010989010985],\"y\":[125],\"type\":\"bar\"},{\"base\":0,\"hovertemplate\":\"&lt;AAG&gt;24\\u003cextra\\u003e\\u003c\\u002fextra\\u003e\",\"marker\":{\"color\":\"bisque\"},\"orientation\":\"h\",\"showlegend\":false,\"width\":0.9,\"x\":[72],\"y\":[126],\"type\":\"bar\"},{\"base\":72,\"hovertemplate\":\"&lt;AGGAGG&gt;1\\u003cextra\\u003e\\u003c\\u002fextra\\u003e\",\"marker\":{\"color\":\"gray\"},\"orientation\":\"h\",\"showlegend\":false,\"width\":0.9,\"x\":[6],\"y\":[126],\"type\":\"bar\"},{\"base\":78,\"hovertemplate\":\"&lt;AAG&gt;14\\u003cextra\\u003e\\u003c\\u002fextra\\u003e\",\"marker\":{\"color\":\"bisque\"},\"orientation\":\"h\",\"showlegend\":false,\"width\":0.9,\"x\":[42],\"y\":[126],\"type\":\"bar\"},{\"base\":123,\"hovertemplate\":\"EncodedSeq: &lt;AAG&gt;24&lt;AGGAGG&gt;1&lt;AAG&gt;14\\u003cbr\\u003eAllele count: 1\\u003cbr\\u003eFrequency: 0.11%\\u003cextra\\u003e\\u003c\\u002fextra\\u003e\",\"marker\":{\"color\":\"black\"},\"orientation\":\"h\",\"showlegend\":false,\"width\":0.6,\"x\":[6.0989010989010985],\"y\":[126],\"type\":\"bar\"},{\"base\":0,\"hovertemplate\":\"&lt;AAG&gt;2\\u003cextra\\u003e\\u003c\\u002fextra\\u003e\",\"marker\":{\"color\":\"bisque\"},\"orientation\":\"h\",\"showlegend\":false,\"width\":0.9,\"x\":[6],\"y\":[127],\"type\":\"bar\"},{\"base\":6,\"hovertemplate\":\"&lt;AAGAAGAGG&gt;3\\u003cextra\\u003e\\u003c\\u002fextra\\u003e\",\"marker\":{\"color\":\"#ffed6f\"},\"orientation\":\"h\",\"showlegend\":false,\"width\":0.9,\"x\":[27],\"y\":[127],\"type\":\"bar\"},{\"base\":33,\"hovertemplate\":\"&lt;AAG&gt;29\\u003cextra\\u003e\\u003c\\u002fextra\\u003e\",\"marker\":{\"color\":\"bisque\"},\"orientation\":\"h\",\"showlegend\":false,\"width\":0.9,\"x\":[87],\"y\":[127],\"type\":\"bar\"},{\"base\":123,\"hovertemplate\":\"EncodedSeq: &lt;AAG&gt;2&lt;AAGAAGAGG&gt;3&lt;AAG&gt;29\\u003cbr\\u003eAllele count: 1\\u003cbr\\u003eFrequency: 0.11%\\u003cextra\\u003e\\u003c\\u002fextra\\u003e\",\"marker\":{\"color\":\"black\"},\"orientation\":\"h\",\"showlegend\":false,\"width\":0.6,\"x\":[6.0989010989010985],\"y\":[127],\"type\":\"bar\"},{\"base\":0,\"hovertemplate\":\"&lt;AAG&gt;5\\u003cextra\\u003e\\u003c\\u002fextra\\u003e\",\"marker\":{\"color\":\"bisque\"},\"orientation\":\"h\",\"showlegend\":false,\"width\":0.9,\"x\":[15],\"y\":[128],\"type\":\"bar\"},{\"base\":15,\"hovertemplate\":\"&lt;AAAGAAG&gt;5\\u003cextra\\u003e\\u003c\\u002fextra\\u003e\",\"marker\":{\"color\":\"#6a3d9a\"},\"orientation\":\"h\",\"showlegend\":false,\"width\":0.9,\"x\":[35],\"y\":[128],\"type\":\"bar\"},{\"base\":50,\"hovertemplate\":\"&lt;AAG&gt;23\\u003cextra\\u003e\\u003c\\u002fextra\\u003e\",\"marker\":{\"color\":\"bisque\"},\"orientation\":\"h\",\"showlegend\":false,\"width\":0.9,\"x\":[69],\"y\":[128],\"type\":\"bar\"},{\"base\":122,\"hovertemplate\":\"EncodedSeq: &lt;AAG&gt;5&lt;AAAGAAG&gt;5&lt;AAG&gt;23\\u003cbr\\u003eAllele count: 3\\u003cbr\\u003eFrequency: 0.33%\\u003cextra\\u003e\\u003c\\u002fextra\\u003e\",\"marker\":{\"color\":\"black\"},\"orientation\":\"h\",\"showlegend\":false,\"width\":0.6,\"x\":[8.296703296703297],\"y\":[128],\"type\":\"bar\"},{\"base\":0,\"hovertemplate\":\"&lt;AAG&gt;5\\u003cextra\\u003e\\u003c\\u002fextra\\u003e\",\"marker\":{\"color\":\"bisque\"},\"orientation\":\"h\",\"showlegend\":false,\"width\":0.9,\"x\":[15],\"y\":[129],\"type\":\"bar\"},{\"base\":15,\"hovertemplate\":\"&lt;AAAGAAG&gt;5\\u003cextra\\u003e\\u003c\\u002fextra\\u003e\",\"marker\":{\"color\":\"#6a3d9a\"},\"orientation\":\"h\",\"showlegend\":false,\"width\":0.9,\"x\":[35],\"y\":[129],\"type\":\"bar\"},{\"base\":50,\"hovertemplate\":\"&lt;AAG&gt;16\\u003cextra\\u003e\\u003c\\u002fextra\\u003e\",\"marker\":{\"color\":\"bisque\"},\"orientation\":\"h\",\"showlegend\":false,\"width\":0.9,\"x\":[48],\"y\":[129],\"type\":\"bar\"},{\"base\":98,\"hovertemplate\":\"&lt;AATAGAAATGTGTTT&gt;1\\u003cextra\\u003e\\u003c\\u002fextra\\u003e\",\"marker\":{\"color\":\"gray\"},\"orientation\":\"h\",\"showlegend\":false,\"width\":0.9,\"x\":[15],\"y\":[129],\"type\":\"bar\"},{\"base\":113,\"hovertemplate\":\"&lt;AAG&gt;2\\u003cextra\\u003e\\u003c\\u002fextra\\u003e\",\"marker\":{\"color\":\"bisque\"},\"orientation\":\"h\",\"showlegend\":false,\"width\":0.9,\"x\":[6],\"y\":[129],\"type\":\"bar\"},{\"base\":122,\"hovertemplate\":\"EncodedSeq: &lt;AAG&gt;5&lt;AAAGAAG&gt;5&lt;AAG&gt;16&lt;AATAGAAATGTGTTT&gt;1&lt;AAG&gt;2\\u003cbr\\u003eAllele count: 1\\u003cbr\\u003eFrequency: 0.11%\\u003cextra\\u003e\\u003c\\u002fextra\\u003e\",\"marker\":{\"color\":\"black\"},\"orientation\":\"h\",\"showlegend\":false,\"width\":0.6,\"x\":[6.0989010989010985],\"y\":[129],\"type\":\"bar\"},{\"base\":0,\"hovertemplate\":\"&lt;AAG&gt;2\\u003cextra\\u003e\\u003c\\u002fextra\\u003e\",\"marker\":{\"color\":\"bisque\"},\"orientation\":\"h\",\"showlegend\":false,\"width\":0.9,\"x\":[6],\"y\":[130],\"type\":\"bar\"},{\"base\":6,\"hovertemplate\":\"&lt;AAAGAAG&gt;3\\u003cextra\\u003e\\u003c\\u002fextra\\u003e\",\"marker\":{\"color\":\"#6a3d9a\"},\"orientation\":\"h\",\"showlegend\":false,\"width\":0.9,\"x\":[21],\"y\":[130],\"type\":\"bar\"},{\"base\":27,\"hovertemplate\":\"&lt;AAG&gt;4\\u003cextra\\u003e\\u003c\\u002fextra\\u003e\",\"marker\":{\"color\":\"bisque\"},\"orientation\":\"h\",\"showlegend\":false,\"width\":0.9,\"x\":[12],\"y\":[130],\"type\":\"bar\"},{\"base\":39,\"hovertemplate\":\"&lt;AAAGAAG&gt;1\\u003cextra\\u003e\\u003c\\u002fextra\\u003e\",\"marker\":{\"color\":\"#6a3d9a\"},\"orientation\":\"h\",\"showlegend\":false,\"width\":0.9,\"x\":[7],\"y\":[130],\"type\":\"bar\"},{\"base\":46,\"hovertemplate\":\"&lt;AAG&gt;24\\u003cextra\\u003e\\u003c\\u002fextra\\u003e\",\"marker\":{\"color\":\"bisque\"},\"orientation\":\"h\",\"showlegend\":false,\"width\":0.9,\"x\":[72],\"y\":[130],\"type\":\"bar\"},{\"base\":121,\"hovertemplate\":\"EncodedSeq: &lt;AAG&gt;2&lt;AAAGAAG&gt;3&lt;AAG&gt;4&lt;AAAGAAG&gt;1&lt;AAG&gt;24\\u003cbr\\u003eAllele count: 1\\u003cbr\\u003eFrequency: 0.11%\\u003cextra\\u003e\\u003c\\u002fextra\\u003e\",\"marker\":{\"color\":\"black\"},\"orientation\":\"h\",\"showlegend\":false,\"width\":0.6,\"x\":[6.0989010989010985],\"y\":[130],\"type\":\"bar\"},{\"base\":0,\"hovertemplate\":\"&lt;AAG&gt;2\\u003cextra\\u003e\\u003c\\u002fextra\\u003e\",\"marker\":{\"color\":\"bisque\"},\"orientation\":\"h\",\"showlegend\":false,\"width\":0.9,\"x\":[6],\"y\":[131],\"type\":\"bar\"},{\"base\":6,\"hovertemplate\":\"&lt;A&gt;1\\u003cextra\\u003e\\u003c\\u002fextra\\u003e\",\"marker\":{\"color\":\"#1f78b4\"},\"orientation\":\"h\",\"showlegend\":false,\"width\":0.9,\"x\":[1],\"y\":[131],\"type\":\"bar\"},{\"base\":7,\"hovertemplate\":\"&lt;AAAGAAG&gt;3\\u003cextra\\u003e\\u003c\\u002fextra\\u003e\",\"marker\":{\"color\":\"#6a3d9a\"},\"orientation\":\"h\",\"showlegend\":false,\"width\":0.9,\"x\":[21],\"y\":[131],\"type\":\"bar\"},{\"base\":28,\"hovertemplate\":\"&lt;AAG&gt;30\\u003cextra\\u003e\\u003c\\u002fextra\\u003e\",\"marker\":{\"color\":\"bisque\"},\"orientation\":\"h\",\"showlegend\":false,\"width\":0.9,\"x\":[90],\"y\":[131],\"type\":\"bar\"},{\"base\":121,\"hovertemplate\":\"EncodedSeq: &lt;AAG&gt;2&lt;A&gt;1&lt;AAAGAAG&gt;3&lt;AAG&gt;30\\u003cbr\\u003eAllele count: 1\\u003cbr\\u003eFrequency: 0.11%\\u003cextra\\u003e\\u003c\\u002fextra\\u003e\",\"marker\":{\"color\":\"black\"},\"orientation\":\"h\",\"showlegend\":false,\"width\":0.6,\"x\":[6.0989010989010985],\"y\":[131],\"type\":\"bar\"},{\"base\":0,\"hovertemplate\":\"&lt;AAG&gt;5\\u003cextra\\u003e\\u003c\\u002fextra\\u003e\",\"marker\":{\"color\":\"bisque\"},\"orientation\":\"h\",\"showlegend\":false,\"width\":0.9,\"x\":[15],\"y\":[132],\"type\":\"bar\"},{\"base\":15,\"hovertemplate\":\"&lt;AAAGAAG&gt;1\\u003cextra\\u003e\\u003c\\u002fextra\\u003e\",\"marker\":{\"color\":\"#6a3d9a\"},\"orientation\":\"h\",\"showlegend\":false,\"width\":0.9,\"x\":[7],\"y\":[132],\"type\":\"bar\"},{\"base\":22,\"hovertemplate\":\"&lt;AAAG&gt;2\\u003cextra\\u003e\\u003c\\u002fextra\\u003e\",\"marker\":{\"color\":\"#999999\"},\"orientation\":\"h\",\"showlegend\":false,\"width\":0.9,\"x\":[8],\"y\":[132],\"type\":\"bar\"},{\"base\":30,\"hovertemplate\":\"&lt;AAAGAAG&gt;3\\u003cextra\\u003e\\u003c\\u002fextra\\u003e\",\"marker\":{\"color\":\"#6a3d9a\"},\"orientation\":\"h\",\"showlegend\":false,\"width\":0.9,\"x\":[21],\"y\":[132],\"type\":\"bar\"},{\"base\":51,\"hovertemplate\":\"&lt;AAG&gt;22\\u003cextra\\u003e\\u003c\\u002fextra\\u003e\",\"marker\":{\"color\":\"bisque\"},\"orientation\":\"h\",\"showlegend\":false,\"width\":0.9,\"x\":[66],\"y\":[132],\"type\":\"bar\"},{\"base\":120,\"hovertemplate\":\"EncodedSeq: &lt;AAG&gt;5&lt;AAAGAAG&gt;1&lt;AAAG&gt;2&lt;AAAGAAG&gt;3&lt;AAG&gt;22\\u003cbr\\u003eAllele count: 1\\u003cbr\\u003eFrequency: 0.11%\\u003cextra\\u003e\\u003c\\u002fextra\\u003e\",\"marker\":{\"color\":\"black\"},\"orientation\":\"h\",\"showlegend\":false,\"width\":0.6,\"x\":[6.0989010989010985],\"y\":[132],\"type\":\"bar\"},{\"base\":0,\"hovertemplate\":\"&lt;AAG&gt;5\\u003cextra\\u003e\\u003c\\u002fextra\\u003e\",\"marker\":{\"color\":\"bisque\"},\"orientation\":\"h\",\"showlegend\":false,\"width\":0.9,\"x\":[15],\"y\":[133],\"type\":\"bar\"},{\"base\":15,\"hovertemplate\":\"&lt;AAAG&gt;1\\u003cextra\\u003e\\u003c\\u002fextra\\u003e\",\"marker\":{\"color\":\"#999999\"},\"orientation\":\"h\",\"showlegend\":false,\"width\":0.9,\"x\":[4],\"y\":[133],\"type\":\"bar\"},{\"base\":19,\"hovertemplate\":\"&lt;AAAGAAG&gt;1\\u003cextra\\u003e\\u003c\\u002fextra\\u003e\",\"marker\":{\"color\":\"#6a3d9a\"},\"orientation\":\"h\",\"showlegend\":false,\"width\":0.9,\"x\":[7],\"y\":[133],\"type\":\"bar\"},{\"base\":26,\"hovertemplate\":\"&lt;AAG&gt;1\\u003cextra\\u003e\\u003c\\u002fextra\\u003e\",\"marker\":{\"color\":\"bisque\"},\"orientation\":\"h\",\"showlegend\":false,\"width\":0.9,\"x\":[3],\"y\":[133],\"type\":\"bar\"},{\"base\":29,\"hovertemplate\":\"&lt;AAAGAAG&gt;3\\u003cextra\\u003e\\u003c\\u002fextra\\u003e\",\"marker\":{\"color\":\"#6a3d9a\"},\"orientation\":\"h\",\"showlegend\":false,\"width\":0.9,\"x\":[21],\"y\":[133],\"type\":\"bar\"},{\"base\":50,\"hovertemplate\":\"&lt;AAG&gt;22\\u003cextra\\u003e\\u003c\\u002fextra\\u003e\",\"marker\":{\"color\":\"bisque\"},\"orientation\":\"h\",\"showlegend\":false,\"width\":0.9,\"x\":[66],\"y\":[133],\"type\":\"bar\"},{\"base\":119,\"hovertemplate\":\"EncodedSeq: &lt;AAG&gt;5&lt;AAAG&gt;1&lt;AAAGAAG&gt;1&lt;AAG&gt;1&lt;AAAGAAG&gt;3&lt;AAG&gt;22\\u003cbr\\u003eAllele count: 1\\u003cbr\\u003eFrequency: 0.11%\\u003cextra\\u003e\\u003c\\u002fextra\\u003e\",\"marker\":{\"color\":\"black\"},\"orientation\":\"h\",\"showlegend\":false,\"width\":0.6,\"x\":[6.0989010989010985],\"y\":[133],\"type\":\"bar\"},{\"base\":0,\"hovertemplate\":\"&lt;AAG&gt;5\\u003cextra\\u003e\\u003c\\u002fextra\\u003e\",\"marker\":{\"color\":\"bisque\"},\"orientation\":\"h\",\"showlegend\":false,\"width\":0.9,\"x\":[15],\"y\":[134],\"type\":\"bar\"},{\"base\":15,\"hovertemplate\":\"&lt;AAAGAAG&gt;5\\u003cextra\\u003e\\u003c\\u002fextra\\u003e\",\"marker\":{\"color\":\"#6a3d9a\"},\"orientation\":\"h\",\"showlegend\":false,\"width\":0.9,\"x\":[35],\"y\":[134],\"type\":\"bar\"},{\"base\":50,\"hovertemplate\":\"&lt;AAG&gt;22\\u003cextra\\u003e\\u003c\\u002fextra\\u003e\",\"marker\":{\"color\":\"bisque\"},\"orientation\":\"h\",\"showlegend\":false,\"width\":0.9,\"x\":[66],\"y\":[134],\"type\":\"bar\"},{\"base\":119,\"hovertemplate\":\"EncodedSeq: &lt;AAG&gt;5&lt;AAAGAAG&gt;5&lt;AAG&gt;22\\u003cbr\\u003eAllele count: 1\\u003cbr\\u003eFrequency: 0.11%\\u003cextra\\u003e\\u003c\\u002fextra\\u003e\",\"marker\":{\"color\":\"black\"},\"orientation\":\"h\",\"showlegend\":false,\"width\":0.6,\"x\":[6.0989010989010985],\"y\":[134],\"type\":\"bar\"},{\"base\":0,\"hovertemplate\":\"&lt;AAG&gt;5\\u003cextra\\u003e\\u003c\\u002fextra\\u003e\",\"marker\":{\"color\":\"bisque\"},\"orientation\":\"h\",\"showlegend\":false,\"width\":0.9,\"x\":[15],\"y\":[135],\"type\":\"bar\"},{\"base\":15,\"hovertemplate\":\"&lt;AAAGAAG&gt;2\\u003cextra\\u003e\\u003c\\u002fextra\\u003e\",\"marker\":{\"color\":\"#6a3d9a\"},\"orientation\":\"h\",\"showlegend\":false,\"width\":0.9,\"x\":[14],\"y\":[135],\"type\":\"bar\"},{\"base\":29,\"hovertemplate\":\"&lt;AAAGAAGAAGAAG&gt;2\\u003cextra\\u003e\\u003c\\u002fextra\\u003e\",\"marker\":{\"color\":\"#bc80bd\"},\"orientation\":\"h\",\"showlegend\":false,\"width\":0.9,\"x\":[26],\"y\":[135],\"type\":\"bar\"},{\"base\":55,\"hovertemplate\":\"&lt;AAG&gt;20\\u003cextra\\u003e\\u003c\\u002fextra\\u003e\",\"marker\":{\"color\":\"bisque\"},\"orientation\":\"h\",\"showlegend\":false,\"width\":0.9,\"x\":[60],\"y\":[135],\"type\":\"bar\"},{\"base\":118,\"hovertemplate\":\"EncodedSeq: &lt;AAG&gt;5&lt;AAAGAAG&gt;2&lt;AAAGAAGAAGAAG&gt;2&lt;AAG&gt;20\\u003cbr\\u003eAllele count: 1\\u003cbr\\u003eFrequency: 0.11%\\u003cextra\\u003e\\u003c\\u002fextra\\u003e\",\"marker\":{\"color\":\"black\"},\"orientation\":\"h\",\"showlegend\":false,\"width\":0.6,\"x\":[6.0989010989010985],\"y\":[135],\"type\":\"bar\"},{\"base\":0,\"hovertemplate\":\"&lt;AAG&gt;5\\u003cextra\\u003e\\u003c\\u002fextra\\u003e\",\"marker\":{\"color\":\"bisque\"},\"orientation\":\"h\",\"showlegend\":false,\"width\":0.9,\"x\":[15],\"y\":[136],\"type\":\"bar\"},{\"base\":15,\"hovertemplate\":\"&lt;AAAGAAG&gt;4\\u003cextra\\u003e\\u003c\\u002fextra\\u003e\",\"marker\":{\"color\":\"#6a3d9a\"},\"orientation\":\"h\",\"showlegend\":false,\"width\":0.9,\"x\":[28],\"y\":[136],\"type\":\"bar\"},{\"base\":43,\"hovertemplate\":\"&lt;AAG&gt;24\\u003cextra\\u003e\\u003c\\u002fextra\\u003e\",\"marker\":{\"color\":\"bisque\"},\"orientation\":\"h\",\"showlegend\":false,\"width\":0.9,\"x\":[72],\"y\":[136],\"type\":\"bar\"},{\"base\":118,\"hovertemplate\":\"EncodedSeq: &lt;AAG&gt;5&lt;AAAGAAG&gt;4&lt;AAG&gt;24\\u003cbr\\u003eAllele count: 1\\u003cbr\\u003eFrequency: 0.11%\\u003cextra\\u003e\\u003c\\u002fextra\\u003e\",\"marker\":{\"color\":\"black\"},\"orientation\":\"h\",\"showlegend\":false,\"width\":0.6,\"x\":[6.0989010989010985],\"y\":[136],\"type\":\"bar\"},{\"base\":0,\"hovertemplate\":\"&lt;AAG&gt;2\\u003cextra\\u003e\\u003c\\u002fextra\\u003e\",\"marker\":{\"color\":\"bisque\"},\"orientation\":\"h\",\"showlegend\":false,\"width\":0.9,\"x\":[6],\"y\":[137],\"type\":\"bar\"},{\"base\":6,\"hovertemplate\":\"&lt;AAAGAAG&gt;6\\u003cextra\\u003e\\u003c\\u002fextra\\u003e\",\"marker\":{\"color\":\"#6a3d9a\"},\"orientation\":\"h\",\"showlegend\":false,\"width\":0.9,\"x\":[42],\"y\":[137],\"type\":\"bar\"},{\"base\":48,\"hovertemplate\":\"&lt;AAG&gt;22\\u003cextra\\u003e\\u003c\\u002fextra\\u003e\",\"marker\":{\"color\":\"bisque\"},\"orientation\":\"h\",\"showlegend\":false,\"width\":0.9,\"x\":[66],\"y\":[137],\"type\":\"bar\"},{\"base\":117,\"hovertemplate\":\"EncodedSeq: &lt;AAG&gt;2&lt;AAAGAAG&gt;6&lt;AAG&gt;22\\u003cbr\\u003eAllele count: 1\\u003cbr\\u003eFrequency: 0.11%\\u003cextra\\u003e\\u003c\\u002fextra\\u003e\",\"marker\":{\"color\":\"black\"},\"orientation\":\"h\",\"showlegend\":false,\"width\":0.6,\"x\":[6.0989010989010985],\"y\":[137],\"type\":\"bar\"},{\"base\":0,\"hovertemplate\":\"&lt;AAG&gt;6\\u003cextra\\u003e\\u003c\\u002fextra\\u003e\",\"marker\":{\"color\":\"bisque\"},\"orientation\":\"h\",\"showlegend\":false,\"width\":0.9,\"x\":[18],\"y\":[138],\"type\":\"bar\"},{\"base\":18,\"hovertemplate\":\"&lt;A&gt;1\\u003cextra\\u003e\\u003c\\u002fextra\\u003e\",\"marker\":{\"color\":\"#1f78b4\"},\"orientation\":\"h\",\"showlegend\":false,\"width\":0.9,\"x\":[1],\"y\":[138],\"type\":\"bar\"},{\"base\":19,\"hovertemplate\":\"&lt;AAG&gt;2\\u003cextra\\u003e\\u003c\\u002fextra\\u003e\",\"marker\":{\"color\":\"bisque\"},\"orientation\":\"h\",\"showlegend\":false,\"width\":0.9,\"x\":[6],\"y\":[138],\"type\":\"bar\"},{\"base\":25,\"hovertemplate\":\"&lt;AG&gt;1\\u003cextra\\u003e\\u003c\\u002fextra\\u003e\",\"marker\":{\"color\":\"#8dd3c7\"},\"orientation\":\"h\",\"showlegend\":false,\"width\":0.9,\"x\":[2],\"y\":[138],\"type\":\"bar\"},{\"base\":27,\"hovertemplate\":\"&lt;AAG&gt;29\\u003cextra\\u003e\\u003c\\u002fextra\\u003e\",\"marker\":{\"color\":\"bisque\"},\"orientation\":\"h\",\"showlegend\":false,\"width\":0.9,\"x\":[87],\"y\":[138],\"type\":\"bar\"},{\"base\":117,\"hovertemplate\":\"EncodedSeq: &lt;AAG&gt;6&lt;A&gt;1&lt;AAG&gt;2&lt;AG&gt;1&lt;AAG&gt;29\\u003cbr\\u003eAllele count: 1\\u003cbr\\u003eFrequency: 0.11%\\u003cextra\\u003e\\u003c\\u002fextra\\u003e\",\"marker\":{\"color\":\"black\"},\"orientation\":\"h\",\"showlegend\":false,\"width\":0.6,\"x\":[6.0989010989010985],\"y\":[138],\"type\":\"bar\"},{\"base\":0,\"hovertemplate\":\"&lt;AAG&gt;38\\u003cextra\\u003e\\u003c\\u002fextra\\u003e\",\"marker\":{\"color\":\"bisque\"},\"orientation\":\"h\",\"showlegend\":false,\"width\":0.9,\"x\":[114],\"y\":[139],\"type\":\"bar\"},{\"base\":117,\"hovertemplate\":\"EncodedSeq: &lt;AAG&gt;38\\u003cbr\\u003eAllele count: 1\\u003cbr\\u003eFrequency: 0.11%\\u003cextra\\u003e\\u003c\\u002fextra\\u003e\",\"marker\":{\"color\":\"black\"},\"orientation\":\"h\",\"showlegend\":false,\"width\":0.6,\"x\":[6.0989010989010985],\"y\":[139],\"type\":\"bar\"},{\"base\":0,\"hovertemplate\":\"&lt;AAG&gt;5\\u003cextra\\u003e\\u003c\\u002fextra\\u003e\",\"marker\":{\"color\":\"bisque\"},\"orientation\":\"h\",\"showlegend\":false,\"width\":0.9,\"x\":[15],\"y\":[140],\"type\":\"bar\"},{\"base\":15,\"hovertemplate\":\"&lt;AAAGAAG&gt;1\\u003cextra\\u003e\\u003c\\u002fextra\\u003e\",\"marker\":{\"color\":\"#6a3d9a\"},\"orientation\":\"h\",\"showlegend\":false,\"width\":0.9,\"x\":[7],\"y\":[140],\"type\":\"bar\"},{\"base\":22,\"hovertemplate\":\"&lt;AAG&gt;1\\u003cextra\\u003e\\u003c\\u002fextra\\u003e\",\"marker\":{\"color\":\"bisque\"},\"orientation\":\"h\",\"showlegend\":false,\"width\":0.9,\"x\":[3],\"y\":[140],\"type\":\"bar\"},{\"base\":25,\"hovertemplate\":\"&lt;AAAGAAG&gt;4\\u003cextra\\u003e\\u003c\\u002fextra\\u003e\",\"marker\":{\"color\":\"#6a3d9a\"},\"orientation\":\"h\",\"showlegend\":false,\"width\":0.9,\"x\":[28],\"y\":[140],\"type\":\"bar\"},{\"base\":53,\"hovertemplate\":\"&lt;AAG&gt;20\\u003cextra\\u003e\\u003c\\u002fextra\\u003e\",\"marker\":{\"color\":\"bisque\"},\"orientation\":\"h\",\"showlegend\":false,\"width\":0.9,\"x\":[60],\"y\":[140],\"type\":\"bar\"},{\"base\":116,\"hovertemplate\":\"EncodedSeq: &lt;AAG&gt;5&lt;AAAGAAG&gt;1&lt;AAG&gt;1&lt;AAAGAAG&gt;4&lt;AAG&gt;20\\u003cbr\\u003eAllele count: 1\\u003cbr\\u003eFrequency: 0.11%\\u003cextra\\u003e\\u003c\\u002fextra\\u003e\",\"marker\":{\"color\":\"black\"},\"orientation\":\"h\",\"showlegend\":false,\"width\":0.6,\"x\":[6.0989010989010985],\"y\":[140],\"type\":\"bar\"},{\"base\":0,\"hovertemplate\":\"&lt;AAG&gt;5\\u003cextra\\u003e\\u003c\\u002fextra\\u003e\",\"marker\":{\"color\":\"bisque\"},\"orientation\":\"h\",\"showlegend\":false,\"width\":0.9,\"x\":[15],\"y\":[141],\"type\":\"bar\"},{\"base\":15,\"hovertemplate\":\"&lt;AAAGAAGAAG&gt;2\\u003cextra\\u003e\\u003c\\u002fextra\\u003e\",\"marker\":{\"color\":\"#a6cee3\"},\"orientation\":\"h\",\"showlegend\":false,\"width\":0.9,\"x\":[20],\"y\":[141],\"type\":\"bar\"},{\"base\":35,\"hovertemplate\":\"&lt;AAG&gt;26\\u003cextra\\u003e\\u003c\\u002fextra\\u003e\",\"marker\":{\"color\":\"bisque\"},\"orientation\":\"h\",\"showlegend\":false,\"width\":0.9,\"x\":[78],\"y\":[141],\"type\":\"bar\"},{\"base\":116,\"hovertemplate\":\"EncodedSeq: &lt;AAG&gt;5&lt;AAAGAAGAAG&gt;2&lt;AAG&gt;26\\u003cbr\\u003eAllele count: 1\\u003cbr\\u003eFrequency: 0.11%\\u003cextra\\u003e\\u003c\\u002fextra\\u003e\",\"marker\":{\"color\":\"black\"},\"orientation\":\"h\",\"showlegend\":false,\"width\":0.6,\"x\":[6.0989010989010985],\"y\":[141],\"type\":\"bar\"},{\"base\":0,\"hovertemplate\":\"&lt;AAG&gt;5\\u003cextra\\u003e\\u003c\\u002fextra\\u003e\",\"marker\":{\"color\":\"bisque\"},\"orientation\":\"h\",\"showlegend\":false,\"width\":0.9,\"x\":[15],\"y\":[142],\"type\":\"bar\"},{\"base\":15,\"hovertemplate\":\"&lt;AAAGAAG&gt;5\\u003cextra\\u003e\\u003c\\u002fextra\\u003e\",\"marker\":{\"color\":\"#6a3d9a\"},\"orientation\":\"h\",\"showlegend\":false,\"width\":0.9,\"x\":[35],\"y\":[142],\"type\":\"bar\"},{\"base\":50,\"hovertemplate\":\"&lt;AAG&gt;21\\u003cextra\\u003e\\u003c\\u002fextra\\u003e\",\"marker\":{\"color\":\"bisque\"},\"orientation\":\"h\",\"showlegend\":false,\"width\":0.9,\"x\":[63],\"y\":[142],\"type\":\"bar\"},{\"base\":116,\"hovertemplate\":\"EncodedSeq: &lt;AAG&gt;5&lt;AAAGAAG&gt;5&lt;AAG&gt;21\\u003cbr\\u003eAllele count: 4\\u003cbr\\u003eFrequency: 0.44%\\u003cextra\\u003e\\u003c\\u002fextra\\u003e\",\"marker\":{\"color\":\"black\"},\"orientation\":\"h\",\"showlegend\":false,\"width\":0.6,\"x\":[9.395604395604396],\"y\":[142],\"type\":\"bar\"},{\"base\":0,\"hovertemplate\":\"&lt;AAG&gt;5\\u003cextra\\u003e\\u003c\\u002fextra\\u003e\",\"marker\":{\"color\":\"bisque\"},\"orientation\":\"h\",\"showlegend\":false,\"width\":0.9,\"x\":[15],\"y\":[143],\"type\":\"bar\"},{\"base\":15,\"hovertemplate\":\"&lt;AAAGAAG&gt;3\\u003cextra\\u003e\\u003c\\u002fextra\\u003e\",\"marker\":{\"color\":\"#6a3d9a\"},\"orientation\":\"h\",\"showlegend\":false,\"width\":0.9,\"x\":[21],\"y\":[143],\"type\":\"bar\"},{\"base\":36,\"hovertemplate\":\"&lt;AAG&gt;25\\u003cextra\\u003e\\u003c\\u002fextra\\u003e\",\"marker\":{\"color\":\"bisque\"},\"orientation\":\"h\",\"showlegend\":false,\"width\":0.9,\"x\":[75],\"y\":[143],\"type\":\"bar\"},{\"base\":114,\"hovertemplate\":\"EncodedSeq: &lt;AAG&gt;5&lt;AAAGAAG&gt;3&lt;AAG&gt;25\\u003cbr\\u003eAllele count: 1\\u003cbr\\u003eFrequency: 0.11%\\u003cextra\\u003e\\u003c\\u002fextra\\u003e\",\"marker\":{\"color\":\"black\"},\"orientation\":\"h\",\"showlegend\":false,\"width\":0.6,\"x\":[6.0989010989010985],\"y\":[143],\"type\":\"bar\"},{\"base\":0,\"hovertemplate\":\"&lt;AAG&gt;37\\u003cextra\\u003e\\u003c\\u002fextra\\u003e\",\"marker\":{\"color\":\"bisque\"},\"orientation\":\"h\",\"showlegend\":false,\"width\":0.9,\"x\":[111],\"y\":[144],\"type\":\"bar\"},{\"base\":114,\"hovertemplate\":\"EncodedSeq: &lt;AAG&gt;37\\u003cbr\\u003eAllele count: 1\\u003cbr\\u003eFrequency: 0.11%\\u003cextra\\u003e\\u003c\\u002fextra\\u003e\",\"marker\":{\"color\":\"black\"},\"orientation\":\"h\",\"showlegend\":false,\"width\":0.6,\"x\":[6.0989010989010985],\"y\":[144],\"type\":\"bar\"},{\"base\":0,\"hovertemplate\":\"&lt;AAG&gt;9\\u003cextra\\u003e\\u003c\\u002fextra\\u003e\",\"marker\":{\"color\":\"bisque\"},\"orientation\":\"h\",\"showlegend\":false,\"width\":0.9,\"x\":[27],\"y\":[145],\"type\":\"bar\"},{\"base\":27,\"hovertemplate\":\"&lt;A&gt;1\\u003cextra\\u003e\\u003c\\u002fextra\\u003e\",\"marker\":{\"color\":\"#1f78b4\"},\"orientation\":\"h\",\"showlegend\":false,\"width\":0.9,\"x\":[1],\"y\":[145],\"type\":\"bar\"},{\"base\":28,\"hovertemplate\":\"&lt;AAAGAAGAAGAAG&gt;2\\u003cextra\\u003e\\u003c\\u002fextra\\u003e\",\"marker\":{\"color\":\"#bc80bd\"},\"orientation\":\"h\",\"showlegend\":false,\"width\":0.9,\"x\":[26],\"y\":[145],\"type\":\"bar\"},{\"base\":54,\"hovertemplate\":\"&lt;AAG&gt;19\\u003cextra\\u003e\\u003c\\u002fextra\\u003e\",\"marker\":{\"color\":\"bisque\"},\"orientation\":\"h\",\"showlegend\":false,\"width\":0.9,\"x\":[57],\"y\":[145],\"type\":\"bar\"},{\"base\":114,\"hovertemplate\":\"EncodedSeq: &lt;AAG&gt;9&lt;A&gt;1&lt;AAAGAAGAAGAAG&gt;2&lt;AAG&gt;19\\u003cbr\\u003eAllele count: 1\\u003cbr\\u003eFrequency: 0.11%\\u003cextra\\u003e\\u003c\\u002fextra\\u003e\",\"marker\":{\"color\":\"black\"},\"orientation\":\"h\",\"showlegend\":false,\"width\":0.6,\"x\":[6.0989010989010985],\"y\":[145],\"type\":\"bar\"},{\"base\":0,\"hovertemplate\":\"&lt;AAG&gt;2\\u003cextra\\u003e\\u003c\\u002fextra\\u003e\",\"marker\":{\"color\":\"bisque\"},\"orientation\":\"h\",\"showlegend\":false,\"width\":0.9,\"x\":[6],\"y\":[146],\"type\":\"bar\"},{\"base\":6,\"hovertemplate\":\"&lt;AAAGAAG&gt;1\\u003cextra\\u003e\\u003c\\u002fextra\\u003e\",\"marker\":{\"color\":\"#6a3d9a\"},\"orientation\":\"h\",\"showlegend\":false,\"width\":0.9,\"x\":[7],\"y\":[146],\"type\":\"bar\"},{\"base\":13,\"hovertemplate\":\"&lt;AAAGAAGAAGAAG&gt;2\\u003cextra\\u003e\\u003c\\u002fextra\\u003e\",\"marker\":{\"color\":\"#bc80bd\"},\"orientation\":\"h\",\"showlegend\":false,\"width\":0.9,\"x\":[26],\"y\":[146],\"type\":\"bar\"},{\"base\":39,\"hovertemplate\":\"&lt;AAG&gt;24\\u003cextra\\u003e\\u003c\\u002fextra\\u003e\",\"marker\":{\"color\":\"bisque\"},\"orientation\":\"h\",\"showlegend\":false,\"width\":0.9,\"x\":[72],\"y\":[146],\"type\":\"bar\"},{\"base\":114,\"hovertemplate\":\"EncodedSeq: &lt;AAG&gt;2&lt;AAAGAAG&gt;1&lt;AAAGAAGAAGAAG&gt;2&lt;AAG&gt;24\\u003cbr\\u003eAllele count: 1\\u003cbr\\u003eFrequency: 0.11%\\u003cextra\\u003e\\u003c\\u002fextra\\u003e\",\"marker\":{\"color\":\"black\"},\"orientation\":\"h\",\"showlegend\":false,\"width\":0.6,\"x\":[6.0989010989010985],\"y\":[146],\"type\":\"bar\"},{\"base\":0,\"hovertemplate\":\"&lt;AAG&gt;5\\u003cextra\\u003e\\u003c\\u002fextra\\u003e\",\"marker\":{\"color\":\"bisque\"},\"orientation\":\"h\",\"showlegend\":false,\"width\":0.9,\"x\":[15],\"y\":[147],\"type\":\"bar\"},{\"base\":15,\"hovertemplate\":\"&lt;AAAGAAG&gt;5\\u003cextra\\u003e\\u003c\\u002fextra\\u003e\",\"marker\":{\"color\":\"#6a3d9a\"},\"orientation\":\"h\",\"showlegend\":false,\"width\":0.9,\"x\":[35],\"y\":[147],\"type\":\"bar\"},{\"base\":50,\"hovertemplate\":\"&lt;AAG&gt;20\\u003cextra\\u003e\\u003c\\u002fextra\\u003e\",\"marker\":{\"color\":\"bisque\"},\"orientation\":\"h\",\"showlegend\":false,\"width\":0.9,\"x\":[60],\"y\":[147],\"type\":\"bar\"},{\"base\":113,\"hovertemplate\":\"EncodedSeq: &lt;AAG&gt;5&lt;AAAGAAG&gt;5&lt;AAG&gt;20\\u003cbr\\u003eAllele count: 2\\u003cbr\\u003eFrequency: 0.22%\\u003cextra\\u003e\\u003c\\u002fextra\\u003e\",\"marker\":{\"color\":\"black\"},\"orientation\":\"h\",\"showlegend\":false,\"width\":0.6,\"x\":[7.197802197802198],\"y\":[147],\"type\":\"bar\"},{\"base\":0,\"hovertemplate\":\"&lt;AAG&gt;7\\u003cextra\\u003e\\u003c\\u002fextra\\u003e\",\"marker\":{\"color\":\"bisque\"},\"orientation\":\"h\",\"showlegend\":false,\"width\":0.9,\"x\":[21],\"y\":[148],\"type\":\"bar\"},{\"base\":21,\"hovertemplate\":\"&lt;AAAGAAG&gt;2\\u003cextra\\u003e\\u003c\\u002fextra\\u003e\",\"marker\":{\"color\":\"#6a3d9a\"},\"orientation\":\"h\",\"showlegend\":false,\"width\":0.9,\"x\":[14],\"y\":[148],\"type\":\"bar\"},{\"base\":35,\"hovertemplate\":\"&lt;AAG&gt;1\\u003cextra\\u003e\\u003c\\u002fextra\\u003e\",\"marker\":{\"color\":\"bisque\"},\"orientation\":\"h\",\"showlegend\":false,\"width\":0.9,\"x\":[3],\"y\":[148],\"type\":\"bar\"},{\"base\":38,\"hovertemplate\":\"&lt;AAAGAAG&gt;2\\u003cextra\\u003e\\u003c\\u002fextra\\u003e\",\"marker\":{\"color\":\"#6a3d9a\"},\"orientation\":\"h\",\"showlegend\":false,\"width\":0.9,\"x\":[14],\"y\":[148],\"type\":\"bar\"},{\"base\":52,\"hovertemplate\":\"&lt;AAG&gt;19\\u003cextra\\u003e\\u003c\\u002fextra\\u003e\",\"marker\":{\"color\":\"bisque\"},\"orientation\":\"h\",\"showlegend\":false,\"width\":0.9,\"x\":[57],\"y\":[148],\"type\":\"bar\"},{\"base\":112,\"hovertemplate\":\"EncodedSeq: &lt;AAG&gt;7&lt;AAAGAAG&gt;2&lt;AAG&gt;1&lt;AAAGAAG&gt;2&lt;AAG&gt;19\\u003cbr\\u003eAllele count: 1\\u003cbr\\u003eFrequency: 0.11%\\u003cextra\\u003e\\u003c\\u002fextra\\u003e\",\"marker\":{\"color\":\"black\"},\"orientation\":\"h\",\"showlegend\":false,\"width\":0.6,\"x\":[6.0989010989010985],\"y\":[148],\"type\":\"bar\"},{\"base\":0,\"hovertemplate\":\"&lt;AAG&gt;5\\u003cextra\\u003e\\u003c\\u002fextra\\u003e\",\"marker\":{\"color\":\"bisque\"},\"orientation\":\"h\",\"showlegend\":false,\"width\":0.9,\"x\":[15],\"y\":[149],\"type\":\"bar\"},{\"base\":15,\"hovertemplate\":\"&lt;AAAGAAG&gt;5\\u003cextra\\u003e\\u003c\\u002fextra\\u003e\",\"marker\":{\"color\":\"#6a3d9a\"},\"orientation\":\"h\",\"showlegend\":false,\"width\":0.9,\"x\":[35],\"y\":[149],\"type\":\"bar\"},{\"base\":50,\"hovertemplate\":\"&lt;AAGAG&gt;1\\u003cextra\\u003e\\u003c\\u002fextra\\u003e\",\"marker\":{\"color\":\"gray\"},\"orientation\":\"h\",\"showlegend\":false,\"width\":0.9,\"x\":[5],\"y\":[149],\"type\":\"bar\"},{\"base\":55,\"hovertemplate\":\"&lt;AAG&gt;18\\u003cextra\\u003e\\u003c\\u002fextra\\u003e\",\"marker\":{\"color\":\"bisque\"},\"orientation\":\"h\",\"showlegend\":false,\"width\":0.9,\"x\":[54],\"y\":[149],\"type\":\"bar\"},{\"base\":112,\"hovertemplate\":\"EncodedSeq: &lt;AAG&gt;5&lt;AAAGAAG&gt;5&lt;AAGAG&gt;1&lt;AAG&gt;18\\u003cbr\\u003eAllele count: 1\\u003cbr\\u003eFrequency: 0.11%\\u003cextra\\u003e\\u003c\\u002fextra\\u003e\",\"marker\":{\"color\":\"black\"},\"orientation\":\"h\",\"showlegend\":false,\"width\":0.6,\"x\":[6.0989010989010985],\"y\":[149],\"type\":\"bar\"},{\"base\":0,\"hovertemplate\":\"&lt;AAG&gt;5\\u003cextra\\u003e\\u003c\\u002fextra\\u003e\",\"marker\":{\"color\":\"bisque\"},\"orientation\":\"h\",\"showlegend\":false,\"width\":0.9,\"x\":[15],\"y\":[150],\"type\":\"bar\"},{\"base\":15,\"hovertemplate\":\"&lt;AAAGAAG&gt;4\\u003cextra\\u003e\\u003c\\u002fextra\\u003e\",\"marker\":{\"color\":\"#6a3d9a\"},\"orientation\":\"h\",\"showlegend\":false,\"width\":0.9,\"x\":[28],\"y\":[150],\"type\":\"bar\"},{\"base\":43,\"hovertemplate\":\"&lt;AAG&gt;22\\u003cextra\\u003e\\u003c\\u002fextra\\u003e\",\"marker\":{\"color\":\"bisque\"},\"orientation\":\"h\",\"showlegend\":false,\"width\":0.9,\"x\":[66],\"y\":[150],\"type\":\"bar\"},{\"base\":112,\"hovertemplate\":\"EncodedSeq: &lt;AAG&gt;5&lt;AAAGAAG&gt;4&lt;AAG&gt;22\\u003cbr\\u003eAllele count: 1\\u003cbr\\u003eFrequency: 0.11%\\u003cextra\\u003e\\u003c\\u002fextra\\u003e\",\"marker\":{\"color\":\"black\"},\"orientation\":\"h\",\"showlegend\":false,\"width\":0.6,\"x\":[6.0989010989010985],\"y\":[150],\"type\":\"bar\"},{\"base\":0,\"hovertemplate\":\"&lt;AAG&gt;5\\u003cextra\\u003e\\u003c\\u002fextra\\u003e\",\"marker\":{\"color\":\"bisque\"},\"orientation\":\"h\",\"showlegend\":false,\"width\":0.9,\"x\":[15],\"y\":[151],\"type\":\"bar\"},{\"base\":15,\"hovertemplate\":\"&lt;AAAGAAG&gt;5\\u003cextra\\u003e\\u003c\\u002fextra\\u003e\",\"marker\":{\"color\":\"#6a3d9a\"},\"orientation\":\"h\",\"showlegend\":false,\"width\":0.9,\"x\":[35],\"y\":[151],\"type\":\"bar\"},{\"base\":50,\"hovertemplate\":\"&lt;AAG&gt;19\\u003cextra\\u003e\\u003c\\u002fextra\\u003e\",\"marker\":{\"color\":\"bisque\"},\"orientation\":\"h\",\"showlegend\":false,\"width\":0.9,\"x\":[57],\"y\":[151],\"type\":\"bar\"},{\"base\":110,\"hovertemplate\":\"EncodedSeq: &lt;AAG&gt;5&lt;AAAGAAG&gt;5&lt;AAG&gt;19\\u003cbr\\u003eAllele count: 1\\u003cbr\\u003eFrequency: 0.11%\\u003cextra\\u003e\\u003c\\u002fextra\\u003e\",\"marker\":{\"color\":\"black\"},\"orientation\":\"h\",\"showlegend\":false,\"width\":0.6,\"x\":[6.0989010989010985],\"y\":[151],\"type\":\"bar\"},{\"base\":0,\"hovertemplate\":\"&lt;AAG&gt;5\\u003cextra\\u003e\\u003c\\u002fextra\\u003e\",\"marker\":{\"color\":\"bisque\"},\"orientation\":\"h\",\"showlegend\":false,\"width\":0.9,\"x\":[15],\"y\":[152],\"type\":\"bar\"},{\"base\":15,\"hovertemplate\":\"&lt;AAAGAAG&gt;2\\u003cextra\\u003e\\u003c\\u002fextra\\u003e\",\"marker\":{\"color\":\"#6a3d9a\"},\"orientation\":\"h\",\"showlegend\":false,\"width\":0.9,\"x\":[14],\"y\":[152],\"type\":\"bar\"},{\"base\":29,\"hovertemplate\":\"&lt;AAAGAAGAAGAAG&gt;2\\u003cextra\\u003e\\u003c\\u002fextra\\u003e\",\"marker\":{\"color\":\"#bc80bd\"},\"orientation\":\"h\",\"showlegend\":false,\"width\":0.9,\"x\":[26],\"y\":[152],\"type\":\"bar\"},{\"base\":55,\"hovertemplate\":\"&lt;AAG&gt;17\\u003cextra\\u003e\\u003c\\u002fextra\\u003e\",\"marker\":{\"color\":\"bisque\"},\"orientation\":\"h\",\"showlegend\":false,\"width\":0.9,\"x\":[51],\"y\":[152],\"type\":\"bar\"},{\"base\":109,\"hovertemplate\":\"EncodedSeq: &lt;AAG&gt;5&lt;AAAGAAG&gt;2&lt;AAAGAAGAAGAAG&gt;2&lt;AAG&gt;17\\u003cbr\\u003eAllele count: 1\\u003cbr\\u003eFrequency: 0.11%\\u003cextra\\u003e\\u003c\\u002fextra\\u003e\",\"marker\":{\"color\":\"black\"},\"orientation\":\"h\",\"showlegend\":false,\"width\":0.6,\"x\":[6.0989010989010985],\"y\":[152],\"type\":\"bar\"},{\"base\":0,\"hovertemplate\":\"&lt;AAG&gt;9\\u003cextra\\u003e\\u003c\\u002fextra\\u003e\",\"marker\":{\"color\":\"bisque\"},\"orientation\":\"h\",\"showlegend\":false,\"width\":0.9,\"x\":[27],\"y\":[153],\"type\":\"bar\"},{\"base\":27,\"hovertemplate\":\"&lt;A&gt;1\\u003cextra\\u003e\\u003c\\u002fextra\\u003e\",\"marker\":{\"color\":\"#1f78b4\"},\"orientation\":\"h\",\"showlegend\":false,\"width\":0.9,\"x\":[1],\"y\":[153],\"type\":\"bar\"},{\"base\":28,\"hovertemplate\":\"&lt;AAG&gt;26\\u003cextra\\u003e\\u003c\\u002fextra\\u003e\",\"marker\":{\"color\":\"bisque\"},\"orientation\":\"h\",\"showlegend\":false,\"width\":0.9,\"x\":[78],\"y\":[153],\"type\":\"bar\"},{\"base\":109,\"hovertemplate\":\"EncodedSeq: &lt;AAG&gt;9&lt;A&gt;1&lt;AAG&gt;26\\u003cbr\\u003eAllele count: 1\\u003cbr\\u003eFrequency: 0.11%\\u003cextra\\u003e\\u003c\\u002fextra\\u003e\",\"marker\":{\"color\":\"black\"},\"orientation\":\"h\",\"showlegend\":false,\"width\":0.6,\"x\":[6.0989010989010985],\"y\":[153],\"type\":\"bar\"},{\"base\":0,\"hovertemplate\":\"&lt;AAG&gt;5\\u003cextra\\u003e\\u003c\\u002fextra\\u003e\",\"marker\":{\"color\":\"bisque\"},\"orientation\":\"h\",\"showlegend\":false,\"width\":0.9,\"x\":[15],\"y\":[154],\"type\":\"bar\"},{\"base\":15,\"hovertemplate\":\"&lt;AAAGAAG&gt;4\\u003cextra\\u003e\\u003c\\u002fextra\\u003e\",\"marker\":{\"color\":\"#6a3d9a\"},\"orientation\":\"h\",\"showlegend\":false,\"width\":0.9,\"x\":[28],\"y\":[154],\"type\":\"bar\"},{\"base\":43,\"hovertemplate\":\"&lt;AAG&gt;21\\u003cextra\\u003e\\u003c\\u002fextra\\u003e\",\"marker\":{\"color\":\"bisque\"},\"orientation\":\"h\",\"showlegend\":false,\"width\":0.9,\"x\":[63],\"y\":[154],\"type\":\"bar\"},{\"base\":109,\"hovertemplate\":\"EncodedSeq: &lt;AAG&gt;5&lt;AAAGAAG&gt;4&lt;AAG&gt;21\\u003cbr\\u003eAllele count: 3\\u003cbr\\u003eFrequency: 0.33%\\u003cextra\\u003e\\u003c\\u002fextra\\u003e\",\"marker\":{\"color\":\"black\"},\"orientation\":\"h\",\"showlegend\":false,\"width\":0.6,\"x\":[8.296703296703297],\"y\":[154],\"type\":\"bar\"},{\"base\":0,\"hovertemplate\":\"&lt;AAG&gt;5\\u003cextra\\u003e\\u003c\\u002fextra\\u003e\",\"marker\":{\"color\":\"bisque\"},\"orientation\":\"h\",\"showlegend\":false,\"width\":0.9,\"x\":[15],\"y\":[155],\"type\":\"bar\"},{\"base\":15,\"hovertemplate\":\"&lt;AAAGAAG&gt;2\\u003cextra\\u003e\\u003c\\u002fextra\\u003e\",\"marker\":{\"color\":\"#6a3d9a\"},\"orientation\":\"h\",\"showlegend\":false,\"width\":0.9,\"x\":[14],\"y\":[155],\"type\":\"bar\"},{\"base\":29,\"hovertemplate\":\"&lt;AAG&gt;2\\u003cextra\\u003e\\u003c\\u002fextra\\u003e\",\"marker\":{\"color\":\"bisque\"},\"orientation\":\"h\",\"showlegend\":false,\"width\":0.9,\"x\":[6],\"y\":[155],\"type\":\"bar\"},{\"base\":35,\"hovertemplate\":\"&lt;AAAGAAG&gt;2\\u003cextra\\u003e\\u003c\\u002fextra\\u003e\",\"marker\":{\"color\":\"#6a3d9a\"},\"orientation\":\"h\",\"showlegend\":false,\"width\":0.9,\"x\":[14],\"y\":[155],\"type\":\"bar\"},{\"base\":49,\"hovertemplate\":\"&lt;AAG&gt;19\\u003cextra\\u003e\\u003c\\u002fextra\\u003e\",\"marker\":{\"color\":\"bisque\"},\"orientation\":\"h\",\"showlegend\":false,\"width\":0.9,\"x\":[57],\"y\":[155],\"type\":\"bar\"},{\"base\":109,\"hovertemplate\":\"EncodedSeq: &lt;AAG&gt;5&lt;AAAGAAG&gt;2&lt;AAG&gt;2&lt;AAAGAAG&gt;2&lt;AAG&gt;19\\u003cbr\\u003eAllele count: 1\\u003cbr\\u003eFrequency: 0.11%\\u003cextra\\u003e\\u003c\\u002fextra\\u003e\",\"marker\":{\"color\":\"black\"},\"orientation\":\"h\",\"showlegend\":false,\"width\":0.6,\"x\":[6.0989010989010985],\"y\":[155],\"type\":\"bar\"},{\"base\":0,\"hovertemplate\":\"&lt;AAG&gt;1\\u003cextra\\u003e\\u003c\\u002fextra\\u003e\",\"marker\":{\"color\":\"bisque\"},\"orientation\":\"h\",\"showlegend\":false,\"width\":0.9,\"x\":[3],\"y\":[156],\"type\":\"bar\"},{\"base\":3,\"hovertemplate\":\"&lt;AAAGAAG&gt;3\\u003cextra\\u003e\\u003c\\u002fextra\\u003e\",\"marker\":{\"color\":\"#6a3d9a\"},\"orientation\":\"h\",\"showlegend\":false,\"width\":0.9,\"x\":[21],\"y\":[156],\"type\":\"bar\"},{\"base\":24,\"hovertemplate\":\"&lt;AAG&gt;27\\u003cextra\\u003e\\u003c\\u002fextra\\u003e\",\"marker\":{\"color\":\"bisque\"},\"orientation\":\"h\",\"showlegend\":false,\"width\":0.9,\"x\":[81],\"y\":[156],\"type\":\"bar\"},{\"base\":108,\"hovertemplate\":\"EncodedSeq: &lt;AAG&gt;1&lt;AAAGAAG&gt;3&lt;AAG&gt;27\\u003cbr\\u003eAllele count: 1\\u003cbr\\u003eFrequency: 0.11%\\u003cextra\\u003e\\u003c\\u002fextra\\u003e\",\"marker\":{\"color\":\"black\"},\"orientation\":\"h\",\"showlegend\":false,\"width\":0.6,\"x\":[6.0989010989010985],\"y\":[156],\"type\":\"bar\"},{\"base\":0,\"hovertemplate\":\"&lt;AAG&gt;35\\u003cextra\\u003e\\u003c\\u002fextra\\u003e\",\"marker\":{\"color\":\"bisque\"},\"orientation\":\"h\",\"showlegend\":false,\"width\":0.9,\"x\":[105],\"y\":[157],\"type\":\"bar\"},{\"base\":108,\"hovertemplate\":\"EncodedSeq: &lt;AAG&gt;35\\u003cbr\\u003eAllele count: 1\\u003cbr\\u003eFrequency: 0.11%\\u003cextra\\u003e\\u003c\\u002fextra\\u003e\",\"marker\":{\"color\":\"black\"},\"orientation\":\"h\",\"showlegend\":false,\"width\":0.6,\"x\":[6.0989010989010985],\"y\":[157],\"type\":\"bar\"},{\"base\":0,\"hovertemplate\":\"&lt;AAG&gt;5\\u003cextra\\u003e\\u003c\\u002fextra\\u003e\",\"marker\":{\"color\":\"bisque\"},\"orientation\":\"h\",\"showlegend\":false,\"width\":0.9,\"x\":[15],\"y\":[158],\"type\":\"bar\"},{\"base\":15,\"hovertemplate\":\"&lt;AAAGAAGAAGAAG&gt;2\\u003cextra\\u003e\\u003c\\u002fextra\\u003e\",\"marker\":{\"color\":\"#bc80bd\"},\"orientation\":\"h\",\"showlegend\":false,\"width\":0.9,\"x\":[26],\"y\":[158],\"type\":\"bar\"},{\"base\":41,\"hovertemplate\":\"&lt;AAG&gt;21\\u003cextra\\u003e\\u003c\\u002fextra\\u003e\",\"marker\":{\"color\":\"bisque\"},\"orientation\":\"h\",\"showlegend\":false,\"width\":0.9,\"x\":[63],\"y\":[158],\"type\":\"bar\"},{\"base\":107,\"hovertemplate\":\"EncodedSeq: &lt;AAG&gt;5&lt;AAAGAAGAAGAAG&gt;2&lt;AAG&gt;21\\u003cbr\\u003eAllele count: 1\\u003cbr\\u003eFrequency: 0.11%\\u003cextra\\u003e\\u003c\\u002fextra\\u003e\",\"marker\":{\"color\":\"black\"},\"orientation\":\"h\",\"showlegend\":false,\"width\":0.6,\"x\":[6.0989010989010985],\"y\":[158],\"type\":\"bar\"},{\"base\":0,\"hovertemplate\":\"&lt;AAG&gt;5\\u003cextra\\u003e\\u003c\\u002fextra\\u003e\",\"marker\":{\"color\":\"bisque\"},\"orientation\":\"h\",\"showlegend\":false,\"width\":0.9,\"x\":[15],\"y\":[159],\"type\":\"bar\"},{\"base\":15,\"hovertemplate\":\"&lt;AAAGAAG&gt;5\\u003cextra\\u003e\\u003c\\u002fextra\\u003e\",\"marker\":{\"color\":\"#6a3d9a\"},\"orientation\":\"h\",\"showlegend\":false,\"width\":0.9,\"x\":[35],\"y\":[159],\"type\":\"bar\"},{\"base\":50,\"hovertemplate\":\"&lt;AAG&gt;18\\u003cextra\\u003e\\u003c\\u002fextra\\u003e\",\"marker\":{\"color\":\"bisque\"},\"orientation\":\"h\",\"showlegend\":false,\"width\":0.9,\"x\":[54],\"y\":[159],\"type\":\"bar\"},{\"base\":107,\"hovertemplate\":\"EncodedSeq: &lt;AAG&gt;5&lt;AAAGAAG&gt;5&lt;AAG&gt;18\\u003cbr\\u003eAllele count: 1\\u003cbr\\u003eFrequency: 0.11%\\u003cextra\\u003e\\u003c\\u002fextra\\u003e\",\"marker\":{\"color\":\"black\"},\"orientation\":\"h\",\"showlegend\":false,\"width\":0.6,\"x\":[6.0989010989010985],\"y\":[159],\"type\":\"bar\"},{\"base\":0,\"hovertemplate\":\"&lt;AAG&gt;7\\u003cextra\\u003e\\u003c\\u002fextra\\u003e\",\"marker\":{\"color\":\"bisque\"},\"orientation\":\"h\",\"showlegend\":false,\"width\":0.9,\"x\":[21],\"y\":[160],\"type\":\"bar\"},{\"base\":21,\"hovertemplate\":\"&lt;A&gt;1\\u003cextra\\u003e\\u003c\\u002fextra\\u003e\",\"marker\":{\"color\":\"#1f78b4\"},\"orientation\":\"h\",\"showlegend\":false,\"width\":0.9,\"x\":[1],\"y\":[160],\"type\":\"bar\"},{\"base\":22,\"hovertemplate\":\"&lt;AAG&gt;26\\u003cextra\\u003e\\u003c\\u002fextra\\u003e\",\"marker\":{\"color\":\"bisque\"},\"orientation\":\"h\",\"showlegend\":false,\"width\":0.9,\"x\":[78],\"y\":[160],\"type\":\"bar\"},{\"base\":103,\"hovertemplate\":\"EncodedSeq: &lt;AAG&gt;7&lt;A&gt;1&lt;AAG&gt;26\\u003cbr\\u003eAllele count: 1\\u003cbr\\u003eFrequency: 0.11%\\u003cextra\\u003e\\u003c\\u002fextra\\u003e\",\"marker\":{\"color\":\"black\"},\"orientation\":\"h\",\"showlegend\":false,\"width\":0.6,\"x\":[6.0989010989010985],\"y\":[160],\"type\":\"bar\"},{\"base\":0,\"hovertemplate\":\"&lt;AAG&gt;1\\u003cextra\\u003e\\u003c\\u002fextra\\u003e\",\"marker\":{\"color\":\"bisque\"},\"orientation\":\"h\",\"showlegend\":false,\"width\":0.9,\"x\":[3],\"y\":[161],\"type\":\"bar\"},{\"base\":3,\"hovertemplate\":\"&lt;AAAGAAG&gt;4\\u003cextra\\u003e\\u003c\\u002fextra\\u003e\",\"marker\":{\"color\":\"#6a3d9a\"},\"orientation\":\"h\",\"showlegend\":false,\"width\":0.9,\"x\":[28],\"y\":[161],\"type\":\"bar\"},{\"base\":31,\"hovertemplate\":\"&lt;AAG&gt;23\\u003cextra\\u003e\\u003c\\u002fextra\\u003e\",\"marker\":{\"color\":\"bisque\"},\"orientation\":\"h\",\"showlegend\":false,\"width\":0.9,\"x\":[69],\"y\":[161],\"type\":\"bar\"},{\"base\":103,\"hovertemplate\":\"EncodedSeq: &lt;AAG&gt;1&lt;AAAGAAG&gt;4&lt;AAG&gt;23\\u003cbr\\u003eAllele count: 2\\u003cbr\\u003eFrequency: 0.22%\\u003cextra\\u003e\\u003c\\u002fextra\\u003e\",\"marker\":{\"color\":\"black\"},\"orientation\":\"h\",\"showlegend\":false,\"width\":0.6,\"x\":[7.197802197802198],\"y\":[161],\"type\":\"bar\"},{\"base\":0,\"hovertemplate\":\"&lt;AAG&gt;7\\u003cextra\\u003e\\u003c\\u002fextra\\u003e\",\"marker\":{\"color\":\"bisque\"},\"orientation\":\"h\",\"showlegend\":false,\"width\":0.9,\"x\":[21],\"y\":[162],\"type\":\"bar\"},{\"base\":21,\"hovertemplate\":\"&lt;A&gt;1\\u003cextra\\u003e\\u003c\\u002fextra\\u003e\",\"marker\":{\"color\":\"#1f78b4\"},\"orientation\":\"h\",\"showlegend\":false,\"width\":0.9,\"x\":[1],\"y\":[162],\"type\":\"bar\"},{\"base\":22,\"hovertemplate\":\"&lt;AAG&gt;24\\u003cextra\\u003e\\u003c\\u002fextra\\u003e\",\"marker\":{\"color\":\"bisque\"},\"orientation\":\"h\",\"showlegend\":false,\"width\":0.9,\"x\":[72],\"y\":[162],\"type\":\"bar\"},{\"base\":97,\"hovertemplate\":\"EncodedSeq: &lt;AAG&gt;7&lt;A&gt;1&lt;AAG&gt;24\\u003cbr\\u003eAllele count: 2\\u003cbr\\u003eFrequency: 0.22%\\u003cextra\\u003e\\u003c\\u002fextra\\u003e\",\"marker\":{\"color\":\"black\"},\"orientation\":\"h\",\"showlegend\":false,\"width\":0.6,\"x\":[7.197802197802198],\"y\":[162],\"type\":\"bar\"},{\"base\":0,\"hovertemplate\":\"&lt;AAG&gt;31\\u003cextra\\u003e\\u003c\\u002fextra\\u003e\",\"marker\":{\"color\":\"bisque\"},\"orientation\":\"h\",\"showlegend\":false,\"width\":0.9,\"x\":[93],\"y\":[163],\"type\":\"bar\"},{\"base\":96,\"hovertemplate\":\"EncodedSeq: &lt;AAG&gt;31\\u003cbr\\u003eAllele count: 1\\u003cbr\\u003eFrequency: 0.11%\\u003cextra\\u003e\\u003c\\u002fextra\\u003e\",\"marker\":{\"color\":\"black\"},\"orientation\":\"h\",\"showlegend\":false,\"width\":0.6,\"x\":[6.0989010989010985],\"y\":[163],\"type\":\"bar\"},{\"base\":0,\"hovertemplate\":\"&lt;AAG&gt;5\\u003cextra\\u003e\\u003c\\u002fextra\\u003e\",\"marker\":{\"color\":\"bisque\"},\"orientation\":\"h\",\"showlegend\":false,\"width\":0.9,\"x\":[15],\"y\":[164],\"type\":\"bar\"},{\"base\":15,\"hovertemplate\":\"&lt;AAAGAAG&gt;4\\u003cextra\\u003e\\u003c\\u002fextra\\u003e\",\"marker\":{\"color\":\"#6a3d9a\"},\"orientation\":\"h\",\"showlegend\":false,\"width\":0.9,\"x\":[28],\"y\":[164],\"type\":\"bar\"},{\"base\":43,\"hovertemplate\":\"&lt;AAG&gt;16\\u003cextra\\u003e\\u003c\\u002fextra\\u003e\",\"marker\":{\"color\":\"bisque\"},\"orientation\":\"h\",\"showlegend\":false,\"width\":0.9,\"x\":[48],\"y\":[164],\"type\":\"bar\"},{\"base\":94,\"hovertemplate\":\"EncodedSeq: &lt;AAG&gt;5&lt;AAAGAAG&gt;4&lt;AAG&gt;16\\u003cbr\\u003eAllele count: 1\\u003cbr\\u003eFrequency: 0.11%\\u003cextra\\u003e\\u003c\\u002fextra\\u003e\",\"marker\":{\"color\":\"black\"},\"orientation\":\"h\",\"showlegend\":false,\"width\":0.6,\"x\":[6.0989010989010985],\"y\":[164],\"type\":\"bar\"},{\"base\":0,\"hovertemplate\":\"&lt;AAG&gt;30\\u003cextra\\u003e\\u003c\\u002fextra\\u003e\",\"marker\":{\"color\":\"bisque\"},\"orientation\":\"h\",\"showlegend\":false,\"width\":0.9,\"x\":[90],\"y\":[165],\"type\":\"bar\"},{\"base\":93,\"hovertemplate\":\"EncodedSeq: &lt;AAG&gt;30\\u003cbr\\u003eAllele count: 2\\u003cbr\\u003eFrequency: 0.22%\\u003cextra\\u003e\\u003c\\u002fextra\\u003e\",\"marker\":{\"color\":\"black\"},\"orientation\":\"h\",\"showlegend\":false,\"width\":0.6,\"x\":[7.197802197802198],\"y\":[165],\"type\":\"bar\"},{\"base\":0,\"hovertemplate\":\"&lt;AAG&gt;29\\u003cextra\\u003e\\u003c\\u002fextra\\u003e\",\"marker\":{\"color\":\"bisque\"},\"orientation\":\"h\",\"showlegend\":false,\"width\":0.9,\"x\":[87],\"y\":[166],\"type\":\"bar\"},{\"base\":90,\"hovertemplate\":\"EncodedSeq: &lt;AAG&gt;29\\u003cbr\\u003eAllele count: 3\\u003cbr\\u003eFrequency: 0.33%\\u003cextra\\u003e\\u003c\\u002fextra\\u003e\",\"marker\":{\"color\":\"black\"},\"orientation\":\"h\",\"showlegend\":false,\"width\":0.6,\"x\":[8.296703296703297],\"y\":[166],\"type\":\"bar\"},{\"base\":0,\"hovertemplate\":\"&lt;AAG&gt;28\\u003cextra\\u003e\\u003c\\u002fextra\\u003e\",\"marker\":{\"color\":\"bisque\"},\"orientation\":\"h\",\"showlegend\":false,\"width\":0.9,\"x\":[84],\"y\":[167],\"type\":\"bar\"},{\"base\":87,\"hovertemplate\":\"EncodedSeq: &lt;AAG&gt;28\\u003cbr\\u003eAllele count: 1\\u003cbr\\u003eFrequency: 0.11%\\u003cextra\\u003e\\u003c\\u002fextra\\u003e\",\"marker\":{\"color\":\"black\"},\"orientation\":\"h\",\"showlegend\":false,\"width\":0.6,\"x\":[6.0989010989010985],\"y\":[167],\"type\":\"bar\"},{\"base\":0,\"hovertemplate\":\"&lt;AAG&gt;27\\u003cextra\\u003e\\u003c\\u002fextra\\u003e\",\"marker\":{\"color\":\"bisque\"},\"orientation\":\"h\",\"showlegend\":false,\"width\":0.9,\"x\":[81],\"y\":[168],\"type\":\"bar\"},{\"base\":84,\"hovertemplate\":\"EncodedSeq: &lt;AAG&gt;27\\u003cbr\\u003eAllele count: 4\\u003cbr\\u003eFrequency: 0.44%\\u003cextra\\u003e\\u003c\\u002fextra\\u003e\",\"marker\":{\"color\":\"black\"},\"orientation\":\"h\",\"showlegend\":false,\"width\":0.6,\"x\":[9.395604395604396],\"y\":[168],\"type\":\"bar\"},{\"base\":0,\"hovertemplate\":\"&lt;AAG&gt;26\\u003cextra\\u003e\\u003c\\u002fextra\\u003e\",\"marker\":{\"color\":\"bisque\"},\"orientation\":\"h\",\"showlegend\":false,\"width\":0.9,\"x\":[78],\"y\":[169],\"type\":\"bar\"},{\"base\":81,\"hovertemplate\":\"EncodedSeq: &lt;AAG&gt;26\\u003cbr\\u003eAllele count: 9\\u003cbr\\u003eFrequency: 0.98%\\u003cextra\\u003e\\u003c\\u002fextra\\u003e\",\"marker\":{\"color\":\"black\"},\"orientation\":\"h\",\"showlegend\":false,\"width\":0.6,\"x\":[14.89010989010989],\"y\":[169],\"type\":\"bar\"},{\"base\":0,\"hovertemplate\":\"&lt;AAG&gt;25\\u003cextra\\u003e\\u003c\\u002fextra\\u003e\",\"marker\":{\"color\":\"bisque\"},\"orientation\":\"h\",\"showlegend\":false,\"width\":0.9,\"x\":[75],\"y\":[170],\"type\":\"bar\"},{\"base\":78,\"hovertemplate\":\"EncodedSeq: &lt;AAG&gt;25\\u003cbr\\u003eAllele count: 15\\u003cbr\\u003eFrequency: 1.64%\\u003cextra\\u003e\\u003c\\u002fextra\\u003e\",\"marker\":{\"color\":\"black\"},\"orientation\":\"h\",\"showlegend\":false,\"width\":0.6,\"x\":[21.483516483516482],\"y\":[170],\"type\":\"bar\"},{\"base\":0,\"hovertemplate\":\"&lt;AAG&gt;24\\u003cextra\\u003e\\u003c\\u002fextra\\u003e\",\"marker\":{\"color\":\"bisque\"},\"orientation\":\"h\",\"showlegend\":false,\"width\":0.9,\"x\":[72],\"y\":[171],\"type\":\"bar\"},{\"base\":75,\"hovertemplate\":\"EncodedSeq: &lt;AAG&gt;24\\u003cbr\\u003eAllele count: 17\\u003cbr\\u003eFrequency: 1.86%\\u003cextra\\u003e\\u003c\\u002fextra\\u003e\",\"marker\":{\"color\":\"black\"},\"orientation\":\"h\",\"showlegend\":false,\"width\":0.6,\"x\":[23.681318681318682],\"y\":[171],\"type\":\"bar\"},{\"base\":0,\"hovertemplate\":\"&lt;AAG&gt;23\\u003cextra\\u003e\\u003c\\u002fextra\\u003e\",\"marker\":{\"color\":\"bisque\"},\"orientation\":\"h\",\"showlegend\":false,\"width\":0.9,\"x\":[69],\"y\":[172],\"type\":\"bar\"},{\"base\":72,\"hovertemplate\":\"EncodedSeq: &lt;AAG&gt;23\\u003cbr\\u003eAllele count: 14\\u003cbr\\u003eFrequency: 1.53%\\u003cextra\\u003e\\u003c\\u002fextra\\u003e\",\"marker\":{\"color\":\"black\"},\"orientation\":\"h\",\"showlegend\":false,\"width\":0.6,\"x\":[20.384615384615387],\"y\":[172],\"type\":\"bar\"},{\"base\":0,\"hovertemplate\":\"&lt;AAG&gt;22\\u003cextra\\u003e\\u003c\\u002fextra\\u003e\",\"marker\":{\"color\":\"bisque\"},\"orientation\":\"h\",\"showlegend\":false,\"width\":0.9,\"x\":[66],\"y\":[173],\"type\":\"bar\"},{\"base\":69,\"hovertemplate\":\"EncodedSeq: &lt;AAG&gt;22\\u003cbr\\u003eAllele count: 16\\u003cbr\\u003eFrequency: 1.75%\\u003cextra\\u003e\\u003c\\u002fextra\\u003e\",\"marker\":{\"color\":\"black\"},\"orientation\":\"h\",\"showlegend\":false,\"width\":0.6,\"x\":[22.582417582417584],\"y\":[173],\"type\":\"bar\"},{\"base\":0,\"hovertemplate\":\"&lt;AAG&gt;21\\u003cextra\\u003e\\u003c\\u002fextra\\u003e\",\"marker\":{\"color\":\"bisque\"},\"orientation\":\"h\",\"showlegend\":false,\"width\":0.9,\"x\":[63],\"y\":[174],\"type\":\"bar\"},{\"base\":66,\"hovertemplate\":\"EncodedSeq: &lt;AAG&gt;21\\u003cbr\\u003eAllele count: 17\\u003cbr\\u003eFrequency: 1.86%\\u003cextra\\u003e\\u003c\\u002fextra\\u003e\",\"marker\":{\"color\":\"black\"},\"orientation\":\"h\",\"showlegend\":false,\"width\":0.6,\"x\":[23.681318681318682],\"y\":[174],\"type\":\"bar\"},{\"base\":0,\"hovertemplate\":\"&lt;AAG&gt;20\\u003cextra\\u003e\\u003c\\u002fextra\\u003e\",\"marker\":{\"color\":\"bisque\"},\"orientation\":\"h\",\"showlegend\":false,\"width\":0.9,\"x\":[60],\"y\":[175],\"type\":\"bar\"},{\"base\":63,\"hovertemplate\":\"EncodedSeq: &lt;AAG&gt;20\\u003cbr\\u003eAllele count: 17\\u003cbr\\u003eFrequency: 1.86%\\u003cextra\\u003e\\u003c\\u002fextra\\u003e\",\"marker\":{\"color\":\"black\"},\"orientation\":\"h\",\"showlegend\":false,\"width\":0.6,\"x\":[23.681318681318682],\"y\":[175],\"type\":\"bar\"},{\"base\":0,\"hovertemplate\":\"&lt;AAG&gt;19\\u003cextra\\u003e\\u003c\\u002fextra\\u003e\",\"marker\":{\"color\":\"bisque\"},\"orientation\":\"h\",\"showlegend\":false,\"width\":0.9,\"x\":[57],\"y\":[176],\"type\":\"bar\"},{\"base\":60,\"hovertemplate\":\"EncodedSeq: &lt;AAG&gt;19\\u003cbr\\u003eAllele count: 14\\u003cbr\\u003eFrequency: 1.53%\\u003cextra\\u003e\\u003c\\u002fextra\\u003e\",\"marker\":{\"color\":\"black\"},\"orientation\":\"h\",\"showlegend\":false,\"width\":0.6,\"x\":[20.384615384615387],\"y\":[176],\"type\":\"bar\"},{\"base\":0,\"hovertemplate\":\"&lt;AAG&gt;18\\u003cextra\\u003e\\u003c\\u002fextra\\u003e\",\"marker\":{\"color\":\"bisque\"},\"orientation\":\"h\",\"showlegend\":false,\"width\":0.9,\"x\":[54],\"y\":[177],\"type\":\"bar\"},{\"base\":57,\"hovertemplate\":\"EncodedSeq: &lt;AAG&gt;18\\u003cbr\\u003eAllele count: 33\\u003cbr\\u003eFrequency: 3.61%\\u003cextra\\u003e\\u003c\\u002fextra\\u003e\",\"marker\":{\"color\":\"black\"},\"orientation\":\"h\",\"showlegend\":false,\"width\":0.6,\"x\":[41.26373626373626],\"y\":[177],\"type\":\"bar\"},{\"base\":0,\"hovertemplate\":\"&lt;AAG&gt;17\\u003cextra\\u003e\\u003c\\u002fextra\\u003e\",\"marker\":{\"color\":\"bisque\"},\"orientation\":\"h\",\"showlegend\":false,\"width\":0.9,\"x\":[51],\"y\":[178],\"type\":\"bar\"},{\"base\":54,\"hovertemplate\":\"EncodedSeq: &lt;AAG&gt;17\\u003cbr\\u003eAllele count: 44\\u003cbr\\u003eFrequency: 4.81%\\u003cextra\\u003e\\u003c\\u002fextra\\u003e\",\"marker\":{\"color\":\"black\"},\"orientation\":\"h\",\"showlegend\":false,\"width\":0.6,\"x\":[53.35164835164835],\"y\":[178],\"type\":\"bar\"},{\"base\":0,\"hovertemplate\":\"&lt;AAG&gt;16\\u003cextra\\u003e\\u003c\\u002fextra\\u003e\",\"marker\":{\"color\":\"bisque\"},\"orientation\":\"h\",\"showlegend\":false,\"width\":0.9,\"x\":[48],\"y\":[179],\"type\":\"bar\"},{\"base\":51,\"hovertemplate\":\"EncodedSeq: &lt;AAG&gt;16\\u003cbr\\u003eAllele count: 77\\u003cbr\\u003eFrequency: 8.42%\\u003cextra\\u003e\\u003c\\u002fextra\\u003e\",\"marker\":{\"color\":\"black\"},\"orientation\":\"h\",\"showlegend\":false,\"width\":0.6,\"x\":[89.61538461538461],\"y\":[179],\"type\":\"bar\"},{\"base\":0,\"hovertemplate\":\"&lt;AAG&gt;15\\u003cextra\\u003e\\u003c\\u002fextra\\u003e\",\"marker\":{\"color\":\"bisque\"},\"orientation\":\"h\",\"showlegend\":false,\"width\":0.9,\"x\":[45],\"y\":[180],\"type\":\"bar\"},{\"base\":48,\"hovertemplate\":\"EncodedSeq: &lt;AAG&gt;15\\u003cbr\\u003eAllele count: 15\\u003cbr\\u003eFrequency: 1.64%\\u003cextra\\u003e\\u003c\\u002fextra\\u003e\",\"marker\":{\"color\":\"black\"},\"orientation\":\"h\",\"showlegend\":false,\"width\":0.6,\"x\":[21.483516483516482],\"y\":[180],\"type\":\"bar\"},{\"base\":0,\"hovertemplate\":\"&lt;AAG&gt;14\\u003cextra\\u003e\\u003c\\u002fextra\\u003e\",\"marker\":{\"color\":\"bisque\"},\"orientation\":\"h\",\"showlegend\":false,\"width\":0.9,\"x\":[42],\"y\":[181],\"type\":\"bar\"},{\"base\":45,\"hovertemplate\":\"EncodedSeq: &lt;AAG&gt;14\\u003cbr\\u003eAllele count: 33\\u003cbr\\u003eFrequency: 3.61%\\u003cextra\\u003e\\u003c\\u002fextra\\u003e\",\"marker\":{\"color\":\"black\"},\"orientation\":\"h\",\"showlegend\":false,\"width\":0.6,\"x\":[41.26373626373626],\"y\":[181],\"type\":\"bar\"},{\"base\":0,\"hovertemplate\":\"&lt;AAG&gt;13\\u003cextra\\u003e\\u003c\\u002fextra\\u003e\",\"marker\":{\"color\":\"bisque\"},\"orientation\":\"h\",\"showlegend\":false,\"width\":0.9,\"x\":[39],\"y\":[182],\"type\":\"bar\"},{\"base\":42,\"hovertemplate\":\"EncodedSeq: &lt;AAG&gt;13\\u003cbr\\u003eAllele count: 2\\u003cbr\\u003eFrequency: 0.22%\\u003cextra\\u003e\\u003c\\u002fextra\\u003e\",\"marker\":{\"color\":\"black\"},\"orientation\":\"h\",\"showlegend\":false,\"width\":0.6,\"x\":[7.197802197802198],\"y\":[182],\"type\":\"bar\"},{\"base\":0,\"hovertemplate\":\"&lt;AAG&gt;12\\u003cextra\\u003e\\u003c\\u002fextra\\u003e\",\"marker\":{\"color\":\"bisque\"},\"orientation\":\"h\",\"showlegend\":false,\"width\":0.9,\"x\":[36],\"y\":[183],\"type\":\"bar\"},{\"base\":39,\"hovertemplate\":\"EncodedSeq: &lt;AAG&gt;12\\u003cbr\\u003eAllele count: 6\\u003cbr\\u003eFrequency: 0.66%\\u003cextra\\u003e\\u003c\\u002fextra\\u003e\",\"marker\":{\"color\":\"black\"},\"orientation\":\"h\",\"showlegend\":false,\"width\":0.6,\"x\":[11.593406593406595],\"y\":[183],\"type\":\"bar\"},{\"base\":0,\"hovertemplate\":\"&lt;AAG&gt;11\\u003cextra\\u003e\\u003c\\u002fextra\\u003e\",\"marker\":{\"color\":\"bisque\"},\"orientation\":\"h\",\"showlegend\":false,\"width\":0.9,\"x\":[33],\"y\":[184],\"type\":\"bar\"},{\"base\":36,\"hovertemplate\":\"EncodedSeq: &lt;AAG&gt;11\\u003cbr\\u003eAllele count: 40\\u003cbr\\u003eFrequency: 4.38%\\u003cextra\\u003e\\u003c\\u002fextra\\u003e\",\"marker\":{\"color\":\"black\"},\"orientation\":\"h\",\"showlegend\":false,\"width\":0.6,\"x\":[48.956043956043956],\"y\":[184],\"type\":\"bar\"},{\"base\":0,\"hovertemplate\":\"&lt;AAG&gt;10\\u003cextra\\u003e\\u003c\\u002fextra\\u003e\",\"marker\":{\"color\":\"bisque\"},\"orientation\":\"h\",\"showlegend\":false,\"width\":0.9,\"x\":[30],\"y\":[185],\"type\":\"bar\"},{\"base\":33,\"hovertemplate\":\"EncodedSeq: &lt;AAG&gt;10\\u003cbr\\u003eAllele count: 5\\u003cbr\\u003eFrequency: 0.55%\\u003cextra\\u003e\\u003c\\u002fextra\\u003e\",\"marker\":{\"color\":\"black\"},\"orientation\":\"h\",\"showlegend\":false,\"width\":0.6,\"x\":[10.494505494505495],\"y\":[185],\"type\":\"bar\"},{\"base\":0,\"hovertemplate\":\"&lt;AAG&gt;9\\u003cextra\\u003e\\u003c\\u002fextra\\u003e\",\"marker\":{\"color\":\"bisque\"},\"orientation\":\"h\",\"showlegend\":false,\"width\":0.9,\"x\":[27],\"y\":[186],\"type\":\"bar\"},{\"base\":30,\"hovertemplate\":\"EncodedSeq: &lt;AAG&gt;9\\u003cbr\\u003eAllele count: 165\\u003cbr\\u003eFrequency: 18.05%\\u003cextra\\u003e\\u003c\\u002fextra\\u003e\",\"marker\":{\"color\":\"black\"},\"orientation\":\"h\",\"showlegend\":false,\"width\":0.6,\"x\":[186.3186813186813],\"y\":[186],\"type\":\"bar\"},{\"base\":0,\"hovertemplate\":\"&lt;AAG&gt;2\\u003cextra\\u003e\\u003c\\u002fextra\\u003e\",\"marker\":{\"color\":\"bisque\"},\"orientation\":\"h\",\"showlegend\":false,\"width\":0.9,\"x\":[6],\"y\":[187],\"type\":\"bar\"},{\"base\":6,\"hovertemplate\":\"&lt;AG&gt;1\\u003cextra\\u003e\\u003c\\u002fextra\\u003e\",\"marker\":{\"color\":\"#8dd3c7\"},\"orientation\":\"h\",\"showlegend\":false,\"width\":0.9,\"x\":[2],\"y\":[187],\"type\":\"bar\"},{\"base\":8,\"hovertemplate\":\"&lt;AAG&gt;6\\u003cextra\\u003e\\u003c\\u002fextra\\u003e\",\"marker\":{\"color\":\"bisque\"},\"orientation\":\"h\",\"showlegend\":false,\"width\":0.9,\"x\":[18],\"y\":[187],\"type\":\"bar\"},{\"base\":29,\"hovertemplate\":\"EncodedSeq: &lt;AAG&gt;2&lt;AG&gt;1&lt;AAG&gt;6\\u003cbr\\u003eAllele count: 1\\u003cbr\\u003eFrequency: 0.11%\\u003cextra\\u003e\\u003c\\u002fextra\\u003e\",\"marker\":{\"color\":\"black\"},\"orientation\":\"h\",\"showlegend\":false,\"width\":0.6,\"x\":[6.0989010989010985],\"y\":[187],\"type\":\"bar\"},{\"base\":0,\"hovertemplate\":\"&lt;AAG&gt;8\\u003cextra\\u003e\\u003c\\u002fextra\\u003e\",\"marker\":{\"color\":\"bisque\"},\"orientation\":\"h\",\"showlegend\":false,\"width\":0.9,\"x\":[24],\"y\":[188],\"type\":\"bar\"},{\"base\":27,\"hovertemplate\":\"EncodedSeq: &lt;AAG&gt;8\\u003cbr\\u003eAllele count: 182\\u003cbr\\u003eFrequency: 19.91%\\u003cextra\\u003e\\u003c\\u002fextra\\u003e\",\"marker\":{\"color\":\"black\"},\"orientation\":\"h\",\"showlegend\":false,\"width\":0.6,\"x\":[205.0],\"y\":[188],\"type\":\"bar\"},{\"hoverinfo\":\"skip\",\"marker\":{\"color\":\"bisque\",\"size\":20},\"mode\":\"markers\",\"name\":\"AAG\",\"x\":[null],\"y\":[null],\"type\":\"scatter\"},{\"hoverinfo\":\"skip\",\"marker\":{\"color\":\"#6a3d9a\",\"size\":20},\"mode\":\"markers\",\"name\":\"AAAGAAG\",\"x\":[null],\"y\":[null],\"type\":\"scatter\"},{\"hoverinfo\":\"skip\",\"marker\":{\"color\":\"#b2df8a\",\"size\":20},\"mode\":\"markers\",\"name\":\"AAGAGG\",\"x\":[null],\"y\":[null],\"type\":\"scatter\"},{\"hoverinfo\":\"skip\",\"marker\":{\"color\":\"#1f78b4\",\"size\":20},\"mode\":\"markers\",\"name\":\"A\",\"x\":[null],\"y\":[null],\"type\":\"scatter\"},{\"hoverinfo\":\"skip\",\"marker\":{\"color\":\"#33a02c\",\"size\":20},\"mode\":\"markers\",\"name\":\"GAG\",\"x\":[null],\"y\":[null],\"type\":\"scatter\"},{\"hoverinfo\":\"skip\",\"marker\":{\"color\":\"#a6cee3\",\"size\":20},\"mode\":\"markers\",\"name\":\"AAAGAAGAAG\",\"x\":[null],\"y\":[null],\"type\":\"scatter\"},{\"hoverinfo\":\"skip\",\"marker\":{\"color\":\"#e31a1c\",\"size\":20},\"mode\":\"markers\",\"name\":\"AAGAAGAAGAAGCAG\",\"x\":[null],\"y\":[null],\"type\":\"scatter\"},{\"hoverinfo\":\"skip\",\"marker\":{\"color\":\"#fdbf6f\",\"size\":20},\"mode\":\"markers\",\"name\":\"AAGCAG\",\"x\":[null],\"y\":[null],\"type\":\"scatter\"},{\"hoverinfo\":\"skip\",\"marker\":{\"color\":\"#b15928\",\"size\":20},\"mode\":\"markers\",\"name\":\"AAGCAGCAG\",\"x\":[null],\"y\":[null],\"type\":\"scatter\"},{\"hoverinfo\":\"skip\",\"marker\":{\"color\":\"#cab2d6\",\"size\":20},\"mode\":\"markers\",\"name\":\"AAGAAGCAGAAGCAG\",\"x\":[null],\"y\":[null],\"type\":\"scatter\"},{\"hoverinfo\":\"skip\",\"marker\":{\"color\":\"#fb9a99\",\"size\":20},\"mode\":\"markers\",\"name\":\"AAGAAGCAG\",\"x\":[null],\"y\":[null],\"type\":\"scatter\"},{\"hoverinfo\":\"skip\",\"marker\":{\"color\":\"magenta\",\"size\":20},\"mode\":\"markers\",\"name\":\"AAGAAGAAGCAG\",\"x\":[null],\"y\":[null],\"type\":\"scatter\"},{\"hoverinfo\":\"skip\",\"marker\":{\"color\":\"#ffff99\",\"size\":20},\"mode\":\"markers\",\"name\":\"AAGCAGAAGCAGCAG\",\"x\":[null],\"y\":[null],\"type\":\"scatter\"},{\"hoverinfo\":\"skip\",\"marker\":{\"color\":\"#ff7f00\",\"size\":20},\"mode\":\"markers\",\"name\":\"AGG\",\"x\":[null],\"y\":[null],\"type\":\"scatter\"},{\"hoverinfo\":\"skip\",\"marker\":{\"color\":\"#8dd3c7\",\"size\":20},\"mode\":\"markers\",\"name\":\"AG\",\"x\":[null],\"y\":[null],\"type\":\"scatter\"},{\"hoverinfo\":\"skip\",\"marker\":{\"color\":\"#ffed6f\",\"size\":20},\"mode\":\"markers\",\"name\":\"AAGAAGAGG\",\"x\":[null],\"y\":[null],\"type\":\"scatter\"},{\"hoverinfo\":\"skip\",\"marker\":{\"color\":\"#bc80bd\",\"size\":20},\"mode\":\"markers\",\"name\":\"AAAGAAGAAGAAG\",\"x\":[null],\"y\":[null],\"type\":\"scatter\"},{\"hoverinfo\":\"skip\",\"marker\":{\"color\":\"#ccebc5\",\"size\":20},\"mode\":\"markers\",\"name\":\"G\",\"x\":[null],\"y\":[null],\"type\":\"scatter\"},{\"hoverinfo\":\"skip\",\"marker\":{\"color\":\"#fccde5\",\"size\":20},\"mode\":\"markers\",\"name\":\"AAGAGGAGG\",\"x\":[null],\"y\":[null],\"type\":\"scatter\"},{\"hoverinfo\":\"skip\",\"marker\":{\"color\":\"#d9d9d9\",\"size\":20},\"mode\":\"markers\",\"name\":\"AAGAAGGAG\",\"x\":[null],\"y\":[null],\"type\":\"scatter\"},{\"hoverinfo\":\"skip\",\"marker\":{\"color\":\"#ffcc99\",\"size\":20},\"mode\":\"markers\",\"name\":\"AAGAAGGAGGAG\",\"x\":[null],\"y\":[null],\"type\":\"scatter\"},{\"hoverinfo\":\"skip\",\"marker\":{\"color\":\"#999999\",\"size\":20},\"mode\":\"markers\",\"name\":\"AAAG\",\"x\":[null],\"y\":[null],\"type\":\"scatter\"},{\"hoverinfo\":\"skip\",\"marker\":{\"color\":\"gray\",\"size\":20},\"mode\":\"markers\",\"name\":\"Other\",\"x\":[null],\"y\":[null],\"type\":\"scatter\"},{\"hoverinfo\":\"skip\",\"marker\":{\"color\":\"gray\",\"size\":20},\"mode\":\"markers\",\"name\":\"Other\",\"x\":[null],\"y\":[null],\"type\":\"scatter\"}],                        {\"template\":{\"data\":{\"histogram2dcontour\":[{\"type\":\"histogram2dcontour\",\"colorbar\":{\"outlinewidth\":0,\"ticks\":\"\"},\"colorscale\":[[0.0,\"#0d0887\"],[0.1111111111111111,\"#46039f\"],[0.2222222222222222,\"#7201a8\"],[0.3333333333333333,\"#9c179e\"],[0.4444444444444444,\"#bd3786\"],[0.5555555555555556,\"#d8576b\"],[0.6666666666666666,\"#ed7953\"],[0.7777777777777778,\"#fb9f3a\"],[0.8888888888888888,\"#fdca26\"],[1.0,\"#f0f921\"]]}],\"choropleth\":[{\"type\":\"choropleth\",\"colorbar\":{\"outlinewidth\":0,\"ticks\":\"\"}}],\"histogram2d\":[{\"type\":\"histogram2d\",\"colorbar\":{\"outlinewidth\":0,\"ticks\":\"\"},\"colorscale\":[[0.0,\"#0d0887\"],[0.1111111111111111,\"#46039f\"],[0.2222222222222222,\"#7201a8\"],[0.3333333333333333,\"#9c179e\"],[0.4444444444444444,\"#bd3786\"],[0.5555555555555556,\"#d8576b\"],[0.6666666666666666,\"#ed7953\"],[0.7777777777777778,\"#fb9f3a\"],[0.8888888888888888,\"#fdca26\"],[1.0,\"#f0f921\"]]}],\"heatmap\":[{\"type\":\"heatmap\",\"colorbar\":{\"outlinewidth\":0,\"ticks\":\"\"},\"colorscale\":[[0.0,\"#0d0887\"],[0.1111111111111111,\"#46039f\"],[0.2222222222222222,\"#7201a8\"],[0.3333333333333333,\"#9c179e\"],[0.4444444444444444,\"#bd3786\"],[0.5555555555555556,\"#d8576b\"],[0.6666666666666666,\"#ed7953\"],[0.7777777777777778,\"#fb9f3a\"],[0.8888888888888888,\"#fdca26\"],[1.0,\"#f0f921\"]]}],\"heatmapgl\":[{\"type\":\"heatmapgl\",\"colorbar\":{\"outlinewidth\":0,\"ticks\":\"\"},\"colorscale\":[[0.0,\"#0d0887\"],[0.1111111111111111,\"#46039f\"],[0.2222222222222222,\"#7201a8\"],[0.3333333333333333,\"#9c179e\"],[0.4444444444444444,\"#bd3786\"],[0.5555555555555556,\"#d8576b\"],[0.6666666666666666,\"#ed7953\"],[0.7777777777777778,\"#fb9f3a\"],[0.8888888888888888,\"#fdca26\"],[1.0,\"#f0f921\"]]}],\"contourcarpet\":[{\"type\":\"contourcarpet\",\"colorbar\":{\"outlinewidth\":0,\"ticks\":\"\"}}],\"contour\":[{\"type\":\"contour\",\"colorbar\":{\"outlinewidth\":0,\"ticks\":\"\"},\"colorscale\":[[0.0,\"#0d0887\"],[0.1111111111111111,\"#46039f\"],[0.2222222222222222,\"#7201a8\"],[0.3333333333333333,\"#9c179e\"],[0.4444444444444444,\"#bd3786\"],[0.5555555555555556,\"#d8576b\"],[0.6666666666666666,\"#ed7953\"],[0.7777777777777778,\"#fb9f3a\"],[0.8888888888888888,\"#fdca26\"],[1.0,\"#f0f921\"]]}],\"surface\":[{\"type\":\"surface\",\"colorbar\":{\"outlinewidth\":0,\"ticks\":\"\"},\"colorscale\":[[0.0,\"#0d0887\"],[0.1111111111111111,\"#46039f\"],[0.2222222222222222,\"#7201a8\"],[0.3333333333333333,\"#9c179e\"],[0.4444444444444444,\"#bd3786\"],[0.5555555555555556,\"#d8576b\"],[0.6666666666666666,\"#ed7953\"],[0.7777777777777778,\"#fb9f3a\"],[0.8888888888888888,\"#fdca26\"],[1.0,\"#f0f921\"]]}],\"mesh3d\":[{\"type\":\"mesh3d\",\"colorbar\":{\"outlinewidth\":0,\"ticks\":\"\"}}],\"scatter\":[{\"fillpattern\":{\"fillmode\":\"overlay\",\"size\":10,\"solidity\":0.2},\"type\":\"scatter\"}],\"parcoords\":[{\"type\":\"parcoords\",\"line\":{\"colorbar\":{\"outlinewidth\":0,\"ticks\":\"\"}}}],\"scatterpolargl\":[{\"type\":\"scatterpolargl\",\"marker\":{\"colorbar\":{\"outlinewidth\":0,\"ticks\":\"\"}}}],\"bar\":[{\"error_x\":{\"color\":\"#2a3f5f\"},\"error_y\":{\"color\":\"#2a3f5f\"},\"marker\":{\"line\":{\"color\":\"#E5ECF6\",\"width\":0.5},\"pattern\":{\"fillmode\":\"overlay\",\"size\":10,\"solidity\":0.2}},\"type\":\"bar\"}],\"scattergeo\":[{\"type\":\"scattergeo\",\"marker\":{\"colorbar\":{\"outlinewidth\":0,\"ticks\":\"\"}}}],\"scatterpolar\":[{\"type\":\"scatterpolar\",\"marker\":{\"colorbar\":{\"outlinewidth\":0,\"ticks\":\"\"}}}],\"histogram\":[{\"marker\":{\"pattern\":{\"fillmode\":\"overlay\",\"size\":10,\"solidity\":0.2}},\"type\":\"histogram\"}],\"scattergl\":[{\"type\":\"scattergl\",\"marker\":{\"colorbar\":{\"outlinewidth\":0,\"ticks\":\"\"}}}],\"scatter3d\":[{\"type\":\"scatter3d\",\"line\":{\"colorbar\":{\"outlinewidth\":0,\"ticks\":\"\"}},\"marker\":{\"colorbar\":{\"outlinewidth\":0,\"ticks\":\"\"}}}],\"scattermapbox\":[{\"type\":\"scattermapbox\",\"marker\":{\"colorbar\":{\"outlinewidth\":0,\"ticks\":\"\"}}}],\"scatterternary\":[{\"type\":\"scatterternary\",\"marker\":{\"colorbar\":{\"outlinewidth\":0,\"ticks\":\"\"}}}],\"scattercarpet\":[{\"type\":\"scattercarpet\",\"marker\":{\"colorbar\":{\"outlinewidth\":0,\"ticks\":\"\"}}}],\"carpet\":[{\"aaxis\":{\"endlinecolor\":\"#2a3f5f\",\"gridcolor\":\"white\",\"linecolor\":\"white\",\"minorgridcolor\":\"white\",\"startlinecolor\":\"#2a3f5f\"},\"baxis\":{\"endlinecolor\":\"#2a3f5f\",\"gridcolor\":\"white\",\"linecolor\":\"white\",\"minorgridcolor\":\"white\",\"startlinecolor\":\"#2a3f5f\"},\"type\":\"carpet\"}],\"table\":[{\"cells\":{\"fill\":{\"color\":\"#EBF0F8\"},\"line\":{\"color\":\"white\"}},\"header\":{\"fill\":{\"color\":\"#C8D4E3\"},\"line\":{\"color\":\"white\"}},\"type\":\"table\"}],\"barpolar\":[{\"marker\":{\"line\":{\"color\":\"#E5ECF6\",\"width\":0.5},\"pattern\":{\"fillmode\":\"overlay\",\"size\":10,\"solidity\":0.2}},\"type\":\"barpolar\"}],\"pie\":[{\"automargin\":true,\"type\":\"pie\"}]},\"layout\":{\"autotypenumbers\":\"strict\",\"colorway\":[\"#636efa\",\"#EF553B\",\"#00cc96\",\"#ab63fa\",\"#FFA15A\",\"#19d3f3\",\"#FF6692\",\"#B6E880\",\"#FF97FF\",\"#FECB52\"],\"font\":{\"color\":\"#2a3f5f\"},\"hovermode\":\"closest\",\"hoverlabel\":{\"align\":\"left\"},\"paper_bgcolor\":\"white\",\"plot_bgcolor\":\"#E5ECF6\",\"polar\":{\"bgcolor\":\"#E5ECF6\",\"angularaxis\":{\"gridcolor\":\"white\",\"linecolor\":\"white\",\"ticks\":\"\"},\"radialaxis\":{\"gridcolor\":\"white\",\"linecolor\":\"white\",\"ticks\":\"\"}},\"ternary\":{\"bgcolor\":\"#E5ECF6\",\"aaxis\":{\"gridcolor\":\"white\",\"linecolor\":\"white\",\"ticks\":\"\"},\"baxis\":{\"gridcolor\":\"white\",\"linecolor\":\"white\",\"ticks\":\"\"},\"caxis\":{\"gridcolor\":\"white\",\"linecolor\":\"white\",\"ticks\":\"\"}},\"coloraxis\":{\"colorbar\":{\"outlinewidth\":0,\"ticks\":\"\"}},\"colorscale\":{\"sequential\":[[0.0,\"#0d0887\"],[0.1111111111111111,\"#46039f\"],[0.2222222222222222,\"#7201a8\"],[0.3333333333333333,\"#9c179e\"],[0.4444444444444444,\"#bd3786\"],[0.5555555555555556,\"#d8576b\"],[0.6666666666666666,\"#ed7953\"],[0.7777777777777778,\"#fb9f3a\"],[0.8888888888888888,\"#fdca26\"],[1.0,\"#f0f921\"]],\"sequentialminus\":[[0.0,\"#0d0887\"],[0.1111111111111111,\"#46039f\"],[0.2222222222222222,\"#7201a8\"],[0.3333333333333333,\"#9c179e\"],[0.4444444444444444,\"#bd3786\"],[0.5555555555555556,\"#d8576b\"],[0.6666666666666666,\"#ed7953\"],[0.7777777777777778,\"#fb9f3a\"],[0.8888888888888888,\"#fdca26\"],[1.0,\"#f0f921\"]],\"diverging\":[[0,\"#8e0152\"],[0.1,\"#c51b7d\"],[0.2,\"#de77ae\"],[0.3,\"#f1b6da\"],[0.4,\"#fde0ef\"],[0.5,\"#f7f7f7\"],[0.6,\"#e6f5d0\"],[0.7,\"#b8e186\"],[0.8,\"#7fbc41\"],[0.9,\"#4d9221\"],[1,\"#276419\"]]},\"xaxis\":{\"gridcolor\":\"white\",\"linecolor\":\"white\",\"ticks\":\"\",\"title\":{\"standoff\":15},\"zerolinecolor\":\"white\",\"automargin\":true,\"zerolinewidth\":2},\"yaxis\":{\"gridcolor\":\"white\",\"linecolor\":\"white\",\"ticks\":\"\",\"title\":{\"standoff\":15},\"zerolinecolor\":\"white\",\"automargin\":true,\"zerolinewidth\":2},\"scene\":{\"xaxis\":{\"backgroundcolor\":\"#E5ECF6\",\"gridcolor\":\"white\",\"linecolor\":\"white\",\"showbackground\":true,\"ticks\":\"\",\"zerolinecolor\":\"white\",\"gridwidth\":2},\"yaxis\":{\"backgroundcolor\":\"#E5ECF6\",\"gridcolor\":\"white\",\"linecolor\":\"white\",\"showbackground\":true,\"ticks\":\"\",\"zerolinecolor\":\"white\",\"gridwidth\":2},\"zaxis\":{\"backgroundcolor\":\"#E5ECF6\",\"gridcolor\":\"white\",\"linecolor\":\"white\",\"showbackground\":true,\"ticks\":\"\",\"zerolinecolor\":\"white\",\"gridwidth\":2}},\"shapedefaults\":{\"line\":{\"color\":\"#2a3f5f\"}},\"annotationdefaults\":{\"arrowcolor\":\"#2a3f5f\",\"arrowhead\":0,\"arrowwidth\":1},\"geo\":{\"bgcolor\":\"white\",\"landcolor\":\"#E5ECF6\",\"subunitcolor\":\"white\",\"showland\":true,\"showlakes\":true,\"lakecolor\":\"white\"},\"title\":{\"x\":0.05},\"mapbox\":{\"style\":\"light\"}}},\"xaxis\":{\"title\":{\"text\":\"Repeat Length (bp)\"},\"range\":[0,2089]},\"yaxis\":{\"title\":{\"text\":\"Alleles (ranked by length)\"},\"showticklabels\":false,\"autorange\":\"reversed\"},\"legend\":{\"font\":{\"size\":10},\"x\":1.01,\"y\":0,\"yanchor\":\"bottom\",\"title\":{\"text\":\"Motifs\"}},\"margin\":{\"t\":40,\"l\":40,\"r\":180,\"b\":40},\"title\":{\"text\":\"Waterfall Plot with Motif Segments + Allele Frequency Markers\"},\"barmode\":\"stack\",\"height\":1500},                        {\"responsive\": true}                    ).then(function(){\n",
       "                            \n",
       "var gd = document.getElementById('7e63d5a7-abf4-4f2e-a05e-d79721cdc768');\n",
       "var x = new MutationObserver(function (mutations, observer) {{\n",
       "        var display = window.getComputedStyle(gd).display;\n",
       "        if (!display || display === 'none') {{\n",
       "            console.log([gd, 'removed!']);\n",
       "            Plotly.purge(gd);\n",
       "            observer.disconnect();\n",
       "        }}\n",
       "}});\n",
       "\n",
       "// Listen for the removal of the full notebook cells\n",
       "var notebookContainer = gd.closest('#notebook-container');\n",
       "if (notebookContainer) {{\n",
       "    x.observe(notebookContainer, {childList: true});\n",
       "}}\n",
       "\n",
       "// Listen for the clearing of the current output cell\n",
       "var outputEl = gd.closest('.output');\n",
       "if (outputEl) {{\n",
       "    x.observe(outputEl, {childList: true});\n",
       "}}\n",
       "\n",
       "                        })                };                });            </script>        </div>"
      ]
     },
     "metadata": {},
     "output_type": "display_data"
    }
   ],
   "source": [
    "import pandas as pd\n",
    "import plotly.graph_objs as go\n",
    "import re\n",
    "from collections import Counter\n",
    "import html\n",
    "\n",
    "# Your predefined color palette\n",
    "qPalette = [\n",
    "    'bisque',        # A\n",
    "    '#6a3d9a',       # B\n",
    "    '#b2df8a',       # C\n",
    "    '#1f78b4',       # D\n",
    "    '#33a02c',       # E\n",
    "    '#a6cee3',       # F\n",
    "    '#e31a1c',       # G\n",
    "    '#fdbf6f',       # H\n",
    "    '#b15928',       # I\n",
    "    '#cab2d6',       # J\n",
    "    '#fb9a99',       # K\n",
    "    'magenta',       # L\n",
    "    '#ffff99',       # M\n",
    "    '#ff7f00',       # N\n",
    "    '#8dd3c7',       # P\n",
    "    '#ffed6f',       # Q\n",
    "    '#bc80bd',       # R\n",
    "    '#ccebc5',       # S\n",
    "    '#fccde5',       # T\n",
    "    '#d9d9d9',       # U\n",
    "    '#ffcc99',       # V\n",
    "    '#999999'        # O (Other)\n",
    "]\n",
    "\n",
    "def generate_motif_color_map(encoded_seqs, min_count=1):\n",
    "    motif_counter = Counter()\n",
    "    for seq in encoded_seqs:\n",
    "        if not isinstance(seq, str): continue\n",
    "        for motif, count in re.findall(r'<([^<>]+)>(\\d+)', seq):\n",
    "            motif_counter[motif] += int(count)\n",
    "\n",
    "    filtered = [motif for motif, count in motif_counter.items() if count >= min_count]\n",
    "    color_map = {}\n",
    "    for i, motif in enumerate(filtered):\n",
    "        color_map[motif] = qPalette[i] if i < len(qPalette) else 'gray'\n",
    "\n",
    "    return color_map\n",
    "\n",
    "def compute_repeat_length(encoded):\n",
    "    return sum(len(m) * int(n) for m, n in re.findall(r'<([^<>]+)>(\\d+)', encoded))\n",
    "\n",
    "def plot_segmented_waterfall_with_freq(df, motif_to_color, top_n=None):\n",
    "    allele_counts = df['encodedSeq'].value_counts().reset_index()\n",
    "    allele_counts.columns = ['encodedSeq', 'count']\n",
    "    allele_counts['repeat_length'] = allele_counts['encodedSeq'].apply(compute_repeat_length)\n",
    "    total = allele_counts['count'].sum()\n",
    "\n",
    "    if top_n:\n",
    "        allele_counts = allele_counts.head(top_n)\n",
    "    allele_counts = allele_counts.sort_values('repeat_length', ascending=False).reset_index(drop=True)\n",
    "\n",
    "    fig = go.Figure()\n",
    "    max_freq = allele_counts['count'].max()\n",
    "    max_length = allele_counts['repeat_length'].max()\n",
    "\n",
    "    legend_motifs = set()\n",
    "\n",
    "    for i, row in allele_counts.iterrows():\n",
    "        encoded = row['encodedSeq']\n",
    "        count = row['count']\n",
    "        freq = count / total\n",
    "        y_val = i\n",
    "        x_start = 0\n",
    "\n",
    "        for motif, n in re.findall(r'<([^<>]+)>(\\d+)', encoded):\n",
    "            n = int(n)\n",
    "            seg_len = len(motif) * n\n",
    "            color = motif_to_color.get(motif, 'gray')\n",
    "            legend_motifs.add(motif if color != 'gray' else 'Other')\n",
    "            label = f\"&lt;{motif}&gt;{n}\"\n",
    "\n",
    "            fig.add_trace(go.Bar(\n",
    "                x=[seg_len],\n",
    "                y=[y_val],\n",
    "                base=x_start,\n",
    "                orientation='h',\n",
    "                marker=dict(color=color),\n",
    "                hovertemplate=label + \"<extra></extra>\",\n",
    "                showlegend=False,\n",
    "                width=0.9\n",
    "            ))\n",
    "            x_start += seg_len\n",
    "\n",
    "        freq_width = 5 + 200 * (count / max_freq)\n",
    "        fig.add_trace(go.Bar(\n",
    "            x=[freq_width],\n",
    "            y=[y_val],\n",
    "            base=x_start + 3,\n",
    "            orientation='h',\n",
    "            marker=dict(color='black'),\n",
    "            hovertemplate=(\n",
    "                f\"EncodedSeq: {html.escape(encoded)}<br>\"\n",
    "                f\"Allele count: {count}<br>\"\n",
    "                f\"Frequency: {freq:.2%}<extra></extra>\"\n",
    "            ),\n",
    "            showlegend=False,\n",
    "            width=0.6\n",
    "        ))\n",
    "\n",
    "    # Add legend separately\n",
    "    for motif, color in motif_to_color.items():\n",
    "        legend_name = motif if color != 'gray' else 'Other'\n",
    "        if legend_name in legend_motifs:\n",
    "            fig.add_trace(go.Scatter(\n",
    "                x=[None], y=[None],\n",
    "                mode='markers',\n",
    "                marker=dict(size=20, color=color),\n",
    "                name=legend_name,\n",
    "                hoverinfo='skip'\n",
    "            ))\n",
    "\n",
    "    fig.update_layout(\n",
    "        title=\"Waterfall Plot with Motif Segments + Allele Frequency Markers\",\n",
    "        xaxis=dict(\n",
    "            title='Repeat Length (bp)',\n",
    "            range=[0, max_length + 250]\n",
    "        ),\n",
    "        yaxis=dict(\n",
    "            title='Alleles (ranked by length)',\n",
    "            showticklabels=False,\n",
    "            autorange='reversed'\n",
    "        ),\n",
    "        barmode='stack',\n",
    "        height=1500,\n",
    "        legend=dict(\n",
    "            x=1.01,\n",
    "            y=0,\n",
    "            yanchor='bottom',\n",
    "            font=dict(size=10),\n",
    "            title='Motifs'\n",
    "        ),\n",
    "        margin=dict(t=40, l=40, r=180, b=40)\n",
    "    )\n",
    "\n",
    "    fig.show()\n",
    "\n",
    "\n",
    "# Example usage\n",
    "# df = pd.read_csv('your_data.csv')\n",
    "motif_to_color = generate_motif_color_map(df['encodedSeq'], min_count=3)\n",
    "plot_segmented_waterfall_with_freq(df, motif_to_color)\n"
   ]
  }
 ],
 "metadata": {
  "kernelspec": {
   "display_name": "Python 3 (ipykernel)",
   "language": "python",
   "name": "python3"
  },
  "language_info": {
   "codemirror_mode": {
    "name": "ipython",
    "version": 3
   },
   "file_extension": ".py",
   "mimetype": "text/x-python",
   "name": "python",
   "nbconvert_exporter": "python",
   "pygments_lexer": "ipython3",
   "version": "3.11.5"
  }
 },
 "nbformat": 4,
 "nbformat_minor": 5
}
