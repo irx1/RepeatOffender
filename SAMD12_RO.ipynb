{
 "cells": [
  {
   "cell_type": "code",
   "execution_count": 6,
   "id": "d0f4389b-d54e-437b-aae5-3972d88fe0f6",
   "metadata": {},
   "outputs": [],
   "source": [
    "\n"
   ]
  },
  {
   "cell_type": "code",
   "execution_count": 129,
   "id": "9a014aa1-f44c-4f3c-b775-964d7a09467a",
   "metadata": {},
   "outputs": [
    {
     "data": {
      "application/vnd.plotly.v1+json": {
       "config": {
        "plotlyServerURL": "https://plot.ly"
       },
       "data": [
        {
         "alignmentgroup": "True",
         "customdata": [
          [
           "<TAAAA>2<TAA>1<TAAAA>3"
          ],
          [
           "<TAAAA>10<TAA>1<TAAAA>7"
          ],
          [
           "<TAAAA>11<TAA>1<TAAAA>7<br><TAAAA>12<TAA>1<TAAAA>6"
          ],
          [
           "<TAAAA>12<TAA>1<TAAAA>7<br><TAAAA>13<TAA>1<TAAAA>6"
          ],
          [
           "<TAAAA>13<TAA>1<TAAAA>7<br><TAAAA>14<TAA>1<TAAAA>6<br><TAAAA>15<TAA>1<TAAAA>5"
          ],
          [
           "<TAAAA>11<A>3<TAAAA>2<TAA>1<TAAAA>7"
          ],
          [
           "<TAAAA>14<TAA>1<TAAAA>7<br><TAAAA>16<TAA>1<TAAAA>5<br><TAAAA>15<TAA>1<TAAAA>6<br><TAAAA>13<TAA>1<TAAAA>8"
          ],
          [
           "<TAAAA>15<TAA>1<TAAAA>7<br><TAAAA>16<TAA>1<TAAAA>6"
          ],
          [
           "<TAAAA>16<TAA>1<TAAAA>7<br><TAAAA>17<TAA>1<TAAAA>6"
          ],
          [
           "<TAAAA>17<TAA>1<TAAAA>7"
          ],
          [
           "<TAAAA>18<TAA>1<TAAAA>7<br><TAAAA>19<TAA>1<TAAAA>6"
          ],
          [
           "<TAAAA>19<TAA>1<TAAAA>7<br><TAAAA>20<TAA>1<TAAAA>6"
          ],
          [
           "<TAAAA>20<TAA>1<TAAAA>7<br><TAAAA>21<TAA>1<TAAAA>6"
          ],
          [
           "<TAAAA>21<TAA>1<TAAAA>7<br><TAAAA>22<TAA>1<TAAAA>6<br><TAAAA>20<TAA>1<TAAAA>8"
          ],
          [
           "<TAAAA>22<TAA>1<TAAAA>7<br><TAAAA>23<TAA>1<TAAAA>6"
          ],
          [
           "<TAAAA>23<TAA>1<TAAAA>7"
          ],
          [
           "<TAAAA>24<TAA>1<TAAAA>7<br><TAAAA>25<TAA>1<TAAAA>6<br><TAAAA>26<TAA>1<TAAAA>5<br><TAAAA>23<TAA>1<TAAAA>8"
          ],
          [
           "<TAAAA>26<TAA>1<TAAAA>6"
          ],
          [
           "<TAAAA>26<TAA>1<TAAAA>7"
          ],
          [
           "<TAAAA>27<TAA>1<TAAAA>7"
          ],
          [
           "<TAAAA>28<TAA>1<TAAAA>7"
          ],
          [
           "<TAAAA>29<TAA>1<TAAAA>7"
          ],
          [
           "<TAAAA>31<TAA>1<TAAAA>7"
          ],
          [
           "<TAAAA>37<TAA>1<TAAAA>7"
          ],
          [
           "<TAAAA>52<TAA>1<TAAAA>6"
          ],
          [
           "<TAAAA>54<TAA>1<TAAAA>6"
          ],
          [
           "<TAAAA>63<TAA>1<TAAAA>7"
          ],
          [
           "<TAAAA>112<TAA>1<TAAAA>3"
          ],
          [
           "<TAAAA>7<A>3<TAAAA>118<TAA>1<TAAAA>3"
          ],
          [
           "<TAAAA>298<TAA>1<TAAAA>7"
          ],
          [
           "<TAAAA>400<TAA>1<TAAAA>5"
          ],
          [
           "<TAAAA>407<TAA>1<TAAAA>7"
          ],
          [
           "<TAAAA>1060<TAA>1<TAAAA>4"
          ]
         ],
         "hovertemplate": "Haplotype=<TAAAA>2-1060<TAA>1<TAAAA>3-8<br>repeatLength=%{x}<br>Allele Count=%{y}<br>encodedSeq=%{customdata[0]}<extra></extra>",
         "legendgroup": "<TAAAA>2-1060<TAA>1<TAAAA>3-8",
         "marker": {
          "color": "#636efa",
          "pattern": {
           "shape": ""
          }
         },
         "name": "<TAAAA>2-1060<TAA>1<TAAAA>3-8",
         "offsetgroup": "<TAAAA>2-1060<TAA>1<TAAAA>3-8",
         "orientation": "v",
         "showlegend": true,
         "textposition": "auto",
         "type": "bar",
         "x": [
          28,
          88,
          93,
          98,
          103,
          106,
          108,
          113,
          118,
          123,
          128,
          133,
          138,
          143,
          148,
          153,
          158,
          163,
          168,
          173,
          178,
          183,
          193,
          223,
          293,
          303,
          353,
          578,
          646,
          1528,
          2028,
          2073,
          5323
         ],
         "xaxis": "x",
         "y": [
          1,
          2,
          13,
          27,
          46,
          2,
          42,
          16,
          19,
          3,
          7,
          7,
          3,
          6,
          4,
          2,
          4,
          3,
          3,
          1,
          2,
          1,
          1,
          1,
          1,
          2,
          1,
          1,
          1,
          1,
          1,
          1,
          1
         ],
         "yaxis": "y"
        },
        {
         "alignmentgroup": "True",
         "customdata": [
          [
           "<TAAAA>9"
          ],
          [
           "<TAAAA>10"
          ],
          [
           "<TAAAA>11"
          ],
          [
           "<TAAAA>12"
          ],
          [
           "<TAAAA>13"
          ],
          [
           "<TAAAA>14"
          ],
          [
           "<TAAAA>15"
          ],
          [
           "<TAAAA>16"
          ],
          [
           "<TAAAA>18"
          ],
          [
           "<TAAAA>19"
          ],
          [
           "<TAAAA>20"
          ],
          [
           "<TAAAA>21"
          ],
          [
           "<TAAAA>22"
          ],
          [
           "<TAAAA>16<A>2<TAAAA>6"
          ],
          [
           "<TAAAA>23"
          ],
          [
           "<TAAAA>25"
          ],
          [
           "<TAAAA>35"
          ],
          [
           "<TAAAA>37"
          ],
          [
           "<TAAAA>56"
          ],
          [
           "<TAAAA>165<A>1<TAAAA>546<A>4<TAAAA>4<A>4<TAAAA>2<A>3<TAAAA>4"
          ],
          [
           "<TAAAA>351<A>4<TAAAA>455<A>3<TAAAA>4"
          ]
         ],
         "hovertemplate": "Haplotype=<TAAAA>9-810<br>repeatLength=%{x}<br>Allele Count=%{y}<br>encodedSeq=%{customdata[0]}<extra></extra>",
         "legendgroup": "<TAAAA>9-810",
         "marker": {
          "color": "#EF553B",
          "pattern": {
           "shape": ""
          }
         },
         "name": "<TAAAA>9-810",
         "offsetgroup": "<TAAAA>9-810",
         "orientation": "v",
         "showlegend": true,
         "textposition": "auto",
         "type": "bar",
         "x": [
          45,
          50,
          55,
          60,
          65,
          70,
          75,
          80,
          90,
          95,
          100,
          105,
          110,
          112,
          115,
          125,
          175,
          185,
          280,
          3617,
          4057
         ],
         "xaxis": "x",
         "y": [
          22,
          7,
          15,
          88,
          92,
          24,
          9,
          1,
          1,
          1,
          2,
          1,
          3,
          2,
          1,
          1,
          1,
          1,
          1,
          1,
          1
         ],
         "yaxis": "y"
        },
        {
         "alignmentgroup": "True",
         "customdata": [
          [
           "<TAAAA>4<TATAA>1<TAAAA>6<TAA>1<TAAAA>5"
          ],
          [
           "<TAAAA>4<TATAA>1<TAAAA>6<TAA>1<TAAAA>6<br><TAAAA>4<TATAA>1<TAAAA>7<TAA>1<TAAAA>5"
          ],
          [
           "<TAAAA>4<TATAA>1<TAAAA>7<TAA>1<TAAAA>6"
          ],
          [
           "<TAAAA>4<TATAA>1<TAAAA>8<TAA>1<TAAAA>6<br><TAAAA>4<TATAA>1<TAAAA>6<TAA>1<TAAAA>8<br><TAAAA>4<TATAA>1<TAAAA>7<TAA>1<TAAAA>7<br><TAAAA>5<TATAA>1<TAAAA>7<TAA>1<TAAAA>6"
          ],
          [
           "<TAAAA>4<TATAA>1<TAAAA>7<TAA>1<TAAAA>8<br><TAAAA>4<TATAA>1<TAAAA>9<TAA>1<TAAAA>6<br><TAAAA>4<TATAA>1<TAAAA>8<TAA>1<TAAAA>7"
          ],
          [
           "<TAAAA>4<TATAA>1<TAAAA>7<TAA>1<TAAAA>9<br><TAAAA>4<TATAA>1<TAAAA>8<TAA>1<TAAAA>8<br><TAAAA>4<TATAA>1<TAAAA>9<TAA>1<TAAAA>7<br><TAAAA>4<TATAA>1<TAAAA>10<TAA>1<TAAAA>6"
          ],
          [
           "<TAAAA>4<TATAA>1<TAAAA>10<TAA>1<TAAAA>7<br><TAAAA>4<TATAA>1<TAAAA>8<TAA>1<TAAAA>9<br><TAAAA>4<TATAA>1<TAAAA>9<TAA>1<TAAAA>8<br><TAAAA>4<TATAA>1<TAAAA>11<TAA>1<TAAAA>6"
          ],
          [
           "<TAAAA>4<TATAA>1<TAAAA>9<TAA>1<TAAAA>9<br><TAAAA>4<TATAA>1<TAAAA>11<TAA>1<TAAAA>7"
          ],
          [
           "<TAAAA>4<TATAA>1<TAAAA>10<TAA>1<TAAAA>9"
          ],
          [
           "<TAAAA>4<TATAA>1<TAAAA>11<TAA>1<TAAAA>9"
          ]
         ],
         "hovertemplate": "Haplotype=<TAAAA>4-5<TATAA>1<TAAAA>6-11<TAA>1<TAAAA>5-9<br>repeatLength=%{x}<br>Allele Count=%{y}<br>encodedSeq=%{customdata[0]}<extra></extra>",
         "legendgroup": "<TAAAA>4-5<TATAA>1<TAAAA>6-11<TAA>1<TAAAA>5-9",
         "marker": {
          "color": "#00cc96",
          "pattern": {
           "shape": ""
          }
         },
         "name": "<TAAAA>4-5<TATAA>1<TAAAA>6-11<TAA>1<TAAAA>5-9",
         "offsetgroup": "<TAAAA>4-5<TATAA>1<TAAAA>6-11<TAA>1<TAAAA>5-9",
         "orientation": "v",
         "showlegend": true,
         "textposition": "auto",
         "type": "bar",
         "x": [
          83,
          88,
          93,
          98,
          103,
          108,
          113,
          118,
          123,
          128
         ],
         "xaxis": "x",
         "y": [
          1,
          5,
          161,
          32,
          24,
          119,
          47,
          13,
          1,
          1
         ],
         "yaxis": "y"
        },
        {
         "alignmentgroup": "True",
         "customdata": [
          [
           "<TAAAA>4<TATAA>1<TAAAA>6<TAATAA>1<TAAAA>6"
          ],
          [
           "<TAAAA>11<TAATAATAA>1<TAAAA>6<br><TAAAA>4<TATAA>1<TAAAA>7<TAATAATAA>1<TAAAA>5"
          ],
          [
           "<TAAAA>4<TATAA>1<TAAAA>7<TAATAATAA>1<TAAAA>6"
          ],
          [
           "<TAAAA>4<TATAA>1<TAAAA>8<TAATAA>1<TAAAA>6"
          ],
          [
           "<TAAAA>4<TATAA>1<TAAAA>8<TAATAA>1<TAAAA>7"
          ],
          [
           "<TAAAA>4<TATAA>1<TAAAA>8<TAATAATATAA>1<TAAAA>7<br><TAAAA>4<TATAA>1<TAAAA>9<TAATAA>1<TAAAA>7"
          ],
          [
           "<TAAAA>193<TA>1<TAAAA>122"
          ],
          [
           "<TAAAA>3<TAAA>1<TAAAA>66<TGGAAATAAA>1<TAAAA>27<TGGAAATAAA>1<TAAAA>115<TAAA>1<TAAAA>79<TGGAA>1<TAAAA>182<TGGAA>1<TAAAA>262<TGGAA>1<TAAAA>174<TAGAA>1<TAAAA>11<TAGAATAGAA>1<TAAAA>56"
          ]
         ],
         "hovertemplate": "Haplotype=Other<br>repeatLength=%{x}<br>Allele Count=%{y}<br>encodedSeq=%{customdata[0]}<extra></extra>",
         "legendgroup": "Other",
         "marker": {
          "color": "#ab63fa",
          "pattern": {
           "shape": ""
          }
         },
         "name": "Other",
         "offsetgroup": "Other",
         "orientation": "v",
         "showlegend": true,
         "textposition": "auto",
         "type": "bar",
         "x": [
          91,
          94,
          99,
          101,
          106,
          111,
          1577,
          4933
         ],
         "xaxis": "x",
         "y": [
          1,
          2,
          2,
          1,
          1,
          3,
          1,
          1
         ],
         "yaxis": "y"
        },
        {
         "alignmentgroup": "True",
         "customdata": [
          [
           "<TAAAA>4<TATAA>1<TAAAA>8<A>2<TAAAA>7"
          ],
          [
           "<TAAAA>4<TATAA>1<TAAAA>16"
          ],
          [
           "<TAAAA>4<TATAA>1<TAAAA>11<A>2<TAAAA>6"
          ]
         ],
         "hovertemplate": "Haplotype=<TAAAA>4<TATAA>1<TAAAA>15-17<br>repeatLength=%{x}<br>Allele Count=%{y}<br>encodedSeq=%{customdata[0]}<extra></extra>",
         "legendgroup": "<TAAAA>4<TATAA>1<TAAAA>15-17",
         "marker": {
          "color": "#FFA15A",
          "pattern": {
           "shape": ""
          }
         },
         "name": "<TAAAA>4<TATAA>1<TAAAA>15-17",
         "offsetgroup": "<TAAAA>4<TATAA>1<TAAAA>15-17",
         "orientation": "v",
         "showlegend": true,
         "textposition": "auto",
         "type": "bar",
         "x": [
          102,
          105,
          112
         ],
         "xaxis": "x",
         "y": [
          1,
          3,
          1
         ],
         "yaxis": "y"
        }
       ],
       "layout": {
        "barmode": "stack",
        "height": 500,
        "legend": {
         "orientation": "h",
         "title": {
          "text": "Haplotype"
         },
         "tracegroupgap": 0,
         "x": 0.5,
         "xanchor": "center",
         "y": -0.3,
         "yanchor": "bottom"
        },
        "template": {
         "data": {
          "bar": [
           {
            "error_x": {
             "color": "#2a3f5f"
            },
            "error_y": {
             "color": "#2a3f5f"
            },
            "marker": {
             "line": {
              "color": "#E5ECF6",
              "width": 0.5
             },
             "pattern": {
              "fillmode": "overlay",
              "size": 10,
              "solidity": 0.2
             }
            },
            "type": "bar"
           }
          ],
          "barpolar": [
           {
            "marker": {
             "line": {
              "color": "#E5ECF6",
              "width": 0.5
             },
             "pattern": {
              "fillmode": "overlay",
              "size": 10,
              "solidity": 0.2
             }
            },
            "type": "barpolar"
           }
          ],
          "carpet": [
           {
            "aaxis": {
             "endlinecolor": "#2a3f5f",
             "gridcolor": "white",
             "linecolor": "white",
             "minorgridcolor": "white",
             "startlinecolor": "#2a3f5f"
            },
            "baxis": {
             "endlinecolor": "#2a3f5f",
             "gridcolor": "white",
             "linecolor": "white",
             "minorgridcolor": "white",
             "startlinecolor": "#2a3f5f"
            },
            "type": "carpet"
           }
          ],
          "choropleth": [
           {
            "colorbar": {
             "outlinewidth": 0,
             "ticks": ""
            },
            "type": "choropleth"
           }
          ],
          "contour": [
           {
            "colorbar": {
             "outlinewidth": 0,
             "ticks": ""
            },
            "colorscale": [
             [
              0,
              "#0d0887"
             ],
             [
              0.1111111111111111,
              "#46039f"
             ],
             [
              0.2222222222222222,
              "#7201a8"
             ],
             [
              0.3333333333333333,
              "#9c179e"
             ],
             [
              0.4444444444444444,
              "#bd3786"
             ],
             [
              0.5555555555555556,
              "#d8576b"
             ],
             [
              0.6666666666666666,
              "#ed7953"
             ],
             [
              0.7777777777777778,
              "#fb9f3a"
             ],
             [
              0.8888888888888888,
              "#fdca26"
             ],
             [
              1,
              "#f0f921"
             ]
            ],
            "type": "contour"
           }
          ],
          "contourcarpet": [
           {
            "colorbar": {
             "outlinewidth": 0,
             "ticks": ""
            },
            "type": "contourcarpet"
           }
          ],
          "heatmap": [
           {
            "colorbar": {
             "outlinewidth": 0,
             "ticks": ""
            },
            "colorscale": [
             [
              0,
              "#0d0887"
             ],
             [
              0.1111111111111111,
              "#46039f"
             ],
             [
              0.2222222222222222,
              "#7201a8"
             ],
             [
              0.3333333333333333,
              "#9c179e"
             ],
             [
              0.4444444444444444,
              "#bd3786"
             ],
             [
              0.5555555555555556,
              "#d8576b"
             ],
             [
              0.6666666666666666,
              "#ed7953"
             ],
             [
              0.7777777777777778,
              "#fb9f3a"
             ],
             [
              0.8888888888888888,
              "#fdca26"
             ],
             [
              1,
              "#f0f921"
             ]
            ],
            "type": "heatmap"
           }
          ],
          "heatmapgl": [
           {
            "colorbar": {
             "outlinewidth": 0,
             "ticks": ""
            },
            "colorscale": [
             [
              0,
              "#0d0887"
             ],
             [
              0.1111111111111111,
              "#46039f"
             ],
             [
              0.2222222222222222,
              "#7201a8"
             ],
             [
              0.3333333333333333,
              "#9c179e"
             ],
             [
              0.4444444444444444,
              "#bd3786"
             ],
             [
              0.5555555555555556,
              "#d8576b"
             ],
             [
              0.6666666666666666,
              "#ed7953"
             ],
             [
              0.7777777777777778,
              "#fb9f3a"
             ],
             [
              0.8888888888888888,
              "#fdca26"
             ],
             [
              1,
              "#f0f921"
             ]
            ],
            "type": "heatmapgl"
           }
          ],
          "histogram": [
           {
            "marker": {
             "pattern": {
              "fillmode": "overlay",
              "size": 10,
              "solidity": 0.2
             }
            },
            "type": "histogram"
           }
          ],
          "histogram2d": [
           {
            "colorbar": {
             "outlinewidth": 0,
             "ticks": ""
            },
            "colorscale": [
             [
              0,
              "#0d0887"
             ],
             [
              0.1111111111111111,
              "#46039f"
             ],
             [
              0.2222222222222222,
              "#7201a8"
             ],
             [
              0.3333333333333333,
              "#9c179e"
             ],
             [
              0.4444444444444444,
              "#bd3786"
             ],
             [
              0.5555555555555556,
              "#d8576b"
             ],
             [
              0.6666666666666666,
              "#ed7953"
             ],
             [
              0.7777777777777778,
              "#fb9f3a"
             ],
             [
              0.8888888888888888,
              "#fdca26"
             ],
             [
              1,
              "#f0f921"
             ]
            ],
            "type": "histogram2d"
           }
          ],
          "histogram2dcontour": [
           {
            "colorbar": {
             "outlinewidth": 0,
             "ticks": ""
            },
            "colorscale": [
             [
              0,
              "#0d0887"
             ],
             [
              0.1111111111111111,
              "#46039f"
             ],
             [
              0.2222222222222222,
              "#7201a8"
             ],
             [
              0.3333333333333333,
              "#9c179e"
             ],
             [
              0.4444444444444444,
              "#bd3786"
             ],
             [
              0.5555555555555556,
              "#d8576b"
             ],
             [
              0.6666666666666666,
              "#ed7953"
             ],
             [
              0.7777777777777778,
              "#fb9f3a"
             ],
             [
              0.8888888888888888,
              "#fdca26"
             ],
             [
              1,
              "#f0f921"
             ]
            ],
            "type": "histogram2dcontour"
           }
          ],
          "mesh3d": [
           {
            "colorbar": {
             "outlinewidth": 0,
             "ticks": ""
            },
            "type": "mesh3d"
           }
          ],
          "parcoords": [
           {
            "line": {
             "colorbar": {
              "outlinewidth": 0,
              "ticks": ""
             }
            },
            "type": "parcoords"
           }
          ],
          "pie": [
           {
            "automargin": true,
            "type": "pie"
           }
          ],
          "scatter": [
           {
            "fillpattern": {
             "fillmode": "overlay",
             "size": 10,
             "solidity": 0.2
            },
            "type": "scatter"
           }
          ],
          "scatter3d": [
           {
            "line": {
             "colorbar": {
              "outlinewidth": 0,
              "ticks": ""
             }
            },
            "marker": {
             "colorbar": {
              "outlinewidth": 0,
              "ticks": ""
             }
            },
            "type": "scatter3d"
           }
          ],
          "scattercarpet": [
           {
            "marker": {
             "colorbar": {
              "outlinewidth": 0,
              "ticks": ""
             }
            },
            "type": "scattercarpet"
           }
          ],
          "scattergeo": [
           {
            "marker": {
             "colorbar": {
              "outlinewidth": 0,
              "ticks": ""
             }
            },
            "type": "scattergeo"
           }
          ],
          "scattergl": [
           {
            "marker": {
             "colorbar": {
              "outlinewidth": 0,
              "ticks": ""
             }
            },
            "type": "scattergl"
           }
          ],
          "scattermapbox": [
           {
            "marker": {
             "colorbar": {
              "outlinewidth": 0,
              "ticks": ""
             }
            },
            "type": "scattermapbox"
           }
          ],
          "scatterpolar": [
           {
            "marker": {
             "colorbar": {
              "outlinewidth": 0,
              "ticks": ""
             }
            },
            "type": "scatterpolar"
           }
          ],
          "scatterpolargl": [
           {
            "marker": {
             "colorbar": {
              "outlinewidth": 0,
              "ticks": ""
             }
            },
            "type": "scatterpolargl"
           }
          ],
          "scatterternary": [
           {
            "marker": {
             "colorbar": {
              "outlinewidth": 0,
              "ticks": ""
             }
            },
            "type": "scatterternary"
           }
          ],
          "surface": [
           {
            "colorbar": {
             "outlinewidth": 0,
             "ticks": ""
            },
            "colorscale": [
             [
              0,
              "#0d0887"
             ],
             [
              0.1111111111111111,
              "#46039f"
             ],
             [
              0.2222222222222222,
              "#7201a8"
             ],
             [
              0.3333333333333333,
              "#9c179e"
             ],
             [
              0.4444444444444444,
              "#bd3786"
             ],
             [
              0.5555555555555556,
              "#d8576b"
             ],
             [
              0.6666666666666666,
              "#ed7953"
             ],
             [
              0.7777777777777778,
              "#fb9f3a"
             ],
             [
              0.8888888888888888,
              "#fdca26"
             ],
             [
              1,
              "#f0f921"
             ]
            ],
            "type": "surface"
           }
          ],
          "table": [
           {
            "cells": {
             "fill": {
              "color": "#EBF0F8"
             },
             "line": {
              "color": "white"
             }
            },
            "header": {
             "fill": {
              "color": "#C8D4E3"
             },
             "line": {
              "color": "white"
             }
            },
            "type": "table"
           }
          ]
         },
         "layout": {
          "annotationdefaults": {
           "arrowcolor": "#2a3f5f",
           "arrowhead": 0,
           "arrowwidth": 1
          },
          "autotypenumbers": "strict",
          "coloraxis": {
           "colorbar": {
            "outlinewidth": 0,
            "ticks": ""
           }
          },
          "colorscale": {
           "diverging": [
            [
             0,
             "#8e0152"
            ],
            [
             0.1,
             "#c51b7d"
            ],
            [
             0.2,
             "#de77ae"
            ],
            [
             0.3,
             "#f1b6da"
            ],
            [
             0.4,
             "#fde0ef"
            ],
            [
             0.5,
             "#f7f7f7"
            ],
            [
             0.6,
             "#e6f5d0"
            ],
            [
             0.7,
             "#b8e186"
            ],
            [
             0.8,
             "#7fbc41"
            ],
            [
             0.9,
             "#4d9221"
            ],
            [
             1,
             "#276419"
            ]
           ],
           "sequential": [
            [
             0,
             "#0d0887"
            ],
            [
             0.1111111111111111,
             "#46039f"
            ],
            [
             0.2222222222222222,
             "#7201a8"
            ],
            [
             0.3333333333333333,
             "#9c179e"
            ],
            [
             0.4444444444444444,
             "#bd3786"
            ],
            [
             0.5555555555555556,
             "#d8576b"
            ],
            [
             0.6666666666666666,
             "#ed7953"
            ],
            [
             0.7777777777777778,
             "#fb9f3a"
            ],
            [
             0.8888888888888888,
             "#fdca26"
            ],
            [
             1,
             "#f0f921"
            ]
           ],
           "sequentialminus": [
            [
             0,
             "#0d0887"
            ],
            [
             0.1111111111111111,
             "#46039f"
            ],
            [
             0.2222222222222222,
             "#7201a8"
            ],
            [
             0.3333333333333333,
             "#9c179e"
            ],
            [
             0.4444444444444444,
             "#bd3786"
            ],
            [
             0.5555555555555556,
             "#d8576b"
            ],
            [
             0.6666666666666666,
             "#ed7953"
            ],
            [
             0.7777777777777778,
             "#fb9f3a"
            ],
            [
             0.8888888888888888,
             "#fdca26"
            ],
            [
             1,
             "#f0f921"
            ]
           ]
          },
          "colorway": [
           "#636efa",
           "#EF553B",
           "#00cc96",
           "#ab63fa",
           "#FFA15A",
           "#19d3f3",
           "#FF6692",
           "#B6E880",
           "#FF97FF",
           "#FECB52"
          ],
          "font": {
           "color": "#2a3f5f"
          },
          "geo": {
           "bgcolor": "white",
           "lakecolor": "white",
           "landcolor": "#E5ECF6",
           "showlakes": true,
           "showland": true,
           "subunitcolor": "white"
          },
          "hoverlabel": {
           "align": "left"
          },
          "hovermode": "closest",
          "mapbox": {
           "style": "light"
          },
          "paper_bgcolor": "white",
          "plot_bgcolor": "#E5ECF6",
          "polar": {
           "angularaxis": {
            "gridcolor": "white",
            "linecolor": "white",
            "ticks": ""
           },
           "bgcolor": "#E5ECF6",
           "radialaxis": {
            "gridcolor": "white",
            "linecolor": "white",
            "ticks": ""
           }
          },
          "scene": {
           "xaxis": {
            "backgroundcolor": "#E5ECF6",
            "gridcolor": "white",
            "gridwidth": 2,
            "linecolor": "white",
            "showbackground": true,
            "ticks": "",
            "zerolinecolor": "white"
           },
           "yaxis": {
            "backgroundcolor": "#E5ECF6",
            "gridcolor": "white",
            "gridwidth": 2,
            "linecolor": "white",
            "showbackground": true,
            "ticks": "",
            "zerolinecolor": "white"
           },
           "zaxis": {
            "backgroundcolor": "#E5ECF6",
            "gridcolor": "white",
            "gridwidth": 2,
            "linecolor": "white",
            "showbackground": true,
            "ticks": "",
            "zerolinecolor": "white"
           }
          },
          "shapedefaults": {
           "line": {
            "color": "#2a3f5f"
           }
          },
          "ternary": {
           "aaxis": {
            "gridcolor": "white",
            "linecolor": "white",
            "ticks": ""
           },
           "baxis": {
            "gridcolor": "white",
            "linecolor": "white",
            "ticks": ""
           },
           "bgcolor": "#E5ECF6",
           "caxis": {
            "gridcolor": "white",
            "linecolor": "white",
            "ticks": ""
           }
          },
          "title": {
           "x": 0.05
          },
          "xaxis": {
           "automargin": true,
           "gridcolor": "white",
           "linecolor": "white",
           "ticks": "",
           "title": {
            "standoff": 15
           },
           "zerolinecolor": "white",
           "zerolinewidth": 2
          },
          "yaxis": {
           "automargin": true,
           "gridcolor": "white",
           "linecolor": "white",
           "ticks": "",
           "title": {
            "standoff": 15
           },
           "zerolinecolor": "white",
           "zerolinewidth": 2
          }
         }
        },
        "title": {
         "text": "Interactive Repeat Length Histogram with Haplotype and EncodedSeq"
        },
        "width": 1000,
        "xaxis": {
         "anchor": "y",
         "autorange": false,
         "domain": [
          0,
          1
         ],
         "range": [
          27.5,
          204.03333333333333
         ],
         "rangeslider": {
          "autorange": true,
          "range": [
           27.5,
           5323.5
          ],
          "visible": true,
          "yaxis": {
           "_template": null,
           "rangemode": "match"
          }
         },
         "title": {
          "text": "Repeat Length (bp)"
         },
         "type": "linear"
        },
        "yaxis": {
         "anchor": "x",
         "autorange": true,
         "domain": [
          0,
          1
         ],
         "range": [
          0,
          183.1578947368421
         ],
         "title": {
          "text": "Allele Count"
         },
         "type": "linear"
        }
       }
      },
      "image/png": "[encoded data removed]",
      "text/html": [
       "<div>                            <div id=\"96a2c53a-8b34-4592-a888-9ef1a22b8987\" class=\"plotly-graph-div\" style=\"height:500px; width:1000px;\"></div>            <script type=\"text/javascript\">                require([\"plotly\"], function(Plotly) {                    window.PLOTLYENV=window.PLOTLYENV || {};                                    if (document.getElementById(\"96a2c53a-8b34-4592-a888-9ef1a22b8987\")) {                    Plotly.newPlot(                        \"96a2c53a-8b34-4592-a888-9ef1a22b8987\",                        [{\"alignmentgroup\":\"True\",\"customdata\":[[\"\\u003cTAAAA\\u003e2\\u003cTAA\\u003e1\\u003cTAAAA\\u003e3\"],[\"\\u003cTAAAA\\u003e10\\u003cTAA\\u003e1\\u003cTAAAA\\u003e7\"],[\"\\u003cTAAAA\\u003e11\\u003cTAA\\u003e1\\u003cTAAAA\\u003e7\\u003cbr\\u003e\\u003cTAAAA\\u003e12\\u003cTAA\\u003e1\\u003cTAAAA\\u003e6\"],[\"\\u003cTAAAA\\u003e12\\u003cTAA\\u003e1\\u003cTAAAA\\u003e7\\u003cbr\\u003e\\u003cTAAAA\\u003e13\\u003cTAA\\u003e1\\u003cTAAAA\\u003e6\"],[\"\\u003cTAAAA\\u003e13\\u003cTAA\\u003e1\\u003cTAAAA\\u003e7\\u003cbr\\u003e\\u003cTAAAA\\u003e14\\u003cTAA\\u003e1\\u003cTAAAA\\u003e6\\u003cbr\\u003e\\u003cTAAAA\\u003e15\\u003cTAA\\u003e1\\u003cTAAAA\\u003e5\"],[\"\\u003cTAAAA\\u003e11\\u003cA\\u003e3\\u003cTAAAA\\u003e2\\u003cTAA\\u003e1\\u003cTAAAA\\u003e7\"],[\"\\u003cTAAAA\\u003e14\\u003cTAA\\u003e1\\u003cTAAAA\\u003e7\\u003cbr\\u003e\\u003cTAAAA\\u003e16\\u003cTAA\\u003e1\\u003cTAAAA\\u003e5\\u003cbr\\u003e\\u003cTAAAA\\u003e15\\u003cTAA\\u003e1\\u003cTAAAA\\u003e6\\u003cbr\\u003e\\u003cTAAAA\\u003e13\\u003cTAA\\u003e1\\u003cTAAAA\\u003e8\"],[\"\\u003cTAAAA\\u003e15\\u003cTAA\\u003e1\\u003cTAAAA\\u003e7\\u003cbr\\u003e\\u003cTAAAA\\u003e16\\u003cTAA\\u003e1\\u003cTAAAA\\u003e6\"],[\"\\u003cTAAAA\\u003e16\\u003cTAA\\u003e1\\u003cTAAAA\\u003e7\\u003cbr\\u003e\\u003cTAAAA\\u003e17\\u003cTAA\\u003e1\\u003cTAAAA\\u003e6\"],[\"\\u003cTAAAA\\u003e17\\u003cTAA\\u003e1\\u003cTAAAA\\u003e7\"],[\"\\u003cTAAAA\\u003e18\\u003cTAA\\u003e1\\u003cTAAAA\\u003e7\\u003cbr\\u003e\\u003cTAAAA\\u003e19\\u003cTAA\\u003e1\\u003cTAAAA\\u003e6\"],[\"\\u003cTAAAA\\u003e19\\u003cTAA\\u003e1\\u003cTAAAA\\u003e7\\u003cbr\\u003e\\u003cTAAAA\\u003e20\\u003cTAA\\u003e1\\u003cTAAAA\\u003e6\"],[\"\\u003cTAAAA\\u003e20\\u003cTAA\\u003e1\\u003cTAAAA\\u003e7\\u003cbr\\u003e\\u003cTAAAA\\u003e21\\u003cTAA\\u003e1\\u003cTAAAA\\u003e6\"],[\"\\u003cTAAAA\\u003e21\\u003cTAA\\u003e1\\u003cTAAAA\\u003e7\\u003cbr\\u003e\\u003cTAAAA\\u003e22\\u003cTAA\\u003e1\\u003cTAAAA\\u003e6\\u003cbr\\u003e\\u003cTAAAA\\u003e20\\u003cTAA\\u003e1\\u003cTAAAA\\u003e8\"],[\"\\u003cTAAAA\\u003e22\\u003cTAA\\u003e1\\u003cTAAAA\\u003e7\\u003cbr\\u003e\\u003cTAAAA\\u003e23\\u003cTAA\\u003e1\\u003cTAAAA\\u003e6\"],[\"\\u003cTAAAA\\u003e23\\u003cTAA\\u003e1\\u003cTAAAA\\u003e7\"],[\"\\u003cTAAAA\\u003e24\\u003cTAA\\u003e1\\u003cTAAAA\\u003e7\\u003cbr\\u003e\\u003cTAAAA\\u003e25\\u003cTAA\\u003e1\\u003cTAAAA\\u003e6\\u003cbr\\u003e\\u003cTAAAA\\u003e26\\u003cTAA\\u003e1\\u003cTAAAA\\u003e5\\u003cbr\\u003e\\u003cTAAAA\\u003e23\\u003cTAA\\u003e1\\u003cTAAAA\\u003e8\"],[\"\\u003cTAAAA\\u003e26\\u003cTAA\\u003e1\\u003cTAAAA\\u003e6\"],[\"\\u003cTAAAA\\u003e26\\u003cTAA\\u003e1\\u003cTAAAA\\u003e7\"],[\"\\u003cTAAAA\\u003e27\\u003cTAA\\u003e1\\u003cTAAAA\\u003e7\"],[\"\\u003cTAAAA\\u003e28\\u003cTAA\\u003e1\\u003cTAAAA\\u003e7\"],[\"\\u003cTAAAA\\u003e29\\u003cTAA\\u003e1\\u003cTAAAA\\u003e7\"],[\"\\u003cTAAAA\\u003e31\\u003cTAA\\u003e1\\u003cTAAAA\\u003e7\"],[\"\\u003cTAAAA\\u003e37\\u003cTAA\\u003e1\\u003cTAAAA\\u003e7\"],[\"\\u003cTAAAA\\u003e52\\u003cTAA\\u003e1\\u003cTAAAA\\u003e6\"],[\"\\u003cTAAAA\\u003e54\\u003cTAA\\u003e1\\u003cTAAAA\\u003e6\"],[\"\\u003cTAAAA\\u003e63\\u003cTAA\\u003e1\\u003cTAAAA\\u003e7\"],[\"\\u003cTAAAA\\u003e112\\u003cTAA\\u003e1\\u003cTAAAA\\u003e3\"],[\"\\u003cTAAAA\\u003e7\\u003cA\\u003e3\\u003cTAAAA\\u003e118\\u003cTAA\\u003e1\\u003cTAAAA\\u003e3\"],[\"\\u003cTAAAA\\u003e298\\u003cTAA\\u003e1\\u003cTAAAA\\u003e7\"],[\"\\u003cTAAAA\\u003e400\\u003cTAA\\u003e1\\u003cTAAAA\\u003e5\"],[\"\\u003cTAAAA\\u003e407\\u003cTAA\\u003e1\\u003cTAAAA\\u003e7\"],[\"\\u003cTAAAA\\u003e1060\\u003cTAA\\u003e1\\u003cTAAAA\\u003e4\"]],\"hovertemplate\":\"Haplotype=\\u003cTAAAA\\u003e2-1060\\u003cTAA\\u003e1\\u003cTAAAA\\u003e3-8\\u003cbr\\u003erepeatLength=%{x}\\u003cbr\\u003eAllele Count=%{y}\\u003cbr\\u003eencodedSeq=%{customdata[0]}\\u003cextra\\u003e\\u003c\\u002fextra\\u003e\",\"legendgroup\":\"\\u003cTAAAA\\u003e2-1060\\u003cTAA\\u003e1\\u003cTAAAA\\u003e3-8\",\"marker\":{\"color\":\"#636efa\",\"pattern\":{\"shape\":\"\"}},\"name\":\"\\u003cTAAAA\\u003e2-1060\\u003cTAA\\u003e1\\u003cTAAAA\\u003e3-8\",\"offsetgroup\":\"\\u003cTAAAA\\u003e2-1060\\u003cTAA\\u003e1\\u003cTAAAA\\u003e3-8\",\"orientation\":\"v\",\"showlegend\":true,\"textposition\":\"auto\",\"x\":[28,88,93,98,103,106,108,113,118,123,128,133,138,143,148,153,158,163,168,173,178,183,193,223,293,303,353,578,646,1528,2028,2073,5323],\"xaxis\":\"x\",\"y\":[1,2,13,27,46,2,42,16,19,3,7,7,3,6,4,2,4,3,3,1,2,1,1,1,1,2,1,1,1,1,1,1,1],\"yaxis\":\"y\",\"type\":\"bar\"},{\"alignmentgroup\":\"True\",\"customdata\":[[\"\\u003cTAAAA\\u003e9\"],[\"\\u003cTAAAA\\u003e10\"],[\"\\u003cTAAAA\\u003e11\"],[\"\\u003cTAAAA\\u003e12\"],[\"\\u003cTAAAA\\u003e13\"],[\"\\u003cTAAAA\\u003e14\"],[\"\\u003cTAAAA\\u003e15\"],[\"\\u003cTAAAA\\u003e16\"],[\"\\u003cTAAAA\\u003e18\"],[\"\\u003cTAAAA\\u003e19\"],[\"\\u003cTAAAA\\u003e20\"],[\"\\u003cTAAAA\\u003e21\"],[\"\\u003cTAAAA\\u003e22\"],[\"\\u003cTAAAA\\u003e16\\u003cA\\u003e2\\u003cTAAAA\\u003e6\"],[\"\\u003cTAAAA\\u003e23\"],[\"\\u003cTAAAA\\u003e25\"],[\"\\u003cTAAAA\\u003e35\"],[\"\\u003cTAAAA\\u003e37\"],[\"\\u003cTAAAA\\u003e56\"],[\"\\u003cTAAAA\\u003e165\\u003cA\\u003e1\\u003cTAAAA\\u003e546\\u003cA\\u003e4\\u003cTAAAA\\u003e4\\u003cA\\u003e4\\u003cTAAAA\\u003e2\\u003cA\\u003e3\\u003cTAAAA\\u003e4\"],[\"\\u003cTAAAA\\u003e351\\u003cA\\u003e4\\u003cTAAAA\\u003e455\\u003cA\\u003e3\\u003cTAAAA\\u003e4\"]],\"hovertemplate\":\"Haplotype=\\u003cTAAAA\\u003e9-810\\u003cbr\\u003erepeatLength=%{x}\\u003cbr\\u003eAllele Count=%{y}\\u003cbr\\u003eencodedSeq=%{customdata[0]}\\u003cextra\\u003e\\u003c\\u002fextra\\u003e\",\"legendgroup\":\"\\u003cTAAAA\\u003e9-810\",\"marker\":{\"color\":\"#EF553B\",\"pattern\":{\"shape\":\"\"}},\"name\":\"\\u003cTAAAA\\u003e9-810\",\"offsetgroup\":\"\\u003cTAAAA\\u003e9-810\",\"orientation\":\"v\",\"showlegend\":true,\"textposition\":\"auto\",\"x\":[45,50,55,60,65,70,75,80,90,95,100,105,110,112,115,125,175,185,280,3617,4057],\"xaxis\":\"x\",\"y\":[22,7,15,88,92,24,9,1,1,1,2,1,3,2,1,1,1,1,1,1,1],\"yaxis\":\"y\",\"type\":\"bar\"},{\"alignmentgroup\":\"True\",\"customdata\":[[\"\\u003cTAAAA\\u003e4\\u003cTATAA\\u003e1\\u003cTAAAA\\u003e6\\u003cTAA\\u003e1\\u003cTAAAA\\u003e5\"],[\"\\u003cTAAAA\\u003e4\\u003cTATAA\\u003e1\\u003cTAAAA\\u003e6\\u003cTAA\\u003e1\\u003cTAAAA\\u003e6\\u003cbr\\u003e\\u003cTAAAA\\u003e4\\u003cTATAA\\u003e1\\u003cTAAAA\\u003e7\\u003cTAA\\u003e1\\u003cTAAAA\\u003e5\"],[\"\\u003cTAAAA\\u003e4\\u003cTATAA\\u003e1\\u003cTAAAA\\u003e7\\u003cTAA\\u003e1\\u003cTAAAA\\u003e6\"],[\"\\u003cTAAAA\\u003e4\\u003cTATAA\\u003e1\\u003cTAAAA\\u003e8\\u003cTAA\\u003e1\\u003cTAAAA\\u003e6\\u003cbr\\u003e\\u003cTAAAA\\u003e4\\u003cTATAA\\u003e1\\u003cTAAAA\\u003e6\\u003cTAA\\u003e1\\u003cTAAAA\\u003e8\\u003cbr\\u003e\\u003cTAAAA\\u003e4\\u003cTATAA\\u003e1\\u003cTAAAA\\u003e7\\u003cTAA\\u003e1\\u003cTAAAA\\u003e7\\u003cbr\\u003e\\u003cTAAAA\\u003e5\\u003cTATAA\\u003e1\\u003cTAAAA\\u003e7\\u003cTAA\\u003e1\\u003cTAAAA\\u003e6\"],[\"\\u003cTAAAA\\u003e4\\u003cTATAA\\u003e1\\u003cTAAAA\\u003e7\\u003cTAA\\u003e1\\u003cTAAAA\\u003e8\\u003cbr\\u003e\\u003cTAAAA\\u003e4\\u003cTATAA\\u003e1\\u003cTAAAA\\u003e9\\u003cTAA\\u003e1\\u003cTAAAA\\u003e6\\u003cbr\\u003e\\u003cTAAAA\\u003e4\\u003cTATAA\\u003e1\\u003cTAAAA\\u003e8\\u003cTAA\\u003e1\\u003cTAAAA\\u003e7\"],[\"\\u003cTAAAA\\u003e4\\u003cTATAA\\u003e1\\u003cTAAAA\\u003e7\\u003cTAA\\u003e1\\u003cTAAAA\\u003e9\\u003cbr\\u003e\\u003cTAAAA\\u003e4\\u003cTATAA\\u003e1\\u003cTAAAA\\u003e8\\u003cTAA\\u003e1\\u003cTAAAA\\u003e8\\u003cbr\\u003e\\u003cTAAAA\\u003e4\\u003cTATAA\\u003e1\\u003cTAAAA\\u003e9\\u003cTAA\\u003e1\\u003cTAAAA\\u003e7\\u003cbr\\u003e\\u003cTAAAA\\u003e4\\u003cTATAA\\u003e1\\u003cTAAAA\\u003e10\\u003cTAA\\u003e1\\u003cTAAAA\\u003e6\"],[\"\\u003cTAAAA\\u003e4\\u003cTATAA\\u003e1\\u003cTAAAA\\u003e10\\u003cTAA\\u003e1\\u003cTAAAA\\u003e7\\u003cbr\\u003e\\u003cTAAAA\\u003e4\\u003cTATAA\\u003e1\\u003cTAAAA\\u003e8\\u003cTAA\\u003e1\\u003cTAAAA\\u003e9\\u003cbr\\u003e\\u003cTAAAA\\u003e4\\u003cTATAA\\u003e1\\u003cTAAAA\\u003e9\\u003cTAA\\u003e1\\u003cTAAAA\\u003e8\\u003cbr\\u003e\\u003cTAAAA\\u003e4\\u003cTATAA\\u003e1\\u003cTAAAA\\u003e11\\u003cTAA\\u003e1\\u003cTAAAA\\u003e6\"],[\"\\u003cTAAAA\\u003e4\\u003cTATAA\\u003e1\\u003cTAAAA\\u003e9\\u003cTAA\\u003e1\\u003cTAAAA\\u003e9\\u003cbr\\u003e\\u003cTAAAA\\u003e4\\u003cTATAA\\u003e1\\u003cTAAAA\\u003e11\\u003cTAA\\u003e1\\u003cTAAAA\\u003e7\"],[\"\\u003cTAAAA\\u003e4\\u003cTATAA\\u003e1\\u003cTAAAA\\u003e10\\u003cTAA\\u003e1\\u003cTAAAA\\u003e9\"],[\"\\u003cTAAAA\\u003e4\\u003cTATAA\\u003e1\\u003cTAAAA\\u003e11\\u003cTAA\\u003e1\\u003cTAAAA\\u003e9\"]],\"hovertemplate\":\"Haplotype=\\u003cTAAAA\\u003e4-5\\u003cTATAA\\u003e1\\u003cTAAAA\\u003e6-11\\u003cTAA\\u003e1\\u003cTAAAA\\u003e5-9\\u003cbr\\u003erepeatLength=%{x}\\u003cbr\\u003eAllele Count=%{y}\\u003cbr\\u003eencodedSeq=%{customdata[0]}\\u003cextra\\u003e\\u003c\\u002fextra\\u003e\",\"legendgroup\":\"\\u003cTAAAA\\u003e4-5\\u003cTATAA\\u003e1\\u003cTAAAA\\u003e6-11\\u003cTAA\\u003e1\\u003cTAAAA\\u003e5-9\",\"marker\":{\"color\":\"#00cc96\",\"pattern\":{\"shape\":\"\"}},\"name\":\"\\u003cTAAAA\\u003e4-5\\u003cTATAA\\u003e1\\u003cTAAAA\\u003e6-11\\u003cTAA\\u003e1\\u003cTAAAA\\u003e5-9\",\"offsetgroup\":\"\\u003cTAAAA\\u003e4-5\\u003cTATAA\\u003e1\\u003cTAAAA\\u003e6-11\\u003cTAA\\u003e1\\u003cTAAAA\\u003e5-9\",\"orientation\":\"v\",\"showlegend\":true,\"textposition\":\"auto\",\"x\":[83,88,93,98,103,108,113,118,123,128],\"xaxis\":\"x\",\"y\":[1,5,161,32,24,119,47,13,1,1],\"yaxis\":\"y\",\"type\":\"bar\"},{\"alignmentgroup\":\"True\",\"customdata\":[[\"\\u003cTAAAA\\u003e4\\u003cTATAA\\u003e1\\u003cTAAAA\\u003e6\\u003cTAATAA\\u003e1\\u003cTAAAA\\u003e6\"],[\"\\u003cTAAAA\\u003e11\\u003cTAATAATAA\\u003e1\\u003cTAAAA\\u003e6\\u003cbr\\u003e\\u003cTAAAA\\u003e4\\u003cTATAA\\u003e1\\u003cTAAAA\\u003e7\\u003cTAATAATAA\\u003e1\\u003cTAAAA\\u003e5\"],[\"\\u003cTAAAA\\u003e4\\u003cTATAA\\u003e1\\u003cTAAAA\\u003e7\\u003cTAATAATAA\\u003e1\\u003cTAAAA\\u003e6\"],[\"\\u003cTAAAA\\u003e4\\u003cTATAA\\u003e1\\u003cTAAAA\\u003e8\\u003cTAATAA\\u003e1\\u003cTAAAA\\u003e6\"],[\"\\u003cTAAAA\\u003e4\\u003cTATAA\\u003e1\\u003cTAAAA\\u003e8\\u003cTAATAA\\u003e1\\u003cTAAAA\\u003e7\"],[\"\\u003cTAAAA\\u003e4\\u003cTATAA\\u003e1\\u003cTAAAA\\u003e8\\u003cTAATAATATAA\\u003e1\\u003cTAAAA\\u003e7\\u003cbr\\u003e\\u003cTAAAA\\u003e4\\u003cTATAA\\u003e1\\u003cTAAAA\\u003e9\\u003cTAATAA\\u003e1\\u003cTAAAA\\u003e7\"],[\"\\u003cTAAAA\\u003e193\\u003cTA\\u003e1\\u003cTAAAA\\u003e122\"],[\"\\u003cTAAAA\\u003e3\\u003cTAAA\\u003e1\\u003cTAAAA\\u003e66\\u003cTGGAAATAAA\\u003e1\\u003cTAAAA\\u003e27\\u003cTGGAAATAAA\\u003e1\\u003cTAAAA\\u003e115\\u003cTAAA\\u003e1\\u003cTAAAA\\u003e79\\u003cTGGAA\\u003e1\\u003cTAAAA\\u003e182\\u003cTGGAA\\u003e1\\u003cTAAAA\\u003e262\\u003cTGGAA\\u003e1\\u003cTAAAA\\u003e174\\u003cTAGAA\\u003e1\\u003cTAAAA\\u003e11\\u003cTAGAATAGAA\\u003e1\\u003cTAAAA\\u003e56\"]],\"hovertemplate\":\"Haplotype=Other\\u003cbr\\u003erepeatLength=%{x}\\u003cbr\\u003eAllele Count=%{y}\\u003cbr\\u003eencodedSeq=%{customdata[0]}\\u003cextra\\u003e\\u003c\\u002fextra\\u003e\",\"legendgroup\":\"Other\",\"marker\":{\"color\":\"#ab63fa\",\"pattern\":{\"shape\":\"\"}},\"name\":\"Other\",\"offsetgroup\":\"Other\",\"orientation\":\"v\",\"showlegend\":true,\"textposition\":\"auto\",\"x\":[91,94,99,101,106,111,1577,4933],\"xaxis\":\"x\",\"y\":[1,2,2,1,1,3,1,1],\"yaxis\":\"y\",\"type\":\"bar\"},{\"alignmentgroup\":\"True\",\"customdata\":[[\"\\u003cTAAAA\\u003e4\\u003cTATAA\\u003e1\\u003cTAAAA\\u003e8\\u003cA\\u003e2\\u003cTAAAA\\u003e7\"],[\"\\u003cTAAAA\\u003e4\\u003cTATAA\\u003e1\\u003cTAAAA\\u003e16\"],[\"\\u003cTAAAA\\u003e4\\u003cTATAA\\u003e1\\u003cTAAAA\\u003e11\\u003cA\\u003e2\\u003cTAAAA\\u003e6\"]],\"hovertemplate\":\"Haplotype=\\u003cTAAAA\\u003e4\\u003cTATAA\\u003e1\\u003cTAAAA\\u003e15-17\\u003cbr\\u003erepeatLength=%{x}\\u003cbr\\u003eAllele Count=%{y}\\u003cbr\\u003eencodedSeq=%{customdata[0]}\\u003cextra\\u003e\\u003c\\u002fextra\\u003e\",\"legendgroup\":\"\\u003cTAAAA\\u003e4\\u003cTATAA\\u003e1\\u003cTAAAA\\u003e15-17\",\"marker\":{\"color\":\"#FFA15A\",\"pattern\":{\"shape\":\"\"}},\"name\":\"\\u003cTAAAA\\u003e4\\u003cTATAA\\u003e1\\u003cTAAAA\\u003e15-17\",\"offsetgroup\":\"\\u003cTAAAA\\u003e4\\u003cTATAA\\u003e1\\u003cTAAAA\\u003e15-17\",\"orientation\":\"v\",\"showlegend\":true,\"textposition\":\"auto\",\"x\":[102,105,112],\"xaxis\":\"x\",\"y\":[1,3,1],\"yaxis\":\"y\",\"type\":\"bar\"}],                        {\"template\":{\"data\":{\"histogram2dcontour\":[{\"type\":\"histogram2dcontour\",\"colorbar\":{\"outlinewidth\":0,\"ticks\":\"\"},\"colorscale\":[[0.0,\"#0d0887\"],[0.1111111111111111,\"#46039f\"],[0.2222222222222222,\"#7201a8\"],[0.3333333333333333,\"#9c179e\"],[0.4444444444444444,\"#bd3786\"],[0.5555555555555556,\"#d8576b\"],[0.6666666666666666,\"#ed7953\"],[0.7777777777777778,\"#fb9f3a\"],[0.8888888888888888,\"#fdca26\"],[1.0,\"#f0f921\"]]}],\"choropleth\":[{\"type\":\"choropleth\",\"colorbar\":{\"outlinewidth\":0,\"ticks\":\"\"}}],\"histogram2d\":[{\"type\":\"histogram2d\",\"colorbar\":{\"outlinewidth\":0,\"ticks\":\"\"},\"colorscale\":[[0.0,\"#0d0887\"],[0.1111111111111111,\"#46039f\"],[0.2222222222222222,\"#7201a8\"],[0.3333333333333333,\"#9c179e\"],[0.4444444444444444,\"#bd3786\"],[0.5555555555555556,\"#d8576b\"],[0.6666666666666666,\"#ed7953\"],[0.7777777777777778,\"#fb9f3a\"],[0.8888888888888888,\"#fdca26\"],[1.0,\"#f0f921\"]]}],\"heatmap\":[{\"type\":\"heatmap\",\"colorbar\":{\"outlinewidth\":0,\"ticks\":\"\"},\"colorscale\":[[0.0,\"#0d0887\"],[0.1111111111111111,\"#46039f\"],[0.2222222222222222,\"#7201a8\"],[0.3333333333333333,\"#9c179e\"],[0.4444444444444444,\"#bd3786\"],[0.5555555555555556,\"#d8576b\"],[0.6666666666666666,\"#ed7953\"],[0.7777777777777778,\"#fb9f3a\"],[0.8888888888888888,\"#fdca26\"],[1.0,\"#f0f921\"]]}],\"heatmapgl\":[{\"type\":\"heatmapgl\",\"colorbar\":{\"outlinewidth\":0,\"ticks\":\"\"},\"colorscale\":[[0.0,\"#0d0887\"],[0.1111111111111111,\"#46039f\"],[0.2222222222222222,\"#7201a8\"],[0.3333333333333333,\"#9c179e\"],[0.4444444444444444,\"#bd3786\"],[0.5555555555555556,\"#d8576b\"],[0.6666666666666666,\"#ed7953\"],[0.7777777777777778,\"#fb9f3a\"],[0.8888888888888888,\"#fdca26\"],[1.0,\"#f0f921\"]]}],\"contourcarpet\":[{\"type\":\"contourcarpet\",\"colorbar\":{\"outlinewidth\":0,\"ticks\":\"\"}}],\"contour\":[{\"type\":\"contour\",\"colorbar\":{\"outlinewidth\":0,\"ticks\":\"\"},\"colorscale\":[[0.0,\"#0d0887\"],[0.1111111111111111,\"#46039f\"],[0.2222222222222222,\"#7201a8\"],[0.3333333333333333,\"#9c179e\"],[0.4444444444444444,\"#bd3786\"],[0.5555555555555556,\"#d8576b\"],[0.6666666666666666,\"#ed7953\"],[0.7777777777777778,\"#fb9f3a\"],[0.8888888888888888,\"#fdca26\"],[1.0,\"#f0f921\"]]}],\"surface\":[{\"type\":\"surface\",\"colorbar\":{\"outlinewidth\":0,\"ticks\":\"\"},\"colorscale\":[[0.0,\"#0d0887\"],[0.1111111111111111,\"#46039f\"],[0.2222222222222222,\"#7201a8\"],[0.3333333333333333,\"#9c179e\"],[0.4444444444444444,\"#bd3786\"],[0.5555555555555556,\"#d8576b\"],[0.6666666666666666,\"#ed7953\"],[0.7777777777777778,\"#fb9f3a\"],[0.8888888888888888,\"#fdca26\"],[1.0,\"#f0f921\"]]}],\"mesh3d\":[{\"type\":\"mesh3d\",\"colorbar\":{\"outlinewidth\":0,\"ticks\":\"\"}}],\"scatter\":[{\"fillpattern\":{\"fillmode\":\"overlay\",\"size\":10,\"solidity\":0.2},\"type\":\"scatter\"}],\"parcoords\":[{\"type\":\"parcoords\",\"line\":{\"colorbar\":{\"outlinewidth\":0,\"ticks\":\"\"}}}],\"scatterpolargl\":[{\"type\":\"scatterpolargl\",\"marker\":{\"colorbar\":{\"outlinewidth\":0,\"ticks\":\"\"}}}],\"bar\":[{\"error_x\":{\"color\":\"#2a3f5f\"},\"error_y\":{\"color\":\"#2a3f5f\"},\"marker\":{\"line\":{\"color\":\"#E5ECF6\",\"width\":0.5},\"pattern\":{\"fillmode\":\"overlay\",\"size\":10,\"solidity\":0.2}},\"type\":\"bar\"}],\"scattergeo\":[{\"type\":\"scattergeo\",\"marker\":{\"colorbar\":{\"outlinewidth\":0,\"ticks\":\"\"}}}],\"scatterpolar\":[{\"type\":\"scatterpolar\",\"marker\":{\"colorbar\":{\"outlinewidth\":0,\"ticks\":\"\"}}}],\"histogram\":[{\"marker\":{\"pattern\":{\"fillmode\":\"overlay\",\"size\":10,\"solidity\":0.2}},\"type\":\"histogram\"}],\"scattergl\":[{\"type\":\"scattergl\",\"marker\":{\"colorbar\":{\"outlinewidth\":0,\"ticks\":\"\"}}}],\"scatter3d\":[{\"type\":\"scatter3d\",\"line\":{\"colorbar\":{\"outlinewidth\":0,\"ticks\":\"\"}},\"marker\":{\"colorbar\":{\"outlinewidth\":0,\"ticks\":\"\"}}}],\"scattermapbox\":[{\"type\":\"scattermapbox\",\"marker\":{\"colorbar\":{\"outlinewidth\":0,\"ticks\":\"\"}}}],\"scatterternary\":[{\"type\":\"scatterternary\",\"marker\":{\"colorbar\":{\"outlinewidth\":0,\"ticks\":\"\"}}}],\"scattercarpet\":[{\"type\":\"scattercarpet\",\"marker\":{\"colorbar\":{\"outlinewidth\":0,\"ticks\":\"\"}}}],\"carpet\":[{\"aaxis\":{\"endlinecolor\":\"#2a3f5f\",\"gridcolor\":\"white\",\"linecolor\":\"white\",\"minorgridcolor\":\"white\",\"startlinecolor\":\"#2a3f5f\"},\"baxis\":{\"endlinecolor\":\"#2a3f5f\",\"gridcolor\":\"white\",\"linecolor\":\"white\",\"minorgridcolor\":\"white\",\"startlinecolor\":\"#2a3f5f\"},\"type\":\"carpet\"}],\"table\":[{\"cells\":{\"fill\":{\"color\":\"#EBF0F8\"},\"line\":{\"color\":\"white\"}},\"header\":{\"fill\":{\"color\":\"#C8D4E3\"},\"line\":{\"color\":\"white\"}},\"type\":\"table\"}],\"barpolar\":[{\"marker\":{\"line\":{\"color\":\"#E5ECF6\",\"width\":0.5},\"pattern\":{\"fillmode\":\"overlay\",\"size\":10,\"solidity\":0.2}},\"type\":\"barpolar\"}],\"pie\":[{\"automargin\":true,\"type\":\"pie\"}]},\"layout\":{\"autotypenumbers\":\"strict\",\"colorway\":[\"#636efa\",\"#EF553B\",\"#00cc96\",\"#ab63fa\",\"#FFA15A\",\"#19d3f3\",\"#FF6692\",\"#B6E880\",\"#FF97FF\",\"#FECB52\"],\"font\":{\"color\":\"#2a3f5f\"},\"hovermode\":\"closest\",\"hoverlabel\":{\"align\":\"left\"},\"paper_bgcolor\":\"white\",\"plot_bgcolor\":\"#E5ECF6\",\"polar\":{\"bgcolor\":\"#E5ECF6\",\"angularaxis\":{\"gridcolor\":\"white\",\"linecolor\":\"white\",\"ticks\":\"\"},\"radialaxis\":{\"gridcolor\":\"white\",\"linecolor\":\"white\",\"ticks\":\"\"}},\"ternary\":{\"bgcolor\":\"#E5ECF6\",\"aaxis\":{\"gridcolor\":\"white\",\"linecolor\":\"white\",\"ticks\":\"\"},\"baxis\":{\"gridcolor\":\"white\",\"linecolor\":\"white\",\"ticks\":\"\"},\"caxis\":{\"gridcolor\":\"white\",\"linecolor\":\"white\",\"ticks\":\"\"}},\"coloraxis\":{\"colorbar\":{\"outlinewidth\":0,\"ticks\":\"\"}},\"colorscale\":{\"sequential\":[[0.0,\"#0d0887\"],[0.1111111111111111,\"#46039f\"],[0.2222222222222222,\"#7201a8\"],[0.3333333333333333,\"#9c179e\"],[0.4444444444444444,\"#bd3786\"],[0.5555555555555556,\"#d8576b\"],[0.6666666666666666,\"#ed7953\"],[0.7777777777777778,\"#fb9f3a\"],[0.8888888888888888,\"#fdca26\"],[1.0,\"#f0f921\"]],\"sequentialminus\":[[0.0,\"#0d0887\"],[0.1111111111111111,\"#46039f\"],[0.2222222222222222,\"#7201a8\"],[0.3333333333333333,\"#9c179e\"],[0.4444444444444444,\"#bd3786\"],[0.5555555555555556,\"#d8576b\"],[0.6666666666666666,\"#ed7953\"],[0.7777777777777778,\"#fb9f3a\"],[0.8888888888888888,\"#fdca26\"],[1.0,\"#f0f921\"]],\"diverging\":[[0,\"#8e0152\"],[0.1,\"#c51b7d\"],[0.2,\"#de77ae\"],[0.3,\"#f1b6da\"],[0.4,\"#fde0ef\"],[0.5,\"#f7f7f7\"],[0.6,\"#e6f5d0\"],[0.7,\"#b8e186\"],[0.8,\"#7fbc41\"],[0.9,\"#4d9221\"],[1,\"#276419\"]]},\"xaxis\":{\"gridcolor\":\"white\",\"linecolor\":\"white\",\"ticks\":\"\",\"title\":{\"standoff\":15},\"zerolinecolor\":\"white\",\"automargin\":true,\"zerolinewidth\":2},\"yaxis\":{\"gridcolor\":\"white\",\"linecolor\":\"white\",\"ticks\":\"\",\"title\":{\"standoff\":15},\"zerolinecolor\":\"white\",\"automargin\":true,\"zerolinewidth\":2},\"scene\":{\"xaxis\":{\"backgroundcolor\":\"#E5ECF6\",\"gridcolor\":\"white\",\"linecolor\":\"white\",\"showbackground\":true,\"ticks\":\"\",\"zerolinecolor\":\"white\",\"gridwidth\":2},\"yaxis\":{\"backgroundcolor\":\"#E5ECF6\",\"gridcolor\":\"white\",\"linecolor\":\"white\",\"showbackground\":true,\"ticks\":\"\",\"zerolinecolor\":\"white\",\"gridwidth\":2},\"zaxis\":{\"backgroundcolor\":\"#E5ECF6\",\"gridcolor\":\"white\",\"linecolor\":\"white\",\"showbackground\":true,\"ticks\":\"\",\"zerolinecolor\":\"white\",\"gridwidth\":2}},\"shapedefaults\":{\"line\":{\"color\":\"#2a3f5f\"}},\"annotationdefaults\":{\"arrowcolor\":\"#2a3f5f\",\"arrowhead\":0,\"arrowwidth\":1},\"geo\":{\"bgcolor\":\"white\",\"landcolor\":\"#E5ECF6\",\"subunitcolor\":\"white\",\"showland\":true,\"showlakes\":true,\"lakecolor\":\"white\"},\"title\":{\"x\":0.05},\"mapbox\":{\"style\":\"light\"}}},\"xaxis\":{\"anchor\":\"y\",\"domain\":[0.0,1.0],\"title\":{\"text\":\"Repeat Length (bp)\"},\"rangeslider\":{\"visible\":true},\"type\":\"linear\"},\"yaxis\":{\"anchor\":\"x\",\"domain\":[0.0,1.0],\"title\":{\"text\":\"Allele Count\"}},\"legend\":{\"title\":{\"text\":\"Haplotype\"},\"tracegroupgap\":0,\"orientation\":\"h\",\"yanchor\":\"bottom\",\"y\":-0.3,\"xanchor\":\"center\",\"x\":0.5},\"title\":{\"text\":\"Interactive Repeat Length Histogram with Haplotype and EncodedSeq\"},\"barmode\":\"stack\",\"height\":500,\"width\":1000},                        {\"responsive\": true}                    ).then(function(){\n",
       "                            \n",
       "var gd = document.getElementById('96a2c53a-8b34-4592-a888-9ef1a22b8987');\n",
       "var x = new MutationObserver(function (mutations, observer) {{\n",
       "        var display = window.getComputedStyle(gd).display;\n",
       "        if (!display || display === 'none') {{\n",
       "            console.log([gd, 'removed!']);\n",
       "            Plotly.purge(gd);\n",
       "            observer.disconnect();\n",
       "        }}\n",
       "}});\n",
       "\n",
       "// Listen for the removal of the full notebook cells\n",
       "var notebookContainer = gd.closest('#notebook-container');\n",
       "if (notebookContainer) {{\n",
       "    x.observe(notebookContainer, {childList: true});\n",
       "}}\n",
       "\n",
       "// Listen for the clearing of the current output cell\n",
       "var outputEl = gd.closest('.output');\n",
       "if (outputEl) {{\n",
       "    x.observe(outputEl, {childList: true});\n",
       "}}\n",
       "\n",
       "                        })                };                });            </script>        </div>"
      ]
     },
     "metadata": {},
     "output_type": "display_data"
    }
   ],
   "source": [
    "# import pandas as pd\n",
    "# import plotly.express as px\n",
    "\n",
    "# # Clean up\n",
    "# df.loc[df['assigned_haplotype'] == '', 'assigned_haplotype'] = 'Other'\n",
    "# top_haps = df['assigned_haplotype'].value_counts().head(10).index.tolist()\n",
    "# df = df[df['assigned_haplotype'].isin(top_haps)]\n",
    "\n",
    "# # Aggregate: count + preview of encodedSeqs\n",
    "# agg = df.groupby(['repeatLength', 'assigned_haplotype']).agg({\n",
    "#     'encodedSeq': lambda x: '<br>'.join(x.unique()[:5]),  # limit for readability\n",
    "#     'assigned_haplotype': 'count'\n",
    "# }).rename(columns={'assigned_haplotype': 'count'}).reset_index()\n",
    "\n",
    "# # Plot with exact repeatLength\n",
    "# fig = px.bar(\n",
    "#     agg,\n",
    "#     x='repeatLength',\n",
    "#     y='count',\n",
    "#     color='assigned_haplotype',\n",
    "#     hover_data={'encodedSeq': True, 'repeatLength': True, 'count': True},\n",
    "#     labels={'assigned_haplotype': 'Haplotype', 'count': 'Allele Count'},\n",
    "#     title='Interactive Repeat Length Histogram with Haplotype and EncodedSeq',\n",
    "# )\n",
    "\n",
    "# fig.update_layout(\n",
    "#     barmode='stack',\n",
    "#     height=500,\n",
    "#     width=1000,\n",
    "#     xaxis=dict(\n",
    "#         title='Repeat Length (bp)',\n",
    "#         rangeslider=dict(visible=True),  # adds zoomable slider!\n",
    "#         type='linear'\n",
    "#     )\n",
    "# )\n",
    "# fig.update_layout(\n",
    "#     legend=dict(\n",
    "#         orientation=\"h\",          # horizontal\n",
    "#         yanchor=\"bottom\",\n",
    "#         y=-0.3,                   # push below plot\n",
    "#         xanchor=\"center\",\n",
    "#         x=0.5,\n",
    "#         title=\"Haplotype\"\n",
    "#     )\n",
    "# )\n",
    "\n",
    "# fig.show()"
   ]
  },
  {
   "cell_type": "code",
   "execution_count": 1,
   "id": "7d2a2d69-408c-4054-9d09-0cc9f3fa3d1b",
   "metadata": {},
   "outputs": [],
   "source": [
    "import pandas as pd\n",
    "df=pd.read_csv('SAMD12_RO.csv')"
   ]
  },
  {
   "cell_type": "code",
   "execution_count": 7,
   "id": "7ea3c1fd-37ef-4d6f-b3d5-3343bb4b2852",
   "metadata": {},
   "outputs": [
    {
     "data": {
      "application/vnd.jupyter.widget-view+json": {
       "model_id": "241acd6331e142d9974482a8e6536856",
       "version_major": 2,
       "version_minor": 0
      },
      "text/plain": [
       "HBox(children=(FigureWidget({\n",
       "    'data': [{'customdata': array(['&lt;TAAAA&gt;2&lt;TAA&gt;1&lt;TAAAA&gt;3 (n=…"
      ]
     },
     "metadata": {},
     "output_type": "display_data"
    }
   ],
   "source": [
    "import pandas as pd\n",
    "import plotly.graph_objs as go\n",
    "import ipywidgets as widgets\n",
    "from ipywidgets import HBox\n",
    "import numpy as np\n",
    "import html  # to escape tooltip text\n",
    "\n",
    "# Parameters\n",
    "bin_width = 5\n",
    "\n",
    "# Sanitize haplotype group\n",
    "df.loc[df['assigned_haplotype'] == '', 'assigned_haplotype'] = 'Other'\n",
    "top_haps = df['assigned_haplotype'].value_counts().head(10).index.tolist()\n",
    "df = df[df['assigned_haplotype'].isin(top_haps)]\n",
    "\n",
    "# Bin repeat lengths\n",
    "df['repeat_bin'] = (df['repeatLength'] // bin_width) * bin_width\n",
    "df['repeat_bin_center'] = df['repeat_bin'] + bin_width / 2\n",
    "\n",
    "# Count unique encodedSeqs per bin × haplotype\n",
    "seq_counts = (\n",
    "    df.groupby(['repeat_bin_center', 'assigned_haplotype', 'encodedSeq'])\n",
    "    .size()\n",
    "    .reset_index(name='encodedSeq_count')\n",
    ")\n",
    "\n",
    "# Format tooltip text safely\n",
    "def format_tooltip(group):\n",
    "    return \"<br>\".join(\n",
    "        f\"{html.escape(seq)} (n={int(count)})\" for seq, count in zip(group['encodedSeq'], group['encodedSeq_count'])\n",
    "    )\n",
    "\n",
    "tooltip_df = (\n",
    "    seq_counts\n",
    "    .groupby(['repeat_bin_center', 'assigned_haplotype'])\n",
    "    .apply(format_tooltip, include_groups=False)\n",
    "    .reset_index(name='encodedSeq_summary')\n",
    ")\n",
    "\n",
    "# Bar heights\n",
    "bar_counts = (\n",
    "    df.groupby(['repeat_bin_center', 'assigned_haplotype'])\n",
    "    .size()\n",
    "    .reset_index(name='count')\n",
    ")\n",
    "\n",
    "# Merge with hover text\n",
    "merged = pd.merge(bar_counts, tooltip_df, on=['repeat_bin_center', 'assigned_haplotype'], how='left')\n",
    "\n",
    "# Shorten legend labels if too long\n",
    "def shorten_label(haplotype, max_len=30):\n",
    "    return haplotype if len(haplotype) <= max_len else haplotype[:max_len] + \"…\"\n",
    "\n",
    "merged['legend_label'] = merged['assigned_haplotype'].apply(shorten_label)\n",
    "\n",
    "# Plot\n",
    "fig = go.FigureWidget()\n",
    "haplotypes = merged['assigned_haplotype'].unique()\n",
    "\n",
    "for hap in haplotypes:\n",
    "    sub = merged[merged['assigned_haplotype'] == hap]\n",
    "    fig.add_bar(\n",
    "        x=sub['repeat_bin_center'],\n",
    "        y=sub['count'],\n",
    "        name=sub['legend_label'].iloc[0],\n",
    "        customdata=sub['encodedSeq_summary'],\n",
    "        hovertemplate=(\n",
    "            \"Repeat Length Bin Center: %{x}<br>\" +\n",
    "            \"Count: %{y}<br>\" +\n",
    "            \"EncodedSeqs:<br>%{customdata}<extra></extra>\"\n",
    "        )\n",
    "    )\n",
    "\n",
    "# Layout\n",
    "fig.update_layout(\n",
    "    barmode='stack',\n",
    "    height=600,\n",
    "    width=1000,\n",
    "    xaxis=dict(\n",
    "        title='Repeat Length (binned, bp)',\n",
    "        rangeslider=dict(visible=True),\n",
    "        type='linear'\n",
    "    ),\n",
    "    yaxis=dict(title='Allele Count'),\n",
    "    legend=dict(\n",
    "        orientation=\"v\",\n",
    "        x=1.02,\n",
    "        y=1,\n",
    "        title=\"Haplotype\",\n",
    "        font=dict(size=10)\n",
    "    )\n",
    ")\n",
    "\n",
    "# Y-slider\n",
    "max_y = int(merged.groupby('repeat_bin_center')['count'].sum().max() * 1.5)\n",
    "\n",
    "y_slider = widgets.IntRangeSlider(\n",
    "    value=[0, int(max_y * 0.9)],\n",
    "    min=0,\n",
    "    max=max_y,\n",
    "    step=10,\n",
    "    description='Y-axis',\n",
    "    layout=widgets.Layout(width='70px', height='600px'),\n",
    "    continuous_update=False,\n",
    "    orientation='vertical',\n",
    "    style={'description_width': '0px'}\n",
    ")\n",
    "\n",
    "def update_y_range(range_vals):\n",
    "    fig.update_yaxes(range=range_vals)\n",
    "\n",
    "widgets.interactive(update_y_range, range_vals=y_slider)\n",
    "\n",
    "# Display\n",
    "display(HBox([fig, y_slider]))\n"
   ]
  }
 ],
 "metadata": {
  "kernelspec": {
   "display_name": "Python 3 (ipykernel)",
   "language": "python",
   "name": "python3"
  },
  "language_info": {
   "codemirror_mode": {
    "name": "ipython",
    "version": 3
   },
   "file_extension": ".py",
   "mimetype": "text/x-python",
   "name": "python",
   "nbconvert_exporter": "python",
   "pygments_lexer": "ipython3",
   "version": "3.11.5"
  }
 },
 "nbformat": 4,
 "nbformat_minor": 5
}
